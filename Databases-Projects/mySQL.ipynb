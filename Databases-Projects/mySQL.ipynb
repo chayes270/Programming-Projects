{
 "cells": [
  {
   "cell_type": "code",
   "execution_count": 1,
   "id": "689a3aa4-cc6f-406f-abdc-88a1dddce399",
   "metadata": {},
   "outputs": [],
   "source": [
    "!mysql < /home/jupyter/sakila/sakila-database.sql"
   ]
  },
  {
   "cell_type": "code",
   "execution_count": 2,
   "id": "2d19d508-253b-46b9-9ccb-28a01e92d5bb",
   "metadata": {},
   "outputs": [
    {
     "name": "stdout",
     "output_type": "stream",
     "text": [
      "+----------------------------+\n",
      "| Tables_in_sakila           |\n",
      "+----------------------------+\n",
      "| actor                      |\n",
      "| actor_info                 |\n",
      "| address                    |\n",
      "| category                   |\n",
      "| city                       |\n",
      "| country                    |\n",
      "| customer                   |\n",
      "| customer_list              |\n",
      "| film                       |\n",
      "| film_actor                 |\n",
      "| film_category              |\n",
      "| film_list                  |\n",
      "| film_text                  |\n",
      "| inventory                  |\n",
      "| language                   |\n",
      "| nicer_but_slower_film_list |\n",
      "| payment                    |\n",
      "| rental                     |\n",
      "| sales_by_film_category     |\n",
      "| sales_by_store             |\n",
      "| staff                      |\n",
      "| staff_list                 |\n",
      "| store                      |\n",
      "+----------------------------+\n"
     ]
    }
   ],
   "source": [
    "!mysql sakila -e \"show tables\""
   ]
  },
  {
   "cell_type": "code",
   "execution_count": 9,
   "id": "8baee134-2f92-4646-9cde-c371b1f8441e",
   "metadata": {},
   "outputs": [],
   "source": [
    "!mysql < /home/jupyter/sakila/sakila-data.sql"
   ]
  },
  {
   "cell_type": "code",
   "execution_count": 16,
   "id": "e5e41ac4-b908-49a2-9f2c-0bc508d09170",
   "metadata": {},
   "outputs": [],
   "source": [
    "#SQL statement for counting number of rows in actor: count(*) from actor;"
   ]
  },
  {
   "cell_type": "code",
   "execution_count": 10,
   "id": "ca7a2eca-d60c-449a-b06c-271c9f51df18",
   "metadata": {},
   "outputs": [
    {
     "name": "stdout",
     "output_type": "stream",
     "text": [
      "+----------+\n",
      "| count(*) |\n",
      "+----------+\n",
      "|      200 |\n",
      "+----------+\n"
     ]
    }
   ],
   "source": [
    "!mysql sakila -e \"select count(*) from actor\""
   ]
  },
  {
   "cell_type": "code",
   "execution_count": null,
   "id": "5fd6dd3e-5627-4de5-b78e-ffdcfde53f2d",
   "metadata": {},
   "outputs": [],
   "source": [
    "#SQL statement for counting number of rows in category: count(*) from category;"
   ]
  },
  {
   "cell_type": "code",
   "execution_count": 11,
   "id": "43e4fd2d-ef57-41a9-b4e3-3af28777af0b",
   "metadata": {},
   "outputs": [
    {
     "name": "stdout",
     "output_type": "stream",
     "text": [
      "+----------+\n",
      "| count(*) |\n",
      "+----------+\n",
      "|       16 |\n",
      "+----------+\n"
     ]
    }
   ],
   "source": [
    "!mysql sakila -e \"select count(*) from category\""
   ]
  },
  {
   "cell_type": "code",
   "execution_count": null,
   "id": "290cf045-9f98-4060-8139-690a345aa6d7",
   "metadata": {},
   "outputs": [],
   "source": [
    "#SQL statement for counting number of rows in film: count(*) from film;"
   ]
  },
  {
   "cell_type": "code",
   "execution_count": 12,
   "id": "bd387368-d433-4f28-bb73-07bd422ac9fb",
   "metadata": {},
   "outputs": [
    {
     "name": "stdout",
     "output_type": "stream",
     "text": [
      "+----------+\n",
      "| count(*) |\n",
      "+----------+\n",
      "|     1000 |\n",
      "+----------+\n"
     ]
    }
   ],
   "source": [
    "!mysql sakila -e \"select count(*) from film\""
   ]
  },
  {
   "cell_type": "code",
   "execution_count": null,
   "id": "797878ce-56db-4e4d-b49f-828e8a519bf1",
   "metadata": {},
   "outputs": [],
   "source": [
    "#SQL statement for counting number of rows in inventory: count(*) from inventory;"
   ]
  },
  {
   "cell_type": "code",
   "execution_count": 13,
   "id": "42a8c378-91d8-44bd-8ae4-bf970a0b47d6",
   "metadata": {},
   "outputs": [
    {
     "name": "stdout",
     "output_type": "stream",
     "text": [
      "+----------+\n",
      "| count(*) |\n",
      "+----------+\n",
      "|     4581 |\n",
      "+----------+\n"
     ]
    }
   ],
   "source": [
    "!mysql sakila -e \"select count(*) from inventory\""
   ]
  },
  {
   "cell_type": "code",
   "execution_count": null,
   "id": "15f1644f-21a3-4d6b-950e-ecc12ae874c8",
   "metadata": {},
   "outputs": [],
   "source": [
    "#SQL statement for counting number of rows in payment: count(*) from payment;"
   ]
  },
  {
   "cell_type": "code",
   "execution_count": 14,
   "id": "72e923cc-6f45-4510-b204-a4fbebad89ca",
   "metadata": {},
   "outputs": [
    {
     "name": "stdout",
     "output_type": "stream",
     "text": [
      "+----------+\n",
      "| count(*) |\n",
      "+----------+\n",
      "|    16049 |\n",
      "+----------+\n"
     ]
    }
   ],
   "source": [
    "!mysql sakila -e \"select count(*) from payment\""
   ]
  },
  {
   "cell_type": "code",
   "execution_count": 20,
   "id": "53e7eb91-d680-4015-a664-fb649faabe8f",
   "metadata": {},
   "outputs": [
    {
     "name": "stdout",
     "output_type": "stream",
     "text": [
      "+----------+------------+--------------+---------------------+\n",
      "| actor_id | first_name | last_name    | last_update         |\n",
      "+----------+------------+--------------+---------------------+\n",
      "|        1 | PENELOPE   | GUINESS      | 2006-02-15 04:34:33 |\n",
      "|        2 | NICK       | WAHLBERG     | 2006-02-15 04:34:33 |\n",
      "|        3 | ED         | CHASE        | 2006-02-15 04:34:33 |\n",
      "|        4 | JENNIFER   | DAVIS        | 2006-02-15 04:34:33 |\n",
      "|        5 | JOHNNY     | LOLLOBRIGIDA | 2006-02-15 04:34:33 |\n",
      "+----------+------------+--------------+---------------------+\n"
     ]
    }
   ],
   "source": [
    "!mysql sakila -e \"select * from actor limit 5\""
   ]
  },
  {
   "cell_type": "code",
   "execution_count": 21,
   "id": "4c2ab195-7321-41c8-b56c-04c5d4b77311",
   "metadata": {},
   "outputs": [
    {
     "name": "stdout",
     "output_type": "stream",
     "text": [
      "+-------------+-----------+---------------------+\n",
      "| category_id | name      | last_update         |\n",
      "+-------------+-----------+---------------------+\n",
      "|           1 | Action    | 2006-02-15 04:46:27 |\n",
      "|           2 | Animation | 2006-02-15 04:46:27 |\n",
      "|           3 | Children  | 2006-02-15 04:46:27 |\n",
      "|           4 | Classics  | 2006-02-15 04:46:27 |\n",
      "|           5 | Comedy    | 2006-02-15 04:46:27 |\n",
      "+-------------+-----------+---------------------+\n"
     ]
    }
   ],
   "source": [
    "!mysql sakila -e \"select * from category limit 5\""
   ]
  },
  {
   "cell_type": "code",
   "execution_count": 22,
   "id": "2325d645-5525-424d-9225-d7c4eaa3919c",
   "metadata": {},
   "outputs": [
    {
     "name": "stdout",
     "output_type": "stream",
     "text": [
      "+---------+------------------+-----------------------------------------------------------------------------------------------------------------------+--------------+-------------+----------------------+-----------------+-------------+--------+------------------+--------+----------------------------------+---------------------+\n",
      "| film_id | title            | description                                                                                                           | release_year | language_id | original_language_id | rental_duration | rental_rate | length | replacement_cost | rating | special_features                 | last_update         |\n",
      "+---------+------------------+-----------------------------------------------------------------------------------------------------------------------+--------------+-------------+----------------------+-----------------+-------------+--------+------------------+--------+----------------------------------+---------------------+\n",
      "|       1 | ACADEMY DINOSAUR | A Epic Drama of a Feminist And a Mad Scientist who must Battle a Teacher in The Canadian Rockies                      |         2006 |           1 |                 NULL |               6 |        0.99 |     86 |            20.99 | PG     | Deleted Scenes,Behind the Scenes | 2006-02-15 05:03:42 |\n",
      "|       2 | ACE GOLDFINGER   | A Astounding Epistle of a Database Administrator And a Explorer who must Find a Car in Ancient China                  |         2006 |           1 |                 NULL |               3 |        4.99 |     48 |            12.99 | G      | Trailers,Deleted Scenes          | 2006-02-15 05:03:42 |\n",
      "|       3 | ADAPTATION HOLES | A Astounding Reflection of a Lumberjack And a Car who must Sink a Lumberjack in A Baloon Factory                      |         2006 |           1 |                 NULL |               7 |        2.99 |     50 |            18.99 | NC-17  | Trailers,Deleted Scenes          | 2006-02-15 05:03:42 |\n",
      "|       4 | AFFAIR PREJUDICE | A Fanciful Documentary of a Frisbee And a Lumberjack who must Chase a Monkey in A Shark Tank                          |         2006 |           1 |                 NULL |               5 |        2.99 |    117 |            26.99 | G      | Commentaries,Behind the Scenes   | 2006-02-15 05:03:42 |\n",
      "|       5 | AFRICAN EGG      | A Fast-Paced Documentary of a Pastry Chef And a Dentist who must Pursue a Forensic Psychologist in The Gulf of Mexico |         2006 |           1 |                 NULL |               6 |        2.99 |    130 |            22.99 | G      | Deleted Scenes                   | 2006-02-15 05:03:42 |\n",
      "+---------+------------------+-----------------------------------------------------------------------------------------------------------------------+--------------+-------------+----------------------+-----------------+-------------+--------+------------------+--------+----------------------------------+---------------------+\n"
     ]
    }
   ],
   "source": [
    "!mysql sakila -e \"select * from film limit 5\""
   ]
  },
  {
   "cell_type": "code",
   "execution_count": 23,
   "id": "4abef5b9-dc4f-45e7-acde-0f516d1f7631",
   "metadata": {},
   "outputs": [
    {
     "name": "stdout",
     "output_type": "stream",
     "text": [
      "+--------------+---------+----------+---------------------+\n",
      "| inventory_id | film_id | store_id | last_update         |\n",
      "+--------------+---------+----------+---------------------+\n",
      "|            1 |       1 |        1 | 2006-02-15 05:09:17 |\n",
      "|            2 |       1 |        1 | 2006-02-15 05:09:17 |\n",
      "|            3 |       1 |        1 | 2006-02-15 05:09:17 |\n",
      "|            4 |       1 |        1 | 2006-02-15 05:09:17 |\n",
      "|            5 |       1 |        2 | 2006-02-15 05:09:17 |\n",
      "+--------------+---------+----------+---------------------+\n"
     ]
    }
   ],
   "source": [
    "!mysql sakila -e \"select * from inventory limit 5\""
   ]
  },
  {
   "cell_type": "code",
   "execution_count": 24,
   "id": "5fa064c0-d8e8-4993-88ad-ae49c044dbdd",
   "metadata": {},
   "outputs": [
    {
     "name": "stdout",
     "output_type": "stream",
     "text": [
      "+------------+-------------+----------+-----------+--------+---------------------+---------------------+\n",
      "| payment_id | customer_id | staff_id | rental_id | amount | payment_date        | last_update         |\n",
      "+------------+-------------+----------+-----------+--------+---------------------+---------------------+\n",
      "|          1 |           1 |        1 |        76 |   2.99 | 2005-05-25 11:30:37 | 2006-02-15 22:12:30 |\n",
      "|          2 |           1 |        1 |       573 |   0.99 | 2005-05-28 10:35:23 | 2006-02-15 22:12:30 |\n",
      "|          3 |           1 |        1 |      1185 |   5.99 | 2005-06-15 00:54:12 | 2006-02-15 22:12:30 |\n",
      "|          4 |           1 |        2 |      1422 |   0.99 | 2005-06-15 18:02:53 | 2006-02-15 22:12:30 |\n",
      "|          5 |           1 |        2 |      1476 |   9.99 | 2005-06-15 21:08:46 | 2006-02-15 22:12:30 |\n",
      "+------------+-------------+----------+-----------+--------+---------------------+---------------------+\n"
     ]
    }
   ],
   "source": [
    "!mysql sakila -e \"select * from payment limit 5\""
   ]
  },
  {
   "cell_type": "code",
   "execution_count": null,
   "id": "6c13ac65-8fe8-489c-b4ed-8f75b0dbe305",
   "metadata": {},
   "outputs": [],
   "source": [
    "#The below query is on the category table and shows category_id's that are above or equal to 5 \n",
    "# and orders them alphabetically by the name column."
   ]
  },
  {
   "cell_type": "code",
   "execution_count": 25,
   "id": "0541f2bb-e292-450d-94d9-b4e0c2c9f56e",
   "metadata": {},
   "outputs": [
    {
     "name": "stdout",
     "output_type": "stream",
     "text": [
      "+-------------+-------------+---------------------+\n",
      "| category_id | name        | last_update         |\n",
      "+-------------+-------------+---------------------+\n",
      "|           5 | Comedy      | 2006-02-15 04:46:27 |\n",
      "|           6 | Documentary | 2006-02-15 04:46:27 |\n",
      "|           7 | Drama       | 2006-02-15 04:46:27 |\n",
      "|           8 | Family      | 2006-02-15 04:46:27 |\n",
      "|           9 | Foreign     | 2006-02-15 04:46:27 |\n",
      "|          10 | Games       | 2006-02-15 04:46:27 |\n",
      "|          11 | Horror      | 2006-02-15 04:46:27 |\n",
      "|          12 | Music       | 2006-02-15 04:46:27 |\n",
      "|          13 | New         | 2006-02-15 04:46:27 |\n",
      "|          14 | Sci-Fi      | 2006-02-15 04:46:27 |\n",
      "|          15 | Sports      | 2006-02-15 04:46:27 |\n",
      "|          16 | Travel      | 2006-02-15 04:46:27 |\n",
      "+-------------+-------------+---------------------+\n"
     ]
    }
   ],
   "source": [
    "!mysql sakila -e \"select * from category where category_id >= 5 and category_id <= 16 order by name\""
   ]
  },
  {
   "cell_type": "code",
   "execution_count": null,
   "id": "5d129a00-a22b-4acc-90d1-be1b1d708b9d",
   "metadata": {},
   "outputs": [],
   "source": [
    "#These insert_into statements add a new row to the category table with 'Comedy' in the name column and different dates for \n",
    "#last_update and they were inserted into the bottom of the table by default. The first statement was done erroneously as \n",
    "#we wanted to change the year to 2023 however we left it in since trying to delete it might cause unintended problems."
   ]
  },
  {
   "cell_type": "code",
   "execution_count": null,
   "id": "e9b94ffc-0fb1-4524-af5c-ef990bf9d974",
   "metadata": {},
   "outputs": [],
   "source": [
    "!mysql sakila -e \"insert into category  (name, last_update) values ('Comedy','2006-02-15 04:46:27' ) \""
   ]
  },
  {
   "cell_type": "code",
   "execution_count": 31,
   "id": "9d719631-b004-42e7-85bd-8f12651f187a",
   "metadata": {},
   "outputs": [],
   "source": [
    "!mysql sakila -e \"insert into category  (name, last_update) values ('Comedy','2023-02-15 04:46:27' ) \""
   ]
  },
  {
   "cell_type": "code",
   "execution_count": 34,
   "id": "85b60608-7c83-45eb-8af4-2e4145388213",
   "metadata": {},
   "outputs": [
    {
     "name": "stdout",
     "output_type": "stream",
     "text": [
      "+-------------+-------------+---------------------+\n",
      "| category_id | name        | last_update         |\n",
      "+-------------+-------------+---------------------+\n",
      "|           1 | Action      | 2006-02-15 04:46:27 |\n",
      "|           2 | Animation   | 2006-02-15 04:46:27 |\n",
      "|           3 | Children    | 2006-02-15 04:46:27 |\n",
      "|           4 | Classics    | 2006-02-15 04:46:27 |\n",
      "|           5 | Comedy      | 2006-02-15 04:46:27 |\n",
      "|           6 | Documentary | 2006-02-15 04:46:27 |\n",
      "|           7 | Drama       | 2006-02-15 04:46:27 |\n",
      "|           8 | Family      | 2006-02-15 04:46:27 |\n",
      "|           9 | Foreign     | 2006-02-15 04:46:27 |\n",
      "|          10 | Games       | 2006-02-15 04:46:27 |\n",
      "|          11 | Horror      | 2006-02-15 04:46:27 |\n",
      "|          12 | Music       | 2006-02-15 04:46:27 |\n",
      "|          13 | New         | 2006-02-15 04:46:27 |\n",
      "|          14 | Sci-Fi      | 2006-02-15 04:46:27 |\n",
      "|          15 | Sports      | 2006-02-15 04:46:27 |\n",
      "|          16 | Travel      | 2006-02-15 04:46:27 |\n",
      "|          17 | Comedy      | 2006-02-15 04:46:27 |\n",
      "|          18 | Comedy      | 2023-02-15 04:46:27 |\n",
      "+-------------+-------------+---------------------+\n"
     ]
    }
   ],
   "source": [
    "!mysql sakila -e \"select * from category limit 20\""
   ]
  },
  {
   "cell_type": "code",
   "execution_count": 38,
   "id": "faf63f85-d6fa-4ca5-a252-f817bcb5126c",
   "metadata": {},
   "outputs": [],
   "source": [
    "#This update statement changes the last_update value for the row in category_id where it equals 1."
   ]
  },
  {
   "cell_type": "code",
   "execution_count": 36,
   "id": "8050b1cc-d0a7-4e04-a15e-a7f6a78c0295",
   "metadata": {},
   "outputs": [],
   "source": [
    "!mysql sakila -e \"update inventory set last_update = '2023-02-15 05:09:17' where inventory_id = 1 \""
   ]
  },
  {
   "cell_type": "code",
   "execution_count": 37,
   "id": "db05cfd4-c2ae-4cc0-8449-8975882e04a0",
   "metadata": {},
   "outputs": [
    {
     "name": "stdout",
     "output_type": "stream",
     "text": [
      "+--------------+---------+----------+---------------------+\n",
      "| inventory_id | film_id | store_id | last_update         |\n",
      "+--------------+---------+----------+---------------------+\n",
      "|            1 |       1 |        1 | 2023-02-15 05:09:17 |\n",
      "|            2 |       1 |        1 | 2006-02-15 05:09:17 |\n",
      "|            3 |       1 |        1 | 2006-02-15 05:09:17 |\n",
      "|            4 |       1 |        1 | 2006-02-15 05:09:17 |\n",
      "|            5 |       1 |        2 | 2006-02-15 05:09:17 |\n",
      "+--------------+---------+----------+---------------------+\n"
     ]
    }
   ],
   "source": [
    "!mysql sakila -e \"select * from inventory limit 5\""
   ]
  },
  {
   "cell_type": "code",
   "execution_count": null,
   "id": "34230114-3f3f-48ca-93cd-ec3b706ac691",
   "metadata": {},
   "outputs": [],
   "source": [
    "#This delete statement removes the erroneously inserted row as stated above in the category table. It targets one row specifically on\n",
    "#the condition where the category_id equals 17."
   ]
  },
  {
   "cell_type": "code",
   "execution_count": 41,
   "id": "6118c72e-f384-4cea-9c6a-658aca2d0d45",
   "metadata": {},
   "outputs": [],
   "source": [
    "!mysql sakila -e \"delete from category where category_id = 17 \""
   ]
  },
  {
   "cell_type": "code",
   "execution_count": 42,
   "id": "699d0e62-9a4a-4857-bd1a-dc623b764c72",
   "metadata": {},
   "outputs": [
    {
     "name": "stdout",
     "output_type": "stream",
     "text": [
      "+-------------+-------------+---------------------+\n",
      "| category_id | name        | last_update         |\n",
      "+-------------+-------------+---------------------+\n",
      "|           1 | Action      | 2006-02-15 04:46:27 |\n",
      "|           2 | Animation   | 2006-02-15 04:46:27 |\n",
      "|           3 | Children    | 2006-02-15 04:46:27 |\n",
      "|           4 | Classics    | 2006-02-15 04:46:27 |\n",
      "|           5 | Comedy      | 2006-02-15 04:46:27 |\n",
      "|           6 | Documentary | 2006-02-15 04:46:27 |\n",
      "|           7 | Drama       | 2006-02-15 04:46:27 |\n",
      "|           8 | Family      | 2006-02-15 04:46:27 |\n",
      "|           9 | Foreign     | 2006-02-15 04:46:27 |\n",
      "|          10 | Games       | 2006-02-15 04:46:27 |\n",
      "|          11 | Horror      | 2006-02-15 04:46:27 |\n",
      "|          12 | Music       | 2006-02-15 04:46:27 |\n",
      "|          13 | New         | 2006-02-15 04:46:27 |\n",
      "|          14 | Sci-Fi      | 2006-02-15 04:46:27 |\n",
      "|          15 | Sports      | 2006-02-15 04:46:27 |\n",
      "|          16 | Travel      | 2006-02-15 04:46:27 |\n",
      "|          18 | Comedy      | 2023-02-15 04:46:27 |\n",
      "+-------------+-------------+---------------------+\n"
     ]
    }
   ],
   "source": [
    "!mysql sakila -e \"select * from category limit 20\""
   ]
  },
  {
   "cell_type": "code",
   "execution_count": null,
   "id": "274b5a04-b093-4de2-87ba-98929455afd2",
   "metadata": {},
   "outputs": [],
   "source": []
  }
 ],
 "metadata": {
  "environment": {
   "kernel": "python3",
   "name": "common-cpu.m103",
   "type": "gcloud",
   "uri": "gcr.io/deeplearning-platform-release/base-cpu:m103"
  },
  "kernelspec": {
   "display_name": "Python 3",
   "language": "python",
   "name": "python3"
  },
  "language_info": {
   "codemirror_mode": {
    "name": "ipython",
    "version": 3
   },
   "file_extension": ".py",
   "mimetype": "text/x-python",
   "name": "python",
   "nbconvert_exporter": "python",
   "pygments_lexer": "ipython3",
   "version": "3.7.12"
  }
 },
 "nbformat": 4,
 "nbformat_minor": 5
}
