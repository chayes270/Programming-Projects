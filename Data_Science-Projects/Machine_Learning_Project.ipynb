{
 "cells": [
  {
   "cell_type": "markdown",
   "metadata": {},
   "source": [
    "# Machine Learning Project\n",
    "\n",
    "## This project will develop and create a machine learning classification model to best recommend to Megaline customers which plan they should get, Ultra or Smart based on customer behavior. The goal is for a minimum 75% accuracy for the best model. I will use the three classification models showed in the course which are Logistitc Regression, Decision Tree Classifier and Random Forest Classifier."
   ]
  },
  {
   "cell_type": "code",
   "execution_count": 1,
   "metadata": {},
   "outputs": [],
   "source": [
    "# Import necessary packages\n",
    "import pandas as pd\n",
    "from sklearn.linear_model import LogisticRegression\n",
    "from sklearn.tree import DecisionTreeClassifier\n",
    "from sklearn.ensemble import RandomForestClassifier\n",
    "from sklearn.model_selection import train_test_split\n",
    "from sklearn.metrics import accuracy_score"
   ]
  },
  {
   "cell_type": "code",
   "execution_count": 2,
   "metadata": {},
   "outputs": [
    {
     "data": {
      "text/html": [
       "<div>\n",
       "<style scoped>\n",
       "    .dataframe tbody tr th:only-of-type {\n",
       "        vertical-align: middle;\n",
       "    }\n",
       "\n",
       "    .dataframe tbody tr th {\n",
       "        vertical-align: top;\n",
       "    }\n",
       "\n",
       "    .dataframe thead th {\n",
       "        text-align: right;\n",
       "    }\n",
       "</style>\n",
       "<table border=\"1\" class=\"dataframe\">\n",
       "  <thead>\n",
       "    <tr style=\"text-align: right;\">\n",
       "      <th></th>\n",
       "      <th>calls</th>\n",
       "      <th>minutes</th>\n",
       "      <th>messages</th>\n",
       "      <th>mb_used</th>\n",
       "      <th>is_ultra</th>\n",
       "    </tr>\n",
       "  </thead>\n",
       "  <tbody>\n",
       "    <tr>\n",
       "      <th>0</th>\n",
       "      <td>40.0</td>\n",
       "      <td>311.90</td>\n",
       "      <td>83.0</td>\n",
       "      <td>19915.42</td>\n",
       "      <td>0</td>\n",
       "    </tr>\n",
       "    <tr>\n",
       "      <th>1</th>\n",
       "      <td>85.0</td>\n",
       "      <td>516.75</td>\n",
       "      <td>56.0</td>\n",
       "      <td>22696.96</td>\n",
       "      <td>0</td>\n",
       "    </tr>\n",
       "    <tr>\n",
       "      <th>2</th>\n",
       "      <td>77.0</td>\n",
       "      <td>467.66</td>\n",
       "      <td>86.0</td>\n",
       "      <td>21060.45</td>\n",
       "      <td>0</td>\n",
       "    </tr>\n",
       "    <tr>\n",
       "      <th>3</th>\n",
       "      <td>106.0</td>\n",
       "      <td>745.53</td>\n",
       "      <td>81.0</td>\n",
       "      <td>8437.39</td>\n",
       "      <td>1</td>\n",
       "    </tr>\n",
       "    <tr>\n",
       "      <th>4</th>\n",
       "      <td>66.0</td>\n",
       "      <td>418.74</td>\n",
       "      <td>1.0</td>\n",
       "      <td>14502.75</td>\n",
       "      <td>0</td>\n",
       "    </tr>\n",
       "  </tbody>\n",
       "</table>\n",
       "</div>"
      ],
      "text/plain": [
       "   calls  minutes  messages   mb_used  is_ultra\n",
       "0   40.0   311.90      83.0  19915.42         0\n",
       "1   85.0   516.75      56.0  22696.96         0\n",
       "2   77.0   467.66      86.0  21060.45         0\n",
       "3  106.0   745.53      81.0   8437.39         1\n",
       "4   66.0   418.74       1.0  14502.75         0"
      ]
     },
     "execution_count": 2,
     "metadata": {},
     "output_type": "execute_result"
    }
   ],
   "source": [
    "# Reading in data set and having a look at its contents\n",
    "df = pd.read_csv('/datasets/users_behavior.csv')\n",
    "df.head()"
   ]
  },
  {
   "cell_type": "code",
   "execution_count": 3,
   "metadata": {},
   "outputs": [
    {
     "name": "stdout",
     "output_type": "stream",
     "text": [
      "<class 'pandas.core.frame.DataFrame'>\n",
      "RangeIndex: 3214 entries, 0 to 3213\n",
      "Data columns (total 5 columns):\n",
      " #   Column    Non-Null Count  Dtype  \n",
      "---  ------    --------------  -----  \n",
      " 0   calls     3214 non-null   float64\n",
      " 1   minutes   3214 non-null   float64\n",
      " 2   messages  3214 non-null   float64\n",
      " 3   mb_used   3214 non-null   float64\n",
      " 4   is_ultra  3214 non-null   int64  \n",
      "dtypes: float64(4), int64(1)\n",
      "memory usage: 125.7 KB\n"
     ]
    },
    {
     "data": {
      "text/plain": [
       "False    3214\n",
       "dtype: int64"
      ]
     },
     "execution_count": 3,
     "metadata": {},
     "output_type": "execute_result"
    }
   ],
   "source": [
    "# Detailed look at the data. There is no missing values or duplicate rows\n",
    "df.info()\n",
    "df.duplicated().value_counts()"
   ]
  },
  {
   "cell_type": "code",
   "execution_count": 4,
   "metadata": {},
   "outputs": [
    {
     "name": "stdout",
     "output_type": "stream",
     "text": [
      "Training set: (1928, 4), (1928,)\n",
      "Validation set: (643, 4), (643,)\n",
      "Test set: (643, 4), (643,)\n"
     ]
    }
   ],
   "source": [
    "# Splitting data into training, validation, and testing sets\n",
    "\n",
    "# Creating features list and target list\n",
    "features = df.drop(['is_ultra'], axis=1)\n",
    "target = df['is_ultra']\n",
    "\n",
    "# Splitting into training (60%) and temporary (40%). Used random_state=12345 as shown in the sprint.\n",
    "features_train, features_temp, target_train, target_temp = train_test_split(features, target, test_size=0.4, random_state=12345)\n",
    "\n",
    "# Splitting the temporary set into validation (20%) and test (20%)\n",
    "features_valid, features_test, target_valid, target_test = train_test_split(features_temp, target_temp, test_size=0.5, random_state=12345)\n",
    "\n",
    "# Verify the sizes of the splits following the traditional 3:1:1 split.\n",
    "print(f'Training set: {features_train.shape}, {target_train.shape}')\n",
    "print(f'Validation set: {features_valid.shape}, {target_valid.shape}')\n",
    "print(f'Test set: {features_test.shape}, {target_test.shape}')\n",
    "\n"
   ]
  },
  {
   "cell_type": "code",
   "execution_count": 5,
   "metadata": {},
   "outputs": [
    {
     "name": "stdout",
     "output_type": "stream",
     "text": [
      "Logistic Regression accuracy: 0.713841368584759\n",
      "\n",
      "Logistic Regression accuracy: 0.7589424572317263\n"
     ]
    }
   ],
   "source": [
    "# Investigating the quality of the LogisticRegression Classifier\n",
    "regress_model =  LogisticRegression(random_state=12345, solver='liblinear', fit_intercept=False, max_iter=17) #initialize logistic regression classifier with parameters random_state=12345 and solver='liblinear'\n",
    "regress_model.fit(features_train, target_train)  # train model on training set\n",
    "\n",
    "regress_pred = regress_model.predict(features_valid) # get model predictions on validation set\n",
    "regress_acc = accuracy_score(target_valid, regress_pred) # get accuracy of the model on the validation set\n",
    "print(\"Logistic Regression accuracy:\", regress_acc)\n",
    "\n",
    "\n",
    "print()\n",
    "regress_model =  LogisticRegression(random_state=12345, solver='liblinear', fit_intercept=True, max_iter=31)# initialize logistic regression constructor with parameters random_state=12345 and solver='liblinear'\n",
    "regress_model.fit(features_train, target_train)  # train model on training set\n",
    "\n",
    "regress_pred = regress_model.predict(features_valid) # get model predictions on validation set\n",
    "regress_acc = accuracy_score(target_valid, regress_pred) # get accuracy of the model on the validation set\n",
    "print(\"Logistic Regression accuracy:\", regress_acc)"
   ]
  },
  {
   "cell_type": "markdown",
   "metadata": {},
   "source": [
    "For the Logisitic Regression Classifier, I have tried changing the fit_intercept parameter and the max_iter parameter. With the fit_intercept parameter set to true, the model is more accurate which makes sense because it allows the model to better fit a more accurate decision boundary. For the max_iter parameter, 17 and 31 are the minimum iterations needed to allow the model to fully converge or else an error messages appears. Anything more than 17 and 31, respectively, will result in the same accuracy measure. This accuracy meets the threshold of 75% outlined in the project description however it is possible other models can be more accurate."
   ]
  },
  {
   "cell_type": "code",
   "execution_count": 6,
   "metadata": {},
   "outputs": [
    {
     "name": "stdout",
     "output_type": "stream",
     "text": [
      "max_depth = 1 : 0.7542768273716952\n",
      "max_depth = 2 : 0.7822706065318819\n",
      "max_depth = 3 : 0.7853810264385692\n",
      "max_depth = 4 : 0.7791601866251944\n",
      "max_depth = 5 : 0.7791601866251944\n",
      "max_depth = 6 : 0.7884914463452566\n",
      "max_depth = 7 : 0.7853810264385692\n",
      "max_depth = 8 : 0.7791601866251944\n",
      "max_depth = 9 : 0.7838258164852255\n",
      "max_depth = 10 : 0.7744945567651633\n",
      "max_depth = 11 : 0.7729393468118196\n",
      "max_depth = 12 : 0.7620528771384136\n",
      "max_depth = 13 : 0.7589424572317263\n",
      "max_depth = 14 : 0.7620528771384136\n",
      "max_depth = 15 : 0.7573872472783826\n",
      "max_depth = 16 : 0.7558320373250389\n",
      "max_depth = 17 : 0.7558320373250389\n",
      "max_depth = 18 : 0.7542768273716952\n",
      "max_depth = 19 : 0.7542768273716952\n",
      "max_depth = 20 : 0.7558320373250389\n",
      "max_depth = 21 : 0.7558320373250389\n",
      "max_depth = 22 : 0.7558320373250389\n",
      "max_depth = 23 : 0.7558320373250389\n",
      "max_depth = 24 : 0.7558320373250389\n",
      "max_depth = 25 : 0.7558320373250389\n",
      "max_depth = 26 : 0.7558320373250389\n",
      "max_depth = 27 : 0.7558320373250389\n",
      "max_depth = 28 : 0.7558320373250389\n",
      "max_depth = 29 : 0.7558320373250389\n",
      "max_depth = 30 : 0.7558320373250389\n",
      "Best accuracy is at max depth of 6 with an accuracy of 0.7884914463452566\n"
     ]
    }
   ],
   "source": [
    "# Investigating the quality of the DecisionTree Classifier\n",
    "\n",
    "# Initializing the best_acc and best_depth values to store the best accuracy and the corresponding max depth\n",
    "best_acc = 0\n",
    "best_depth = 0\n",
    "# Loop to change the max_depth parameter to find the optimal depth for highest accuracy\n",
    "for depth in range(1, 31):\n",
    "    tree_model = DecisionTreeClassifier(max_depth = depth, random_state=12345, min_samples_split=20) # create a model, specify max_depth=depth\n",
    "\n",
    "    # train the model on training set\n",
    "    tree_model.fit(features_train, target_train)\n",
    "\n",
    "    tree_pred = tree_model.predict(features_valid) # find the predictions using validation set\n",
    "    tree_acc = accuracy_score(target_valid, tree_pred) # get accuracy of the model on the validation set\n",
    "    \n",
    "    # Saving the best accuracy and corresponding max_depth\n",
    "    if(tree_acc > best_acc):\n",
    "        best_acc = tree_acc\n",
    "        best_depth = depth\n",
    "    \n",
    "    print(\"max_depth =\", depth, \": \", end='')\n",
    "    print(tree_acc)\n",
    "print(\"Best accuracy is at max depth of\", best_depth, \"with an accuracy of\", best_acc)"
   ]
  },
  {
   "cell_type": "markdown",
   "metadata": {},
   "source": [
    "For the Decision Tree Classifier, I changed the max_depth parameter and the min_samples_split parameter. For the max_depth parameter, I tried all depths from 1 to 30 and found that with min_samples_split=20 the highest accuracy obtained was around 0.788. Using other combinations of min_samples_split and all depths from 1 to 30 resulted in accuracies around 75%. However these two specific parameters of max_depth = 6 and min_samples_split = 20 resulted in the highest accuracy. "
   ]
  },
  {
   "cell_type": "code",
   "execution_count": 7,
   "metadata": {},
   "outputs": [
    {
     "name": "stdout",
     "output_type": "stream",
     "text": [
      "est = 1 : depth: 1 : 0.7542768273716952\n",
      "est = 1 : depth: 2 : 0.7853810264385692\n",
      "est = 1 : depth: 2 : 0.7853810264385692\n",
      "est = 1 : depth: 2 : 0.7744945567651633\n",
      "est = 1 : depth: 2 : 0.776049766718507\n",
      "est = 1 : depth: 2 : 0.7853810264385692\n",
      "est = 1 : depth: 2 : 0.7776049766718507\n",
      "est = 1 : depth: 2 : 0.7776049766718507\n",
      "est = 1 : depth: 2 : 0.7791601866251944\n",
      "est = 1 : depth: 2 : 0.7729393468118196\n",
      "est = 2 : depth: 2 : 0.7371695178849145\n",
      "est = 2 : depth: 2 : 0.7822706065318819\n",
      "est = 2 : depth: 2 : 0.7853810264385692\n",
      "est = 2 : depth: 2 : 0.7776049766718507\n",
      "est = 2 : depth: 2 : 0.7729393468118196\n",
      "est = 2 : depth: 2 : 0.7853810264385692\n",
      "est = 2 : depth: 2 : 0.7776049766718507\n",
      "est = 2 : depth: 2 : 0.7807153965785381\n",
      "est = 2 : depth: 2 : 0.7667185069984448\n",
      "est = 2 : depth: 2 : 0.7698289269051322\n",
      "est = 3 : depth: 2 : 0.7465007776049767\n",
      "est = 3 : depth: 2 : 0.7776049766718507\n",
      "est = 3 : depth: 2 : 0.7853810264385692\n",
      "est = 3 : depth: 2 : 0.776049766718507\n",
      "est = 3 : depth: 5 : 0.7884914463452566\n",
      "est = 3 : depth: 5 : 0.7838258164852255\n",
      "est = 3 : depth: 5 : 0.7869362363919129\n",
      "est = 3 : depth: 5 : 0.7853810264385692\n",
      "est = 3 : depth: 5 : 0.7791601866251944\n",
      "est = 3 : depth: 5 : 0.7729393468118196\n",
      "est = 4 : depth: 5 : 0.7682737169517885\n",
      "est = 4 : depth: 5 : 0.7869362363919129\n",
      "est = 4 : depth: 5 : 0.7838258164852255\n",
      "est = 4 : depth: 5 : 0.7884914463452566\n",
      "est = 4 : depth: 5 : 0.7853810264385692\n",
      "est = 4 : depth: 5 : 0.7884914463452566\n",
      "est = 4 : depth: 5 : 0.7869362363919129\n",
      "est = 4 : depth: 8 : 0.7900466562986003\n",
      "est = 4 : depth: 8 : 0.7791601866251944\n",
      "est = 4 : depth: 8 : 0.7744945567651633\n",
      "est = 5 : depth: 8 : 0.7558320373250389\n",
      "est = 5 : depth: 8 : 0.7698289269051322\n",
      "est = 5 : depth: 8 : 0.7838258164852255\n",
      "est = 5 : depth: 8 : 0.7853810264385692\n",
      "est = 5 : depth: 8 : 0.7884914463452566\n",
      "est = 5 : depth: 6 : 0.7947122861586314\n",
      "est = 5 : depth: 6 : 0.7916018662519441\n",
      "est = 5 : depth: 6 : 0.7931570762052877\n",
      "est = 5 : depth: 6 : 0.7791601866251944\n",
      "est = 5 : depth: 6 : 0.7807153965785381\n",
      "est = 6 : depth: 6 : 0.76049766718507\n",
      "est = 6 : depth: 6 : 0.7729393468118196\n",
      "est = 6 : depth: 6 : 0.7853810264385692\n",
      "est = 6 : depth: 6 : 0.7869362363919129\n",
      "est = 6 : depth: 6 : 0.7884914463452566\n",
      "est = 6 : depth: 6 : 0.7931570762052877\n",
      "est = 6 : depth: 6 : 0.7900466562986003\n",
      "est = 6 : depth: 8 : 0.7962674961119751\n",
      "est = 6 : depth: 8 : 0.7791601866251944\n",
      "est = 6 : depth: 8 : 0.7822706065318819\n",
      "est = 7 : depth: 8 : 0.7573872472783826\n",
      "est = 7 : depth: 8 : 0.7620528771384136\n",
      "est = 7 : depth: 8 : 0.7869362363919129\n",
      "est = 7 : depth: 8 : 0.7853810264385692\n",
      "est = 7 : depth: 8 : 0.7884914463452566\n",
      "est = 7 : depth: 8 : 0.7947122861586314\n",
      "est = 7 : depth: 8 : 0.7931570762052877\n",
      "est = 7 : depth: 8 : 0.7900466562986003\n",
      "est = 7 : depth: 8 : 0.7807153965785381\n",
      "est = 7 : depth: 8 : 0.7853810264385692\n",
      "est = 8 : depth: 8 : 0.76049766718507\n",
      "est = 8 : depth: 8 : 0.7698289269051322\n",
      "est = 8 : depth: 8 : 0.7853810264385692\n",
      "est = 8 : depth: 8 : 0.7916018662519441\n",
      "est = 8 : depth: 8 : 0.7931570762052877\n",
      "est = 8 : depth: 6 : 0.7993779160186625\n",
      "est = 8 : depth: 6 : 0.7978227060653188\n",
      "est = 8 : depth: 8 : 0.80248833592535\n",
      "est = 8 : depth: 8 : 0.7791601866251944\n",
      "est = 8 : depth: 8 : 0.7791601866251944\n",
      "est = 9 : depth: 8 : 0.7542768273716952\n",
      "est = 9 : depth: 8 : 0.7682737169517885\n",
      "est = 9 : depth: 8 : 0.7869362363919129\n",
      "est = 9 : depth: 8 : 0.7884914463452566\n",
      "est = 9 : depth: 8 : 0.7900466562986003\n",
      "est = 9 : depth: 8 : 0.7993779160186625\n",
      "est = 9 : depth: 8 : 0.7962674961119751\n",
      "est = 9 : depth: 8 : 0.7993779160186625\n",
      "est = 9 : depth: 8 : 0.7822706065318819\n",
      "est = 9 : depth: 8 : 0.7869362363919129\n",
      "est = 10 : depth: 8 : 0.7558320373250389\n",
      "est = 10 : depth: 8 : 0.7776049766718507\n",
      "est = 10 : depth: 8 : 0.7853810264385692\n",
      "est = 10 : depth: 8 : 0.7900466562986003\n",
      "est = 10 : depth: 8 : 0.7931570762052877\n",
      "est = 10 : depth: 8 : 0.8009331259720062\n",
      "est = 10 : depth: 8 : 0.7947122861586314\n",
      "est = 10 : depth: 8 : 0.7962674961119751\n",
      "est = 10 : depth: 8 : 0.7853810264385692\n",
      "est = 10 : depth: 8 : 0.7916018662519441\n",
      "est = 11 : depth: 8 : 0.7542768273716952\n",
      "est = 11 : depth: 8 : 0.7853810264385692\n",
      "est = 11 : depth: 8 : 0.7838258164852255\n",
      "est = 11 : depth: 8 : 0.7884914463452566\n",
      "est = 11 : depth: 8 : 0.7853810264385692\n",
      "est = 11 : depth: 8 : 0.8009331259720062\n",
      "est = 11 : depth: 8 : 0.7962674961119751\n",
      "est = 11 : depth: 8 : 0.7993779160186625\n",
      "est = 11 : depth: 8 : 0.7853810264385692\n",
      "est = 11 : depth: 8 : 0.7916018662519441\n",
      "est = 12 : depth: 8 : 0.7527216174183515\n",
      "est = 12 : depth: 8 : 0.7838258164852255\n",
      "est = 12 : depth: 8 : 0.7869362363919129\n",
      "est = 12 : depth: 8 : 0.7884914463452566\n",
      "est = 12 : depth: 8 : 0.7916018662519441\n",
      "est = 12 : depth: 6 : 0.8040435458786936\n",
      "est = 12 : depth: 6 : 0.7993779160186625\n",
      "est = 12 : depth: 6 : 0.7947122861586314\n",
      "est = 12 : depth: 6 : 0.7869362363919129\n",
      "est = 12 : depth: 6 : 0.7900466562986003\n",
      "est = 13 : depth: 6 : 0.7527216174183515\n",
      "est = 13 : depth: 6 : 0.7884914463452566\n",
      "est = 13 : depth: 6 : 0.7884914463452566\n",
      "est = 13 : depth: 6 : 0.7916018662519441\n",
      "est = 13 : depth: 6 : 0.7900466562986003\n",
      "est = 13 : depth: 6 : 0.80248833592535\n",
      "est = 13 : depth: 6 : 0.7978227060653188\n",
      "est = 13 : depth: 6 : 0.7962674961119751\n",
      "est = 13 : depth: 6 : 0.7838258164852255\n",
      "est = 13 : depth: 6 : 0.7947122861586314\n",
      "est = 14 : depth: 6 : 0.7527216174183515\n",
      "est = 14 : depth: 6 : 0.7838258164852255\n",
      "est = 14 : depth: 6 : 0.7884914463452566\n",
      "est = 14 : depth: 6 : 0.7916018662519441\n",
      "est = 14 : depth: 6 : 0.7884914463452566\n",
      "est = 14 : depth: 6 : 0.80248833592535\n",
      "est = 14 : depth: 6 : 0.7962674961119751\n",
      "est = 14 : depth: 6 : 0.7947122861586314\n",
      "est = 14 : depth: 6 : 0.7900466562986003\n",
      "est = 14 : depth: 6 : 0.7916018662519441\n",
      "est = 15 : depth: 6 : 0.7527216174183515\n",
      "est = 15 : depth: 6 : 0.7838258164852255\n",
      "est = 15 : depth: 6 : 0.7869362363919129\n",
      "est = 15 : depth: 6 : 0.7884914463452566\n",
      "est = 15 : depth: 6 : 0.7900466562986003\n",
      "est = 15 : depth: 6 : 0.8009331259720062\n",
      "est = 15 : depth: 6 : 0.7993779160186625\n",
      "est = 15 : depth: 6 : 0.7947122861586314\n",
      "est = 15 : depth: 6 : 0.7853810264385692\n",
      "est = 15 : depth: 6 : 0.7869362363919129\n",
      "est = 16 : depth: 6 : 0.7527216174183515\n",
      "est = 16 : depth: 6 : 0.7838258164852255\n",
      "est = 16 : depth: 6 : 0.7869362363919129\n",
      "est = 16 : depth: 6 : 0.7916018662519441\n",
      "est = 16 : depth: 6 : 0.7900466562986003\n",
      "est = 16 : depth: 6 : 0.8009331259720062\n",
      "est = 16 : depth: 6 : 0.7962674961119751\n",
      "est = 16 : depth: 6 : 0.7978227060653188\n",
      "est = 16 : depth: 6 : 0.7869362363919129\n",
      "est = 16 : depth: 6 : 0.7916018662519441\n",
      "est = 17 : depth: 6 : 0.7651632970451011\n",
      "est = 17 : depth: 6 : 0.7822706065318819\n",
      "est = 17 : depth: 6 : 0.7853810264385692\n",
      "est = 17 : depth: 6 : 0.7916018662519441\n",
      "est = 17 : depth: 6 : 0.7884914463452566\n",
      "est = 17 : depth: 6 : 0.80248833592535\n",
      "est = 17 : depth: 6 : 0.7962674961119751\n",
      "est = 17 : depth: 6 : 0.7947122861586314\n",
      "est = 17 : depth: 6 : 0.7853810264385692\n",
      "est = 17 : depth: 6 : 0.7900466562986003\n",
      "est = 18 : depth: 6 : 0.7651632970451011\n",
      "est = 18 : depth: 6 : 0.7822706065318819\n",
      "est = 18 : depth: 6 : 0.7853810264385692\n",
      "est = 18 : depth: 6 : 0.7884914463452566\n",
      "est = 18 : depth: 6 : 0.7869362363919129\n",
      "est = 18 : depth: 6 : 0.8009331259720062\n",
      "est = 18 : depth: 6 : 0.7947122861586314\n",
      "est = 18 : depth: 6 : 0.7978227060653188\n",
      "est = 18 : depth: 6 : 0.7869362363919129\n",
      "est = 18 : depth: 6 : 0.7900466562986003\n",
      "est = 19 : depth: 6 : 0.7651632970451011\n",
      "est = 19 : depth: 6 : 0.7822706065318819\n",
      "est = 19 : depth: 6 : 0.7853810264385692\n",
      "est = 19 : depth: 6 : 0.7884914463452566\n",
      "est = 19 : depth: 6 : 0.7884914463452566\n",
      "est = 19 : depth: 6 : 0.7993779160186625\n",
      "est = 19 : depth: 6 : 0.7947122861586314\n",
      "est = 19 : depth: 6 : 0.7993779160186625\n",
      "est = 19 : depth: 6 : 0.7900466562986003\n",
      "est = 19 : depth: 6 : 0.7916018662519441\n",
      "est = 20 : depth: 6 : 0.7667185069984448\n",
      "est = 20 : depth: 6 : 0.7838258164852255\n",
      "est = 20 : depth: 6 : 0.7869362363919129\n",
      "est = 20 : depth: 6 : 0.7884914463452566\n",
      "est = 20 : depth: 6 : 0.7900466562986003\n",
      "est = 20 : depth: 6 : 0.7993779160186625\n",
      "est = 20 : depth: 6 : 0.8009331259720062\n",
      "est = 20 : depth: 6 : 0.7978227060653188\n",
      "est = 20 : depth: 6 : 0.7900466562986003\n",
      "est = 20 : depth: 6 : 0.7916018662519441\n",
      "est = 21 : depth: 6 : 0.7636080870917574\n",
      "est = 21 : depth: 6 : 0.7853810264385692\n",
      "est = 21 : depth: 6 : 0.7869362363919129\n",
      "est = 21 : depth: 6 : 0.7853810264385692\n"
     ]
    },
    {
     "name": "stdout",
     "output_type": "stream",
     "text": [
      "est = 21 : depth: 6 : 0.7884914463452566\n",
      "est = 21 : depth: 6 : 0.7993779160186625\n",
      "est = 21 : depth: 6 : 0.8009331259720062\n",
      "est = 21 : depth: 6 : 0.7962674961119751\n",
      "est = 21 : depth: 6 : 0.7931570762052877\n",
      "est = 21 : depth: 6 : 0.7947122861586314\n",
      "est = 22 : depth: 6 : 0.7636080870917574\n",
      "est = 22 : depth: 6 : 0.7853810264385692\n",
      "est = 22 : depth: 6 : 0.7884914463452566\n",
      "est = 22 : depth: 6 : 0.7884914463452566\n",
      "est = 22 : depth: 6 : 0.7900466562986003\n",
      "est = 22 : depth: 6 : 0.7993779160186625\n",
      "est = 22 : depth: 6 : 0.7993779160186625\n",
      "est = 22 : depth: 6 : 0.7978227060653188\n",
      "est = 22 : depth: 6 : 0.7916018662519441\n",
      "est = 22 : depth: 6 : 0.7916018662519441\n",
      "est = 23 : depth: 6 : 0.7511664074650077\n",
      "est = 23 : depth: 6 : 0.7853810264385692\n",
      "est = 23 : depth: 6 : 0.7884914463452566\n",
      "est = 23 : depth: 6 : 0.7853810264385692\n",
      "est = 23 : depth: 6 : 0.7884914463452566\n",
      "est = 23 : depth: 6 : 0.8009331259720062\n",
      "est = 23 : depth: 6 : 0.8009331259720062\n",
      "est = 23 : depth: 6 : 0.7962674961119751\n",
      "est = 23 : depth: 6 : 0.7916018662519441\n",
      "est = 23 : depth: 6 : 0.7931570762052877\n",
      "est = 24 : depth: 6 : 0.7636080870917574\n",
      "est = 24 : depth: 6 : 0.7869362363919129\n",
      "est = 24 : depth: 6 : 0.7884914463452566\n",
      "est = 24 : depth: 6 : 0.7853810264385692\n",
      "est = 24 : depth: 6 : 0.7884914463452566\n",
      "est = 24 : depth: 6 : 0.7993779160186625\n",
      "est = 24 : depth: 6 : 0.7962674961119751\n",
      "est = 24 : depth: 6 : 0.7978227060653188\n",
      "est = 24 : depth: 6 : 0.7916018662519441\n",
      "est = 24 : depth: 6 : 0.7978227060653188\n",
      "est = 25 : depth: 6 : 0.7651632970451011\n",
      "est = 25 : depth: 6 : 0.7869362363919129\n",
      "est = 25 : depth: 6 : 0.7853810264385692\n",
      "est = 25 : depth: 6 : 0.7900466562986003\n",
      "est = 25 : depth: 6 : 0.7869362363919129\n",
      "est = 25 : depth: 6 : 0.7993779160186625\n",
      "est = 25 : depth: 6 : 0.7993779160186625\n",
      "est = 25 : depth: 6 : 0.7978227060653188\n",
      "est = 25 : depth: 6 : 0.7931570762052877\n",
      "est = 25 : depth: 6 : 0.7962674961119751\n",
      "est = 26 : depth: 6 : 0.7651632970451011\n",
      "est = 26 : depth: 6 : 0.7853810264385692\n",
      "est = 26 : depth: 6 : 0.7884914463452566\n",
      "est = 26 : depth: 6 : 0.7900466562986003\n",
      "est = 26 : depth: 6 : 0.7900466562986003\n",
      "est = 26 : depth: 6 : 0.7962674961119751\n",
      "est = 26 : depth: 7 : 0.807153965785381\n",
      "est = 26 : depth: 7 : 0.8009331259720062\n",
      "est = 26 : depth: 7 : 0.7947122861586314\n",
      "est = 26 : depth: 7 : 0.7993779160186625\n",
      "est = 27 : depth: 7 : 0.7667185069984448\n",
      "est = 27 : depth: 7 : 0.7838258164852255\n",
      "est = 27 : depth: 7 : 0.7869362363919129\n",
      "est = 27 : depth: 7 : 0.7916018662519441\n",
      "est = 27 : depth: 7 : 0.7884914463452566\n",
      "est = 27 : depth: 7 : 0.8009331259720062\n",
      "est = 27 : depth: 7 : 0.8040435458786936\n",
      "est = 27 : depth: 7 : 0.7978227060653188\n",
      "est = 27 : depth: 7 : 0.7931570762052877\n",
      "est = 27 : depth: 7 : 0.7993779160186625\n",
      "est = 28 : depth: 7 : 0.7667185069984448\n",
      "est = 28 : depth: 7 : 0.7838258164852255\n",
      "est = 28 : depth: 7 : 0.7869362363919129\n",
      "est = 28 : depth: 7 : 0.7884914463452566\n",
      "est = 28 : depth: 7 : 0.7916018662519441\n",
      "est = 28 : depth: 7 : 0.8009331259720062\n",
      "est = 28 : depth: 7 : 0.8055987558320373\n",
      "est = 28 : depth: 7 : 0.7978227060653188\n",
      "est = 28 : depth: 7 : 0.7900466562986003\n",
      "est = 28 : depth: 7 : 0.7931570762052877\n",
      "est = 29 : depth: 7 : 0.7667185069984448\n",
      "est = 29 : depth: 7 : 0.7838258164852255\n",
      "est = 29 : depth: 7 : 0.7869362363919129\n",
      "est = 29 : depth: 7 : 0.7884914463452566\n",
      "est = 29 : depth: 7 : 0.7916018662519441\n",
      "est = 29 : depth: 7 : 0.80248833592535\n",
      "est = 29 : depth: 7 : 0.8040435458786936\n",
      "est = 29 : depth: 7 : 0.7993779160186625\n",
      "est = 29 : depth: 7 : 0.7916018662519441\n",
      "est = 29 : depth: 7 : 0.7947122861586314\n",
      "est = 30 : depth: 7 : 0.7667185069984448\n",
      "est = 30 : depth: 7 : 0.7838258164852255\n",
      "est = 30 : depth: 7 : 0.7869362363919129\n",
      "est = 30 : depth: 7 : 0.7869362363919129\n",
      "est = 30 : depth: 7 : 0.7931570762052877\n",
      "est = 30 : depth: 7 : 0.8009331259720062\n",
      "est = 30 : depth: 7 : 0.80248833592535\n",
      "est = 30 : depth: 7 : 0.7993779160186625\n",
      "est = 30 : depth: 7 : 0.7931570762052877\n",
      "est = 30 : depth: 7 : 0.7947122861586314\n",
      "est = 31 : depth: 7 : 0.7884914463452566\n",
      "est = 31 : depth: 7 : 0.7838258164852255\n",
      "est = 31 : depth: 7 : 0.7869362363919129\n",
      "est = 31 : depth: 7 : 0.7884914463452566\n",
      "est = 31 : depth: 7 : 0.7931570762052877\n",
      "est = 31 : depth: 7 : 0.80248833592535\n",
      "est = 31 : depth: 7 : 0.80248833592535\n",
      "est = 31 : depth: 7 : 0.7978227060653188\n",
      "est = 31 : depth: 7 : 0.7900466562986003\n",
      "est = 31 : depth: 7 : 0.7947122861586314\n",
      "est = 32 : depth: 7 : 0.7884914463452566\n",
      "est = 32 : depth: 7 : 0.7838258164852255\n",
      "est = 32 : depth: 7 : 0.7869362363919129\n",
      "est = 32 : depth: 7 : 0.7869362363919129\n",
      "est = 32 : depth: 7 : 0.7916018662519441\n",
      "est = 32 : depth: 7 : 0.8040435458786936\n",
      "est = 32 : depth: 7 : 0.80248833592535\n",
      "est = 32 : depth: 7 : 0.7978227060653188\n",
      "est = 32 : depth: 7 : 0.7931570762052877\n",
      "est = 32 : depth: 7 : 0.7962674961119751\n",
      "est = 33 : depth: 7 : 0.7884914463452566\n",
      "est = 33 : depth: 7 : 0.7838258164852255\n",
      "est = 33 : depth: 7 : 0.7869362363919129\n",
      "est = 33 : depth: 7 : 0.7884914463452566\n",
      "est = 33 : depth: 7 : 0.7931570762052877\n",
      "est = 33 : depth: 7 : 0.8009331259720062\n",
      "est = 33 : depth: 7 : 0.8009331259720062\n",
      "est = 33 : depth: 7 : 0.7978227060653188\n",
      "est = 33 : depth: 7 : 0.7962674961119751\n",
      "est = 33 : depth: 7 : 0.7947122861586314\n",
      "est = 34 : depth: 7 : 0.7884914463452566\n",
      "est = 34 : depth: 7 : 0.7838258164852255\n",
      "est = 34 : depth: 7 : 0.7869362363919129\n",
      "est = 34 : depth: 7 : 0.7884914463452566\n",
      "est = 34 : depth: 7 : 0.7900466562986003\n",
      "est = 34 : depth: 7 : 0.8009331259720062\n",
      "est = 34 : depth: 7 : 0.80248833592535\n",
      "est = 34 : depth: 7 : 0.7947122861586314\n",
      "est = 34 : depth: 7 : 0.7962674961119751\n",
      "est = 34 : depth: 7 : 0.7947122861586314\n",
      "est = 35 : depth: 7 : 0.7884914463452566\n",
      "est = 35 : depth: 7 : 0.7838258164852255\n",
      "est = 35 : depth: 7 : 0.7869362363919129\n",
      "est = 35 : depth: 7 : 0.7884914463452566\n",
      "est = 35 : depth: 7 : 0.7884914463452566\n",
      "est = 35 : depth: 7 : 0.7993779160186625\n",
      "est = 35 : depth: 7 : 0.8009331259720062\n",
      "est = 35 : depth: 7 : 0.7947122861586314\n",
      "est = 35 : depth: 7 : 0.7962674961119751\n",
      "est = 35 : depth: 7 : 0.7931570762052877\n",
      "est = 36 : depth: 7 : 0.776049766718507\n",
      "est = 36 : depth: 7 : 0.7838258164852255\n",
      "est = 36 : depth: 7 : 0.7869362363919129\n",
      "est = 36 : depth: 7 : 0.7900466562986003\n",
      "est = 36 : depth: 7 : 0.7884914463452566\n",
      "est = 36 : depth: 7 : 0.7993779160186625\n",
      "est = 36 : depth: 7 : 0.8040435458786936\n",
      "est = 36 : depth: 7 : 0.7962674961119751\n",
      "est = 36 : depth: 7 : 0.7947122861586314\n",
      "est = 36 : depth: 7 : 0.7931570762052877\n",
      "est = 37 : depth: 7 : 0.7884914463452566\n",
      "est = 37 : depth: 7 : 0.7838258164852255\n",
      "est = 37 : depth: 7 : 0.7884914463452566\n",
      "est = 37 : depth: 7 : 0.7900466562986003\n",
      "est = 37 : depth: 7 : 0.7931570762052877\n",
      "est = 37 : depth: 7 : 0.8009331259720062\n",
      "est = 37 : depth: 7 : 0.8040435458786936\n",
      "est = 37 : depth: 7 : 0.8009331259720062\n",
      "est = 37 : depth: 7 : 0.7947122861586314\n",
      "est = 37 : depth: 7 : 0.7947122861586314\n",
      "est = 38 : depth: 7 : 0.776049766718507\n",
      "est = 38 : depth: 7 : 0.7838258164852255\n",
      "est = 38 : depth: 7 : 0.7884914463452566\n",
      "est = 38 : depth: 7 : 0.7900466562986003\n",
      "est = 38 : depth: 7 : 0.7900466562986003\n",
      "est = 38 : depth: 7 : 0.80248833592535\n",
      "est = 38 : depth: 7 : 0.8055987558320373\n",
      "est = 38 : depth: 7 : 0.80248833592535\n",
      "est = 38 : depth: 7 : 0.7947122861586314\n",
      "est = 38 : depth: 7 : 0.7962674961119751\n",
      "est = 39 : depth: 7 : 0.7869362363919129\n",
      "est = 39 : depth: 7 : 0.7838258164852255\n",
      "est = 39 : depth: 7 : 0.7884914463452566\n",
      "est = 39 : depth: 7 : 0.7900466562986003\n",
      "est = 39 : depth: 7 : 0.7931570762052877\n",
      "est = 39 : depth: 7 : 0.8009331259720062\n",
      "est = 39 : depth: 7 : 0.8040435458786936\n",
      "est = 39 : depth: 7 : 0.8055987558320373\n",
      "est = 39 : depth: 7 : 0.7931570762052877\n",
      "est = 39 : depth: 7 : 0.7962674961119751\n",
      "est = 40 : depth: 7 : 0.776049766718507\n",
      "est = 40 : depth: 7 : 0.7853810264385692\n",
      "est = 40 : depth: 7 : 0.7869362363919129\n",
      "est = 40 : depth: 7 : 0.7900466562986003\n",
      "est = 40 : depth: 7 : 0.7947122861586314\n",
      "est = 40 : depth: 7 : 0.80248833592535\n",
      "est = 40 : depth: 7 : 0.80248833592535\n",
      "est = 40 : depth: 8 : 0.8087091757387247\n",
      "est = 40 : depth: 8 : 0.7947122861586314\n",
      "est = 40 : depth: 8 : 0.7962674961119751\n",
      "est = 41 : depth: 8 : 0.776049766718507\n",
      "est = 41 : depth: 8 : 0.7822706065318819\n",
      "est = 41 : depth: 8 : 0.7869362363919129\n",
      "est = 41 : depth: 8 : 0.7900466562986003\n",
      "est = 41 : depth: 8 : 0.7931570762052877\n",
      "est = 41 : depth: 8 : 0.8009331259720062\n"
     ]
    },
    {
     "name": "stdout",
     "output_type": "stream",
     "text": [
      "est = 41 : depth: 8 : 0.80248833592535\n",
      "est = 41 : depth: 8 : 0.807153965785381\n",
      "est = 41 : depth: 8 : 0.7931570762052877\n",
      "est = 41 : depth: 8 : 0.7947122861586314\n",
      "Best accuracy is at 40 estimators and max depth 8 with an accuracy of 0.8087091757387247\n"
     ]
    }
   ],
   "source": [
    "# Investigating the quality of the RandomForest Classifier\n",
    "\n",
    "# Initializing the best_acc and best_est values to store the best accuracy and the corresponding number of estimators\n",
    "best_acc = 0\n",
    "best_est = 0\n",
    "best_depth = 0\n",
    "# Loop to change the n_estimators parameter to find the optimal number of estimators for highest accuracy\n",
    "for est in range(1, 42): # choose hyperparameter range\n",
    "    for depth in range(1,11):\n",
    "        \n",
    "        forest_model = RandomForestClassifier(random_state=12345, n_estimators=est, max_depth=depth)  # create a model, specify n_estimators=est\n",
    "        forest_model.fit(features_train, target_train) # train model on training set\n",
    "        forest_pred = forest_model.predict(features_valid) # find the predictions using validation set\n",
    "        forest_acc = accuracy_score(target_valid, forest_pred) # get accuracy of model on validation set\n",
    "    \n",
    "        # Store the best accuracy and corresponding n_estimators\n",
    "        if(forest_acc > best_acc):\n",
    "            best_acc = forest_acc\n",
    "            best_est = est\n",
    "            best_depth = depth\n",
    "    \n",
    "        print(\"est =\", est, \":\", \"depth:\", best_depth, end=' : ')\n",
    "        print(forest_acc)\n",
    "print(\"Best accuracy is at\", best_est, \"estimators\", \"and max depth\", best_depth, \"with an accuracy of\", best_acc)"
   ]
  },
  {
   "cell_type": "markdown",
   "metadata": {},
   "source": [
    "For the Random Forest Classifier, I adjusted the max_depth and n_estimators parameters starting from n_estimators = 1 to 42 and max_dpeth = 1 to 10 and tried every combination. Ultimately, I found that n_estimators = 40 and max_depth = 8 gives the highest accuracy around 0.81. All the other combinations range from around 0.75 to 0.8. Out of the three models, the Random Forest Classifier has the highest accuracy, so I will use this model for further analysis."
   ]
  },
  {
   "cell_type": "code",
   "execution_count": 8,
   "metadata": {},
   "outputs": [
    {
     "name": "stdout",
     "output_type": "stream",
     "text": [
      "Test Accuracy: 0.7962674961119751\n"
     ]
    }
   ],
   "source": [
    "# Checking quality of the best Random Forest Model on the test set\n",
    "forest_model_best = RandomForestClassifier(random_state=12345, n_estimators=40, max_depth=8) # set number of trees\n",
    "forest_model_best.fit(features_train, target_train) # train the model on training data\n",
    "\n",
    "forest_test_pred = forest_model_best.predict(features_test) # find the predictions using test set\n",
    "\n",
    "features_test_acc = accuracy_score(target_test, forest_test_pred) # get accuracy of model on test set\n",
    "print('Test Accuracy:', features_test_acc)"
   ]
  },
  {
   "cell_type": "markdown",
   "metadata": {},
   "source": [
    "Running the model with the test set, it came out to an accuracy of around 0.796, which is relatively close to the trained model on the the validation set. This shows that the model can predict about 79.6% of the time the correct plan to a customer and it also exceeds the base line of 75% accuracy the company Megaline needs."
   ]
  },
  {
   "cell_type": "code",
   "execution_count": 9,
   "metadata": {},
   "outputs": [
    {
     "name": "stdout",
     "output_type": "stream",
     "text": [
      "Training Accuracy: 0.875\n",
      "Validation Accuracy: 0.8087091757387247\n",
      "Test Accuracy: 0.7962674961119751\n"
     ]
    }
   ],
   "source": [
    "# Sanity check\n",
    "forest_train_acc = forest_model_best.score(features_train, target_train)\n",
    "forest_val_acc = forest_model_best.score(features_valid, target_valid)\n",
    "forest_test_acc = forest_model_best.score(features_test, target_test)\n",
    "print('Training Accuracy:', forest_train_acc)\n",
    "print('Validation Accuracy:', forest_val_acc)\n",
    "print('Test Accuracy:', forest_test_acc)"
   ]
  },
  {
   "cell_type": "markdown",
   "metadata": {},
   "source": [
    "Comparing the accuracy scores of the best random forest model using the training, validation, and test sets, there is little overfitting in the model since the training accuracy is relatively more than the validation accuracy. This could be due to having the max_depth parameter being set high enough to cause overfitting for this data set. The validation set and the test set have relatively similar accuracies, suggesting that the model generalizes well to unseen data and implies that the model's performance is stable across different datasets."
   ]
  },
  {
   "cell_type": "markdown",
   "metadata": {},
   "source": [
    "Overall, out of the three classification models (Logistic Regression, Decision Tree Classifier, and Random Forest Classifier), the Random Forest classifier has the highest accuracy (about 79.6%) out of the experimental models and also is relatively stable. There could be some slight overfitting with the model, but it is adequate enough to exceed the 75% accuracy threshold and advise Megaline customers to the correct plan 79.6% of the time. Ideally, companies would want that number to be as high as possible to maximize customer satisfaction. To get the best model, I changed some parameters such as the max_depth in the Decision Tree Classifier and the Random Forest Classifier and n_estimators in the forest classifier as well since these values are easy to change in a for loop. The other models also performed well and above the 75% threshold but the random forest is more robust than a logistic regression and less prone to overfitting than a decision tree classifier and thus a better model to choose. "
   ]
  }
 ],
 "metadata": {
  "ExecuteTimeLog": [
   {
    "duration": 1269,
    "start_time": "2024-07-24T23:50:47.683Z"
   },
   {
    "duration": 1161,
    "start_time": "2024-07-24T23:51:09.361Z"
   },
   {
    "duration": 126,
    "start_time": "2024-07-24T23:51:46.045Z"
   },
   {
    "duration": 127,
    "start_time": "2024-07-24T23:52:41.863Z"
   },
   {
    "duration": 130,
    "start_time": "2024-07-24T23:52:45.303Z"
   },
   {
    "duration": 127,
    "start_time": "2024-07-24T23:53:11.654Z"
   },
   {
    "duration": 36,
    "start_time": "2024-07-24T23:53:57.995Z"
   },
   {
    "duration": 19,
    "start_time": "2024-07-24T23:58:04.442Z"
   },
   {
    "duration": 16,
    "start_time": "2024-07-24T23:58:12.938Z"
   },
   {
    "duration": 5,
    "start_time": "2024-07-25T00:02:30.243Z"
   },
   {
    "duration": 21,
    "start_time": "2024-07-25T00:02:31.109Z"
   },
   {
    "duration": 14,
    "start_time": "2024-07-25T00:02:31.800Z"
   },
   {
    "duration": 1366,
    "start_time": "2024-07-25T00:04:14.591Z"
   },
   {
    "duration": 9,
    "start_time": "2024-07-25T00:04:23.343Z"
   },
   {
    "duration": 52,
    "start_time": "2024-07-25T00:08:48.893Z"
   },
   {
    "duration": 3,
    "start_time": "2024-07-25T00:09:10.066Z"
   },
   {
    "duration": 3,
    "start_time": "2024-07-25T00:09:16.512Z"
   },
   {
    "duration": 4,
    "start_time": "2024-07-25T00:09:18.975Z"
   },
   {
    "duration": 36,
    "start_time": "2024-07-25T00:18:57.096Z"
   },
   {
    "duration": 6,
    "start_time": "2024-07-25T00:19:11.039Z"
   },
   {
    "duration": 47,
    "start_time": "2024-07-25T00:19:13.537Z"
   },
   {
    "duration": 522,
    "start_time": "2024-07-25T00:21:34.514Z"
   },
   {
    "duration": 25,
    "start_time": "2024-07-25T00:56:04.635Z"
   },
   {
    "duration": 59,
    "start_time": "2024-07-25T01:15:48.659Z"
   },
   {
    "duration": 463,
    "start_time": "2024-07-25T01:17:56.081Z"
   },
   {
    "duration": 36,
    "start_time": "2024-07-25T01:26:08.976Z"
   },
   {
    "duration": 24,
    "start_time": "2024-07-25T01:26:20.878Z"
   },
   {
    "duration": 22,
    "start_time": "2024-07-25T01:26:29.529Z"
   },
   {
    "duration": 23,
    "start_time": "2024-07-25T01:26:55.012Z"
   },
   {
    "duration": 24,
    "start_time": "2024-07-25T01:27:19.650Z"
   },
   {
    "duration": 22,
    "start_time": "2024-07-25T01:31:37.817Z"
   },
   {
    "duration": 24,
    "start_time": "2024-07-25T01:36:37.549Z"
   },
   {
    "duration": 27,
    "start_time": "2024-07-25T01:37:57.004Z"
   },
   {
    "duration": 30,
    "start_time": "2024-07-25T01:43:36.570Z"
   },
   {
    "duration": 32,
    "start_time": "2024-07-25T01:47:04.240Z"
   },
   {
    "duration": 14,
    "start_time": "2024-07-25T01:58:58.664Z"
   },
   {
    "duration": 47,
    "start_time": "2024-07-25T02:00:43.402Z"
   },
   {
    "duration": 39,
    "start_time": "2024-07-25T02:00:57.955Z"
   },
   {
    "duration": 42,
    "start_time": "2024-07-25T02:01:19.530Z"
   },
   {
    "duration": 36,
    "start_time": "2024-07-25T02:07:00.728Z"
   },
   {
    "duration": 40,
    "start_time": "2024-07-25T02:20:27.288Z"
   },
   {
    "duration": 21,
    "start_time": "2024-07-25T02:20:44.644Z"
   },
   {
    "duration": 21,
    "start_time": "2024-07-25T02:20:55.819Z"
   },
   {
    "duration": 19,
    "start_time": "2024-07-25T02:23:19.338Z"
   },
   {
    "duration": 20,
    "start_time": "2024-07-25T02:23:24.414Z"
   },
   {
    "duration": 17,
    "start_time": "2024-07-25T02:23:27.503Z"
   },
   {
    "duration": 17,
    "start_time": "2024-07-25T02:23:35.324Z"
   },
   {
    "duration": 19,
    "start_time": "2024-07-25T02:23:39.941Z"
   },
   {
    "duration": 20,
    "start_time": "2024-07-25T02:23:44.170Z"
   },
   {
    "duration": 21,
    "start_time": "2024-07-25T02:23:49.115Z"
   },
   {
    "duration": 20,
    "start_time": "2024-07-25T02:23:55.961Z"
   },
   {
    "duration": 19,
    "start_time": "2024-07-25T02:23:59.040Z"
   },
   {
    "duration": 19,
    "start_time": "2024-07-25T02:24:01.386Z"
   },
   {
    "duration": 20,
    "start_time": "2024-07-25T02:24:04.192Z"
   },
   {
    "duration": 21,
    "start_time": "2024-07-25T02:24:11.426Z"
   },
   {
    "duration": 22,
    "start_time": "2024-07-25T02:24:18.476Z"
   },
   {
    "duration": 15,
    "start_time": "2024-07-25T02:24:22.442Z"
   },
   {
    "duration": 19,
    "start_time": "2024-07-25T02:24:52.423Z"
   },
   {
    "duration": 19,
    "start_time": "2024-07-25T02:25:36.063Z"
   },
   {
    "duration": 383,
    "start_time": "2024-07-25T02:29:11.015Z"
   },
   {
    "duration": 377,
    "start_time": "2024-07-25T02:34:08.350Z"
   },
   {
    "duration": 394,
    "start_time": "2024-07-25T02:36:28.943Z"
   },
   {
    "duration": 388,
    "start_time": "2024-07-25T02:36:37.987Z"
   },
   {
    "duration": 368,
    "start_time": "2024-07-25T02:36:43.149Z"
   },
   {
    "duration": 369,
    "start_time": "2024-07-25T02:36:52.581Z"
   },
   {
    "duration": 367,
    "start_time": "2024-07-25T02:37:04.545Z"
   },
   {
    "duration": 230,
    "start_time": "2024-07-25T02:37:27.915Z"
   },
   {
    "duration": 371,
    "start_time": "2024-07-25T02:37:41.744Z"
   },
   {
    "duration": 373,
    "start_time": "2024-07-25T02:37:52.406Z"
   },
   {
    "duration": 378,
    "start_time": "2024-07-25T02:44:48.335Z"
   },
   {
    "duration": 1171,
    "start_time": "2024-07-25T02:45:08.760Z"
   },
   {
    "duration": 1136,
    "start_time": "2024-07-25T02:45:23.561Z"
   },
   {
    "duration": 28087,
    "start_time": "2024-07-25T02:46:51.679Z"
   },
   {
    "duration": 28061,
    "start_time": "2024-07-25T02:47:37.135Z"
   },
   {
    "duration": 28994,
    "start_time": "2024-07-25T02:48:29.573Z"
   },
   {
    "duration": 44,
    "start_time": "2024-07-25T02:51:00.722Z"
   },
   {
    "duration": 27,
    "start_time": "2024-07-25T02:51:23.908Z"
   },
   {
    "duration": 26,
    "start_time": "2024-07-25T02:51:53.578Z"
   },
   {
    "duration": 28652,
    "start_time": "2024-07-25T02:54:40.697Z"
   },
   {
    "duration": 28,
    "start_time": "2024-07-25T02:55:22.414Z"
   },
   {
    "duration": 237,
    "start_time": "2024-07-25T03:06:26.683Z"
   },
   {
    "duration": 44,
    "start_time": "2024-07-25T03:08:53.870Z"
   },
   {
    "duration": 24,
    "start_time": "2024-07-25T03:10:38.146Z"
   },
   {
    "duration": 119,
    "start_time": "2024-07-25T03:15:47.052Z"
   },
   {
    "duration": 29,
    "start_time": "2024-07-25T03:15:48.861Z"
   },
   {
    "duration": 24,
    "start_time": "2024-07-25T03:16:13.976Z"
   },
   {
    "duration": 17,
    "start_time": "2024-07-25T03:16:15.992Z"
   },
   {
    "duration": 581,
    "start_time": "2024-07-25T03:16:26.106Z"
   },
   {
    "duration": 87,
    "start_time": "2024-07-25T03:16:28.653Z"
   },
   {
    "duration": 228,
    "start_time": "2024-07-25T03:16:39.231Z"
   },
   {
    "duration": 44,
    "start_time": "2024-07-25T03:16:40.969Z"
   },
   {
    "duration": 4,
    "start_time": "2024-07-25T03:22:47.558Z"
   },
   {
    "duration": 24,
    "start_time": "2024-07-25T03:23:05.939Z"
   },
   {
    "duration": 22,
    "start_time": "2024-07-25T03:23:38.739Z"
   },
   {
    "duration": 26,
    "start_time": "2024-07-25T03:23:54.212Z"
   },
   {
    "duration": 40,
    "start_time": "2024-07-25T03:30:24.437Z"
   },
   {
    "duration": 38,
    "start_time": "2024-07-25T03:30:42.304Z"
   },
   {
    "duration": 32,
    "start_time": "2024-07-25T03:30:45.632Z"
   },
   {
    "duration": 36,
    "start_time": "2024-07-25T03:31:44.615Z"
   },
   {
    "duration": 33,
    "start_time": "2024-07-25T03:34:28.682Z"
   },
   {
    "duration": 29,
    "start_time": "2024-07-25T03:34:56.226Z"
   },
   {
    "duration": 29,
    "start_time": "2024-07-25T03:35:01.300Z"
   },
   {
    "duration": 33,
    "start_time": "2024-07-25T03:35:06.904Z"
   },
   {
    "duration": 39,
    "start_time": "2024-07-25T03:38:59.182Z"
   },
   {
    "duration": 32,
    "start_time": "2024-07-25T03:39:06.325Z"
   },
   {
    "duration": 30,
    "start_time": "2024-07-25T03:39:11.103Z"
   },
   {
    "duration": 32,
    "start_time": "2024-07-25T03:39:14.839Z"
   },
   {
    "duration": 33,
    "start_time": "2024-07-25T03:39:17.559Z"
   },
   {
    "duration": 32,
    "start_time": "2024-07-25T03:39:35.014Z"
   },
   {
    "duration": 34,
    "start_time": "2024-07-25T03:39:38.557Z"
   },
   {
    "duration": 30,
    "start_time": "2024-07-25T03:39:41.284Z"
   },
   {
    "duration": 34,
    "start_time": "2024-07-25T03:39:45.656Z"
   },
   {
    "duration": 30,
    "start_time": "2024-07-25T03:39:49.393Z"
   },
   {
    "duration": 34,
    "start_time": "2024-07-25T03:39:58.119Z"
   },
   {
    "duration": 33,
    "start_time": "2024-07-25T03:40:01.683Z"
   },
   {
    "duration": 31,
    "start_time": "2024-07-25T03:40:13.081Z"
   },
   {
    "duration": 28,
    "start_time": "2024-07-25T03:40:18.455Z"
   },
   {
    "duration": 31,
    "start_time": "2024-07-25T03:40:24.329Z"
   },
   {
    "duration": 29,
    "start_time": "2024-07-25T03:40:27.834Z"
   },
   {
    "duration": 41,
    "start_time": "2024-07-25T03:40:33.795Z"
   },
   {
    "duration": 36,
    "start_time": "2024-07-25T03:40:37.055Z"
   },
   {
    "duration": 48,
    "start_time": "2024-07-25T03:40:39.492Z"
   },
   {
    "duration": 38,
    "start_time": "2024-07-25T03:40:42.906Z"
   },
   {
    "duration": 37,
    "start_time": "2024-07-25T03:40:45.364Z"
   },
   {
    "duration": 36,
    "start_time": "2024-07-25T03:40:50.782Z"
   },
   {
    "duration": 40,
    "start_time": "2024-07-25T03:40:55.536Z"
   },
   {
    "duration": 62,
    "start_time": "2024-07-25T03:41:03.646Z"
   },
   {
    "duration": 31,
    "start_time": "2024-07-25T03:49:08.942Z"
   },
   {
    "duration": 367,
    "start_time": "2024-07-25T03:51:33.007Z"
   },
   {
    "duration": 658,
    "start_time": "2024-07-25T03:51:51.543Z"
   },
   {
    "duration": 371,
    "start_time": "2024-07-25T03:54:03.262Z"
   },
   {
    "duration": 361,
    "start_time": "2024-07-25T03:54:18.656Z"
   },
   {
    "duration": 84,
    "start_time": "2024-07-25T03:57:31.881Z"
   },
   {
    "duration": 378,
    "start_time": "2024-07-25T03:57:39.925Z"
   },
   {
    "duration": 380,
    "start_time": "2024-07-25T03:58:08.071Z"
   },
   {
    "duration": 362,
    "start_time": "2024-07-25T03:58:13.594Z"
   },
   {
    "duration": 301,
    "start_time": "2024-07-25T03:58:22.012Z"
   },
   {
    "duration": 364,
    "start_time": "2024-07-25T03:58:34.584Z"
   },
   {
    "duration": 127,
    "start_time": "2024-07-25T03:58:42.085Z"
   },
   {
    "duration": 378,
    "start_time": "2024-07-25T03:58:51.531Z"
   },
   {
    "duration": 385,
    "start_time": "2024-07-25T03:59:13.984Z"
   },
   {
    "duration": 372,
    "start_time": "2024-07-25T04:00:12.646Z"
   },
   {
    "duration": 27771,
    "start_time": "2024-07-25T04:06:24.952Z"
   },
   {
    "duration": 27754,
    "start_time": "2024-07-25T04:08:28.014Z"
   },
   {
    "duration": 43692,
    "start_time": "2024-07-25T04:11:07.917Z"
   },
   {
    "duration": 44559,
    "start_time": "2024-07-25T04:12:03.707Z"
   },
   {
    "duration": 12,
    "start_time": "2024-07-25T04:14:01.602Z"
   },
   {
    "duration": 44515,
    "start_time": "2024-07-25T04:14:50.572Z"
   },
   {
    "duration": 30449,
    "start_time": "2024-07-25T04:16:45.326Z"
   },
   {
    "duration": 30594,
    "start_time": "2024-07-25T04:18:28.036Z"
   },
   {
    "duration": 168,
    "start_time": "2024-07-25T04:42:18.939Z"
   },
   {
    "duration": 162,
    "start_time": "2024-07-25T04:43:38.489Z"
   },
   {
    "duration": 35,
    "start_time": "2024-07-25T04:47:16.118Z"
   },
   {
    "duration": 34,
    "start_time": "2024-07-25T04:49:17.110Z"
   },
   {
    "duration": 1225,
    "start_time": "2024-07-25T05:10:06.632Z"
   },
   {
    "duration": 41,
    "start_time": "2024-07-25T05:10:07.860Z"
   },
   {
    "duration": 23,
    "start_time": "2024-07-25T05:10:07.904Z"
   },
   {
    "duration": 13,
    "start_time": "2024-07-25T05:10:07.932Z"
   },
   {
    "duration": 72,
    "start_time": "2024-07-25T05:10:07.948Z"
   },
   {
    "duration": 437,
    "start_time": "2024-07-25T05:10:08.024Z"
   },
   {
    "duration": 30265,
    "start_time": "2024-07-25T05:10:08.464Z"
   },
   {
    "duration": 179,
    "start_time": "2024-07-25T05:10:38.732Z"
   },
   {
    "duration": 35,
    "start_time": "2024-07-25T05:10:38.914Z"
   },
   {
    "duration": 1263,
    "start_time": "2024-07-25T07:09:56.157Z"
   },
   {
    "duration": 34,
    "start_time": "2024-07-25T07:09:57.424Z"
   },
   {
    "duration": 22,
    "start_time": "2024-07-25T07:09:57.461Z"
   },
   {
    "duration": 36,
    "start_time": "2024-07-25T07:09:57.489Z"
   },
   {
    "duration": 32,
    "start_time": "2024-07-25T07:09:57.528Z"
   },
   {
    "duration": 439,
    "start_time": "2024-07-25T07:09:57.563Z"
   },
   {
    "duration": 30562,
    "start_time": "2024-07-25T07:09:58.005Z"
   },
   {
    "duration": 179,
    "start_time": "2024-07-25T07:10:28.571Z"
   },
   {
    "duration": 34,
    "start_time": "2024-07-25T07:10:28.753Z"
   },
   {
    "duration": 1179,
    "start_time": "2024-07-25T12:22:42.497Z"
   },
   {
    "duration": 30,
    "start_time": "2024-07-25T12:22:43.680Z"
   },
   {
    "duration": 31,
    "start_time": "2024-07-25T12:22:43.713Z"
   },
   {
    "duration": 12,
    "start_time": "2024-07-25T12:22:43.747Z"
   },
   {
    "duration": 29,
    "start_time": "2024-07-25T12:22:43.763Z"
   },
   {
    "duration": 415,
    "start_time": "2024-07-25T12:22:43.795Z"
   },
   {
    "duration": 29125,
    "start_time": "2024-07-25T12:22:44.213Z"
   },
   {
    "duration": 172,
    "start_time": "2024-07-25T12:23:13.340Z"
   },
   {
    "duration": 43,
    "start_time": "2024-07-25T12:23:13.514Z"
   }
  ],
  "kernelspec": {
   "display_name": "Python 3 (ipykernel)",
   "language": "python",
   "name": "python3"
  },
  "language_info": {
   "codemirror_mode": {
    "name": "ipython",
    "version": 3
   },
   "file_extension": ".py",
   "mimetype": "text/x-python",
   "name": "python",
   "nbconvert_exporter": "python",
   "pygments_lexer": "ipython3",
   "version": "3.9.19"
  },
  "toc": {
   "base_numbering": 1,
   "nav_menu": {},
   "number_sections": true,
   "sideBar": true,
   "skip_h1_title": true,
   "title_cell": "Table of Contents",
   "title_sidebar": "Contents",
   "toc_cell": false,
   "toc_position": {},
   "toc_section_display": true,
   "toc_window_display": false
  }
 },
 "nbformat": 4,
 "nbformat_minor": 2
}
