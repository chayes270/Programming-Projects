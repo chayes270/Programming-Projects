{
 "cells": [
  {
   "cell_type": "markdown",
   "metadata": {},
   "source": [
    "# Video Game Sales Analysis \n",
    "\n",
    "## This project is will be working with the games.csv data set which contains information about many games including their name, platforms they are on, when they were released, reviews information and sales information. With this data, the goal is to determine what games to be targeted to advertise with the highest chance they will succeed. This project will be broken down into the following steps: \n",
    "###  Study general information and prepare data i.e. fixing data types and removing/filling missing values\n",
    "###  Analyze the data\n",
    "###  Prepare a user profile for each region\n",
    "###  Test Hypotheses\n",
    "### General Conclusion"
   ]
  },
  {
   "cell_type": "code",
   "execution_count": 1,
   "metadata": {},
   "outputs": [],
   "source": [
    "import pandas as pd\n",
    "import numpy as np\n",
    "from matplotlib import pyplot as plt\n",
    "import seaborn as sns\n",
    "from scipy.stats import ttest_ind"
   ]
  },
  {
   "cell_type": "markdown",
   "metadata": {},
   "source": [
    "### Study general information and prepare data i.e. fixing data types and removing/filling missing values"
   ]
  },
  {
   "cell_type": "code",
   "execution_count": 2,
   "metadata": {},
   "outputs": [
    {
     "data": {
      "text/html": [
       "<div>\n",
       "<style scoped>\n",
       "    .dataframe tbody tr th:only-of-type {\n",
       "        vertical-align: middle;\n",
       "    }\n",
       "\n",
       "    .dataframe tbody tr th {\n",
       "        vertical-align: top;\n",
       "    }\n",
       "\n",
       "    .dataframe thead th {\n",
       "        text-align: right;\n",
       "    }\n",
       "</style>\n",
       "<table border=\"1\" class=\"dataframe\">\n",
       "  <thead>\n",
       "    <tr style=\"text-align: right;\">\n",
       "      <th></th>\n",
       "      <th>Name</th>\n",
       "      <th>Platform</th>\n",
       "      <th>Year_of_Release</th>\n",
       "      <th>Genre</th>\n",
       "      <th>NA_sales</th>\n",
       "      <th>EU_sales</th>\n",
       "      <th>JP_sales</th>\n",
       "      <th>Other_sales</th>\n",
       "      <th>Critic_Score</th>\n",
       "      <th>User_Score</th>\n",
       "      <th>Rating</th>\n",
       "    </tr>\n",
       "  </thead>\n",
       "  <tbody>\n",
       "    <tr>\n",
       "      <th>0</th>\n",
       "      <td>Wii Sports</td>\n",
       "      <td>Wii</td>\n",
       "      <td>2006.0</td>\n",
       "      <td>Sports</td>\n",
       "      <td>41.36</td>\n",
       "      <td>28.96</td>\n",
       "      <td>3.77</td>\n",
       "      <td>8.45</td>\n",
       "      <td>76.0</td>\n",
       "      <td>8</td>\n",
       "      <td>E</td>\n",
       "    </tr>\n",
       "    <tr>\n",
       "      <th>1</th>\n",
       "      <td>Super Mario Bros.</td>\n",
       "      <td>NES</td>\n",
       "      <td>1985.0</td>\n",
       "      <td>Platform</td>\n",
       "      <td>29.08</td>\n",
       "      <td>3.58</td>\n",
       "      <td>6.81</td>\n",
       "      <td>0.77</td>\n",
       "      <td>NaN</td>\n",
       "      <td>NaN</td>\n",
       "      <td>NaN</td>\n",
       "    </tr>\n",
       "    <tr>\n",
       "      <th>2</th>\n",
       "      <td>Mario Kart Wii</td>\n",
       "      <td>Wii</td>\n",
       "      <td>2008.0</td>\n",
       "      <td>Racing</td>\n",
       "      <td>15.68</td>\n",
       "      <td>12.76</td>\n",
       "      <td>3.79</td>\n",
       "      <td>3.29</td>\n",
       "      <td>82.0</td>\n",
       "      <td>8.3</td>\n",
       "      <td>E</td>\n",
       "    </tr>\n",
       "    <tr>\n",
       "      <th>3</th>\n",
       "      <td>Wii Sports Resort</td>\n",
       "      <td>Wii</td>\n",
       "      <td>2009.0</td>\n",
       "      <td>Sports</td>\n",
       "      <td>15.61</td>\n",
       "      <td>10.93</td>\n",
       "      <td>3.28</td>\n",
       "      <td>2.95</td>\n",
       "      <td>80.0</td>\n",
       "      <td>8</td>\n",
       "      <td>E</td>\n",
       "    </tr>\n",
       "    <tr>\n",
       "      <th>4</th>\n",
       "      <td>Pokemon Red/Pokemon Blue</td>\n",
       "      <td>GB</td>\n",
       "      <td>1996.0</td>\n",
       "      <td>Role-Playing</td>\n",
       "      <td>11.27</td>\n",
       "      <td>8.89</td>\n",
       "      <td>10.22</td>\n",
       "      <td>1.00</td>\n",
       "      <td>NaN</td>\n",
       "      <td>NaN</td>\n",
       "      <td>NaN</td>\n",
       "    </tr>\n",
       "  </tbody>\n",
       "</table>\n",
       "</div>"
      ],
      "text/plain": [
       "                       Name Platform  Year_of_Release         Genre  NA_sales  \\\n",
       "0                Wii Sports      Wii           2006.0        Sports     41.36   \n",
       "1         Super Mario Bros.      NES           1985.0      Platform     29.08   \n",
       "2            Mario Kart Wii      Wii           2008.0        Racing     15.68   \n",
       "3         Wii Sports Resort      Wii           2009.0        Sports     15.61   \n",
       "4  Pokemon Red/Pokemon Blue       GB           1996.0  Role-Playing     11.27   \n",
       "\n",
       "   EU_sales  JP_sales  Other_sales  Critic_Score User_Score Rating  \n",
       "0     28.96      3.77         8.45          76.0          8      E  \n",
       "1      3.58      6.81         0.77           NaN        NaN    NaN  \n",
       "2     12.76      3.79         3.29          82.0        8.3      E  \n",
       "3     10.93      3.28         2.95          80.0          8      E  \n",
       "4      8.89     10.22         1.00           NaN        NaN    NaN  "
      ]
     },
     "execution_count": 2,
     "metadata": {},
     "output_type": "execute_result"
    }
   ],
   "source": [
    "# Read in data\n",
    "data = pd.read_csv('/datasets/games.csv')\n",
    "data.head()"
   ]
  },
  {
   "cell_type": "code",
   "execution_count": 3,
   "metadata": {},
   "outputs": [
    {
     "data": {
      "text/html": [
       "<div>\n",
       "<style scoped>\n",
       "    .dataframe tbody tr th:only-of-type {\n",
       "        vertical-align: middle;\n",
       "    }\n",
       "\n",
       "    .dataframe tbody tr th {\n",
       "        vertical-align: top;\n",
       "    }\n",
       "\n",
       "    .dataframe thead th {\n",
       "        text-align: right;\n",
       "    }\n",
       "</style>\n",
       "<table border=\"1\" class=\"dataframe\">\n",
       "  <thead>\n",
       "    <tr style=\"text-align: right;\">\n",
       "      <th></th>\n",
       "      <th>name</th>\n",
       "      <th>platform</th>\n",
       "      <th>year_of_release</th>\n",
       "      <th>genre</th>\n",
       "      <th>na_sales</th>\n",
       "      <th>eu_sales</th>\n",
       "      <th>jp_sales</th>\n",
       "      <th>other_sales</th>\n",
       "      <th>critic_score</th>\n",
       "      <th>user_score</th>\n",
       "      <th>rating</th>\n",
       "    </tr>\n",
       "  </thead>\n",
       "  <tbody>\n",
       "    <tr>\n",
       "      <th>0</th>\n",
       "      <td>Wii Sports</td>\n",
       "      <td>Wii</td>\n",
       "      <td>2006.0</td>\n",
       "      <td>Sports</td>\n",
       "      <td>41.36</td>\n",
       "      <td>28.96</td>\n",
       "      <td>3.77</td>\n",
       "      <td>8.45</td>\n",
       "      <td>76.0</td>\n",
       "      <td>8</td>\n",
       "      <td>E</td>\n",
       "    </tr>\n",
       "    <tr>\n",
       "      <th>1</th>\n",
       "      <td>Super Mario Bros.</td>\n",
       "      <td>NES</td>\n",
       "      <td>1985.0</td>\n",
       "      <td>Platform</td>\n",
       "      <td>29.08</td>\n",
       "      <td>3.58</td>\n",
       "      <td>6.81</td>\n",
       "      <td>0.77</td>\n",
       "      <td>NaN</td>\n",
       "      <td>NaN</td>\n",
       "      <td>NaN</td>\n",
       "    </tr>\n",
       "    <tr>\n",
       "      <th>2</th>\n",
       "      <td>Mario Kart Wii</td>\n",
       "      <td>Wii</td>\n",
       "      <td>2008.0</td>\n",
       "      <td>Racing</td>\n",
       "      <td>15.68</td>\n",
       "      <td>12.76</td>\n",
       "      <td>3.79</td>\n",
       "      <td>3.29</td>\n",
       "      <td>82.0</td>\n",
       "      <td>8.3</td>\n",
       "      <td>E</td>\n",
       "    </tr>\n",
       "    <tr>\n",
       "      <th>3</th>\n",
       "      <td>Wii Sports Resort</td>\n",
       "      <td>Wii</td>\n",
       "      <td>2009.0</td>\n",
       "      <td>Sports</td>\n",
       "      <td>15.61</td>\n",
       "      <td>10.93</td>\n",
       "      <td>3.28</td>\n",
       "      <td>2.95</td>\n",
       "      <td>80.0</td>\n",
       "      <td>8</td>\n",
       "      <td>E</td>\n",
       "    </tr>\n",
       "    <tr>\n",
       "      <th>4</th>\n",
       "      <td>Pokemon Red/Pokemon Blue</td>\n",
       "      <td>GB</td>\n",
       "      <td>1996.0</td>\n",
       "      <td>Role-Playing</td>\n",
       "      <td>11.27</td>\n",
       "      <td>8.89</td>\n",
       "      <td>10.22</td>\n",
       "      <td>1.00</td>\n",
       "      <td>NaN</td>\n",
       "      <td>NaN</td>\n",
       "      <td>NaN</td>\n",
       "    </tr>\n",
       "  </tbody>\n",
       "</table>\n",
       "</div>"
      ],
      "text/plain": [
       "                       name platform  year_of_release         genre  na_sales  \\\n",
       "0                Wii Sports      Wii           2006.0        Sports     41.36   \n",
       "1         Super Mario Bros.      NES           1985.0      Platform     29.08   \n",
       "2            Mario Kart Wii      Wii           2008.0        Racing     15.68   \n",
       "3         Wii Sports Resort      Wii           2009.0        Sports     15.61   \n",
       "4  Pokemon Red/Pokemon Blue       GB           1996.0  Role-Playing     11.27   \n",
       "\n",
       "   eu_sales  jp_sales  other_sales  critic_score user_score rating  \n",
       "0     28.96      3.77         8.45          76.0          8      E  \n",
       "1      3.58      6.81         0.77           NaN        NaN    NaN  \n",
       "2     12.76      3.79         3.29          82.0        8.3      E  \n",
       "3     10.93      3.28         2.95          80.0          8      E  \n",
       "4      8.89     10.22         1.00           NaN        NaN    NaN  "
      ]
     },
     "execution_count": 3,
     "metadata": {},
     "output_type": "execute_result"
    }
   ],
   "source": [
    "# Fix column headings\n",
    "data.columns = data.columns.str.lower()\n",
    "data.head()"
   ]
  },
  {
   "cell_type": "code",
   "execution_count": 4,
   "metadata": {},
   "outputs": [
    {
     "name": "stdout",
     "output_type": "stream",
     "text": [
      "<class 'pandas.core.frame.DataFrame'>\n",
      "RangeIndex: 16715 entries, 0 to 16714\n",
      "Data columns (total 11 columns):\n",
      " #   Column           Non-Null Count  Dtype  \n",
      "---  ------           --------------  -----  \n",
      " 0   name             16713 non-null  object \n",
      " 1   platform         16715 non-null  object \n",
      " 2   year_of_release  16446 non-null  float64\n",
      " 3   genre            16713 non-null  object \n",
      " 4   na_sales         16715 non-null  float64\n",
      " 5   eu_sales         16715 non-null  float64\n",
      " 6   jp_sales         16715 non-null  float64\n",
      " 7   other_sales      16715 non-null  float64\n",
      " 8   critic_score     8137 non-null   float64\n",
      " 9   user_score       10014 non-null  object \n",
      " 10  rating           9949 non-null   object \n",
      "dtypes: float64(6), object(5)\n",
      "memory usage: 1.4+ MB\n"
     ]
    },
    {
     "data": {
      "text/plain": [
       "name               0.000120\n",
       "platform           0.000000\n",
       "year_of_release    0.016093\n",
       "genre              0.000120\n",
       "na_sales           0.000000\n",
       "eu_sales           0.000000\n",
       "jp_sales           0.000000\n",
       "other_sales        0.000000\n",
       "critic_score       0.513192\n",
       "user_score         0.400897\n",
       "rating             0.404786\n",
       "dtype: float64"
      ]
     },
     "execution_count": 4,
     "metadata": {},
     "output_type": "execute_result"
    }
   ],
   "source": [
    "# General information of data set\n",
    "data.info()\n",
    "data.isnull().sum()/len(data)"
   ]
  },
  {
   "cell_type": "markdown",
   "metadata": {},
   "source": [
    "The missing data in critic_score, user_score, rating are account for at least 40%-50% of all rows."
   ]
  },
  {
   "cell_type": "code",
   "execution_count": 5,
   "metadata": {},
   "outputs": [
    {
     "name": "stdout",
     "output_type": "stream",
     "text": [
      "<class 'pandas.core.frame.DataFrame'>\n",
      "Int64Index: 16444 entries, 0 to 16714\n",
      "Data columns (total 11 columns):\n",
      " #   Column           Non-Null Count  Dtype  \n",
      "---  ------           --------------  -----  \n",
      " 0   name             16444 non-null  object \n",
      " 1   platform         16444 non-null  object \n",
      " 2   year_of_release  16444 non-null  float64\n",
      " 3   genre            16444 non-null  object \n",
      " 4   na_sales         16444 non-null  float64\n",
      " 5   eu_sales         16444 non-null  float64\n",
      " 6   jp_sales         16444 non-null  float64\n",
      " 7   other_sales      16444 non-null  float64\n",
      " 8   critic_score     7983 non-null   float64\n",
      " 9   user_score       9839 non-null   object \n",
      " 10  rating           16444 non-null  object \n",
      "dtypes: float64(6), object(5)\n",
      "memory usage: 1.5+ MB\n"
     ]
    },
    {
     "data": {
      "text/plain": [
       "name               0.000000\n",
       "platform           0.000000\n",
       "year_of_release    0.000000\n",
       "genre              0.000000\n",
       "na_sales           0.000000\n",
       "eu_sales           0.000000\n",
       "jp_sales           0.000000\n",
       "other_sales        0.000000\n",
       "critic_score       0.514534\n",
       "user_score         0.401666\n",
       "rating             0.000000\n",
       "dtype: float64"
      ]
     },
     "execution_count": 5,
     "metadata": {},
     "output_type": "execute_result"
    }
   ],
   "source": [
    "# Filling missing values in rating column and removing missing values in the name, year_of_release and genre column\n",
    "data['rating'].fillna('Unknown', inplace=True)\n",
    "data.dropna(subset = ['name', 'genre', 'year_of_release'], inplace=True)\n",
    "data.info()\n",
    "data.isnull().sum()/len(data)"
   ]
  },
  {
   "cell_type": "markdown",
   "metadata": {},
   "source": [
    "Missing names in the data set could be due to user error when inputing the games into a table or old games do not have complete information. Missing genres could be due to the genre being ambiguous or the genre was deemed unimportant to add. Missing ratings could be due to the game not being in the ESRB catalog for rating. Here I replaced the missing values with \"Unknown\" for the rating column and removed the few rows in name, genre and year_of_release columns with missing values. "
   ]
  },
  {
   "cell_type": "code",
   "execution_count": 6,
   "metadata": {},
   "outputs": [
    {
     "name": "stdout",
     "output_type": "stream",
     "text": [
      "<class 'pandas.core.frame.DataFrame'>\n",
      "Int64Index: 16444 entries, 0 to 16714\n",
      "Data columns (total 11 columns):\n",
      " #   Column           Non-Null Count  Dtype  \n",
      "---  ------           --------------  -----  \n",
      " 0   name             16444 non-null  object \n",
      " 1   platform         16444 non-null  object \n",
      " 2   year_of_release  16444 non-null  int64  \n",
      " 3   genre            16444 non-null  object \n",
      " 4   na_sales         16444 non-null  float64\n",
      " 5   eu_sales         16444 non-null  float64\n",
      " 6   jp_sales         16444 non-null  float64\n",
      " 7   other_sales      16444 non-null  float64\n",
      " 8   critic_score     7983 non-null   float64\n",
      " 9   user_score       9839 non-null   object \n",
      " 10  rating           16444 non-null  object \n",
      "dtypes: float64(5), int64(1), object(5)\n",
      "memory usage: 1.5+ MB\n"
     ]
    }
   ],
   "source": [
    "# Display info of dataframe after fixing year_of_release datatype\n",
    "data['year_of_release'] = data['year_of_release'].astype(int) #casting the float mean years as int (ex. 1998.7382 will become 1998)\n",
    "data.info()"
   ]
  },
  {
   "cell_type": "markdown",
   "metadata": {},
   "source": [
    "Missing years could be due to incomplete data entries for certain games. I decided the best way to handle missing years is to drop the rows since it makes up a small portion of the dataframe."
   ]
  },
  {
   "cell_type": "code",
   "execution_count": 7,
   "metadata": {},
   "outputs": [],
   "source": [
    "# Replacing 'tbd' values to NaN to replace at a later step\n",
    "data['user_score'].replace('tbd', np.nan, inplace=True)"
   ]
  },
  {
   "cell_type": "markdown",
   "metadata": {},
   "source": [
    "Here I am treating 'tbd' as essentially a missing value so at a later step I can decide what action to take."
   ]
  },
  {
   "cell_type": "code",
   "execution_count": 8,
   "metadata": {},
   "outputs": [
    {
     "name": "stdout",
     "output_type": "stream",
     "text": [
      "<class 'pandas.core.frame.DataFrame'>\n",
      "Int64Index: 16444 entries, 0 to 16714\n",
      "Data columns (total 11 columns):\n",
      " #   Column           Non-Null Count  Dtype  \n",
      "---  ------           --------------  -----  \n",
      " 0   name             16444 non-null  object \n",
      " 1   platform         16444 non-null  object \n",
      " 2   year_of_release  16444 non-null  int64  \n",
      " 3   genre            16444 non-null  object \n",
      " 4   na_sales         16444 non-null  float64\n",
      " 5   eu_sales         16444 non-null  float64\n",
      " 6   jp_sales         16444 non-null  float64\n",
      " 7   other_sales      16444 non-null  float64\n",
      " 8   critic_score     7983 non-null   float64\n",
      " 9   user_score       7463 non-null   float64\n",
      " 10  rating           16444 non-null  object \n",
      "dtypes: float64(6), int64(1), object(4)\n",
      "memory usage: 1.5+ MB\n"
     ]
    }
   ],
   "source": [
    "# Fixing data type for user_score column\n",
    "data['user_score'] = pd.to_numeric(data['user_score'])\n",
    "data.info()"
   ]
  },
  {
   "cell_type": "markdown",
   "metadata": {},
   "source": [
    "After removing 'tbd' from the column, the column can now be changed to a float64 data types since all user scores should be decimal numbers"
   ]
  },
  {
   "cell_type": "markdown",
   "metadata": {},
   "source": [
    "For user_score and critic_score, there is not necessarily a perfect way to deal with these scores, so I have decided to leave the missing values as is. Missing critic values could be due to several reasons such as some games do not have ratings for certain platforms or regions, less popular games never were popular enough to get a score, or user generated data has been hidden for privacy reasons. Missing user scores could be due to the same reasons as critic score."
   ]
  },
  {
   "cell_type": "code",
   "execution_count": 9,
   "metadata": {},
   "outputs": [
    {
     "name": "stdout",
     "output_type": "stream",
     "text": [
      "<class 'pandas.core.frame.DataFrame'>\n",
      "Int64Index: 16444 entries, 0 to 16714\n",
      "Data columns (total 11 columns):\n",
      " #   Column           Non-Null Count  Dtype  \n",
      "---  ------           --------------  -----  \n",
      " 0   name             16444 non-null  object \n",
      " 1   platform         16444 non-null  object \n",
      " 2   year_of_release  16444 non-null  int64  \n",
      " 3   genre            16444 non-null  object \n",
      " 4   na_sales         16444 non-null  float64\n",
      " 5   eu_sales         16444 non-null  float64\n",
      " 6   jp_sales         16444 non-null  float64\n",
      " 7   other_sales      16444 non-null  float64\n",
      " 8   critic_score     7983 non-null   float64\n",
      " 9   user_score       7463 non-null   float64\n",
      " 10  rating           16444 non-null  object \n",
      "dtypes: float64(6), int64(1), object(4)\n",
      "memory usage: 1.5+ MB\n"
     ]
    }
   ],
   "source": [
    "# All rows contain the appropriate data type\n",
    "data.info()"
   ]
  },
  {
   "cell_type": "code",
   "execution_count": 10,
   "metadata": {},
   "outputs": [],
   "source": [
    "# Summing sales from all regions and appending those values to the data frame in a new column called 'total_sales'\n",
    "data.loc[:, 'total_sales'] = data[['na_sales', 'eu_sales', 'jp_sales', 'other_sales']].sum(axis=1)"
   ]
  },
  {
   "cell_type": "code",
   "execution_count": 11,
   "metadata": {},
   "outputs": [
    {
     "data": {
      "text/html": [
       "<div>\n",
       "<style scoped>\n",
       "    .dataframe tbody tr th:only-of-type {\n",
       "        vertical-align: middle;\n",
       "    }\n",
       "\n",
       "    .dataframe tbody tr th {\n",
       "        vertical-align: top;\n",
       "    }\n",
       "\n",
       "    .dataframe thead th {\n",
       "        text-align: right;\n",
       "    }\n",
       "</style>\n",
       "<table border=\"1\" class=\"dataframe\">\n",
       "  <thead>\n",
       "    <tr style=\"text-align: right;\">\n",
       "      <th></th>\n",
       "      <th>name</th>\n",
       "      <th>platform</th>\n",
       "      <th>year_of_release</th>\n",
       "      <th>genre</th>\n",
       "      <th>na_sales</th>\n",
       "      <th>eu_sales</th>\n",
       "      <th>jp_sales</th>\n",
       "      <th>other_sales</th>\n",
       "      <th>critic_score</th>\n",
       "      <th>user_score</th>\n",
       "      <th>rating</th>\n",
       "      <th>total_sales</th>\n",
       "    </tr>\n",
       "  </thead>\n",
       "  <tbody>\n",
       "    <tr>\n",
       "      <th>0</th>\n",
       "      <td>Wii Sports</td>\n",
       "      <td>Wii</td>\n",
       "      <td>2006</td>\n",
       "      <td>Sports</td>\n",
       "      <td>41.36</td>\n",
       "      <td>28.96</td>\n",
       "      <td>3.77</td>\n",
       "      <td>8.45</td>\n",
       "      <td>76.0</td>\n",
       "      <td>8.0</td>\n",
       "      <td>E</td>\n",
       "      <td>82.54</td>\n",
       "    </tr>\n",
       "    <tr>\n",
       "      <th>1</th>\n",
       "      <td>Super Mario Bros.</td>\n",
       "      <td>NES</td>\n",
       "      <td>1985</td>\n",
       "      <td>Platform</td>\n",
       "      <td>29.08</td>\n",
       "      <td>3.58</td>\n",
       "      <td>6.81</td>\n",
       "      <td>0.77</td>\n",
       "      <td>NaN</td>\n",
       "      <td>NaN</td>\n",
       "      <td>Unknown</td>\n",
       "      <td>40.24</td>\n",
       "    </tr>\n",
       "    <tr>\n",
       "      <th>2</th>\n",
       "      <td>Mario Kart Wii</td>\n",
       "      <td>Wii</td>\n",
       "      <td>2008</td>\n",
       "      <td>Racing</td>\n",
       "      <td>15.68</td>\n",
       "      <td>12.76</td>\n",
       "      <td>3.79</td>\n",
       "      <td>3.29</td>\n",
       "      <td>82.0</td>\n",
       "      <td>8.3</td>\n",
       "      <td>E</td>\n",
       "      <td>35.52</td>\n",
       "    </tr>\n",
       "    <tr>\n",
       "      <th>3</th>\n",
       "      <td>Wii Sports Resort</td>\n",
       "      <td>Wii</td>\n",
       "      <td>2009</td>\n",
       "      <td>Sports</td>\n",
       "      <td>15.61</td>\n",
       "      <td>10.93</td>\n",
       "      <td>3.28</td>\n",
       "      <td>2.95</td>\n",
       "      <td>80.0</td>\n",
       "      <td>8.0</td>\n",
       "      <td>E</td>\n",
       "      <td>32.77</td>\n",
       "    </tr>\n",
       "    <tr>\n",
       "      <th>4</th>\n",
       "      <td>Pokemon Red/Pokemon Blue</td>\n",
       "      <td>GB</td>\n",
       "      <td>1996</td>\n",
       "      <td>Role-Playing</td>\n",
       "      <td>11.27</td>\n",
       "      <td>8.89</td>\n",
       "      <td>10.22</td>\n",
       "      <td>1.00</td>\n",
       "      <td>NaN</td>\n",
       "      <td>NaN</td>\n",
       "      <td>Unknown</td>\n",
       "      <td>31.38</td>\n",
       "    </tr>\n",
       "  </tbody>\n",
       "</table>\n",
       "</div>"
      ],
      "text/plain": [
       "                       name platform  year_of_release         genre  na_sales  \\\n",
       "0                Wii Sports      Wii             2006        Sports     41.36   \n",
       "1         Super Mario Bros.      NES             1985      Platform     29.08   \n",
       "2            Mario Kart Wii      Wii             2008        Racing     15.68   \n",
       "3         Wii Sports Resort      Wii             2009        Sports     15.61   \n",
       "4  Pokemon Red/Pokemon Blue       GB             1996  Role-Playing     11.27   \n",
       "\n",
       "   eu_sales  jp_sales  other_sales  critic_score  user_score   rating  \\\n",
       "0     28.96      3.77         8.45          76.0         8.0        E   \n",
       "1      3.58      6.81         0.77           NaN         NaN  Unknown   \n",
       "2     12.76      3.79         3.29          82.0         8.3        E   \n",
       "3     10.93      3.28         2.95          80.0         8.0        E   \n",
       "4      8.89     10.22         1.00           NaN         NaN  Unknown   \n",
       "\n",
       "   total_sales  \n",
       "0        82.54  \n",
       "1        40.24  \n",
       "2        35.52  \n",
       "3        32.77  \n",
       "4        31.38  "
      ]
     },
     "execution_count": 11,
     "metadata": {},
     "output_type": "execute_result"
    }
   ],
   "source": [
    "data.head()"
   ]
  },
  {
   "cell_type": "markdown",
   "metadata": {},
   "source": [
    "### Analyze the Data"
   ]
  },
  {
   "cell_type": "code",
   "execution_count": 12,
   "metadata": {},
   "outputs": [
    {
     "data": {
      "image/png": "[encoded data removed]",
      "text/plain": [
       "<Figure size 1400x700 with 1 Axes>"
      ]
     },
     "metadata": {},
     "output_type": "display_data"
    }
   ],
   "source": [
    "# Analyzing how many games were released in different years\n",
    "games_each_year = data.groupby(['year_of_release'])['name'].count()\n",
    "\n",
    "# Plot the number of games released each year\n",
    "plt.figure(figsize=(14, 7))\n",
    "sns.barplot(x=games_each_year.index, y=games_each_year.values)\n",
    "plt.title('Number of Games Each Year')\n",
    "plt.xlabel('Year')\n",
    "plt.ylabel('Number of Games')\n",
    "plt.xticks(rotation=90)\n",
    "plt.show()"
   ]
  },
  {
   "cell_type": "markdown",
   "metadata": {},
   "source": [
    "Each year from 1980 to 1993 have less than 100 games per year while 1994 onwards has at least 121 games released per year with a max number of games in 2008 with 1524 games. So they data from 1980-1993 is less significant in terms of the number of games released per year."
   ]
  },
  {
   "cell_type": "code",
   "execution_count": 13,
   "metadata": {},
   "outputs": [
    {
     "data": {
      "text/plain": [
       "platform\n",
       "PS2     1233.56\n",
       "X360     961.24\n",
       "PS3      931.34\n",
       "Wii      891.18\n",
       "DS       802.78\n",
       "PS       727.58\n",
       "PS4      314.14\n",
       "GBA      312.88\n",
       "PSP      289.53\n",
       "3DS      257.81\n",
       "Name: total_sales, dtype: float64"
      ]
     },
     "execution_count": 13,
     "metadata": {},
     "output_type": "execute_result"
    }
   ],
   "source": [
    "# Determining platforms with with the greatest total sales\n",
    "platform_sales = data.groupby(['platform'])['total_sales'].sum().sort_values(ascending=False)\n",
    "platform_sales.head(10)"
   ]
  },
  {
   "cell_type": "markdown",
   "metadata": {},
   "source": [
    "The top 10 best selling platforms are the PS2, X360, PS3, Wii, DS, PS, PS4, GBA, PSP and 3DS."
   ]
  },
  {
   "cell_type": "code",
   "execution_count": 14,
   "metadata": {},
   "outputs": [
    {
     "name": "stdout",
     "output_type": "stream",
     "text": [
      "Top 10 platforms: platform\n",
      "PS2     1233.56\n",
      "X360     961.24\n",
      "PS3      931.34\n",
      "Wii      891.18\n",
      "DS       802.78\n",
      "PS       727.58\n",
      "PS4      314.14\n",
      "GBA      312.88\n",
      "PSP      289.53\n",
      "3DS      257.81\n",
      "Name: total_sales, dtype: float64\n",
      "\n",
      "Sales_by_year:\n",
      "platform           3DS      DS    GBA      PS     PS2     PS3     PS4    PSP  \\\n",
      "year_of_release                                                                \n",
      "1985              0.00    0.02   0.00    0.00    0.00    0.00    0.00   0.00   \n",
      "1994              0.00    0.00   0.00    6.03    0.00    0.00    0.00   0.00   \n",
      "1995              0.00    0.00   0.00   35.96    0.00    0.00    0.00   0.00   \n",
      "1996              0.00    0.00   0.00   94.70    0.00    0.00    0.00   0.00   \n",
      "1997              0.00    0.00   0.00  136.17    0.00    0.00    0.00   0.00   \n",
      "1998              0.00    0.00   0.00  169.49    0.00    0.00    0.00   0.00   \n",
      "1999              0.00    0.00   0.00  144.53    0.00    0.00    0.00   0.00   \n",
      "2000              0.00    0.00   0.07   96.37   39.17    0.00    0.00   0.00   \n",
      "2001              0.00    0.00  61.53   35.59  166.43    0.00    0.00   0.00   \n",
      "2002              0.00    0.00  74.16    6.67  205.38    0.00    0.00   0.00   \n",
      "2003              0.00    0.00  56.67    2.07  184.31    0.00    0.00   0.00   \n",
      "2004              0.00   17.27  77.91    0.00  211.81    0.00    0.00   7.06   \n",
      "2005              0.00  130.14  33.86    0.00  160.66    0.00    0.00  43.84   \n",
      "2006              0.00  119.81   5.28    0.00  103.42   20.96    0.00  55.32   \n",
      "2007              0.00  146.94   3.40    0.00   75.99   73.19    0.00  46.93   \n",
      "2008              0.00  145.31   0.00    0.00   53.90  118.52    0.00  34.55   \n",
      "2009              0.00  119.54   0.00    0.00   26.40  130.93    0.00  37.78   \n",
      "2010              0.00   85.02   0.00    0.00    5.64  142.17    0.00  35.04   \n",
      "2011             63.20   26.18   0.00    0.00    0.45  156.78    0.00  17.82   \n",
      "2012             51.36   11.01   0.00    0.00    0.00  107.36    0.00   7.69   \n",
      "2013             56.57    1.54   0.00    0.00    0.00  113.25   25.99   3.14   \n",
      "2014             43.76    0.00   0.00    0.00    0.00   47.76  100.00   0.24   \n",
      "2015             27.78    0.00   0.00    0.00    0.00   16.82  118.90   0.12   \n",
      "2016             15.14    0.00   0.00    0.00    0.00    3.60   69.25   0.00   \n",
      "\n",
      "platform            Wii    X360  \n",
      "year_of_release                  \n",
      "1985               0.00    0.00  \n",
      "1994               0.00    0.00  \n",
      "1995               0.00    0.00  \n",
      "1996               0.00    0.00  \n",
      "1997               0.00    0.00  \n",
      "1998               0.00    0.00  \n",
      "1999               0.00    0.00  \n",
      "2000               0.00    0.00  \n",
      "2001               0.00    0.00  \n",
      "2002               0.00    0.00  \n",
      "2003               0.00    0.00  \n",
      "2004               0.00    0.00  \n",
      "2005               0.00    8.25  \n",
      "2006             137.15   51.62  \n",
      "2007             152.77   95.41  \n",
      "2008             171.32  135.26  \n",
      "2009             206.97  120.29  \n",
      "2010             127.95  170.03  \n",
      "2011              59.65  143.84  \n",
      "2012              21.71   99.74  \n",
      "2013               8.59   88.58  \n",
      "2014               3.75   34.74  \n",
      "2015               1.14   11.96  \n",
      "2016               0.18    1.52  \n",
      "Obsolete platforms: Index(['DS', 'GBA', 'PS', 'PS2', 'PSP'], dtype='object', name='platform')\n",
      "\n",
      "Average platform lifespan in years: 7.612903225806452\n"
     ]
    }
   ],
   "source": [
    "# Getting the top ten platforms\n",
    "top_10_plat = platform_sales.head(10)\n",
    "\n",
    "# Creates table with sales information for every platform for every year found in the dataset\n",
    "sales_by_year = data[data['platform'].isin(top_10_plat.index)].groupby(['year_of_release', 'platform'])['total_sales'].sum().unstack().fillna(0)\n",
    "\n",
    "# Gets latest year (2016)\n",
    "latest_year = data['year_of_release'].max()\n",
    "\n",
    "# Finds platforms that use to be popular but are now obsolete (no recent sales)\n",
    "obsolete_platforms = sales_by_year.columns[sales_by_year.iloc[-1] == 0]\n",
    "\n",
    "# Determining the average lifespan for all platforms\n",
    "platform_lifespan = data.groupby('platform')['year_of_release'].agg(['min', 'max'])\n",
    "platform_lifespan['lifespan'] = platform_lifespan['max'] - platform_lifespan['min']\n",
    "\n",
    "average_lifespan = platform_lifespan['lifespan'].mean()\n",
    "\n",
    "# Displaying the data\n",
    "print(\"Top 10 platforms:\", top_10_plat)\n",
    "print()\n",
    "print(\"Sales_by_year:\")\n",
    "print(sales_by_year)\n",
    "print(\"Obsolete platforms:\", obsolete_platforms)\n",
    "print()\n",
    "print(\"Average platform lifespan in years:\", average_lifespan)"
   ]
  },
  {
   "cell_type": "markdown",
   "metadata": {},
   "source": [
    "The platforms DS, GBA, PS, PS2 and PSP do not have sales for the most recent year. They were all popular for about 8 years during their prime. In fact, the average lifespan of these top 10 platforms is 7.612903225806452 years."
   ]
  },
  {
   "cell_type": "code",
   "execution_count": 15,
   "metadata": {},
   "outputs": [
    {
     "data": {
      "image/png": "[encoded data removed]",
      "text/plain": [
       "<Figure size 1400x800 with 1 Axes>"
      ]
     },
     "metadata": {},
     "output_type": "display_data"
    }
   ],
   "source": [
    "# Plot sales distribution by year for top platforms\n",
    "plt.figure(figsize=(14, 8))\n",
    "for platform in top_10_plat.index:\n",
    "    plt.plot(sales_by_year.index, sales_by_year[platform], label=platform)\n",
    "\n",
    "plt.title('Sales Distribution by Year for Top Platforms')\n",
    "plt.xlabel('Year of Release')\n",
    "plt.ylabel('Total Sales (in millions)')\n",
    "plt.legend()\n",
    "plt.grid(True)\n",
    "plt.show()"
   ]
  },
  {
   "cell_type": "markdown",
   "metadata": {},
   "source": [
    "Each console has a distinct rise, peak, and fall in popularity. Some consoles are popular for about 6-7 years such as the GBA and others like the PS2 can be popular for up to 10 years."
   ]
  },
  {
   "cell_type": "markdown",
   "metadata": {},
   "source": [
    "Based on the data from previous steps, I have determined to only take data from 2014 and onwards to accurately predict trends for the upcoming 2017 year."
   ]
  },
  {
   "cell_type": "code",
   "execution_count": 16,
   "metadata": {},
   "outputs": [
    {
     "name": "stdout",
     "output_type": "stream",
     "text": [
      "<class 'pandas.core.frame.DataFrame'>\n",
      "Int64Index: 1689 entries, 31 to 16714\n",
      "Data columns (total 12 columns):\n",
      " #   Column           Non-Null Count  Dtype  \n",
      "---  ------           --------------  -----  \n",
      " 0   name             1689 non-null   object \n",
      " 1   platform         1689 non-null   object \n",
      " 2   year_of_release  1689 non-null   int64  \n",
      " 3   genre            1689 non-null   object \n",
      " 4   na_sales         1689 non-null   float64\n",
      " 5   eu_sales         1689 non-null   float64\n",
      " 6   jp_sales         1689 non-null   float64\n",
      " 7   other_sales      1689 non-null   float64\n",
      " 8   critic_score     718 non-null    float64\n",
      " 9   user_score       888 non-null    float64\n",
      " 10  rating           1689 non-null   object \n",
      " 11  total_sales      1689 non-null   float64\n",
      "dtypes: float64(7), int64(1), object(4)\n",
      "memory usage: 171.5+ KB\n"
     ]
    }
   ],
   "source": [
    "# New data will contain information for games released after 2013\n",
    "new_data = data[data['year_of_release'] > 2013]\n",
    "new_data.info()"
   ]
  },
  {
   "cell_type": "code",
   "execution_count": 17,
   "metadata": {},
   "outputs": [
    {
     "name": "stdout",
     "output_type": "stream",
     "text": [
      "Platforms leading by sales: platform\n",
      "PS4     69.25\n",
      "XOne    26.15\n",
      "3DS     15.14\n",
      "PC       5.25\n",
      "WiiU     4.60\n",
      "PSV      4.25\n",
      "PS3      3.60\n",
      "X360     1.52\n",
      "Wii      0.18\n",
      "Name: total_sales, dtype: float64\n"
     ]
    }
   ],
   "source": [
    "# Determining leading platforms in the most recent year\n",
    "latest_sales_by_platform = new_data[new_data['year_of_release'] == new_data['year_of_release'].max()].groupby('platform')['total_sales'].sum().sort_values(ascending=False)\n",
    "\n",
    "print(\"Platforms leading by sales:\", latest_sales_by_platform)"
   ]
  },
  {
   "cell_type": "code",
   "execution_count": 18,
   "metadata": {},
   "outputs": [
    {
     "data": {
      "text/html": [
       "<div>\n",
       "<style scoped>\n",
       "    .dataframe tbody tr th:only-of-type {\n",
       "        vertical-align: middle;\n",
       "    }\n",
       "\n",
       "    .dataframe tbody tr th {\n",
       "        vertical-align: top;\n",
       "    }\n",
       "\n",
       "    .dataframe thead th {\n",
       "        text-align: right;\n",
       "    }\n",
       "</style>\n",
       "<table border=\"1\" class=\"dataframe\">\n",
       "  <thead>\n",
       "    <tr style=\"text-align: right;\">\n",
       "      <th>platform</th>\n",
       "      <th>3DS</th>\n",
       "      <th>PC</th>\n",
       "      <th>PS3</th>\n",
       "      <th>PS4</th>\n",
       "      <th>PSP</th>\n",
       "      <th>PSV</th>\n",
       "      <th>Wii</th>\n",
       "      <th>WiiU</th>\n",
       "      <th>X360</th>\n",
       "      <th>XOne</th>\n",
       "    </tr>\n",
       "    <tr>\n",
       "      <th>year_of_release</th>\n",
       "      <th></th>\n",
       "      <th></th>\n",
       "      <th></th>\n",
       "      <th></th>\n",
       "      <th></th>\n",
       "      <th></th>\n",
       "      <th></th>\n",
       "      <th></th>\n",
       "      <th></th>\n",
       "      <th></th>\n",
       "    </tr>\n",
       "  </thead>\n",
       "  <tbody>\n",
       "    <tr>\n",
       "      <th>2014</th>\n",
       "      <td>43.76</td>\n",
       "      <td>13.28</td>\n",
       "      <td>47.76</td>\n",
       "      <td>100.00</td>\n",
       "      <td>0.24</td>\n",
       "      <td>11.90</td>\n",
       "      <td>3.75</td>\n",
       "      <td>22.03</td>\n",
       "      <td>34.74</td>\n",
       "      <td>54.07</td>\n",
       "    </tr>\n",
       "    <tr>\n",
       "      <th>2015</th>\n",
       "      <td>27.78</td>\n",
       "      <td>8.52</td>\n",
       "      <td>16.82</td>\n",
       "      <td>118.90</td>\n",
       "      <td>0.12</td>\n",
       "      <td>6.25</td>\n",
       "      <td>1.14</td>\n",
       "      <td>16.35</td>\n",
       "      <td>11.96</td>\n",
       "      <td>60.14</td>\n",
       "    </tr>\n",
       "    <tr>\n",
       "      <th>2016</th>\n",
       "      <td>15.14</td>\n",
       "      <td>5.25</td>\n",
       "      <td>3.60</td>\n",
       "      <td>69.25</td>\n",
       "      <td>0.00</td>\n",
       "      <td>4.25</td>\n",
       "      <td>0.18</td>\n",
       "      <td>4.60</td>\n",
       "      <td>1.52</td>\n",
       "      <td>26.15</td>\n",
       "    </tr>\n",
       "  </tbody>\n",
       "</table>\n",
       "</div>"
      ],
      "text/plain": [
       "platform           3DS     PC    PS3     PS4   PSP    PSV   Wii   WiiU   X360  \\\n",
       "year_of_release                                                                 \n",
       "2014             43.76  13.28  47.76  100.00  0.24  11.90  3.75  22.03  34.74   \n",
       "2015             27.78   8.52  16.82  118.90  0.12   6.25  1.14  16.35  11.96   \n",
       "2016             15.14   5.25   3.60   69.25  0.00   4.25  0.18   4.60   1.52   \n",
       "\n",
       "platform          XOne  \n",
       "year_of_release         \n",
       "2014             54.07  \n",
       "2015             60.14  \n",
       "2016             26.15  "
      ]
     },
     "execution_count": 18,
     "metadata": {},
     "output_type": "execute_result"
    }
   ],
   "source": [
    "# Creating updated table of all platforms and their profits per year\n",
    "sales_by_year = new_data[new_data['platform'].isin(platform_sales.index)].groupby(['year_of_release', 'platform'])['total_sales'].sum().unstack().fillna(0)\n",
    "\n",
    "# Allows the entire table to be displayed\n",
    "pd.set_option('display.max_columns', None)\n",
    "sales_by_year"
   ]
  },
  {
   "cell_type": "markdown",
   "metadata": {},
   "source": [
    "Based on the above table, I have determined that the PS3, PSP, PSV, Wii, and X360 are shrinking platforms nearing the end or at the end of their lifespan. Some platforms have a slower decline than others such as PSV is steadily decling compared to the PS3 which declines rapidly in the last 3 years.\n",
    "The PS4 and XOne are the platforms that show a clear growing in popularity and are currently the top two in sales for the most recent year."
   ]
  },
  {
   "cell_type": "markdown",
   "metadata": {},
   "source": [
    "I will select the platforms PS4, XOne, 3DS, and PC as potentially profitable platforms. "
   ]
  },
  {
   "cell_type": "code",
   "execution_count": 19,
   "metadata": {},
   "outputs": [
    {
     "data": {
      "image/png": "[encoded data removed]",
      "text/plain": [
       "<Figure size 1500x1000 with 1 Axes>"
      ]
     },
     "metadata": {},
     "output_type": "display_data"
    }
   ],
   "source": [
    "# Creating boxplot to visualize the global sales of all games by platform\n",
    "plt.figure(figsize=(15, 10))\n",
    "sns.boxplot(data=new_data, x='platform', y='total_sales',showfliers=False)\n",
    "plt.xticks(rotation=90)\n",
    "plt.title('Box Plot of Global Total Sales by Platform')\n",
    "plt.xlabel('Platform')\n",
    "plt.ylabel('Global Total Sales (in millions)')\n",
    "plt.show()"
   ]
  },
  {
   "cell_type": "markdown",
   "metadata": {},
   "source": [
    "Most platforms have outliers that are beyond the upper boundary sugggesting there is significant variabilty across the platforms. The PS4 and XOne have significant outliers with very high sales compared to the other platforms. Most platforms also have a broad range of sales such as the Wii and X360. The median average sales vary over platforms such as the XOne and WiiU have higher median sales than others. Some platforms such as the PSP and PSV have fewer outliers and a lower distribution compared to more popular platforms."
   ]
  },
  {
   "cell_type": "code",
   "execution_count": 20,
   "metadata": {},
   "outputs": [
    {
     "data": {
      "text/plain": [
       "platform\n",
       "PS4     0.766356\n",
       "XOne    0.615614\n",
       "WiiU    0.588767\n",
       "Wii     0.460909\n",
       "X360    0.434414\n",
       "3DS     0.408868\n",
       "PS3     0.311324\n",
       "PC      0.179139\n",
       "PSV     0.075932\n",
       "PSP     0.027692\n",
       "Name: total_sales, dtype: float64"
      ]
     },
     "execution_count": 20,
     "metadata": {},
     "output_type": "execute_result"
    }
   ],
   "source": [
    "# Average sales on all platforms\n",
    "avg_sales = new_data.groupby(['platform'])['total_sales'].mean().sort_values(ascending=False)\n",
    "avg_sales"
   ]
  },
  {
   "cell_type": "markdown",
   "metadata": {},
   "source": [
    "The PS4 and XOne have the highest mean sales across all platforms. The PS4 and XOne are newer consoles with the highest mean sales and the WiiU is an older platform but is still in the top 3. Platforms that are less popular like PSP and PSV have the lowest mean sales."
   ]
  },
  {
   "cell_type": "code",
   "execution_count": 21,
   "metadata": {},
   "outputs": [
    {
     "data": {
      "image/png": "[encoded data removed]",
      "text/plain": [
       "<Figure size 1400x700 with 2 Axes>"
      ]
     },
     "metadata": {},
     "output_type": "display_data"
    },
    {
     "data": {
      "text/plain": [
       "(0.40266141068104144, -0.04013158947269716)"
      ]
     },
     "execution_count": 21,
     "metadata": {},
     "output_type": "execute_result"
    }
   ],
   "source": [
    "# Determining correlation between reviews and sales for the PS4\n",
    "ps4_games = new_data[new_data['platform'] == 'PS4']\n",
    "\n",
    "# Scatter plot of critic_score vs total_sales\n",
    "plt.figure(figsize=(14, 7))\n",
    "\n",
    "# critic_score vs total_sales\n",
    "plt.subplot(1, 2, 1)\n",
    "sns.scatterplot(data=ps4_games, x='critic_score', y='total_sales')\n",
    "plt.title('Critic Score vs Total Sales (PS4)')\n",
    "plt.xlabel('Critic Score')\n",
    "plt.ylabel('Total Sales (in millions)')\n",
    "\n",
    "# user_score vs total_sales\n",
    "plt.subplot(1, 2, 2)\n",
    "sns.scatterplot(data=ps4_games, x='user_score', y='total_sales')\n",
    "plt.title('User Score vs Total Sales (PS4)')\n",
    "plt.xlabel('User Score')\n",
    "plt.ylabel('Total Sales (in millions)')\n",
    "\n",
    "plt.tight_layout()\n",
    "plt.show()\n",
    "\n",
    "# Calculate correlations\n",
    "critic_corr = ps4_games[['critic_score', 'total_sales']].corr().iloc[0, 1]\n",
    "user_corr = ps4_games[['user_score', 'total_sales']].corr().iloc[0, 1]\n",
    "\n",
    "critic_corr, user_corr"
   ]
  },
  {
   "cell_type": "markdown",
   "metadata": {},
   "source": [
    "Based on the scatterplot and correlation coefficients, Critic Score has a slight positive correlation with sales and User Score has a negligible correlation with sales. In determining what effects sales more, I would have to say the Critic Score is more appropriate."
   ]
  },
  {
   "cell_type": "code",
   "execution_count": 22,
   "metadata": {},
   "outputs": [
    {
     "name": "stdout",
     "output_type": "stream",
     "text": [
      "name                                                    platform\n",
      "7 Days to Die                                           PS4         0.14\n",
      "                                                        XOne        0.05\n",
      "Adventure Time: Finn & Jake Investigations              3DS         0.09\n",
      "                                                        PS3         0.08\n",
      "                                                        PS4         0.10\n",
      "                                                        WiiU        0.05\n",
      "                                                        X360        0.09\n",
      "                                                        XOne        0.05\n",
      "Aegis of Earth: Protonovus Assault                      PS3         0.02\n",
      "                                                        PS4         0.02\n",
      "                                                        PSV         0.03\n",
      "Agatha Christie's The ABC Murders                       PS4         0.02\n",
      "                                                        XOne        0.01\n",
      "Alien: Isolation                                        PC          0.15\n",
      "                                                        PS3         0.33\n",
      "                                                        PS4         1.12\n",
      "                                                        X360        0.27\n",
      "                                                        XOne        0.50\n",
      "Arslan: The Warriors of Legend                          PS3         0.05\n",
      "                                                        PS4         0.09\n",
      "                                                        XOne        0.01\n",
      "Assassin's Creed Chronicles                             PS4         0.08\n",
      "                                                        PSV         0.07\n",
      "                                                        XOne        0.01\n",
      "Assassin's Creed Syndicate                              PC          0.22\n",
      "                                                        PS4         3.39\n",
      "                                                        XOne        1.29\n",
      "Assassin's Creed The Ezio Collection                    PS4         0.20\n",
      "                                                        XOne        0.08\n",
      "Assassin's Creed: Unity                                 PC          0.55\n",
      "                                                        PS4         3.96\n",
      "                                                        XOne        3.50\n",
      "Assetto Corsa                                           PS4         0.06\n",
      "                                                        XOne        0.01\n",
      "Atari Flashback Classics: Volume 1                      PS4         0.02\n",
      "                                                        XOne        0.02\n",
      "Atari Flashback Classics: Volume 2                      PS4         0.02\n",
      "                                                        XOne        0.02\n",
      "Atelier Firis: The Alchemist of the Mysterious Journey  PS4         0.03\n",
      "                                                        PSV         0.02\n",
      "Atelier Sophie: The Alchemist of the Mysterious Book    PS3         0.03\n",
      "                                                        PS4         0.12\n",
      "                                                        PSV         0.06\n",
      "Attack on Titan (KOEI)                                  PS3         0.06\n",
      "                                                        PS4         0.29\n",
      "                                                        PSV         0.13\n",
      "                                                        XOne        0.05\n",
      "Back to the Future: The Game                            PS4         0.18\n",
      "                                                        X360        0.02\n",
      "                                                        XOne        0.02\n",
      "Name: total_sales, dtype: float64\n"
     ]
    },
    {
     "data": {
      "text/plain": [
       "name                            platform\n",
       "WWE 2K16                        PS4         1.21\n",
       "                                X360        0.43\n",
       "                                XOne        0.59\n",
       "WWE 2K17                        PS3         0.14\n",
       "                                PS4         0.60\n",
       "                                X360        0.10\n",
       "                                XOne        0.26\n",
       "Warriors Orochi 3               PS4         0.15\n",
       "                                XOne        0.04\n",
       "Wasteland 2                     PC          0.10\n",
       "                                PS4         0.12\n",
       "                                XOne        0.06\n",
       "Watch Dogs                      PC          0.44\n",
       "                                PS3         1.74\n",
       "                                PS4         4.05\n",
       "                                WiiU        0.13\n",
       "                                X360        1.25\n",
       "                                XOne        1.57\n",
       "Watch Dogs 2                    PS4         1.13\n",
       "                                XOne        0.36\n",
       "Winning Post 8 2016             PS4         0.02\n",
       "                                PSV         0.01\n",
       "Wolfenstein: The New Order      PC          0.45\n",
       "                                PS3         0.44\n",
       "                                PS4         1.54\n",
       "                                X360        0.38\n",
       "                                XOne        0.68\n",
       "Wolfenstein: The Old Blood      PC          0.08\n",
       "                                PS4         0.43\n",
       "                                XOne        0.15\n",
       "World of Final Fantasy          PS4         0.34\n",
       "                                PSV         0.21\n",
       "Worms: WMD                      PS4         0.03\n",
       "                                XOne        0.01\n",
       "XCOM 2                          PC          0.23\n",
       "                                PS4         0.14\n",
       "                                XOne        0.04\n",
       "Yakuza Kiwami                   PS3         0.12\n",
       "                                PS4         0.16\n",
       "Yakuza Zero: The Place of Oath  PS3         0.25\n",
       "                                PS4         0.17\n",
       "Yakuza: Ishin                   PS3         0.26\n",
       "                                PS4         0.15\n",
       "Yoru no Nai Kuni                PS3         0.05\n",
       "                                PS4         0.08\n",
       "                                PSV         0.08\n",
       "ZombiU                          PS4         0.06\n",
       "                                XOne        0.01\n",
       "Zombie Army Trilogy             PS4         0.20\n",
       "                                XOne        0.11\n",
       "Name: total_sales, dtype: float64"
      ]
     },
     "execution_count": 22,
     "metadata": {},
     "output_type": "execute_result"
    }
   ],
   "source": [
    "# Comparing the sales of games on PS2 and other platforms\n",
    "\n",
    "# Getting games that are multi-platform and on PS2\n",
    "multi_plat_games = new_data[new_data['name'].isin(ps4_games['name'])]\n",
    "\n",
    "# Getting neccessary columns for analysis\n",
    "multi_plat_sales = multi_plat_games[['name', 'platform', 'total_sales']]\n",
    "\n",
    "multi_plat_sales_agg = multi_plat_sales.groupby(['name', 'platform']).sum().reset_index()\n",
    "\n",
    "multi_plat_sales_filtered = multi_plat_sales_agg[multi_plat_sales_agg['name'].isin(multi_plat_sales_agg['name'].value_counts()[multi_plat_sales_agg['name'].value_counts() > 1].index)]\n",
    "\n",
    "# Grouping games and platforms and summing the total sales\n",
    "game_sales_per_plat = multi_plat_sales_filtered.groupby(['name', 'platform'])['total_sales'].sum()\n",
    "\n",
    "# Getting the first 50 rows\n",
    "print(game_sales_per_plat.head(50))\n",
    "\n",
    "# Getting the last 50 rows\n",
    "game_sales_per_plat.tail(50)\n"
   ]
  },
  {
   "cell_type": "markdown",
   "metadata": {},
   "source": [
    "When comparing the sales of games released on PS4 and other platforms, the sales for PS4 tend to be higher compared to other platforms. The instances when there is a significant difference in sales tends to be for popular games that are well known in the gaming community such as Assassin's Creed and Watch Dogs."
   ]
  },
  {
   "cell_type": "code",
   "execution_count": 23,
   "metadata": {},
   "outputs": [
    {
     "data": {
      "image/png": "[encoded data removed]",
      "text/plain": [
       "<Figure size 1400x700 with 1 Axes>"
      ]
     },
     "metadata": {},
     "output_type": "display_data"
    }
   ],
   "source": [
    "# Creating visual of the distribution of games by genre\n",
    "\n",
    "genres = new_data['genre'].value_counts()\n",
    "\n",
    "# Plot the number of games by genre\n",
    "plt.figure(figsize=(14, 7))\n",
    "sns.barplot(x=genres.index, y=genres.values)\n",
    "plt.title('Number of Games by Genre')\n",
    "plt.xlabel('Genre')\n",
    "plt.ylabel('Number of Games')\n",
    "plt.xticks(rotation=90)\n",
    "plt.show()\n",
    "\n"
   ]
  },
  {
   "cell_type": "code",
   "execution_count": 24,
   "metadata": {},
   "outputs": [
    {
     "data": {
      "image/png": "[encoded data removed]",
      "text/plain": [
       "<Figure size 1400x700 with 1 Axes>"
      ]
     },
     "metadata": {},
     "output_type": "display_data"
    }
   ],
   "source": [
    "# Plot total global sales by genre\n",
    "genre_sales = new_data.groupby('genre')['total_sales'].agg(['sum', 'mean']).sort_values(by='sum', ascending=False)\n",
    "\n",
    "plt.figure(figsize=(14, 7))\n",
    "sns.barplot(x=genre_sales.index, y=genre_sales['sum'])\n",
    "plt.title('Total Global Sales by Genre')\n",
    "plt.xlabel('Genre')\n",
    "plt.ylabel('Total Global Sales (in millions)')\n",
    "plt.xticks(rotation=90)\n",
    "plt.show()\n"
   ]
  },
  {
   "cell_type": "code",
   "execution_count": 25,
   "metadata": {},
   "outputs": [
    {
     "data": {
      "image/png": "[encoded data removed]",
      "text/plain": [
       "<Figure size 1400x700 with 1 Axes>"
      ]
     },
     "metadata": {},
     "output_type": "display_data"
    },
    {
     "data": {
      "text/html": [
       "<div>\n",
       "<style scoped>\n",
       "    .dataframe tbody tr th:only-of-type {\n",
       "        vertical-align: middle;\n",
       "    }\n",
       "\n",
       "    .dataframe tbody tr th {\n",
       "        vertical-align: top;\n",
       "    }\n",
       "\n",
       "    .dataframe thead th {\n",
       "        text-align: right;\n",
       "    }\n",
       "</style>\n",
       "<table border=\"1\" class=\"dataframe\">\n",
       "  <thead>\n",
       "    <tr style=\"text-align: right;\">\n",
       "      <th></th>\n",
       "      <th>sum</th>\n",
       "      <th>mean</th>\n",
       "    </tr>\n",
       "    <tr>\n",
       "      <th>genre</th>\n",
       "      <th></th>\n",
       "      <th></th>\n",
       "    </tr>\n",
       "  </thead>\n",
       "  <tbody>\n",
       "    <tr>\n",
       "      <th>Action</th>\n",
       "      <td>199.36</td>\n",
       "      <td>0.322068</td>\n",
       "    </tr>\n",
       "    <tr>\n",
       "      <th>Shooter</th>\n",
       "      <td>170.94</td>\n",
       "      <td>1.335469</td>\n",
       "    </tr>\n",
       "    <tr>\n",
       "      <th>Sports</th>\n",
       "      <td>109.48</td>\n",
       "      <td>0.680000</td>\n",
       "    </tr>\n",
       "    <tr>\n",
       "      <th>Role-Playing</th>\n",
       "      <td>101.44</td>\n",
       "      <td>0.459005</td>\n",
       "    </tr>\n",
       "    <tr>\n",
       "      <th>Misc</th>\n",
       "      <td>37.55</td>\n",
       "      <td>0.332301</td>\n",
       "    </tr>\n",
       "    <tr>\n",
       "      <th>Fighting</th>\n",
       "      <td>28.22</td>\n",
       "      <td>0.470333</td>\n",
       "    </tr>\n",
       "    <tr>\n",
       "      <th>Racing</th>\n",
       "      <td>27.52</td>\n",
       "      <td>0.398841</td>\n",
       "    </tr>\n",
       "    <tr>\n",
       "      <th>Platform</th>\n",
       "      <td>18.09</td>\n",
       "      <td>0.476053</td>\n",
       "    </tr>\n",
       "    <tr>\n",
       "      <th>Adventure</th>\n",
       "      <td>17.55</td>\n",
       "      <td>0.094865</td>\n",
       "    </tr>\n",
       "    <tr>\n",
       "      <th>Simulation</th>\n",
       "      <td>13.13</td>\n",
       "      <td>0.298409</td>\n",
       "    </tr>\n",
       "    <tr>\n",
       "      <th>Strategy</th>\n",
       "      <td>3.96</td>\n",
       "      <td>0.107027</td>\n",
       "    </tr>\n",
       "    <tr>\n",
       "      <th>Puzzle</th>\n",
       "      <td>2.21</td>\n",
       "      <td>0.157857</td>\n",
       "    </tr>\n",
       "  </tbody>\n",
       "</table>\n",
       "</div>"
      ],
      "text/plain": [
       "                 sum      mean\n",
       "genre                         \n",
       "Action        199.36  0.322068\n",
       "Shooter       170.94  1.335469\n",
       "Sports        109.48  0.680000\n",
       "Role-Playing  101.44  0.459005\n",
       "Misc           37.55  0.332301\n",
       "Fighting       28.22  0.470333\n",
       "Racing         27.52  0.398841\n",
       "Platform       18.09  0.476053\n",
       "Adventure      17.55  0.094865\n",
       "Simulation     13.13  0.298409\n",
       "Strategy        3.96  0.107027\n",
       "Puzzle          2.21  0.157857"
      ]
     },
     "execution_count": 25,
     "metadata": {},
     "output_type": "execute_result"
    }
   ],
   "source": [
    "# Plot average total global sales by genre\n",
    "plt.figure(figsize=(14, 7))\n",
    "sns.barplot(x=genre_sales.index, y=genre_sales['mean'])\n",
    "plt.title('Average Total Global Sales by Genre')\n",
    "plt.xlabel('Genre')\n",
    "plt.ylabel('Average Total Global Sales (in millions)')\n",
    "plt.xticks(rotation=90)\n",
    "plt.show()\n",
    "\n",
    "# Display the data\n",
    "genre_sales"
   ]
  },
  {
   "cell_type": "markdown",
   "metadata": {},
   "source": [
    "The genres with the highest total sales make more money and genres with the most number of games also can bring in a signigicant amount of revenue. From the graphs and table, Action games account for the most protitable and numerous genre, making the advertisement of these games a higher priority than other genres. For the average total sales by genre, Shooters and Sports games have the highest average total sales, meaning there are less games in these genres but certain games sell very well. Genres that have low total and average sales generally bring in less money. Overall, genres with a high number of games and a high total revenue are the most profitable and the opposite is true as well, genres with a low number of games and a low total revenue are less profitable."
   ]
  },
  {
   "cell_type": "markdown",
   "metadata": {},
   "source": [
    "###  Prepare a user profile for each region"
   ]
  },
  {
   "cell_type": "code",
   "execution_count": 26,
   "metadata": {},
   "outputs": [
    {
     "name": "stdout",
     "output_type": "stream",
     "text": [
      "platform\n",
      "PS4     98.61\n",
      "XOne    81.27\n",
      "X360    28.30\n",
      "3DS     22.64\n",
      "PS3     22.05\n",
      "Name: na_sales, dtype: float64\n",
      "platform\n",
      "PS4     130.04\n",
      "XOne     46.25\n",
      "PS3      25.54\n",
      "PC       17.97\n",
      "3DS      16.12\n",
      "Name: eu_sales, dtype: float64\n",
      "platform\n",
      "3DS     44.24\n",
      "PS4     15.02\n",
      "PSV     14.54\n",
      "PS3     11.22\n",
      "WiiU     7.31\n",
      "Name: jp_sales, dtype: float64\n"
     ]
    }
   ],
   "source": [
    "# Determining the top 5 platforms in North America, Europe and Japan\n",
    "top_5_plat_na = new_data.groupby(['platform'])['na_sales'].sum().sort_values(ascending=False).head(5)\n",
    "top_5_plat_eu = new_data.groupby(['platform'])['eu_sales'].sum().sort_values(ascending=False).head(5)\n",
    "top_5_plat_jp = new_data.groupby(['platform'])['jp_sales'].sum().sort_values(ascending=False).head(5)\n",
    "print(top_5_plat_na)\n",
    "print(top_5_plat_eu)\n",
    "print(top_5_plat_jp)"
   ]
  },
  {
   "cell_type": "code",
   "execution_count": 27,
   "metadata": {},
   "outputs": [
    {
     "data": {
      "image/png": "[encoded data removed]",
      "text/plain": [
       "<Figure size 1400x1800 with 3 Axes>"
      ]
     },
     "metadata": {},
     "output_type": "display_data"
    }
   ],
   "source": [
    "# Visualizing the top 5 platforms in North America, Europe, and Japan\n",
    "fig, axs = plt.subplots(3, 1, figsize=(14, 18))\n",
    "\n",
    "sns.barplot(x=top_5_plat_na.index, y=top_5_plat_na.values, ax=axs[0])\n",
    "axs[0].set_title('Top 5 Platforms in North America')\n",
    "axs[0].set_xlabel('Platform')\n",
    "axs[0].set_ylabel('Total Sales (in millions)')\n",
    "\n",
    "sns.barplot(x=top_5_plat_eu.index, y=top_5_plat_eu.values, ax=axs[1])\n",
    "axs[1].set_title('Top 5 Platforms in Europe')\n",
    "axs[1].set_xlabel('Platform')\n",
    "axs[1].set_ylabel('Total Sales (in millions)')\n",
    "\n",
    "sns.barplot(x=top_5_plat_jp.index, y=top_5_plat_jp.values, ax=axs[2])\n",
    "axs[2].set_title('Top 5 Platforms in Japan')\n",
    "axs[2].set_xlabel('Platform')\n",
    "axs[2].set_ylabel('Total Sales (in millions)')\n",
    "\n",
    "plt.tight_layout()\n",
    "plt.show()"
   ]
  },
  {
   "cell_type": "markdown",
   "metadata": {},
   "source": [
    "In North America, the top platforms are the PS4 and XOne.\n",
    "In Europe, the top two platforms are the PS4 and the XOne but more so the PS4.\n",
    "In Japan, the top platform is the 3DS followed by the PS4 and PSV.\n",
    "\n",
    "North America has the highest sales across its top 5 platforms with PS4 and XOne near 180 million in sales while Japan has the least with its top platform the 3DS has around 44 million in sales. North America and Europe are the most similar since they both have PS4 and XOne in their top 2 platforms. Japan prefers the Japanese companies Sony and Nintendo, since Sony owns the PS4, PS3, and PSV while Nintendo owns the other 2."
   ]
  },
  {
   "cell_type": "code",
   "execution_count": 28,
   "metadata": {},
   "outputs": [
    {
     "name": "stdout",
     "output_type": "stream",
     "text": [
      "genre\n",
      "Shooter         79.02\n",
      "Action          72.53\n",
      "Sports          46.13\n",
      "Role-Playing    33.47\n",
      "Misc            15.05\n",
      "Name: na_sales, dtype: float64\n",
      "genre\n",
      "Action          74.68\n",
      "Shooter         65.52\n",
      "Sports          45.73\n",
      "Role-Playing    28.17\n",
      "Racing          14.13\n",
      "Name: eu_sales, dtype: float64\n",
      "genre\n",
      "Role-Playing    31.16\n",
      "Action          29.58\n",
      "Fighting         6.37\n",
      "Misc             5.61\n",
      "Shooter          4.87\n",
      "Name: jp_sales, dtype: float64\n"
     ]
    }
   ],
   "source": [
    "# Determining the top 5 genres in North America, Europe and Japan\n",
    "top_5_genre_na = new_data.groupby(['genre'])['na_sales'].sum().sort_values(ascending=False).head(5)\n",
    "top_5_genre_eu = new_data.groupby(['genre'])['eu_sales'].sum().sort_values(ascending=False).head(5)\n",
    "top_5_genre_jp = new_data.groupby(['genre'])['jp_sales'].sum().sort_values(ascending=False).head(5)\n",
    "print(top_5_genre_na)\n",
    "print(top_5_genre_eu)\n",
    "print(top_5_genre_jp)"
   ]
  },
  {
   "cell_type": "code",
   "execution_count": 29,
   "metadata": {},
   "outputs": [
    {
     "data": {
      "image/png": "[encoded data removed]",
      "text/plain": [
       "<Figure size 1400x1800 with 3 Axes>"
      ]
     },
     "metadata": {},
     "output_type": "display_data"
    }
   ],
   "source": [
    "# Visualization of the top 5 genres in North America, Europe, and Japan\n",
    "fig, axs = plt.subplots(3, 1, figsize=(14, 18))\n",
    "\n",
    "sns.barplot(x=top_5_genre_na.index, y=top_5_genre_na.values, ax=axs[0])\n",
    "axs[0].set_title('Top 5 Genres in North America')\n",
    "axs[0].set_xlabel('Genres')\n",
    "axs[0].set_ylabel('Total Sales (in millions)')\n",
    "\n",
    "sns.barplot(x=top_5_genre_eu.index, y=top_5_genre_eu.values, ax=axs[1])\n",
    "axs[1].set_title('Top 5 Genres in Europe')\n",
    "axs[1].set_xlabel('Genres')\n",
    "axs[1].set_ylabel('Total Sales (in millions)')\n",
    "\n",
    "sns.barplot(x=top_5_genre_jp.index, y=top_5_genre_jp.values, ax=axs[2])\n",
    "axs[2].set_title('Top 5 Genres in Japan')\n",
    "axs[2].set_xlabel('Platform')\n",
    "axs[2].set_ylabel('Total Sales (in millions)')\n",
    "\n",
    "plt.tight_layout()\n",
    "plt.show()"
   ]
  },
  {
   "cell_type": "markdown",
   "metadata": {},
   "source": [
    "In North America and Europe, the top 3 genres are Action, Sports, and Shooter, making North America more similar to Europe than Japan. In Japan, the top genre is Role-playing, follwed by Action then Fighting. The Action genre is popular among all three regions since Action is in the top 3 out of 5."
   ]
  },
  {
   "cell_type": "code",
   "execution_count": 30,
   "metadata": {},
   "outputs": [
    {
     "name": "stdout",
     "output_type": "stream",
     "text": [
      "rating\n",
      "M          96.42\n",
      "Unknown    64.72\n",
      "E          50.74\n",
      "T          38.95\n",
      "E10+       33.23\n",
      "Name: na_sales, dtype: float64\n",
      "rating\n",
      "M          93.44\n",
      "Unknown    58.95\n",
      "E          58.06\n",
      "T          34.07\n",
      "E10+       26.16\n",
      "Name: eu_sales, dtype: float64\n",
      "rating\n",
      "Unknown    56.90\n",
      "T          14.78\n",
      "E           8.94\n",
      "M           8.01\n",
      "E10+        4.46\n",
      "Name: jp_sales, dtype: float64\n"
     ]
    }
   ],
   "source": [
    "# Determining the top ESRB ratings in North America, Europe, and Japan\n",
    "rating_na = new_data.groupby(['rating'])['na_sales'].sum().sort_values(ascending=False)\n",
    "rating_eu = new_data.groupby(['rating'])['eu_sales'].sum().sort_values(ascending=False)\n",
    "rating_jp = new_data.groupby(['rating'])['jp_sales'].sum().sort_values(ascending=False)\n",
    "print(rating_na)\n",
    "print(rating_eu)\n",
    "print(rating_jp)"
   ]
  },
  {
   "cell_type": "code",
   "execution_count": 31,
   "metadata": {},
   "outputs": [
    {
     "data": {
      "image/png": "[encoded data removed]",
      "text/plain": [
       "<Figure size 1400x1800 with 3 Axes>"
      ]
     },
     "metadata": {},
     "output_type": "display_data"
    }
   ],
   "source": [
    "# Visualization of the top ESRB ratings in North America, Europe, and Japan\n",
    "fig, axs = plt.subplots(3, 1, figsize=(14, 18))\n",
    "\n",
    "sns.barplot(x=rating_na.index, y=rating_na.values, ax=axs[0])\n",
    "axs[0].set_title('Sales by ESRB Rating in North America')\n",
    "axs[0].set_xlabel('ESRB Rating')\n",
    "axs[0].set_ylabel('Total Sales (in millions)')\n",
    "\n",
    "sns.barplot(x=rating_eu.index, y=rating_eu.values, ax=axs[1])\n",
    "axs[1].set_title('Sales by ESRB Rating in Europe')\n",
    "axs[1].set_xlabel('ESRB Rating')\n",
    "axs[1].set_ylabel('Total Sales (in millions)')\n",
    "\n",
    "sns.barplot(x=rating_jp.index, y=rating_jp.values, ax=axs[2])\n",
    "axs[2].set_title('Sales by ESRB Rating in Japan')\n",
    "axs[2].set_xlabel('ESRB Rating')\n",
    "axs[2].set_ylabel('Total Sales (in millions)')\n",
    "\n",
    "plt.tight_layout()\n",
    "plt.show()"
   ]
  },
  {
   "cell_type": "markdown",
   "metadata": {},
   "source": [
    "North America and Europe have very similar graphs and and sales by ESRB rating. The top 5 ratings are identical and the only difference is the number of sales, since North America has slightly higher sales for 4 out of 5 of the ratings. Japan is the most different with the highest sales are for the \"Unkown\" rating followed by T. The Unkown ratings for games released in Japan could be due to they have a different rating system for the games released there."
   ]
  },
  {
   "cell_type": "markdown",
   "metadata": {},
   "source": [
    "### Test Hypotheses"
   ]
  },
  {
   "cell_type": "markdown",
   "metadata": {},
   "source": [
    "Test the following hypothesis: Average user ratings of the Xbox One and PC platforms are the same.\n",
    "\n",
    "Here, we can use an independent t-test to test this hypothesis because a t-test is designed to test the for differences between the means of two groups and the two samples are independent from each other.\n",
    "\n",
    "Null Hypothesis: The average user ratings of the Xbox One and PC platforms are the same.\n",
    "Alternative Hypothesis: The average user ratings of the Xbox One and PC platforms are different.\n",
    "\n",
    "I chose this null hypothesis because it means there is no difference in the samples and it could be rejected when tested against.The alternative hypothesis indicates an a difference if the the null hypothesis is rejected."
   ]
  },
  {
   "cell_type": "code",
   "execution_count": 32,
   "metadata": {},
   "outputs": [
    {
     "name": "stdout",
     "output_type": "stream",
     "text": [
      "We fail to reject the null hypothesis: there is not a significant between average user ratings of Xbox One and PC.\n",
      "t_stat: 1.6285882029651264, p_value: 0.10450507919348513, alpha: 0.05, xOne ratings mean: 6.594545454545454, pc ratings mean: 6.298360655737704\n"
     ]
    }
   ],
   "source": [
    "# Filtering XOne user_score and PC user_score\n",
    "xOne_ratings = new_data[new_data['platform'] == 'XOne']['user_score']\n",
    "pc_ratings = new_data[new_data['platform'] == 'PC']['user_score']\n",
    "\n",
    "# Running t-test\n",
    "t_stat, p_value = ttest_ind(xOne_ratings, pc_ratings, nan_policy='omit')\n",
    "\n",
    "# Set conventional alpha value since a stricter or looser value is not neccessary\n",
    "alpha = 0.05\n",
    "\n",
    "if(p_value < alpha):\n",
    "    print('We reject the null hypothesis: there is significant between average user ratings of Xbox One and PC.')\n",
    "else:\n",
    "    print('We fail to reject the null hypothesis: there is not a significant between average user ratings of Xbox One and PC.')\n",
    "    \n",
    "xOne_ratings_mean = xOne_ratings.mean()\n",
    "pc_ratings_mean = pc_ratings.mean()\n",
    "# Print results\n",
    "print(f't_stat: {t_stat}, p_value: {p_value}, alpha: {alpha}, xOne ratings mean: {xOne_ratings_mean}, pc ratings mean: {pc_ratings_mean}') "
   ]
  },
  {
   "cell_type": "markdown",
   "metadata": {},
   "source": [
    "When testing the null hypothesis: The average user ratings of the Xbox One and PC platforms are nearly the same. The result returns a t_stat value of around 1.6 and a p_value of about 0.10. A smaller t_stat value (between -2 and 2 conventionally) and a big p-value greater than alpha means the null hypothesis is not discredited and therefore we fail to reject and the t-test found there is a not significant difference in the mean user ratings of Xbox One and PC. The mean user ratings for Xbox One is around 6.59 and PC is around 6.2. This suggests that users rate games on the Xbox One platform more favorably compared to games on the PC platform."
   ]
  },
  {
   "cell_type": "markdown",
   "metadata": {},
   "source": [
    "Test the hypothesis: Average user ratings for the Action and Sports genres are different.\n",
    "\n",
    "Here, we can use an independent t-test to test this hypothesis because a t-test is designed to test the for differences between the means of two groups and the two samples are independent from each other.\n",
    "\n",
    "Null Hypothesis: The average user ratings for Action and Sports genres are the same. Alternative Hypothesis: The average user ratings for Action and Sports genres are different.\n",
    "\n",
    "I chose this null hypothesis because it means there is no difference in the samples and it could be rejected when tested against.The alternative hypothesis indicates an a difference if the the null hypothesis is rejected."
   ]
  },
  {
   "cell_type": "code",
   "execution_count": 33,
   "metadata": {},
   "outputs": [
    {
     "name": "stdout",
     "output_type": "stream",
     "text": [
      "We reject the null hypothesis: there is significant between average user ratings of Action and Sports genres.\n",
      "t_stat: 9.42517304894804, p_value: 2.8711147985107304e-19, alpha: 0.05, action ratings mean: 6.760606060606061, sports ratings mean: 5.225196850393701\n"
     ]
    }
   ],
   "source": [
    "#Filtering Action user_score and Sports user_score\n",
    "action_ratings = new_data[new_data['genre'] == 'Action']['user_score']\n",
    "sports_ratings = new_data[new_data['genre'] == 'Sports']['user_score']\n",
    "\n",
    "# Running t-test\n",
    "t_stat, p_value = ttest_ind(action_ratings, sports_ratings, nan_policy='omit')\n",
    "\n",
    "# Set conventional alpha value since a stricter or looser value is not neccessary\n",
    "alpha = 0.05\n",
    "\n",
    "if(p_value < alpha):\n",
    "    print('We reject the null hypothesis: there is significant between average user ratings of Action and Sports genres.')\n",
    "else:\n",
    "    print('We fail to reject the null hypothesis: there is not a significant between average user ratings of Action and Sports genres.')\n",
    "    \n",
    "action_ratings_mean = action_ratings.mean()\n",
    "sports_ratings_mean = sports_ratings.mean()\n",
    "# Print results\n",
    "print(f't_stat: {t_stat}, p_value: {p_value}, alpha: {alpha}, action ratings mean: {action_ratings_mean}, sports ratings mean: {sports_ratings_mean}')"
   ]
  },
  {
   "cell_type": "markdown",
   "metadata": {},
   "source": [
    "When testing the null hypothesis: The average user ratings for Action and Sports genres are not the same. The result returns a t_stat value of around 9.4 and a p_value of about 2e-19, which is incredibly small. A bigger t_stat value and a small p-value means the null hypothesis is discredited and therefore rejected and the t-test found there is a significant difference in the mean user ratings or Action and Sports genres. The mean user rating for the Action genre is around 6.7 and Sports is around 5.2. This suggests users rate Action games more favorably than Sports games."
   ]
  },
  {
   "cell_type": "markdown",
   "metadata": {},
   "source": [
    "### Conclusion"
   ]
  },
  {
   "cell_type": "markdown",
   "metadata": {},
   "source": [
    "After analyzing the data, I have determined that the most likely games to succeed in an ad campaign for 2017 are Action or Shooter or Sports games releasing on PS4 and Xbox One and are rated \"M\" by ESRB. In recent years up to 2016, these two platforms generated the most revenue. PS4 and Xbox One are growing and may be near the peak of popularity. Since PS4 and Xbox One are the newset platforms they will bring in the most revenue so targeting older platforms will not maximize revenue. This is further supported by the analysis of the PS4 platform and how games that released on PS4 along with other consoles showed that the PS4 version is generally more profitable. As for the Action genre, earlier analysis showed that this genre have most number of games and the most global sales, making these types of games more likely to bring in the most revenue. As for the \"M\" rating, the \"M\" rating is by far the most profitable rating on a global scale. When it comes to user rating, I determined that these scores are not a good parameter to determine which games or genres are more popular or bring in more revenue since there was no strong correlation among scores and sales."
   ]
  }
 ],
 "metadata": {
  "ExecuteTimeLog": [
   {
    "duration": 1003,
    "start_time": "2024-06-05T03:19:18.541Z"
   },
   {
    "duration": 100,
    "start_time": "2024-06-05T03:19:23.778Z"
   },
   {
    "duration": 4940,
    "start_time": "2024-06-05T03:19:28.270Z"
   },
   {
    "duration": 126,
    "start_time": "2024-06-05T03:20:49.412Z"
   },
   {
    "duration": 20,
    "start_time": "2024-06-05T03:23:32.073Z"
   },
   {
    "duration": 19,
    "start_time": "2024-06-05T03:23:58.514Z"
   },
   {
    "duration": 7,
    "start_time": "2024-06-05T03:26:00.406Z"
   },
   {
    "duration": 30,
    "start_time": "2024-06-05T03:26:43.467Z"
   },
   {
    "duration": 21,
    "start_time": "2024-06-05T03:37:11.376Z"
   },
   {
    "duration": 32,
    "start_time": "2024-06-05T03:38:05.793Z"
   },
   {
    "duration": 12,
    "start_time": "2024-06-05T03:38:45.289Z"
   },
   {
    "duration": 12,
    "start_time": "2024-06-05T03:39:04.603Z"
   },
   {
    "duration": 410,
    "start_time": "2024-06-05T03:44:29.543Z"
   },
   {
    "duration": 347,
    "start_time": "2024-06-05T03:44:39.880Z"
   },
   {
    "duration": 377,
    "start_time": "2024-06-05T03:44:45.947Z"
   },
   {
    "duration": 299,
    "start_time": "2024-06-05T03:44:54.654Z"
   },
   {
    "duration": 423,
    "start_time": "2024-06-05T03:45:07.146Z"
   },
   {
    "duration": 5,
    "start_time": "2024-06-05T03:47:36.071Z"
   },
   {
    "duration": 42,
    "start_time": "2024-06-05T03:47:57.822Z"
   },
   {
    "duration": 23,
    "start_time": "2024-06-05T03:48:03.441Z"
   },
   {
    "duration": 9,
    "start_time": "2024-06-05T03:49:39.063Z"
   },
   {
    "duration": 9,
    "start_time": "2024-06-05T03:49:55.332Z"
   },
   {
    "duration": 20,
    "start_time": "2024-06-05T03:50:17.004Z"
   },
   {
    "duration": 4,
    "start_time": "2024-06-05T03:51:25.837Z"
   },
   {
    "duration": 53,
    "start_time": "2024-06-05T03:51:26.515Z"
   },
   {
    "duration": 20,
    "start_time": "2024-06-05T03:51:30.830Z"
   },
   {
    "duration": 20,
    "start_time": "2024-06-05T03:51:34.503Z"
   },
   {
    "duration": 24,
    "start_time": "2024-06-05T03:51:36.820Z"
   },
   {
    "duration": 326,
    "start_time": "2024-06-05T03:51:52.745Z"
   },
   {
    "duration": 339,
    "start_time": "2024-06-05T03:52:03.811Z"
   },
   {
    "duration": 349,
    "start_time": "2024-06-05T03:52:17.132Z"
   },
   {
    "duration": 311,
    "start_time": "2024-06-05T03:52:38.268Z"
   },
   {
    "duration": 301,
    "start_time": "2024-06-05T03:53:27.509Z"
   },
   {
    "duration": 4,
    "start_time": "2024-06-05T03:53:32.005Z"
   },
   {
    "duration": 50,
    "start_time": "2024-06-05T03:53:32.206Z"
   },
   {
    "duration": 22,
    "start_time": "2024-06-05T03:53:33.031Z"
   },
   {
    "duration": 18,
    "start_time": "2024-06-05T03:53:33.332Z"
   },
   {
    "duration": 22,
    "start_time": "2024-06-05T03:53:33.914Z"
   },
   {
    "duration": 293,
    "start_time": "2024-06-05T03:53:34.448Z"
   },
   {
    "duration": 433,
    "start_time": "2024-06-05T03:54:31.889Z"
   },
   {
    "duration": 6,
    "start_time": "2024-06-05T03:54:43.221Z"
   },
   {
    "duration": 27,
    "start_time": "2024-06-05T03:54:46.579Z"
   },
   {
    "duration": 1290,
    "start_time": "2024-06-05T03:56:55.677Z"
   },
   {
    "duration": 143,
    "start_time": "2024-06-05T03:57:47.538Z"
   },
   {
    "duration": 361,
    "start_time": "2024-06-05T03:58:58.884Z"
   },
   {
    "duration": 339,
    "start_time": "2024-06-05T03:59:26.457Z"
   },
   {
    "duration": 5,
    "start_time": "2024-06-05T03:59:34.439Z"
   },
   {
    "duration": 57,
    "start_time": "2024-06-05T03:59:34.991Z"
   },
   {
    "duration": 18,
    "start_time": "2024-06-05T03:59:35.628Z"
   },
   {
    "duration": 26,
    "start_time": "2024-06-05T03:59:36.092Z"
   },
   {
    "duration": 26,
    "start_time": "2024-06-05T03:59:36.607Z"
   },
   {
    "duration": 322,
    "start_time": "2024-06-05T03:59:37.275Z"
   },
   {
    "duration": 5,
    "start_time": "2024-06-05T03:59:37.847Z"
   },
   {
    "duration": 24,
    "start_time": "2024-06-05T03:59:39.281Z"
   },
   {
    "duration": 153,
    "start_time": "2024-06-05T03:59:40.224Z"
   },
   {
    "duration": 8,
    "start_time": "2024-06-05T04:00:47.171Z"
   },
   {
    "duration": 67,
    "start_time": "2024-06-05T04:00:47.320Z"
   },
   {
    "duration": 20,
    "start_time": "2024-06-05T04:00:47.466Z"
   },
   {
    "duration": 18,
    "start_time": "2024-06-05T04:00:47.655Z"
   },
   {
    "duration": 21,
    "start_time": "2024-06-05T04:00:47.830Z"
   },
   {
    "duration": 344,
    "start_time": "2024-06-05T04:00:48.100Z"
   },
   {
    "duration": 7,
    "start_time": "2024-06-05T04:00:48.447Z"
   },
   {
    "duration": 25,
    "start_time": "2024-06-05T04:00:48.863Z"
   },
   {
    "duration": 362,
    "start_time": "2024-06-05T04:00:49.621Z"
   },
   {
    "duration": 3,
    "start_time": "2024-06-05T04:02:06.832Z"
   },
   {
    "duration": 66,
    "start_time": "2024-06-05T04:02:07.018Z"
   },
   {
    "duration": 20,
    "start_time": "2024-06-05T04:02:07.190Z"
   },
   {
    "duration": 21,
    "start_time": "2024-06-05T04:02:07.370Z"
   },
   {
    "duration": 26,
    "start_time": "2024-06-05T04:02:07.663Z"
   },
   {
    "duration": 342,
    "start_time": "2024-06-05T04:02:07.956Z"
   },
   {
    "duration": 5,
    "start_time": "2024-06-05T04:02:08.330Z"
   },
   {
    "duration": 28,
    "start_time": "2024-06-05T04:02:08.753Z"
   },
   {
    "duration": 358,
    "start_time": "2024-06-05T04:02:09.272Z"
   },
   {
    "duration": 4,
    "start_time": "2024-06-05T04:02:49.222Z"
   },
   {
    "duration": 63,
    "start_time": "2024-06-05T04:02:49.533Z"
   },
   {
    "duration": 19,
    "start_time": "2024-06-05T04:02:49.884Z"
   },
   {
    "duration": 18,
    "start_time": "2024-06-05T04:02:50.317Z"
   },
   {
    "duration": 23,
    "start_time": "2024-06-05T04:02:50.828Z"
   },
   {
    "duration": 302,
    "start_time": "2024-06-05T04:02:51.938Z"
   },
   {
    "duration": 7,
    "start_time": "2024-06-05T04:02:54.705Z"
   },
   {
    "duration": 22,
    "start_time": "2024-06-05T04:02:55.152Z"
   },
   {
    "duration": 358,
    "start_time": "2024-06-05T04:02:57.374Z"
   },
   {
    "duration": 4,
    "start_time": "2024-06-05T04:03:21.808Z"
   },
   {
    "duration": 69,
    "start_time": "2024-06-05T04:03:22.076Z"
   },
   {
    "duration": 23,
    "start_time": "2024-06-05T04:03:22.352Z"
   },
   {
    "duration": 21,
    "start_time": "2024-06-05T04:03:22.660Z"
   },
   {
    "duration": 28,
    "start_time": "2024-06-05T04:03:22.955Z"
   },
   {
    "duration": 327,
    "start_time": "2024-06-05T04:03:23.298Z"
   },
   {
    "duration": 7,
    "start_time": "2024-06-05T04:03:23.847Z"
   },
   {
    "duration": 33,
    "start_time": "2024-06-05T04:03:24.477Z"
   },
   {
    "duration": 408,
    "start_time": "2024-06-05T04:03:25.229Z"
   },
   {
    "duration": 350,
    "start_time": "2024-06-05T04:04:02.695Z"
   },
   {
    "duration": 339,
    "start_time": "2024-06-05T04:04:08.059Z"
   },
   {
    "duration": 439,
    "start_time": "2024-06-05T04:04:25.312Z"
   },
   {
    "duration": 38,
    "start_time": "2024-06-05T04:05:15.943Z"
   },
   {
    "duration": 328,
    "start_time": "2024-06-05T04:05:51.482Z"
   },
   {
    "duration": 12,
    "start_time": "2024-06-05T04:06:28.472Z"
   },
   {
    "duration": 8,
    "start_time": "2024-06-05T04:07:39.803Z"
   },
   {
    "duration": 10,
    "start_time": "2024-06-05T04:07:45.659Z"
   },
   {
    "duration": 24,
    "start_time": "2024-06-05T04:08:19.380Z"
   },
   {
    "duration": 34,
    "start_time": "2024-06-05T04:08:59.546Z"
   },
   {
    "duration": 59,
    "start_time": "2024-06-05T04:09:22.385Z"
   },
   {
    "duration": 61,
    "start_time": "2024-06-05T04:09:44.236Z"
   },
   {
    "duration": 4362,
    "start_time": "2024-06-11T03:21:57.390Z"
   },
   {
    "duration": 74,
    "start_time": "2024-06-11T03:22:16.321Z"
   },
   {
    "duration": 19,
    "start_time": "2024-06-11T03:22:18.457Z"
   },
   {
    "duration": 20,
    "start_time": "2024-06-11T03:22:20.275Z"
   },
   {
    "duration": 21,
    "start_time": "2024-06-11T03:22:22.260Z"
   },
   {
    "duration": 292,
    "start_time": "2024-06-11T03:22:23.669Z"
   },
   {
    "duration": 8,
    "start_time": "2024-06-11T03:22:26.906Z"
   },
   {
    "duration": 22,
    "start_time": "2024-06-11T03:22:29.308Z"
   },
   {
    "duration": 352,
    "start_time": "2024-06-11T03:22:32.499Z"
   },
   {
    "duration": 379,
    "start_time": "2024-06-11T03:22:39.767Z"
   },
   {
    "duration": 48,
    "start_time": "2024-06-11T03:23:19.987Z"
   },
   {
    "duration": 20,
    "start_time": "2024-06-11T03:23:31.054Z"
   },
   {
    "duration": 27,
    "start_time": "2024-06-11T03:23:41.217Z"
   },
   {
    "duration": 308,
    "start_time": "2024-06-11T03:46:16.909Z"
   },
   {
    "duration": 300,
    "start_time": "2024-06-11T04:15:59.340Z"
   },
   {
    "duration": 22,
    "start_time": "2024-06-11T04:17:00.891Z"
   },
   {
    "duration": 18,
    "start_time": "2024-06-11T04:17:05.549Z"
   },
   {
    "duration": 17,
    "start_time": "2024-06-11T04:38:06.402Z"
   },
   {
    "duration": 1265,
    "start_time": "2024-06-11T04:40:17.898Z"
   },
   {
    "duration": 342,
    "start_time": "2024-06-11T04:41:00.135Z"
   },
   {
    "duration": 20,
    "start_time": "2024-06-11T04:41:22.647Z"
   },
   {
    "duration": 18,
    "start_time": "2024-06-11T04:41:28.563Z"
   },
   {
    "duration": 7,
    "start_time": "2024-06-11T04:53:00.322Z"
   },
   {
    "duration": 28,
    "start_time": "2024-06-11T04:57:59.327Z"
   },
   {
    "duration": 8,
    "start_time": "2024-06-11T04:58:05.937Z"
   },
   {
    "duration": 9,
    "start_time": "2024-06-11T04:58:28.376Z"
   },
   {
    "duration": 8,
    "start_time": "2024-06-11T05:04:33.094Z"
   },
   {
    "duration": 3,
    "start_time": "2024-06-11T05:04:51.412Z"
   },
   {
    "duration": 53,
    "start_time": "2024-06-11T05:04:51.861Z"
   },
   {
    "duration": 19,
    "start_time": "2024-06-11T05:04:52.382Z"
   },
   {
    "duration": 19,
    "start_time": "2024-06-11T05:04:52.673Z"
   },
   {
    "duration": 21,
    "start_time": "2024-06-11T05:04:52.834Z"
   },
   {
    "duration": 297,
    "start_time": "2024-06-11T05:04:53.005Z"
   },
   {
    "duration": 5,
    "start_time": "2024-06-11T05:04:53.308Z"
   },
   {
    "duration": 22,
    "start_time": "2024-06-11T05:04:53.317Z"
   },
   {
    "duration": 330,
    "start_time": "2024-06-11T05:04:54.141Z"
   },
   {
    "duration": 330,
    "start_time": "2024-06-11T05:04:54.552Z"
   },
   {
    "duration": 345,
    "start_time": "2024-06-11T05:04:54.886Z"
   },
   {
    "duration": 32,
    "start_time": "2024-06-11T05:05:07.758Z"
   },
   {
    "duration": 18,
    "start_time": "2024-06-11T05:05:14.370Z"
   },
   {
    "duration": 9,
    "start_time": "2024-06-11T05:05:28.283Z"
   },
   {
    "duration": 17,
    "start_time": "2024-06-11T05:05:43.172Z"
   },
   {
    "duration": 18,
    "start_time": "2024-06-11T05:06:12.564Z"
   },
   {
    "duration": 20,
    "start_time": "2024-06-11T05:06:14.863Z"
   },
   {
    "duration": 8,
    "start_time": "2024-06-11T05:06:19.497Z"
   },
   {
    "duration": 31,
    "start_time": "2024-06-11T05:06:27.271Z"
   },
   {
    "duration": 3,
    "start_time": "2024-06-11T05:08:09.550Z"
   },
   {
    "duration": 50,
    "start_time": "2024-06-11T05:08:09.705Z"
   },
   {
    "duration": 19,
    "start_time": "2024-06-11T05:08:09.966Z"
   },
   {
    "duration": 17,
    "start_time": "2024-06-11T05:08:10.133Z"
   },
   {
    "duration": 21,
    "start_time": "2024-06-11T05:08:10.243Z"
   },
   {
    "duration": 302,
    "start_time": "2024-06-11T05:08:10.380Z"
   },
   {
    "duration": 5,
    "start_time": "2024-06-11T05:08:10.686Z"
   },
   {
    "duration": 22,
    "start_time": "2024-06-11T05:08:10.707Z"
   },
   {
    "duration": 349,
    "start_time": "2024-06-11T05:08:10.946Z"
   },
   {
    "duration": 307,
    "start_time": "2024-06-11T05:08:11.299Z"
   },
   {
    "duration": 344,
    "start_time": "2024-06-11T05:08:11.610Z"
   },
   {
    "duration": 12,
    "start_time": "2024-06-11T05:08:11.957Z"
   },
   {
    "duration": 37,
    "start_time": "2024-06-11T05:08:11.974Z"
   },
   {
    "duration": 7,
    "start_time": "2024-06-11T05:08:12.386Z"
   },
   {
    "duration": 31,
    "start_time": "2024-06-11T05:08:13.531Z"
   },
   {
    "duration": 4,
    "start_time": "2024-06-11T05:09:45.466Z"
   },
   {
    "duration": 51,
    "start_time": "2024-06-11T05:09:45.649Z"
   },
   {
    "duration": 18,
    "start_time": "2024-06-11T05:09:45.776Z"
   },
   {
    "duration": 17,
    "start_time": "2024-06-11T05:09:45.909Z"
   },
   {
    "duration": 23,
    "start_time": "2024-06-11T05:09:46.061Z"
   },
   {
    "duration": 296,
    "start_time": "2024-06-11T05:09:46.215Z"
   },
   {
    "duration": 5,
    "start_time": "2024-06-11T05:09:46.731Z"
   },
   {
    "duration": 23,
    "start_time": "2024-06-11T05:09:47.396Z"
   },
   {
    "duration": 365,
    "start_time": "2024-06-11T05:09:47.907Z"
   },
   {
    "duration": 300,
    "start_time": "2024-06-11T05:09:48.435Z"
   },
   {
    "duration": 340,
    "start_time": "2024-06-11T05:09:48.987Z"
   },
   {
    "duration": 11,
    "start_time": "2024-06-11T05:09:54.017Z"
   },
   {
    "duration": 16,
    "start_time": "2024-06-11T05:09:55.365Z"
   },
   {
    "duration": 10,
    "start_time": "2024-06-11T05:09:57.526Z"
   },
   {
    "duration": 27,
    "start_time": "2024-06-11T05:09:59.430Z"
   },
   {
    "duration": 18,
    "start_time": "2024-06-11T05:10:24.330Z"
   },
   {
    "duration": 27,
    "start_time": "2024-06-11T05:11:28.329Z"
   },
   {
    "duration": 10,
    "start_time": "2024-06-11T05:11:46.115Z"
   },
   {
    "duration": 7,
    "start_time": "2024-06-11T05:16:16.418Z"
   },
   {
    "duration": 12,
    "start_time": "2024-06-11T05:16:25.188Z"
   },
   {
    "duration": 11,
    "start_time": "2024-06-11T05:16:51.325Z"
   },
   {
    "duration": 8,
    "start_time": "2024-06-11T05:22:18.908Z"
   },
   {
    "duration": 11,
    "start_time": "2024-06-11T05:22:32.501Z"
   },
   {
    "duration": 10,
    "start_time": "2024-06-11T05:27:14.116Z"
   },
   {
    "duration": 13,
    "start_time": "2024-06-11T05:30:03.496Z"
   },
   {
    "duration": 16,
    "start_time": "2024-06-11T05:31:10.052Z"
   },
   {
    "duration": 21,
    "start_time": "2024-06-11T05:31:44.043Z"
   },
   {
    "duration": 44,
    "start_time": "2024-06-11T05:32:04.500Z"
   },
   {
    "duration": 38,
    "start_time": "2024-06-11T05:32:23.827Z"
   },
   {
    "duration": 453,
    "start_time": "2024-06-11T05:49:33.006Z"
   },
   {
    "duration": 29,
    "start_time": "2024-06-11T05:54:45.406Z"
   },
   {
    "duration": 10,
    "start_time": "2024-06-11T05:55:05.102Z"
   },
   {
    "duration": 27,
    "start_time": "2024-06-11T05:55:21.411Z"
   },
   {
    "duration": 7,
    "start_time": "2024-06-11T05:55:26.575Z"
   },
   {
    "duration": 8,
    "start_time": "2024-06-11T05:55:35.950Z"
   },
   {
    "duration": 9,
    "start_time": "2024-06-11T05:55:43.814Z"
   },
   {
    "duration": 16,
    "start_time": "2024-06-11T05:57:57.719Z"
   },
   {
    "duration": 22,
    "start_time": "2024-06-11T06:05:11.929Z"
   },
   {
    "duration": 256,
    "start_time": "2024-06-11T06:09:29.229Z"
   },
   {
    "duration": 13,
    "start_time": "2024-06-11T06:10:30.089Z"
   },
   {
    "duration": 60,
    "start_time": "2024-06-11T06:10:44.561Z"
   },
   {
    "duration": 35,
    "start_time": "2024-06-11T06:11:02.341Z"
   },
   {
    "duration": 8,
    "start_time": "2024-06-11T06:12:14.230Z"
   },
   {
    "duration": 13,
    "start_time": "2024-06-11T06:12:19.384Z"
   },
   {
    "duration": 38,
    "start_time": "2024-06-11T06:13:20.586Z"
   },
   {
    "duration": 34,
    "start_time": "2024-06-11T06:13:58.539Z"
   },
   {
    "duration": 15,
    "start_time": "2024-06-11T06:15:58.529Z"
   },
   {
    "duration": 15,
    "start_time": "2024-06-11T06:16:22.825Z"
   },
   {
    "duration": 4403,
    "start_time": "2024-06-12T06:52:17.916Z"
   },
   {
    "duration": 90,
    "start_time": "2024-06-12T06:52:24.436Z"
   },
   {
    "duration": 19,
    "start_time": "2024-06-12T06:52:24.923Z"
   },
   {
    "duration": 19,
    "start_time": "2024-06-12T06:52:25.319Z"
   },
   {
    "duration": 23,
    "start_time": "2024-06-12T06:52:25.756Z"
   },
   {
    "duration": 416,
    "start_time": "2024-06-12T06:52:26.098Z"
   },
   {
    "duration": 7,
    "start_time": "2024-06-12T06:52:26.524Z"
   },
   {
    "duration": 30,
    "start_time": "2024-06-12T06:52:26.536Z"
   },
   {
    "duration": 413,
    "start_time": "2024-06-12T06:52:26.606Z"
   },
   {
    "duration": 408,
    "start_time": "2024-06-12T06:52:27.034Z"
   },
   {
    "duration": 406,
    "start_time": "2024-06-12T06:52:27.446Z"
   },
   {
    "duration": 13,
    "start_time": "2024-06-12T06:52:27.856Z"
   },
   {
    "duration": 17,
    "start_time": "2024-06-12T06:52:28.122Z"
   },
   {
    "duration": 8,
    "start_time": "2024-06-12T06:52:28.835Z"
   },
   {
    "duration": 24,
    "start_time": "2024-06-12T06:52:29.435Z"
   },
   {
    "duration": 11,
    "start_time": "2024-06-12T06:52:30.242Z"
   },
   {
    "duration": 14,
    "start_time": "2024-06-12T06:52:33.555Z"
   },
   {
    "duration": 40,
    "start_time": "2024-06-12T06:52:35.895Z"
   },
   {
    "duration": 522,
    "start_time": "2024-06-12T06:52:39.717Z"
   },
   {
    "duration": 9,
    "start_time": "2024-06-12T06:52:42.783Z"
   },
   {
    "duration": 19,
    "start_time": "2024-06-12T06:52:44.472Z"
   },
   {
    "duration": 21,
    "start_time": "2024-06-12T06:52:46.968Z"
   },
   {
    "duration": 18,
    "start_time": "2024-06-12T06:52:50.516Z"
   },
   {
    "duration": 37,
    "start_time": "2024-06-12T06:55:32.550Z"
   },
   {
    "duration": 14,
    "start_time": "2024-06-12T06:55:53.000Z"
   },
   {
    "duration": 36,
    "start_time": "2024-06-12T06:56:04.526Z"
   },
   {
    "duration": 14,
    "start_time": "2024-06-12T06:56:17.024Z"
   },
   {
    "duration": 35,
    "start_time": "2024-06-12T06:56:40.488Z"
   },
   {
    "duration": 1301,
    "start_time": "2024-06-12T07:01:05.759Z"
   },
   {
    "duration": 37,
    "start_time": "2024-06-12T07:01:22.916Z"
   },
   {
    "duration": 74,
    "start_time": "2024-06-12T07:01:49.135Z"
   },
   {
    "duration": 24,
    "start_time": "2024-06-12T07:04:24.544Z"
   },
   {
    "duration": 24,
    "start_time": "2024-06-12T07:04:39.728Z"
   },
   {
    "duration": 11,
    "start_time": "2024-06-12T07:05:11.891Z"
   },
   {
    "duration": 563,
    "start_time": "2024-06-12T07:12:05.864Z"
   },
   {
    "duration": 867,
    "start_time": "2024-06-12T07:13:03.250Z"
   },
   {
    "duration": 11,
    "start_time": "2024-06-12T07:32:30.196Z"
   },
   {
    "duration": 12,
    "start_time": "2024-06-12T07:32:53.605Z"
   },
   {
    "duration": 648,
    "start_time": "2024-06-12T07:47:32.548Z"
   },
   {
    "duration": 775,
    "start_time": "2024-06-12T07:54:31.387Z"
   },
   {
    "duration": 683,
    "start_time": "2024-06-12T07:54:42.826Z"
   },
   {
    "duration": 710,
    "start_time": "2024-06-12T07:54:53.707Z"
   },
   {
    "duration": 735,
    "start_time": "2024-06-12T07:55:04.494Z"
   },
   {
    "duration": 656,
    "start_time": "2024-06-12T07:55:13.572Z"
   },
   {
    "duration": 20,
    "start_time": "2024-06-12T08:08:32.352Z"
   },
   {
    "duration": 20,
    "start_time": "2024-06-12T08:08:43.892Z"
   },
   {
    "duration": 16,
    "start_time": "2024-06-12T08:13:10.792Z"
   },
   {
    "duration": 26,
    "start_time": "2024-06-12T08:14:46.145Z"
   },
   {
    "duration": 713,
    "start_time": "2024-06-12T08:15:39.600Z"
   },
   {
    "duration": 469,
    "start_time": "2024-06-12T08:16:01.759Z"
   },
   {
    "duration": 1106,
    "start_time": "2024-06-12T08:16:13.587Z"
   },
   {
    "duration": 17,
    "start_time": "2024-06-12T08:20:04.188Z"
   },
   {
    "duration": 12,
    "start_time": "2024-06-12T08:20:29.596Z"
   },
   {
    "duration": 15,
    "start_time": "2024-06-12T08:20:38.859Z"
   },
   {
    "duration": 10,
    "start_time": "2024-06-12T08:21:15.102Z"
   },
   {
    "duration": 12,
    "start_time": "2024-06-12T08:21:20.399Z"
   },
   {
    "duration": 12,
    "start_time": "2024-06-12T08:21:32.156Z"
   },
   {
    "duration": 13,
    "start_time": "2024-06-12T08:21:56.579Z"
   },
   {
    "duration": 14,
    "start_time": "2024-06-12T08:23:13.984Z"
   },
   {
    "duration": 21,
    "start_time": "2024-06-12T08:23:26.662Z"
   },
   {
    "duration": 18,
    "start_time": "2024-06-12T08:23:32.898Z"
   },
   {
    "duration": 17,
    "start_time": "2024-06-12T08:23:44.692Z"
   },
   {
    "duration": 13,
    "start_time": "2024-06-12T08:24:00.648Z"
   },
   {
    "duration": 31,
    "start_time": "2024-06-12T08:24:34.291Z"
   },
   {
    "duration": 15,
    "start_time": "2024-06-12T08:26:13.611Z"
   },
   {
    "duration": 14,
    "start_time": "2024-06-12T08:26:47.824Z"
   },
   {
    "duration": 78,
    "start_time": "2024-06-12T08:27:04.477Z"
   },
   {
    "duration": 12,
    "start_time": "2024-06-12T08:27:11.267Z"
   },
   {
    "duration": 21,
    "start_time": "2024-06-12T08:27:25.373Z"
   },
   {
    "duration": 17,
    "start_time": "2024-06-12T08:28:02.047Z"
   },
   {
    "duration": 16,
    "start_time": "2024-06-12T08:28:16.520Z"
   },
   {
    "duration": 21,
    "start_time": "2024-06-12T08:28:46.596Z"
   },
   {
    "duration": 14,
    "start_time": "2024-06-12T08:29:12.773Z"
   },
   {
    "duration": 19,
    "start_time": "2024-06-12T08:29:48.077Z"
   },
   {
    "duration": 18,
    "start_time": "2024-06-12T08:30:02.420Z"
   },
   {
    "duration": 17,
    "start_time": "2024-06-12T08:30:07.553Z"
   },
   {
    "duration": 18,
    "start_time": "2024-06-12T08:30:29.540Z"
   },
   {
    "duration": 17,
    "start_time": "2024-06-12T08:30:42.742Z"
   },
   {
    "duration": 11,
    "start_time": "2024-06-12T08:31:09.555Z"
   },
   {
    "duration": 18,
    "start_time": "2024-06-12T08:31:39.907Z"
   },
   {
    "duration": 17,
    "start_time": "2024-06-12T08:31:52.352Z"
   },
   {
    "duration": 22,
    "start_time": "2024-06-12T08:32:25.957Z"
   },
   {
    "duration": 20,
    "start_time": "2024-06-12T08:32:57.964Z"
   },
   {
    "duration": 19,
    "start_time": "2024-06-12T08:33:10.305Z"
   },
   {
    "duration": 16,
    "start_time": "2024-06-12T08:33:32.128Z"
   },
   {
    "duration": 17,
    "start_time": "2024-06-12T08:33:48.115Z"
   },
   {
    "duration": 20,
    "start_time": "2024-06-12T08:33:56.861Z"
   },
   {
    "duration": 16,
    "start_time": "2024-06-12T08:34:01.212Z"
   },
   {
    "duration": 22,
    "start_time": "2024-06-12T08:34:32.929Z"
   },
   {
    "duration": 17,
    "start_time": "2024-06-12T08:35:11.845Z"
   },
   {
    "duration": 33,
    "start_time": "2024-06-12T08:36:13.476Z"
   },
   {
    "duration": 12,
    "start_time": "2024-06-12T08:37:11.404Z"
   },
   {
    "duration": 8,
    "start_time": "2024-06-12T08:37:16.159Z"
   },
   {
    "duration": 6,
    "start_time": "2024-06-12T08:37:31.611Z"
   },
   {
    "duration": 16,
    "start_time": "2024-06-12T08:37:34.375Z"
   },
   {
    "duration": 593,
    "start_time": "2024-06-12T08:37:46.665Z"
   },
   {
    "duration": 17,
    "start_time": "2024-06-12T08:38:00.948Z"
   },
   {
    "duration": 21,
    "start_time": "2024-06-12T08:38:39.954Z"
   },
   {
    "duration": 18,
    "start_time": "2024-06-12T08:38:51.359Z"
   },
   {
    "duration": 14,
    "start_time": "2024-06-12T08:39:09.347Z"
   },
   {
    "duration": 19,
    "start_time": "2024-06-12T08:39:12.892Z"
   },
   {
    "duration": 16,
    "start_time": "2024-06-12T08:39:48.397Z"
   },
   {
    "duration": 13,
    "start_time": "2024-06-12T08:39:53.604Z"
   },
   {
    "duration": 23,
    "start_time": "2024-06-12T08:40:00.631Z"
   },
   {
    "duration": 34,
    "start_time": "2024-06-12T08:40:58.430Z"
   },
   {
    "duration": 38,
    "start_time": "2024-06-12T08:41:22.012Z"
   },
   {
    "duration": 44,
    "start_time": "2024-06-12T08:41:31.948Z"
   },
   {
    "duration": 16,
    "start_time": "2024-06-12T08:51:23.861Z"
   },
   {
    "duration": 1337,
    "start_time": "2024-06-12T08:53:54.320Z"
   },
   {
    "duration": 360,
    "start_time": "2024-06-12T08:56:31.891Z"
   },
   {
    "duration": 398,
    "start_time": "2024-06-12T08:56:40.918Z"
   },
   {
    "duration": 415,
    "start_time": "2024-06-12T08:56:45.984Z"
   },
   {
    "duration": 13,
    "start_time": "2024-06-12T09:46:03.275Z"
   },
   {
    "duration": 14,
    "start_time": "2024-06-12T09:46:44.290Z"
   },
   {
    "duration": 18,
    "start_time": "2024-06-12T09:47:18.269Z"
   },
   {
    "duration": 961,
    "start_time": "2024-06-12T09:49:15.984Z"
   },
   {
    "duration": 17,
    "start_time": "2024-06-12T09:52:15.736Z"
   },
   {
    "duration": 912,
    "start_time": "2024-06-12T09:53:32.430Z"
   },
   {
    "duration": 23,
    "start_time": "2024-06-12T09:56:38.739Z"
   },
   {
    "duration": 18,
    "start_time": "2024-06-12T09:56:48.887Z"
   },
   {
    "duration": 1269,
    "start_time": "2024-06-12T09:58:54.269Z"
   },
   {
    "duration": 4,
    "start_time": "2024-06-12T10:10:22.018Z"
   },
   {
    "duration": 15,
    "start_time": "2024-06-12T10:13:56.167Z"
   },
   {
    "duration": 14,
    "start_time": "2024-06-12T10:18:46.160Z"
   },
   {
    "duration": 18,
    "start_time": "2024-06-12T10:19:39.335Z"
   },
   {
    "duration": 16,
    "start_time": "2024-06-12T10:20:05.508Z"
   },
   {
    "duration": 19,
    "start_time": "2024-06-12T10:20:08.835Z"
   },
   {
    "duration": 18,
    "start_time": "2024-06-12T10:20:11.398Z"
   },
   {
    "duration": 16,
    "start_time": "2024-06-12T10:20:57.001Z"
   },
   {
    "duration": 6,
    "start_time": "2024-06-12T10:22:07.165Z"
   },
   {
    "duration": 23,
    "start_time": "2024-06-12T10:22:35.108Z"
   },
   {
    "duration": 5,
    "start_time": "2024-06-12T10:30:51.054Z"
   },
   {
    "duration": 9,
    "start_time": "2024-06-12T10:49:21.615Z"
   },
   {
    "duration": 8,
    "start_time": "2024-06-12T10:51:21.728Z"
   },
   {
    "duration": 8,
    "start_time": "2024-06-12T10:51:48.426Z"
   },
   {
    "duration": 50,
    "start_time": "2024-06-12T10:52:29.909Z"
   },
   {
    "duration": 49,
    "start_time": "2024-06-12T10:59:10.547Z"
   },
   {
    "duration": 64,
    "start_time": "2024-06-12T11:04:17.088Z"
   },
   {
    "duration": 45,
    "start_time": "2024-06-12T11:04:38.878Z"
   },
   {
    "duration": 50,
    "start_time": "2024-06-12T11:05:04.359Z"
   },
   {
    "duration": 51,
    "start_time": "2024-06-12T11:05:24.987Z"
   },
   {
    "duration": 19,
    "start_time": "2024-06-12T11:13:57.588Z"
   },
   {
    "duration": 17,
    "start_time": "2024-06-12T11:15:10.320Z"
   },
   {
    "duration": 15,
    "start_time": "2024-06-12T11:15:17.452Z"
   },
   {
    "duration": 11,
    "start_time": "2024-06-12T11:15:25.488Z"
   },
   {
    "duration": 796,
    "start_time": "2024-06-12T11:27:17.966Z"
   },
   {
    "duration": 50,
    "start_time": "2024-06-12T11:32:45.146Z"
   },
   {
    "duration": 68,
    "start_time": "2024-06-12T11:39:39.482Z"
   },
   {
    "duration": 43,
    "start_time": "2024-06-12T11:40:06.008Z"
   },
   {
    "duration": 39,
    "start_time": "2024-06-12T11:40:28.342Z"
   },
   {
    "duration": 386,
    "start_time": "2024-06-12T11:42:57.900Z"
   },
   {
    "duration": 17,
    "start_time": "2024-06-12T11:49:37.521Z"
   },
   {
    "duration": 1005,
    "start_time": "2024-06-12T11:50:29.562Z"
   },
   {
    "duration": 20,
    "start_time": "2024-06-12T12:24:06.426Z"
   },
   {
    "duration": 41,
    "start_time": "2024-06-12T12:41:14.587Z"
   },
   {
    "duration": 21,
    "start_time": "2024-06-12T12:41:29.446Z"
   },
   {
    "duration": 1412,
    "start_time": "2024-06-12T13:58:08.522Z"
   },
   {
    "duration": 65,
    "start_time": "2024-06-12T13:58:09.939Z"
   },
   {
    "duration": 38,
    "start_time": "2024-06-12T13:58:10.010Z"
   },
   {
    "duration": 26,
    "start_time": "2024-06-12T13:58:10.053Z"
   },
   {
    "duration": 59,
    "start_time": "2024-06-12T13:58:10.083Z"
   },
   {
    "duration": 337,
    "start_time": "2024-06-12T13:58:10.146Z"
   },
   {
    "duration": 9,
    "start_time": "2024-06-12T13:58:10.486Z"
   },
   {
    "duration": 44,
    "start_time": "2024-06-12T13:58:10.498Z"
   },
   {
    "duration": 380,
    "start_time": "2024-06-12T13:58:10.545Z"
   },
   {
    "duration": 358,
    "start_time": "2024-06-12T13:58:10.935Z"
   },
   {
    "duration": 372,
    "start_time": "2024-06-12T13:58:11.298Z"
   },
   {
    "duration": 18,
    "start_time": "2024-06-12T13:58:11.673Z"
   },
   {
    "duration": 45,
    "start_time": "2024-06-12T13:58:11.695Z"
   },
   {
    "duration": 10,
    "start_time": "2024-06-12T13:58:11.746Z"
   },
   {
    "duration": 27,
    "start_time": "2024-06-12T13:58:11.759Z"
   },
   {
    "duration": 11,
    "start_time": "2024-06-12T13:58:11.823Z"
   },
   {
    "duration": 14,
    "start_time": "2024-06-12T13:58:11.839Z"
   },
   {
    "duration": 83,
    "start_time": "2024-06-12T13:58:11.856Z"
   },
   {
    "duration": 526,
    "start_time": "2024-06-12T13:58:11.942Z"
   },
   {
    "duration": 28,
    "start_time": "2024-06-12T13:58:12.471Z"
   },
   {
    "duration": 25,
    "start_time": "2024-06-12T13:58:12.503Z"
   },
   {
    "duration": 99,
    "start_time": "2024-06-12T13:58:12.532Z"
   },
   {
    "duration": 929,
    "start_time": "2024-06-12T13:58:12.634Z"
   },
   {
    "duration": 22,
    "start_time": "2024-06-12T13:58:13.567Z"
   },
   {
    "duration": 705,
    "start_time": "2024-06-12T13:58:13.593Z"
   },
   {
    "duration": 53,
    "start_time": "2024-06-12T13:58:14.302Z"
   },
   {
    "duration": 407,
    "start_time": "2024-06-12T13:58:14.359Z"
   },
   {
    "duration": 417,
    "start_time": "2024-06-12T13:58:14.777Z"
   },
   {
    "duration": 438,
    "start_time": "2024-06-12T13:58:15.198Z"
   },
   {
    "duration": 20,
    "start_time": "2024-06-12T13:58:15.642Z"
   },
   {
    "duration": 1047,
    "start_time": "2024-06-12T13:58:15.667Z"
   },
   {
    "duration": 19,
    "start_time": "2024-06-12T13:58:16.723Z"
   },
   {
    "duration": 1053,
    "start_time": "2024-06-12T13:58:16.745Z"
   },
   {
    "duration": 31,
    "start_time": "2024-06-12T13:58:17.802Z"
   },
   {
    "duration": 1201,
    "start_time": "2024-06-12T13:58:17.836Z"
   },
   {
    "duration": 19,
    "start_time": "2024-06-12T13:58:19.041Z"
   },
   {
    "duration": 59,
    "start_time": "2024-06-12T13:58:19.064Z"
   },
   {
    "duration": 4896,
    "start_time": "2024-06-12T14:12:16.721Z"
   },
   {
    "duration": 78,
    "start_time": "2024-06-12T14:12:21.621Z"
   },
   {
    "duration": 27,
    "start_time": "2024-06-12T14:12:21.702Z"
   },
   {
    "duration": 23,
    "start_time": "2024-06-12T14:12:21.734Z"
   },
   {
    "duration": 49,
    "start_time": "2024-06-12T14:12:21.760Z"
   },
   {
    "duration": 313,
    "start_time": "2024-06-12T14:12:21.812Z"
   },
   {
    "duration": 6,
    "start_time": "2024-06-12T14:12:22.128Z"
   },
   {
    "duration": 23,
    "start_time": "2024-06-12T14:12:22.137Z"
   },
   {
    "duration": 372,
    "start_time": "2024-06-12T14:12:22.163Z"
   },
   {
    "duration": 313,
    "start_time": "2024-06-12T14:12:22.540Z"
   },
   {
    "duration": 359,
    "start_time": "2024-06-12T14:12:22.857Z"
   },
   {
    "duration": 14,
    "start_time": "2024-06-12T14:12:23.219Z"
   },
   {
    "duration": 18,
    "start_time": "2024-06-12T14:12:23.236Z"
   },
   {
    "duration": 8,
    "start_time": "2024-06-12T14:12:23.257Z"
   },
   {
    "duration": 19,
    "start_time": "2024-06-12T14:12:23.303Z"
   },
   {
    "duration": 12,
    "start_time": "2024-06-12T14:12:23.328Z"
   },
   {
    "duration": 13,
    "start_time": "2024-06-12T14:12:23.343Z"
   },
   {
    "duration": 73,
    "start_time": "2024-06-12T14:12:23.361Z"
   },
   {
    "duration": 473,
    "start_time": "2024-06-12T14:12:23.437Z"
   },
   {
    "duration": 20,
    "start_time": "2024-06-12T14:12:23.913Z"
   },
   {
    "duration": 10,
    "start_time": "2024-06-12T14:12:23.937Z"
   },
   {
    "duration": 104,
    "start_time": "2024-06-12T14:12:23.950Z"
   },
   {
    "duration": 939,
    "start_time": "2024-06-12T14:12:24.057Z"
   },
   {
    "duration": 13,
    "start_time": "2024-06-12T14:12:25.003Z"
   },
   {
    "duration": 753,
    "start_time": "2024-06-12T14:12:25.019Z"
   },
   {
    "duration": 62,
    "start_time": "2024-06-12T14:12:25.776Z"
   },
   {
    "duration": 441,
    "start_time": "2024-06-12T14:12:25.842Z"
   },
   {
    "duration": 459,
    "start_time": "2024-06-12T14:12:26.305Z"
   },
   {
    "duration": 517,
    "start_time": "2024-06-12T14:12:26.767Z"
   },
   {
    "duration": 30,
    "start_time": "2024-06-12T14:12:27.287Z"
   },
   {
    "duration": 1032,
    "start_time": "2024-06-12T14:12:27.320Z"
   },
   {
    "duration": 26,
    "start_time": "2024-06-12T14:12:28.355Z"
   },
   {
    "duration": 926,
    "start_time": "2024-06-12T14:12:28.403Z"
   },
   {
    "duration": 17,
    "start_time": "2024-06-12T14:12:29.333Z"
   },
   {
    "duration": 1108,
    "start_time": "2024-06-12T14:12:29.353Z"
   },
   {
    "duration": 36,
    "start_time": "2024-06-12T14:12:30.465Z"
   },
   {
    "duration": 18,
    "start_time": "2024-06-12T14:12:30.504Z"
   },
   {
    "duration": 6,
    "start_time": "2024-06-12T14:30:05.102Z"
   },
   {
    "duration": 5,
    "start_time": "2024-06-12T14:30:20.614Z"
   },
   {
    "duration": 313,
    "start_time": "2024-06-13T06:25:59.365Z"
   },
   {
    "duration": 4972,
    "start_time": "2024-06-13T06:26:05.185Z"
   },
   {
    "duration": 79,
    "start_time": "2024-06-13T06:26:10.161Z"
   },
   {
    "duration": 19,
    "start_time": "2024-06-13T06:26:13.597Z"
   },
   {
    "duration": 31,
    "start_time": "2024-06-13T06:26:16.496Z"
   },
   {
    "duration": 24,
    "start_time": "2024-06-13T06:29:50.450Z"
   },
   {
    "duration": 51,
    "start_time": "2024-06-13T06:30:23.403Z"
   },
   {
    "duration": 19,
    "start_time": "2024-06-13T06:30:23.726Z"
   },
   {
    "duration": 32,
    "start_time": "2024-06-13T06:30:26.403Z"
   },
   {
    "duration": 18,
    "start_time": "2024-06-13T06:30:31.934Z"
   },
   {
    "duration": 19,
    "start_time": "2024-06-13T06:30:41.191Z"
   },
   {
    "duration": 23,
    "start_time": "2024-06-13T06:30:55.969Z"
   },
   {
    "duration": 52,
    "start_time": "2024-06-13T06:39:50.918Z"
   },
   {
    "duration": 19,
    "start_time": "2024-06-13T06:39:52.466Z"
   },
   {
    "duration": 26,
    "start_time": "2024-06-13T06:39:54.723Z"
   },
   {
    "duration": 50,
    "start_time": "2024-06-13T06:39:58.293Z"
   },
   {
    "duration": 24,
    "start_time": "2024-06-13T06:40:13.296Z"
   },
   {
    "duration": 52,
    "start_time": "2024-06-13T06:41:03.277Z"
   },
   {
    "duration": 19,
    "start_time": "2024-06-13T06:41:05.380Z"
   },
   {
    "duration": 28,
    "start_time": "2024-06-13T06:41:07.871Z"
   },
   {
    "duration": 26,
    "start_time": "2024-06-13T06:41:25.874Z"
   },
   {
    "duration": 33,
    "start_time": "2024-06-13T06:41:54.908Z"
   },
   {
    "duration": 34,
    "start_time": "2024-06-13T06:42:53.181Z"
   },
   {
    "duration": 19,
    "start_time": "2024-06-13T06:45:13.281Z"
   },
   {
    "duration": 7,
    "start_time": "2024-06-13T06:45:42.603Z"
   },
   {
    "duration": 28,
    "start_time": "2024-06-13T06:45:44.780Z"
   },
   {
    "duration": 4942,
    "start_time": "2024-06-14T03:21:02.944Z"
   },
   {
    "duration": 74,
    "start_time": "2024-06-14T03:21:10.055Z"
   },
   {
    "duration": 19,
    "start_time": "2024-06-14T03:21:11.876Z"
   },
   {
    "duration": 28,
    "start_time": "2024-06-14T03:21:14.729Z"
   },
   {
    "duration": 36,
    "start_time": "2024-06-14T03:21:28.304Z"
   },
   {
    "duration": 4,
    "start_time": "2024-06-14T03:26:14.396Z"
   },
   {
    "duration": 51,
    "start_time": "2024-06-14T03:26:15.770Z"
   },
   {
    "duration": 19,
    "start_time": "2024-06-14T03:26:16.482Z"
   },
   {
    "duration": 25,
    "start_time": "2024-06-14T03:26:17.493Z"
   },
   {
    "duration": 34,
    "start_time": "2024-06-14T03:26:19.610Z"
   },
   {
    "duration": 24,
    "start_time": "2024-06-14T03:26:25.454Z"
   },
   {
    "duration": 5,
    "start_time": "2024-06-14T03:26:31.434Z"
   },
   {
    "duration": 22,
    "start_time": "2024-06-14T03:26:32.820Z"
   },
   {
    "duration": 16,
    "start_time": "2024-06-14T03:27:23.258Z"
   },
   {
    "duration": 8,
    "start_time": "2024-06-14T03:27:34.692Z"
   },
   {
    "duration": 19,
    "start_time": "2024-06-14T03:27:35.978Z"
   },
   {
    "duration": 9,
    "start_time": "2024-06-14T03:27:45.632Z"
   },
   {
    "duration": 10,
    "start_time": "2024-06-14T03:28:50.596Z"
   },
   {
    "duration": 5,
    "start_time": "2024-06-14T03:29:05.824Z"
   },
   {
    "duration": 408,
    "start_time": "2024-06-14T03:29:41.279Z"
   },
   {
    "duration": 597,
    "start_time": "2024-06-14T03:29:45.719Z"
   },
   {
    "duration": 629,
    "start_time": "2024-06-14T03:30:50.896Z"
   },
   {
    "duration": 3,
    "start_time": "2024-06-14T03:36:06.308Z"
   },
   {
    "duration": 48,
    "start_time": "2024-06-14T03:36:07.502Z"
   },
   {
    "duration": 23,
    "start_time": "2024-06-14T03:36:09.086Z"
   },
   {
    "duration": 28,
    "start_time": "2024-06-14T03:36:10.580Z"
   },
   {
    "duration": 33,
    "start_time": "2024-06-14T03:36:32.828Z"
   },
   {
    "duration": 19,
    "start_time": "2024-06-14T03:36:37.593Z"
   },
   {
    "duration": 5,
    "start_time": "2024-06-14T03:36:39.690Z"
   },
   {
    "duration": 23,
    "start_time": "2024-06-14T03:36:42.168Z"
   },
   {
    "duration": 16,
    "start_time": "2024-06-14T03:36:52.298Z"
   },
   {
    "duration": 9,
    "start_time": "2024-06-14T03:36:54.017Z"
   },
   {
    "duration": 19,
    "start_time": "2024-06-14T03:36:57.055Z"
   },
   {
    "duration": 567,
    "start_time": "2024-06-14T03:37:00.298Z"
   },
   {
    "duration": 12,
    "start_time": "2024-06-14T03:37:13.949Z"
   },
   {
    "duration": 37,
    "start_time": "2024-06-14T03:37:26.383Z"
   },
   {
    "duration": 457,
    "start_time": "2024-06-14T03:37:32.716Z"
   },
   {
    "duration": 16,
    "start_time": "2024-06-14T03:37:54.554Z"
   },
   {
    "duration": 10,
    "start_time": "2024-06-14T03:38:02.475Z"
   },
   {
    "duration": 23,
    "start_time": "2024-06-14T03:38:11.890Z"
   },
   {
    "duration": 460,
    "start_time": "2024-06-14T03:39:01.589Z"
   },
   {
    "duration": 437,
    "start_time": "2024-06-14T03:39:19.267Z"
   },
   {
    "duration": 10,
    "start_time": "2024-06-14T03:43:47.036Z"
   },
   {
    "duration": 571,
    "start_time": "2024-06-14T03:45:08.533Z"
   },
   {
    "duration": 647,
    "start_time": "2024-06-14T03:47:41.581Z"
   },
   {
    "duration": 37,
    "start_time": "2024-06-14T03:49:04.318Z"
   },
   {
    "duration": 431,
    "start_time": "2024-06-14T03:53:19.413Z"
   },
   {
    "duration": 387,
    "start_time": "2024-06-14T03:53:27.248Z"
   },
   {
    "duration": 373,
    "start_time": "2024-06-14T03:53:33.755Z"
   },
   {
    "duration": 15,
    "start_time": "2024-06-14T03:58:09.151Z"
   },
   {
    "duration": 873,
    "start_time": "2024-06-14T03:58:20.735Z"
   },
   {
    "duration": 15,
    "start_time": "2024-06-14T04:05:22.931Z"
   },
   {
    "duration": 951,
    "start_time": "2024-06-14T04:05:27.412Z"
   },
   {
    "duration": 14,
    "start_time": "2024-06-14T04:07:20.589Z"
   },
   {
    "duration": 901,
    "start_time": "2024-06-14T04:07:26.262Z"
   },
   {
    "duration": 16,
    "start_time": "2024-06-14T04:55:54.902Z"
   },
   {
    "duration": 35,
    "start_time": "2024-06-14T04:56:46.355Z"
   },
   {
    "duration": 15,
    "start_time": "2024-06-14T04:56:54.789Z"
   },
   {
    "duration": 15,
    "start_time": "2024-06-14T04:57:16.603Z"
   },
   {
    "duration": 15,
    "start_time": "2024-06-14T04:57:35.313Z"
   },
   {
    "duration": 14,
    "start_time": "2024-06-14T04:58:06.506Z"
   },
   {
    "duration": 15,
    "start_time": "2024-06-14T04:58:24.673Z"
   },
   {
    "duration": 14,
    "start_time": "2024-06-14T04:58:59.648Z"
   },
   {
    "duration": 14,
    "start_time": "2024-06-14T04:59:06.025Z"
   },
   {
    "duration": 11,
    "start_time": "2024-06-14T05:05:23.057Z"
   },
   {
    "duration": 12,
    "start_time": "2024-06-14T05:12:14.019Z"
   },
   {
    "duration": 12,
    "start_time": "2024-06-14T05:17:03.690Z"
   },
   {
    "duration": 1260,
    "start_time": "2024-06-14T05:24:25.080Z"
   },
   {
    "duration": 64,
    "start_time": "2024-06-14T05:24:26.344Z"
   },
   {
    "duration": 19,
    "start_time": "2024-06-14T05:24:26.411Z"
   },
   {
    "duration": 29,
    "start_time": "2024-06-14T05:24:26.433Z"
   },
   {
    "duration": 67,
    "start_time": "2024-06-14T05:24:26.467Z"
   },
   {
    "duration": 17,
    "start_time": "2024-06-14T05:24:26.537Z"
   },
   {
    "duration": 6,
    "start_time": "2024-06-14T05:24:26.558Z"
   },
   {
    "duration": 56,
    "start_time": "2024-06-14T05:24:26.567Z"
   },
   {
    "duration": 17,
    "start_time": "2024-06-14T05:24:26.626Z"
   },
   {
    "duration": 9,
    "start_time": "2024-06-14T05:24:26.646Z"
   },
   {
    "duration": 54,
    "start_time": "2024-06-14T05:24:26.657Z"
   },
   {
    "duration": 601,
    "start_time": "2024-06-14T05:24:26.714Z"
   },
   {
    "duration": 11,
    "start_time": "2024-06-14T05:24:27.319Z"
   },
   {
    "duration": 132,
    "start_time": "2024-06-14T05:24:27.336Z"
   },
   {
    "duration": 458,
    "start_time": "2024-06-14T05:24:27.471Z"
   },
   {
    "duration": 17,
    "start_time": "2024-06-14T05:24:27.932Z"
   },
   {
    "duration": 10,
    "start_time": "2024-06-14T05:24:27.952Z"
   },
   {
    "duration": 43,
    "start_time": "2024-06-14T05:24:27.965Z"
   },
   {
    "duration": 459,
    "start_time": "2024-06-14T05:24:28.011Z"
   },
   {
    "duration": 9,
    "start_time": "2024-06-14T05:24:28.475Z"
   },
   {
    "duration": 645,
    "start_time": "2024-06-14T05:24:28.487Z"
   },
   {
    "duration": 31,
    "start_time": "2024-06-14T05:24:29.135Z"
   },
   {
    "duration": 366,
    "start_time": "2024-06-14T05:24:29.170Z"
   },
   {
    "duration": 372,
    "start_time": "2024-06-14T05:24:29.540Z"
   },
   {
    "duration": 370,
    "start_time": "2024-06-14T05:24:29.915Z"
   },
   {
    "duration": 28,
    "start_time": "2024-06-14T05:24:30.288Z"
   },
   {
    "duration": 911,
    "start_time": "2024-06-14T05:24:30.319Z"
   },
   {
    "duration": 13,
    "start_time": "2024-06-14T05:24:31.234Z"
   },
   {
    "duration": 965,
    "start_time": "2024-06-14T05:24:31.250Z"
   },
   {
    "duration": 14,
    "start_time": "2024-06-14T05:24:32.218Z"
   },
   {
    "duration": 959,
    "start_time": "2024-06-14T05:24:32.236Z"
   },
   {
    "duration": 18,
    "start_time": "2024-06-14T05:24:33.198Z"
   },
   {
    "duration": 14,
    "start_time": "2024-06-14T05:24:33.219Z"
   }
  ],
  "kernelspec": {
   "display_name": "Python 3 (ipykernel)",
   "language": "python",
   "name": "python3"
  },
  "language_info": {
   "codemirror_mode": {
    "name": "ipython",
    "version": 3
   },
   "file_extension": ".py",
   "mimetype": "text/x-python",
   "name": "python",
   "nbconvert_exporter": "python",
   "pygments_lexer": "ipython3",
   "version": "3.9.19"
  },
  "toc": {
   "base_numbering": 1,
   "nav_menu": {},
   "number_sections": true,
   "sideBar": true,
   "skip_h1_title": true,
   "title_cell": "Table of Contents",
   "title_sidebar": "Contents",
   "toc_cell": false,
   "toc_position": {},
   "toc_section_display": true,
   "toc_window_display": false
  }
 },
 "nbformat": 4,
 "nbformat_minor": 2
}
