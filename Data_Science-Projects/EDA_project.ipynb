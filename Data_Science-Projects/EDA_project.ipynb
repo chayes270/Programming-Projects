{
 "cells": [
  {
   "cell_type": "markdown",
   "id": "3849e006",
   "metadata": {},
   "source": [
    "# Exploratory Data Analysis on Instacart Orders"
   ]
  },
  {
   "cell_type": "markdown",
   "id": "b972e404",
   "metadata": {},
   "source": [
    "## This project will be working with data from an online grocery delivery service called Instacart. The files included with this dataset provide useful information on orders placed, products bought, specific order information, aisles the products are in, and departments of the store. The 3 main steps in this project are reading the data files and describing them, cleaning up the data (ie removing/replacing duplicate/missing values, making all columns the correct datatype, etc.), and analyzing the data to answer specific questions and creating graphs to visualize the data and interpret trends."
   ]
  },
  {
   "cell_type": "code",
   "execution_count": 1,
   "id": "fbf1adab",
   "metadata": {},
   "outputs": [],
   "source": [
    "#Importing packages\n",
    "import pandas as pd\n",
    "import numpy as np\n",
    "from matplotlib import pyplot as plt"
   ]
  },
  {
   "cell_type": "markdown",
   "id": "73757844",
   "metadata": {},
   "source": [
    "The next few cells are taking a quick look at samples from each dataframe and showing some information about the rows and data types"
   ]
  },
  {
   "cell_type": "code",
   "execution_count": 2,
   "id": "5130e05e",
   "metadata": {},
   "outputs": [
    {
     "data": {
      "text/html": [
       "<div>\n",
       "<style scoped>\n",
       "    .dataframe tbody tr th:only-of-type {\n",
       "        vertical-align: middle;\n",
       "    }\n",
       "\n",
       "    .dataframe tbody tr th {\n",
       "        vertical-align: top;\n",
       "    }\n",
       "\n",
       "    .dataframe thead th {\n",
       "        text-align: right;\n",
       "    }\n",
       "</style>\n",
       "<table border=\"1\" class=\"dataframe\">\n",
       "  <thead>\n",
       "    <tr style=\"text-align: right;\">\n",
       "      <th></th>\n",
       "      <th>order_id</th>\n",
       "      <th>user_id</th>\n",
       "      <th>order_number</th>\n",
       "      <th>order_dow</th>\n",
       "      <th>order_hour_of_day</th>\n",
       "      <th>days_since_prior_order</th>\n",
       "    </tr>\n",
       "  </thead>\n",
       "  <tbody>\n",
       "    <tr>\n",
       "      <th>79919</th>\n",
       "      <td>1930084</td>\n",
       "      <td>38088</td>\n",
       "      <td>10</td>\n",
       "      <td>6</td>\n",
       "      <td>12</td>\n",
       "      <td>6.0</td>\n",
       "    </tr>\n",
       "    <tr>\n",
       "      <th>149390</th>\n",
       "      <td>1473965</td>\n",
       "      <td>70076</td>\n",
       "      <td>4</td>\n",
       "      <td>3</td>\n",
       "      <td>13</td>\n",
       "      <td>20.0</td>\n",
       "    </tr>\n",
       "    <tr>\n",
       "      <th>139947</th>\n",
       "      <td>1457395</td>\n",
       "      <td>171439</td>\n",
       "      <td>14</td>\n",
       "      <td>3</td>\n",
       "      <td>10</td>\n",
       "      <td>7.0</td>\n",
       "    </tr>\n",
       "    <tr>\n",
       "      <th>186128</th>\n",
       "      <td>2354946</td>\n",
       "      <td>199201</td>\n",
       "      <td>11</td>\n",
       "      <td>4</td>\n",
       "      <td>13</td>\n",
       "      <td>3.0</td>\n",
       "    </tr>\n",
       "    <tr>\n",
       "      <th>375782</th>\n",
       "      <td>1791534</td>\n",
       "      <td>70169</td>\n",
       "      <td>19</td>\n",
       "      <td>5</td>\n",
       "      <td>8</td>\n",
       "      <td>10.0</td>\n",
       "    </tr>\n",
       "  </tbody>\n",
       "</table>\n",
       "</div>"
      ],
      "text/plain": [
       "        order_id  user_id  order_number  order_dow  order_hour_of_day  \\\n",
       "79919    1930084    38088            10          6                 12   \n",
       "149390   1473965    70076             4          3                 13   \n",
       "139947   1457395   171439            14          3                 10   \n",
       "186128   2354946   199201            11          4                 13   \n",
       "375782   1791534    70169            19          5                  8   \n",
       "\n",
       "        days_since_prior_order  \n",
       "79919                      6.0  \n",
       "149390                    20.0  \n",
       "139947                     7.0  \n",
       "186128                     3.0  \n",
       "375782                    10.0  "
      ]
     },
     "execution_count": 2,
     "metadata": {},
     "output_type": "execute_result"
    }
   ],
   "source": [
    "orders_df = pd.read_csv('/datasets/instacart_orders.csv', sep=';')\n",
    "orders_df.sample(5,random_state=1234)"
   ]
  },
  {
   "cell_type": "code",
   "execution_count": 3,
   "id": "d8370c05",
   "metadata": {},
   "outputs": [
    {
     "data": {
      "text/html": [
       "<div>\n",
       "<style scoped>\n",
       "    .dataframe tbody tr th:only-of-type {\n",
       "        vertical-align: middle;\n",
       "    }\n",
       "\n",
       "    .dataframe tbody tr th {\n",
       "        vertical-align: top;\n",
       "    }\n",
       "\n",
       "    .dataframe thead th {\n",
       "        text-align: right;\n",
       "    }\n",
       "</style>\n",
       "<table border=\"1\" class=\"dataframe\">\n",
       "  <thead>\n",
       "    <tr style=\"text-align: right;\">\n",
       "      <th></th>\n",
       "      <th>product_id</th>\n",
       "      <th>product_name</th>\n",
       "      <th>aisle_id</th>\n",
       "      <th>department_id</th>\n",
       "    </tr>\n",
       "  </thead>\n",
       "  <tbody>\n",
       "    <tr>\n",
       "      <th>46265</th>\n",
       "      <td>46266</td>\n",
       "      <td>California Heirloom Monviso Peeled Garlic</td>\n",
       "      <td>32</td>\n",
       "      <td>4</td>\n",
       "    </tr>\n",
       "    <tr>\n",
       "      <th>42338</th>\n",
       "      <td>42339</td>\n",
       "      <td>Italian Salad Dressing &amp; Seasoning Mix Packets</td>\n",
       "      <td>89</td>\n",
       "      <td>13</td>\n",
       "    </tr>\n",
       "    <tr>\n",
       "      <th>37545</th>\n",
       "      <td>37546</td>\n",
       "      <td>Sponge Cosmetic Wedges</td>\n",
       "      <td>132</td>\n",
       "      <td>11</td>\n",
       "    </tr>\n",
       "    <tr>\n",
       "      <th>15457</th>\n",
       "      <td>15458</td>\n",
       "      <td>NaN</td>\n",
       "      <td>100</td>\n",
       "      <td>21</td>\n",
       "    </tr>\n",
       "    <tr>\n",
       "      <th>34068</th>\n",
       "      <td>34069</td>\n",
       "      <td>Organic AppleBerry Applesauce on the Go</td>\n",
       "      <td>99</td>\n",
       "      <td>15</td>\n",
       "    </tr>\n",
       "  </tbody>\n",
       "</table>\n",
       "</div>"
      ],
      "text/plain": [
       "       product_id                                    product_name  aisle_id  \\\n",
       "46265       46266       California Heirloom Monviso Peeled Garlic        32   \n",
       "42338       42339  Italian Salad Dressing & Seasoning Mix Packets        89   \n",
       "37545       37546                          Sponge Cosmetic Wedges       132   \n",
       "15457       15458                                             NaN       100   \n",
       "34068       34069         Organic AppleBerry Applesauce on the Go        99   \n",
       "\n",
       "       department_id  \n",
       "46265              4  \n",
       "42338             13  \n",
       "37545             11  \n",
       "15457             21  \n",
       "34068             15  "
      ]
     },
     "execution_count": 3,
     "metadata": {},
     "output_type": "execute_result"
    }
   ],
   "source": [
    "product_df = pd.read_csv('/datasets/products.csv', sep=';')\n",
    "product_df.sample(5,random_state=1234)"
   ]
  },
  {
   "cell_type": "code",
   "execution_count": 4,
   "id": "59e2090f",
   "metadata": {},
   "outputs": [
    {
     "data": {
      "text/html": [
       "<div>\n",
       "<style scoped>\n",
       "    .dataframe tbody tr th:only-of-type {\n",
       "        vertical-align: middle;\n",
       "    }\n",
       "\n",
       "    .dataframe tbody tr th {\n",
       "        vertical-align: top;\n",
       "    }\n",
       "\n",
       "    .dataframe thead th {\n",
       "        text-align: right;\n",
       "    }\n",
       "</style>\n",
       "<table border=\"1\" class=\"dataframe\">\n",
       "  <thead>\n",
       "    <tr style=\"text-align: right;\">\n",
       "      <th></th>\n",
       "      <th>aisle_id</th>\n",
       "      <th>aisle</th>\n",
       "    </tr>\n",
       "  </thead>\n",
       "  <tbody>\n",
       "    <tr>\n",
       "      <th>6</th>\n",
       "      <td>7</td>\n",
       "      <td>packaged meat</td>\n",
       "    </tr>\n",
       "    <tr>\n",
       "      <th>131</th>\n",
       "      <td>132</td>\n",
       "      <td>beauty</td>\n",
       "    </tr>\n",
       "    <tr>\n",
       "      <th>93</th>\n",
       "      <td>94</td>\n",
       "      <td>tea</td>\n",
       "    </tr>\n",
       "    <tr>\n",
       "      <th>62</th>\n",
       "      <td>63</td>\n",
       "      <td>grains rice dried goods</td>\n",
       "    </tr>\n",
       "    <tr>\n",
       "      <th>68</th>\n",
       "      <td>69</td>\n",
       "      <td>soup broth bouillon</td>\n",
       "    </tr>\n",
       "  </tbody>\n",
       "</table>\n",
       "</div>"
      ],
      "text/plain": [
       "     aisle_id                    aisle\n",
       "6           7            packaged meat\n",
       "131       132                   beauty\n",
       "93         94                      tea\n",
       "62         63  grains rice dried goods\n",
       "68         69      soup broth bouillon"
      ]
     },
     "execution_count": 4,
     "metadata": {},
     "output_type": "execute_result"
    }
   ],
   "source": [
    "aisle_df = pd.read_csv('/datasets/aisles.csv', sep=';')\n",
    "aisle_df.sample(5, random_state=1234)"
   ]
  },
  {
   "cell_type": "code",
   "execution_count": 5,
   "id": "6fc81694",
   "metadata": {},
   "outputs": [
    {
     "data": {
      "text/html": [
       "<div>\n",
       "<style scoped>\n",
       "    .dataframe tbody tr th:only-of-type {\n",
       "        vertical-align: middle;\n",
       "    }\n",
       "\n",
       "    .dataframe tbody tr th {\n",
       "        vertical-align: top;\n",
       "    }\n",
       "\n",
       "    .dataframe thead th {\n",
       "        text-align: right;\n",
       "    }\n",
       "</style>\n",
       "<table border=\"1\" class=\"dataframe\">\n",
       "  <thead>\n",
       "    <tr style=\"text-align: right;\">\n",
       "      <th></th>\n",
       "      <th>department_id</th>\n",
       "      <th>department</th>\n",
       "    </tr>\n",
       "  </thead>\n",
       "  <tbody>\n",
       "    <tr>\n",
       "      <th>3</th>\n",
       "      <td>4</td>\n",
       "      <td>produce</td>\n",
       "    </tr>\n",
       "    <tr>\n",
       "      <th>13</th>\n",
       "      <td>14</td>\n",
       "      <td>breakfast</td>\n",
       "    </tr>\n",
       "    <tr>\n",
       "      <th>2</th>\n",
       "      <td>3</td>\n",
       "      <td>bakery</td>\n",
       "    </tr>\n",
       "    <tr>\n",
       "      <th>16</th>\n",
       "      <td>17</td>\n",
       "      <td>household</td>\n",
       "    </tr>\n",
       "    <tr>\n",
       "      <th>14</th>\n",
       "      <td>15</td>\n",
       "      <td>canned goods</td>\n",
       "    </tr>\n",
       "  </tbody>\n",
       "</table>\n",
       "</div>"
      ],
      "text/plain": [
       "    department_id    department\n",
       "3               4       produce\n",
       "13             14     breakfast\n",
       "2               3        bakery\n",
       "16             17     household\n",
       "14             15  canned goods"
      ]
     },
     "execution_count": 5,
     "metadata": {},
     "output_type": "execute_result"
    }
   ],
   "source": [
    "departments_df = pd.read_csv('/datasets/departments.csv', sep=';')\n",
    "departments_df.sample(5,random_state=1234)"
   ]
  },
  {
   "cell_type": "code",
   "execution_count": 6,
   "id": "03ed7db2",
   "metadata": {},
   "outputs": [
    {
     "data": {
      "text/html": [
       "<div>\n",
       "<style scoped>\n",
       "    .dataframe tbody tr th:only-of-type {\n",
       "        vertical-align: middle;\n",
       "    }\n",
       "\n",
       "    .dataframe tbody tr th {\n",
       "        vertical-align: top;\n",
       "    }\n",
       "\n",
       "    .dataframe thead th {\n",
       "        text-align: right;\n",
       "    }\n",
       "</style>\n",
       "<table border=\"1\" class=\"dataframe\">\n",
       "  <thead>\n",
       "    <tr style=\"text-align: right;\">\n",
       "      <th></th>\n",
       "      <th>order_id</th>\n",
       "      <th>product_id</th>\n",
       "      <th>add_to_cart_order</th>\n",
       "      <th>reordered</th>\n",
       "    </tr>\n",
       "  </thead>\n",
       "  <tbody>\n",
       "    <tr>\n",
       "      <th>2726383</th>\n",
       "      <td>559741</td>\n",
       "      <td>4472</td>\n",
       "      <td>10.0</td>\n",
       "      <td>1</td>\n",
       "    </tr>\n",
       "    <tr>\n",
       "      <th>1121722</th>\n",
       "      <td>283670</td>\n",
       "      <td>46979</td>\n",
       "      <td>15.0</td>\n",
       "      <td>0</td>\n",
       "    </tr>\n",
       "    <tr>\n",
       "      <th>2606682</th>\n",
       "      <td>1156198</td>\n",
       "      <td>27966</td>\n",
       "      <td>3.0</td>\n",
       "      <td>1</td>\n",
       "    </tr>\n",
       "    <tr>\n",
       "      <th>2400311</th>\n",
       "      <td>1858123</td>\n",
       "      <td>31714</td>\n",
       "      <td>6.0</td>\n",
       "      <td>0</td>\n",
       "    </tr>\n",
       "    <tr>\n",
       "      <th>2970981</th>\n",
       "      <td>3206451</td>\n",
       "      <td>44632</td>\n",
       "      <td>5.0</td>\n",
       "      <td>1</td>\n",
       "    </tr>\n",
       "  </tbody>\n",
       "</table>\n",
       "</div>"
      ],
      "text/plain": [
       "         order_id  product_id  add_to_cart_order  reordered\n",
       "2726383    559741        4472               10.0          1\n",
       "1121722    283670       46979               15.0          0\n",
       "2606682   1156198       27966                3.0          1\n",
       "2400311   1858123       31714                6.0          0\n",
       "2970981   3206451       44632                5.0          1"
      ]
     },
     "execution_count": 6,
     "metadata": {},
     "output_type": "execute_result"
    }
   ],
   "source": [
    "order_products_df = pd.read_csv('/datasets/order_products.csv', sep=';')\n",
    "order_products_df.sample(5,random_state=1234)"
   ]
  },
  {
   "cell_type": "code",
   "execution_count": 7,
   "id": "7bef3b4d",
   "metadata": {},
   "outputs": [
    {
     "name": "stdout",
     "output_type": "stream",
     "text": [
      "<class 'pandas.core.frame.DataFrame'>\n",
      "RangeIndex: 478967 entries, 0 to 478966\n",
      "Data columns (total 6 columns):\n",
      " #   Column                  Non-Null Count   Dtype  \n",
      "---  ------                  --------------   -----  \n",
      " 0   order_id                478967 non-null  int64  \n",
      " 1   user_id                 478967 non-null  int64  \n",
      " 2   order_number            478967 non-null  int64  \n",
      " 3   order_dow               478967 non-null  int64  \n",
      " 4   order_hour_of_day       478967 non-null  int64  \n",
      " 5   days_since_prior_order  450148 non-null  float64\n",
      "dtypes: float64(1), int64(5)\n",
      "memory usage: 21.9 MB\n"
     ]
    }
   ],
   "source": [
    "orders_df.info()"
   ]
  },
  {
   "cell_type": "code",
   "execution_count": 8,
   "id": "7318a7e4",
   "metadata": {},
   "outputs": [
    {
     "name": "stdout",
     "output_type": "stream",
     "text": [
      "<class 'pandas.core.frame.DataFrame'>\n",
      "RangeIndex: 49694 entries, 0 to 49693\n",
      "Data columns (total 4 columns):\n",
      " #   Column         Non-Null Count  Dtype \n",
      "---  ------         --------------  ----- \n",
      " 0   product_id     49694 non-null  int64 \n",
      " 1   product_name   48436 non-null  object\n",
      " 2   aisle_id       49694 non-null  int64 \n",
      " 3   department_id  49694 non-null  int64 \n",
      "dtypes: int64(3), object(1)\n",
      "memory usage: 1.5+ MB\n"
     ]
    }
   ],
   "source": [
    "product_df.info()"
   ]
  },
  {
   "cell_type": "code",
   "execution_count": 9,
   "id": "ff823fe1",
   "metadata": {},
   "outputs": [
    {
     "name": "stdout",
     "output_type": "stream",
     "text": [
      "<class 'pandas.core.frame.DataFrame'>\n",
      "RangeIndex: 134 entries, 0 to 133\n",
      "Data columns (total 2 columns):\n",
      " #   Column    Non-Null Count  Dtype \n",
      "---  ------    --------------  ----- \n",
      " 0   aisle_id  134 non-null    int64 \n",
      " 1   aisle     134 non-null    object\n",
      "dtypes: int64(1), object(1)\n",
      "memory usage: 2.2+ KB\n"
     ]
    }
   ],
   "source": [
    "aisle_df.info()"
   ]
  },
  {
   "cell_type": "code",
   "execution_count": 10,
   "id": "9686b2ea",
   "metadata": {},
   "outputs": [
    {
     "name": "stdout",
     "output_type": "stream",
     "text": [
      "<class 'pandas.core.frame.DataFrame'>\n",
      "RangeIndex: 21 entries, 0 to 20\n",
      "Data columns (total 2 columns):\n",
      " #   Column         Non-Null Count  Dtype \n",
      "---  ------         --------------  ----- \n",
      " 0   department_id  21 non-null     int64 \n",
      " 1   department     21 non-null     object\n",
      "dtypes: int64(1), object(1)\n",
      "memory usage: 464.0+ bytes\n"
     ]
    }
   ],
   "source": [
    "departments_df.info()"
   ]
  },
  {
   "cell_type": "code",
   "execution_count": 11,
   "id": "dd039586",
   "metadata": {},
   "outputs": [
    {
     "name": "stdout",
     "output_type": "stream",
     "text": [
      "<class 'pandas.core.frame.DataFrame'>\n",
      "RangeIndex: 4545007 entries, 0 to 4545006\n",
      "Data columns (total 4 columns):\n",
      " #   Column             Non-Null Count    Dtype  \n",
      "---  ------             --------------    -----  \n",
      " 0   order_id           4545007 non-null  int64  \n",
      " 1   product_id         4545007 non-null  int64  \n",
      " 2   add_to_cart_order  4544171 non-null  float64\n",
      " 3   reordered          4545007 non-null  int64  \n",
      "dtypes: float64(1), int64(3)\n",
      "memory usage: 138.7 MB\n"
     ]
    }
   ],
   "source": [
    "order_products_df.info(show_counts=True)"
   ]
  },
  {
   "cell_type": "markdown",
   "id": "07357848-dc64-4156-9cc3-01ff4365226d",
   "metadata": {},
   "source": [
    "## Find and remove duplicate values (and describe why you make your choices)"
   ]
  },
  {
   "cell_type": "markdown",
   "id": "f179f0a9",
   "metadata": {},
   "source": [
    "### `orders` data frame"
   ]
  },
  {
   "cell_type": "code",
   "execution_count": 12,
   "id": "b99297a5-405a-463d-8535-9adc3da4ad74",
   "metadata": {},
   "outputs": [
    {
     "data": {
      "text/plain": [
       "False    478952\n",
       "True         15\n",
       "dtype: int64"
      ]
     },
     "execution_count": 12,
     "metadata": {},
     "output_type": "execute_result"
    }
   ],
   "source": [
    "# Check for duplicated orders\n",
    "orders_df.duplicated().value_counts() #There are 15 duplicated rows"
   ]
  },
  {
   "cell_type": "code",
   "execution_count": 13,
   "id": "0d44de5d",
   "metadata": {},
   "outputs": [
    {
     "data": {
      "text/html": [
       "<div>\n",
       "<style scoped>\n",
       "    .dataframe tbody tr th:only-of-type {\n",
       "        vertical-align: middle;\n",
       "    }\n",
       "\n",
       "    .dataframe tbody tr th {\n",
       "        vertical-align: top;\n",
       "    }\n",
       "\n",
       "    .dataframe thead th {\n",
       "        text-align: right;\n",
       "    }\n",
       "</style>\n",
       "<table border=\"1\" class=\"dataframe\">\n",
       "  <thead>\n",
       "    <tr style=\"text-align: right;\">\n",
       "      <th></th>\n",
       "      <th>order_id</th>\n",
       "      <th>user_id</th>\n",
       "      <th>order_number</th>\n",
       "      <th>order_dow</th>\n",
       "      <th>order_hour_of_day</th>\n",
       "      <th>days_since_prior_order</th>\n",
       "    </tr>\n",
       "  </thead>\n",
       "  <tbody>\n",
       "    <tr>\n",
       "      <th>4838</th>\n",
       "      <td>2766110</td>\n",
       "      <td>162084</td>\n",
       "      <td>41</td>\n",
       "      <td>3</td>\n",
       "      <td>2</td>\n",
       "      <td>16.0</td>\n",
       "    </tr>\n",
       "    <tr>\n",
       "      <th>5156</th>\n",
       "      <td>2190225</td>\n",
       "      <td>138285</td>\n",
       "      <td>18</td>\n",
       "      <td>3</td>\n",
       "      <td>2</td>\n",
       "      <td>11.0</td>\n",
       "    </tr>\n",
       "    <tr>\n",
       "      <th>15506</th>\n",
       "      <td>553049</td>\n",
       "      <td>58599</td>\n",
       "      <td>13</td>\n",
       "      <td>3</td>\n",
       "      <td>2</td>\n",
       "      <td>7.0</td>\n",
       "    </tr>\n",
       "    <tr>\n",
       "      <th>18420</th>\n",
       "      <td>382357</td>\n",
       "      <td>120200</td>\n",
       "      <td>19</td>\n",
       "      <td>3</td>\n",
       "      <td>2</td>\n",
       "      <td>11.0</td>\n",
       "    </tr>\n",
       "    <tr>\n",
       "      <th>24691</th>\n",
       "      <td>690242</td>\n",
       "      <td>77357</td>\n",
       "      <td>2</td>\n",
       "      <td>3</td>\n",
       "      <td>2</td>\n",
       "      <td>9.0</td>\n",
       "    </tr>\n",
       "    <tr>\n",
       "      <th>...</th>\n",
       "      <td>...</td>\n",
       "      <td>...</td>\n",
       "      <td>...</td>\n",
       "      <td>...</td>\n",
       "      <td>...</td>\n",
       "      <td>...</td>\n",
       "    </tr>\n",
       "    <tr>\n",
       "      <th>457013</th>\n",
       "      <td>3384021</td>\n",
       "      <td>14881</td>\n",
       "      <td>6</td>\n",
       "      <td>3</td>\n",
       "      <td>2</td>\n",
       "      <td>30.0</td>\n",
       "    </tr>\n",
       "    <tr>\n",
       "      <th>458816</th>\n",
       "      <td>910166</td>\n",
       "      <td>164782</td>\n",
       "      <td>18</td>\n",
       "      <td>3</td>\n",
       "      <td>2</td>\n",
       "      <td>4.0</td>\n",
       "    </tr>\n",
       "    <tr>\n",
       "      <th>459635</th>\n",
       "      <td>1680532</td>\n",
       "      <td>106435</td>\n",
       "      <td>6</td>\n",
       "      <td>3</td>\n",
       "      <td>2</td>\n",
       "      <td>21.0</td>\n",
       "    </tr>\n",
       "    <tr>\n",
       "      <th>468324</th>\n",
       "      <td>222962</td>\n",
       "      <td>54979</td>\n",
       "      <td>59</td>\n",
       "      <td>3</td>\n",
       "      <td>2</td>\n",
       "      <td>3.0</td>\n",
       "    </tr>\n",
       "    <tr>\n",
       "      <th>477526</th>\n",
       "      <td>2592344</td>\n",
       "      <td>46860</td>\n",
       "      <td>38</td>\n",
       "      <td>3</td>\n",
       "      <td>2</td>\n",
       "      <td>3.0</td>\n",
       "    </tr>\n",
       "  </tbody>\n",
       "</table>\n",
       "<p>121 rows × 6 columns</p>\n",
       "</div>"
      ],
      "text/plain": [
       "        order_id  user_id  order_number  order_dow  order_hour_of_day  \\\n",
       "4838     2766110   162084            41          3                  2   \n",
       "5156     2190225   138285            18          3                  2   \n",
       "15506     553049    58599            13          3                  2   \n",
       "18420     382357   120200            19          3                  2   \n",
       "24691     690242    77357             2          3                  2   \n",
       "...          ...      ...           ...        ...                ...   \n",
       "457013   3384021    14881             6          3                  2   \n",
       "458816    910166   164782            18          3                  2   \n",
       "459635   1680532   106435             6          3                  2   \n",
       "468324    222962    54979            59          3                  2   \n",
       "477526   2592344    46860            38          3                  2   \n",
       "\n",
       "        days_since_prior_order  \n",
       "4838                      16.0  \n",
       "5156                      11.0  \n",
       "15506                      7.0  \n",
       "18420                     11.0  \n",
       "24691                      9.0  \n",
       "...                        ...  \n",
       "457013                    30.0  \n",
       "458816                     4.0  \n",
       "459635                    21.0  \n",
       "468324                     3.0  \n",
       "477526                     3.0  \n",
       "\n",
       "[121 rows x 6 columns]"
      ]
     },
     "execution_count": 13,
     "metadata": {},
     "output_type": "execute_result"
    }
   ],
   "source": [
    "# Check for all orders placed Wednesday at 2:00 AM\n",
    "wed_orders = orders_df[(orders_df['order_dow'] == 3) & (orders_df['order_hour_of_day'] == 2)]\n",
    "wed_orders"
   ]
  },
  {
   "cell_type": "code",
   "execution_count": 14,
   "id": "480563c7",
   "metadata": {},
   "outputs": [],
   "source": [
    "# Remove duplicate orders\n",
    "orders_df = orders_df.drop_duplicates()"
   ]
  },
  {
   "cell_type": "code",
   "execution_count": 15,
   "id": "0b2396a2",
   "metadata": {},
   "outputs": [
    {
     "data": {
      "text/plain": [
       "False    478952\n",
       "dtype: int64"
      ]
     },
     "execution_count": 15,
     "metadata": {},
     "output_type": "execute_result"
    }
   ],
   "source": [
    "# Double check for duplicate rows\n",
    "orders_df.duplicated().value_counts()"
   ]
  },
  {
   "cell_type": "code",
   "execution_count": 16,
   "id": "f6113ef1",
   "metadata": {},
   "outputs": [
    {
     "data": {
      "text/plain": [
       "False    478952\n",
       "dtype: int64"
      ]
     },
     "execution_count": 16,
     "metadata": {},
     "output_type": "execute_result"
    }
   ],
   "source": [
    "# Double check for duplicate order IDs only\n",
    "orders_df.duplicated(subset='order_id').value_counts()"
   ]
  },
  {
   "cell_type": "markdown",
   "id": "5e8905ae",
   "metadata": {},
   "source": [
    "There were 15 duplicate rows in the orders dataframe. I used .value_counts() to see the number of duplicate rows (where True means there are duplicate rows). I used the drop_duplicates() method to get rid of the duplicates and then double checked that there were no more duplicates and no more duplicate order ids. These duplicated rows could have been caused by a system error."
   ]
  },
  {
   "cell_type": "markdown",
   "id": "45e6bc46",
   "metadata": {},
   "source": [
    "### `products` data frame"
   ]
  },
  {
   "cell_type": "code",
   "execution_count": 17,
   "id": "5f526b5b-8175-46fa-a0fd-441767d50e64",
   "metadata": {},
   "outputs": [
    {
     "data": {
      "text/plain": [
       "False    49694\n",
       "dtype: int64"
      ]
     },
     "execution_count": 17,
     "metadata": {},
     "output_type": "execute_result"
    }
   ],
   "source": [
    "# Check for fully duplicate rows\n",
    "product_df.duplicated().value_counts() #there are no duplicate rows"
   ]
  },
  {
   "cell_type": "code",
   "execution_count": 18,
   "id": "88daa4f4",
   "metadata": {},
   "outputs": [
    {
     "data": {
      "text/plain": [
       "False    49694\n",
       "dtype: int64"
      ]
     },
     "execution_count": 18,
     "metadata": {},
     "output_type": "execute_result"
    }
   ],
   "source": [
    "# Check for just duplicate product IDs\n",
    "product_df.duplicated(subset='product_id').value_counts() #there are no duplicate product IDs"
   ]
  },
  {
   "cell_type": "code",
   "execution_count": 19,
   "id": "c773f0bf",
   "metadata": {},
   "outputs": [
    {
     "data": {
      "text/plain": [
       "False    48333\n",
       "True      1361\n",
       "Name: product_name, dtype: int64"
      ]
     },
     "execution_count": 19,
     "metadata": {},
     "output_type": "execute_result"
    }
   ],
   "source": [
    "# Check for just duplicate product names (convert names to lowercase to compare better)\n",
    "product_df['product_name'] = product_df['product_name'].str.lower()\n",
    "product_df['product_name'].duplicated().value_counts() #there are 1361 duplicate values in the product_name column"
   ]
  },
  {
   "cell_type": "code",
   "execution_count": 20,
   "id": "01efd02e",
   "metadata": {},
   "outputs": [
    {
     "data": {
      "text/plain": [
       "False    48332\n",
       "True       104\n",
       "Name: product_name, dtype: int64"
      ]
     },
     "execution_count": 20,
     "metadata": {},
     "output_type": "execute_result"
    }
   ],
   "source": [
    "# Check for duplicate product names that aren't missing\n",
    "product_df['product_name'].dropna().duplicated().value_counts() #There are 104 duplicate product names that are not NaN"
   ]
  },
  {
   "cell_type": "code",
   "execution_count": 21,
   "id": "33b56bce",
   "metadata": {},
   "outputs": [
    {
     "data": {
      "text/html": [
       "<div>\n",
       "<style scoped>\n",
       "    .dataframe tbody tr th:only-of-type {\n",
       "        vertical-align: middle;\n",
       "    }\n",
       "\n",
       "    .dataframe tbody tr th {\n",
       "        vertical-align: top;\n",
       "    }\n",
       "\n",
       "    .dataframe thead th {\n",
       "        text-align: right;\n",
       "    }\n",
       "</style>\n",
       "<table border=\"1\" class=\"dataframe\">\n",
       "  <thead>\n",
       "    <tr style=\"text-align: right;\">\n",
       "      <th></th>\n",
       "      <th>product_id</th>\n",
       "      <th>product_name</th>\n",
       "      <th>aisle_id</th>\n",
       "      <th>department_id</th>\n",
       "    </tr>\n",
       "  </thead>\n",
       "  <tbody>\n",
       "    <tr>\n",
       "      <th>0</th>\n",
       "      <td>1</td>\n",
       "      <td>chocolate sandwich cookies</td>\n",
       "      <td>61</td>\n",
       "      <td>19</td>\n",
       "    </tr>\n",
       "    <tr>\n",
       "      <th>1</th>\n",
       "      <td>2</td>\n",
       "      <td>all-seasons salt</td>\n",
       "      <td>104</td>\n",
       "      <td>13</td>\n",
       "    </tr>\n",
       "    <tr>\n",
       "      <th>2</th>\n",
       "      <td>3</td>\n",
       "      <td>robust golden unsweetened oolong tea</td>\n",
       "      <td>94</td>\n",
       "      <td>7</td>\n",
       "    </tr>\n",
       "    <tr>\n",
       "      <th>3</th>\n",
       "      <td>4</td>\n",
       "      <td>smart ones classic favorites mini rigatoni wit...</td>\n",
       "      <td>38</td>\n",
       "      <td>1</td>\n",
       "    </tr>\n",
       "    <tr>\n",
       "      <th>4</th>\n",
       "      <td>5</td>\n",
       "      <td>green chile anytime sauce</td>\n",
       "      <td>5</td>\n",
       "      <td>13</td>\n",
       "    </tr>\n",
       "    <tr>\n",
       "      <th>...</th>\n",
       "      <td>...</td>\n",
       "      <td>...</td>\n",
       "      <td>...</td>\n",
       "      <td>...</td>\n",
       "    </tr>\n",
       "    <tr>\n",
       "      <th>49552</th>\n",
       "      <td>49553</td>\n",
       "      <td>NaN</td>\n",
       "      <td>100</td>\n",
       "      <td>21</td>\n",
       "    </tr>\n",
       "    <tr>\n",
       "      <th>49574</th>\n",
       "      <td>49575</td>\n",
       "      <td>NaN</td>\n",
       "      <td>100</td>\n",
       "      <td>21</td>\n",
       "    </tr>\n",
       "    <tr>\n",
       "      <th>49640</th>\n",
       "      <td>49641</td>\n",
       "      <td>NaN</td>\n",
       "      <td>100</td>\n",
       "      <td>21</td>\n",
       "    </tr>\n",
       "    <tr>\n",
       "      <th>49663</th>\n",
       "      <td>49664</td>\n",
       "      <td>NaN</td>\n",
       "      <td>100</td>\n",
       "      <td>21</td>\n",
       "    </tr>\n",
       "    <tr>\n",
       "      <th>49668</th>\n",
       "      <td>49669</td>\n",
       "      <td>NaN</td>\n",
       "      <td>100</td>\n",
       "      <td>21</td>\n",
       "    </tr>\n",
       "  </tbody>\n",
       "</table>\n",
       "<p>49591 rows × 4 columns</p>\n",
       "</div>"
      ],
      "text/plain": [
       "       product_id                                       product_name  \\\n",
       "0               1                         chocolate sandwich cookies   \n",
       "1               2                                   all-seasons salt   \n",
       "2               3               robust golden unsweetened oolong tea   \n",
       "3               4  smart ones classic favorites mini rigatoni wit...   \n",
       "4               5                          green chile anytime sauce   \n",
       "...           ...                                                ...   \n",
       "49552       49553                                                NaN   \n",
       "49574       49575                                                NaN   \n",
       "49640       49641                                                NaN   \n",
       "49663       49664                                                NaN   \n",
       "49668       49669                                                NaN   \n",
       "\n",
       "       aisle_id  department_id  \n",
       "0            61             19  \n",
       "1           104             13  \n",
       "2            94              7  \n",
       "3            38              1  \n",
       "4             5             13  \n",
       "...         ...            ...  \n",
       "49552       100             21  \n",
       "49574       100             21  \n",
       "49640       100             21  \n",
       "49663       100             21  \n",
       "49668       100             21  \n",
       "\n",
       "[49591 rows x 4 columns]"
      ]
     },
     "execution_count": 21,
     "metadata": {},
     "output_type": "execute_result"
    }
   ],
   "source": [
    "#Drop duplicate product names while keeping NaNs\n",
    "product_df = product_df.drop_duplicates('product_name').append(product_df[product_df['product_name'].isnull()])\n",
    "product_df"
   ]
  },
  {
   "cell_type": "markdown",
   "id": "9da8d293",
   "metadata": {},
   "source": [
    "The duplicate values in the product_name column are rows where there is no value (NaN) for 'product_name' and some names that are the same when converted to lowercase using .lower(). I used .value_counts() to check for fully duplicated rows (there were none) and to check for duplicate product_id values since in this case each identifier should be unique. Next I checked for duplicate values in the product name column using .lower() to transform all strings to lowercase for easier comparison and found 1361 duplicate values. Then checking for duplicates excluding NaN values using .drop_na() and found 104 names that were duplicates. I then dropped all duplicate product names while keeping NaNs to fix at a later step."
   ]
  },
  {
   "cell_type": "markdown",
   "id": "60f30db1",
   "metadata": {},
   "source": [
    "### `departments` data frame"
   ]
  },
  {
   "cell_type": "code",
   "execution_count": 22,
   "id": "fb410ad4-0fbf-4b80-bb09-23fdea79afe3",
   "metadata": {},
   "outputs": [
    {
     "data": {
      "text/plain": [
       "False    21\n",
       "dtype: int64"
      ]
     },
     "execution_count": 22,
     "metadata": {},
     "output_type": "execute_result"
    }
   ],
   "source": [
    "#Check for fully duplicated rows\n",
    "departments_df.duplicated().value_counts()"
   ]
  },
  {
   "cell_type": "code",
   "execution_count": 23,
   "id": "332b12bb",
   "metadata": {},
   "outputs": [
    {
     "name": "stdout",
     "output_type": "stream",
     "text": [
      "False    21\n",
      "Name: department_id, dtype: int64\n",
      "False    21\n",
      "Name: department, dtype: int64\n"
     ]
    }
   ],
   "source": [
    "#Check for duplicated values in each column\n",
    "print(departments_df['department_id'].duplicated().value_counts())\n",
    "print(departments_df['department'].duplicated().value_counts())"
   ]
  },
  {
   "cell_type": "markdown",
   "id": "bd30d78e",
   "metadata": {},
   "source": [
    "Using .duplicated() and .value_counts(), I found that there are no duplicate rows or duplicate values in each column."
   ]
  },
  {
   "cell_type": "markdown",
   "id": "889349c1",
   "metadata": {},
   "source": [
    "### `aisles` data frame"
   ]
  },
  {
   "cell_type": "code",
   "execution_count": 24,
   "id": "9da89fb9-4679-40f5-ad0d-c34df753a3f8",
   "metadata": {},
   "outputs": [
    {
     "data": {
      "text/plain": [
       "False    134\n",
       "dtype: int64"
      ]
     },
     "execution_count": 24,
     "metadata": {},
     "output_type": "execute_result"
    }
   ],
   "source": [
    "#Check for fully duplicated rows\n",
    "aisle_df.duplicated().value_counts()"
   ]
  },
  {
   "cell_type": "code",
   "execution_count": 25,
   "id": "da7c2822",
   "metadata": {},
   "outputs": [
    {
     "name": "stdout",
     "output_type": "stream",
     "text": [
      "False    134\n",
      "Name: aisle_id, dtype: int64\n",
      "False    134\n",
      "Name: aisle, dtype: int64\n"
     ]
    }
   ],
   "source": [
    "#Check for duplicated values in each column\n",
    "print(aisle_df['aisle_id'].duplicated().value_counts())\n",
    "print(aisle_df['aisle'].duplicated().value_counts())"
   ]
  },
  {
   "cell_type": "markdown",
   "id": "ac63826f",
   "metadata": {},
   "source": [
    "Using .duplicated() and .value_counts(), I found that there are no duplicate rows or duplicate values in each column."
   ]
  },
  {
   "cell_type": "markdown",
   "id": "274cd06a",
   "metadata": {},
   "source": [
    "### `order_products` data frame"
   ]
  },
  {
   "cell_type": "code",
   "execution_count": 26,
   "id": "52326689-84a8-4b8f-a881-7c68780f62c9",
   "metadata": {},
   "outputs": [
    {
     "data": {
      "text/plain": [
       "False    4545007\n",
       "dtype: int64"
      ]
     },
     "execution_count": 26,
     "metadata": {},
     "output_type": "execute_result"
    }
   ],
   "source": [
    "# Check for fullly duplicate rows\n",
    "order_products_df.duplicated().value_counts()"
   ]
  },
  {
   "cell_type": "code",
   "execution_count": 27,
   "id": "7b861391",
   "metadata": {},
   "outputs": [
    {
     "name": "stdout",
     "output_type": "stream",
     "text": [
      "True     4094961\n",
      "False     450046\n",
      "Name: order_id, dtype: int64\n",
      "True     4499434\n",
      "False      45573\n",
      "Name: product_id, dtype: int64\n",
      "Empty DataFrame\n",
      "Columns: [order_id, product_id, add_to_cart_order, reordered]\n",
      "Index: []\n"
     ]
    }
   ],
   "source": [
    "# Double check for any other tricky duplicates\n",
    "print(order_products_df['order_id'].duplicated().value_counts())\n",
    "print(order_products_df['product_id'].duplicated().value_counts())\n",
    "print(order_products_df[order_products_df.duplicated(['order_id','product_id'])]) #I used this method to find duplicate pairs"
   ]
  },
  {
   "cell_type": "markdown",
   "id": "0b890492",
   "metadata": {},
   "source": [
    "Using .duplicated() and .value_counts, I found that there are no duplicate rows. However, there are duplicate values in the order_id column and product_id but that is ok since one order can have multiple product_ids and a product_id can be in different order_ids. I also searched for columns/rows that have the same order_id/product_id pair and found none. Ultimately, I have determined that there is no duplicates that will interfere with analysis so I will not remove/replace the missing values."
   ]
  },
  {
   "cell_type": "markdown",
   "id": "1e46de76",
   "metadata": {},
   "source": [
    "## Find and remove missing values\n"
   ]
  },
  {
   "cell_type": "markdown",
   "id": "c0aebd78",
   "metadata": {},
   "source": [
    "### `products` data frame"
   ]
  },
  {
   "cell_type": "code",
   "execution_count": 28,
   "id": "fe4a8b0f",
   "metadata": {},
   "outputs": [
    {
     "data": {
      "text/plain": [
       "product_id  product_name  aisle_id  department_id\n",
       "False       False         False     False            48332\n",
       "            True          False     False             1259\n",
       "dtype: int64"
      ]
     },
     "execution_count": 28,
     "metadata": {},
     "output_type": "execute_result"
    }
   ],
   "source": [
    "#Check for NaN values\n",
    "product_df.isnull().value_counts() #shows where there are NaN values. There are 1258 rows with missing aisle_id"
   ]
  },
  {
   "cell_type": "code",
   "execution_count": 29,
   "id": "e96167bc",
   "metadata": {},
   "outputs": [
    {
     "name": "stdout",
     "output_type": "stream",
     "text": [
      "       product_id product_name  aisle_id  department_id\n",
      "37             38          NaN       100             21\n",
      "37             38          NaN       100             21\n",
      "71             72          NaN       100             21\n",
      "109           110          NaN       100             21\n",
      "296           297          NaN       100             21\n",
      "...           ...          ...       ...            ...\n",
      "49552       49553          NaN       100             21\n",
      "49574       49575          NaN       100             21\n",
      "49640       49641          NaN       100             21\n",
      "49663       49664          NaN       100             21\n",
      "49668       49669          NaN       100             21\n",
      "\n",
      "[1259 rows x 4 columns]\n"
     ]
    },
    {
     "data": {
      "text/plain": [
       "100    1259\n",
       "Name: aisle_id, dtype: int64"
      ]
     },
     "execution_count": 29,
     "metadata": {},
     "output_type": "execute_result"
    }
   ],
   "source": [
    "# Are all of the missing product names associated with aisle ID 100?\n",
    "null_data = product_df[product_df.isnull().any(axis=1)] #shows which rows have NaN values\n",
    "print(null_data)\n",
    "null_data['aisle_id'].value_counts() #shows that all rows with aisle_id = 100 have NaN as product_name"
   ]
  },
  {
   "cell_type": "code",
   "execution_count": 30,
   "id": "8fd0a541",
   "metadata": {},
   "outputs": [
    {
     "data": {
      "text/plain": [
       "21    1259\n",
       "Name: department_id, dtype: int64"
      ]
     },
     "execution_count": 30,
     "metadata": {},
     "output_type": "execute_result"
    }
   ],
   "source": [
    "# Are all of the missing product names associated with department ID 21?\n",
    "null_data['department_id'].value_counts() #shows that all rows with department_id = 21 have Nan as product_name"
   ]
  },
  {
   "cell_type": "code",
   "execution_count": 31,
   "id": "325c3464",
   "metadata": {},
   "outputs": [
    {
     "name": "stdout",
     "output_type": "stream",
     "text": [
      "    aisle_id    aisle\n",
      "99       100  missing\n",
      "\n",
      "    department_id department\n",
      "20             21    missing\n"
     ]
    }
   ],
   "source": [
    "# What is this ailse and department?\n",
    "print(aisle_df[aisle_df['aisle_id'] == 100]) #the aisle is labeled as missing\n",
    "print()\n",
    "print(departments_df[departments_df['department_id'] == 21]) #the department is labeled as missing"
   ]
  },
  {
   "cell_type": "code",
   "execution_count": 32,
   "id": "6b295120",
   "metadata": {},
   "outputs": [
    {
     "data": {
      "text/plain": [
       "False    49591\n",
       "Name: product_name, dtype: int64"
      ]
     },
     "execution_count": 32,
     "metadata": {},
     "output_type": "execute_result"
    }
   ],
   "source": [
    "# Fill missing product names with 'Unknown'\n",
    "product_df = product_df.fillna('Unknown')\n",
    "product_df['product_name'].isnull().value_counts()"
   ]
  },
  {
   "cell_type": "markdown",
   "id": "fc70e5ad",
   "metadata": {},
   "source": [
    "I checked for missing values using .isnull() and .value_counts() and found that there are 1258 missing values in the product_name column. I confirmed that all missing values are associated with aisle_id = 100 and department_id = 21. The aisle and department these values correspond to are both labeled as 'missing'. The missing product names have been replaced by 'Unknown' by using .fillna(). These are in the dataset since items in a grocery store may have been mislabled or they do not have a label at all and for convenience they are logged as 'missing' to keep some record of them instead of not being accounted for at all."
   ]
  },
  {
   "cell_type": "markdown",
   "id": "7eb45c86",
   "metadata": {},
   "source": [
    "### `orders` data frame"
   ]
  },
  {
   "cell_type": "code",
   "execution_count": 33,
   "id": "93e41d96",
   "metadata": {},
   "outputs": [
    {
     "data": {
      "text/plain": [
       "order_id  user_id  order_number  order_dow  order_hour_of_day  days_since_prior_order\n",
       "False     False    False         False      False              False                     450135\n",
       "                                                               True                       28817\n",
       "dtype: int64"
      ]
     },
     "execution_count": 33,
     "metadata": {},
     "output_type": "execute_result"
    }
   ],
   "source": [
    "#Check for NaN values\n",
    "orders_df.isnull().value_counts() #there are 28817 rows with a missinng days_since_prior_order values"
   ]
  },
  {
   "cell_type": "code",
   "execution_count": 34,
   "id": "166e5a86",
   "metadata": {},
   "outputs": [
    {
     "name": "stdout",
     "output_type": "stream",
     "text": [
      "        order_id  user_id  order_number  order_dow  order_hour_of_day  \\\n",
      "28        133707   182261             1          3                 10   \n",
      "96        787445    25685             1          6                 18   \n",
      "100       294410   111449             1          0                 19   \n",
      "103      2869915   123958             1          4                 16   \n",
      "104      2521921    42286             1          3                 18   \n",
      "...          ...      ...           ...        ...                ...   \n",
      "478895   2589657   205028             1          0                 16   \n",
      "478896   2222353   141211             1          2                 13   \n",
      "478922   2272807   204154             1          1                 15   \n",
      "478926   2499542    68810             1          4                 19   \n",
      "478945   1387033    22496             1          5                 14   \n",
      "\n",
      "        days_since_prior_order  \n",
      "28                         NaN  \n",
      "96                         NaN  \n",
      "100                        NaN  \n",
      "103                        NaN  \n",
      "104                        NaN  \n",
      "...                        ...  \n",
      "478895                     NaN  \n",
      "478896                     NaN  \n",
      "478922                     NaN  \n",
      "478926                     NaN  \n",
      "478945                     NaN  \n",
      "\n",
      "[28817 rows x 6 columns]\n"
     ]
    },
    {
     "data": {
      "text/plain": [
       "1    28817\n",
       "Name: order_number, dtype: int64"
      ]
     },
     "execution_count": 34,
     "metadata": {},
     "output_type": "execute_result"
    }
   ],
   "source": [
    "# Are there any missing values where it's not a customer's first order?\n",
    "null_orders = orders_df[orders_df.isnull().any(axis=1)] #shows which rows have NaN values\n",
    "print(null_orders)\n",
    "null_orders['order_number'].value_counts() #rows with order_number = 1 are the only rows with missing values"
   ]
  },
  {
   "cell_type": "code",
   "execution_count": 35,
   "id": "861c6df6",
   "metadata": {},
   "outputs": [
    {
     "name": "stdout",
     "output_type": "stream",
     "text": [
      "False    478952\n",
      "Name: days_since_prior_order, dtype: int64\n"
     ]
    },
    {
     "data": {
      "text/html": [
       "<div>\n",
       "<style scoped>\n",
       "    .dataframe tbody tr th:only-of-type {\n",
       "        vertical-align: middle;\n",
       "    }\n",
       "\n",
       "    .dataframe tbody tr th {\n",
       "        vertical-align: top;\n",
       "    }\n",
       "\n",
       "    .dataframe thead th {\n",
       "        text-align: right;\n",
       "    }\n",
       "</style>\n",
       "<table border=\"1\" class=\"dataframe\">\n",
       "  <thead>\n",
       "    <tr style=\"text-align: right;\">\n",
       "      <th></th>\n",
       "      <th>order_id</th>\n",
       "      <th>user_id</th>\n",
       "      <th>order_number</th>\n",
       "      <th>order_dow</th>\n",
       "      <th>order_hour_of_day</th>\n",
       "      <th>days_since_prior_order</th>\n",
       "    </tr>\n",
       "  </thead>\n",
       "  <tbody>\n",
       "    <tr>\n",
       "      <th>28</th>\n",
       "      <td>133707</td>\n",
       "      <td>182261</td>\n",
       "      <td>1</td>\n",
       "      <td>3</td>\n",
       "      <td>10</td>\n",
       "      <td>-1.0</td>\n",
       "    </tr>\n",
       "    <tr>\n",
       "      <th>96</th>\n",
       "      <td>787445</td>\n",
       "      <td>25685</td>\n",
       "      <td>1</td>\n",
       "      <td>6</td>\n",
       "      <td>18</td>\n",
       "      <td>-1.0</td>\n",
       "    </tr>\n",
       "    <tr>\n",
       "      <th>100</th>\n",
       "      <td>294410</td>\n",
       "      <td>111449</td>\n",
       "      <td>1</td>\n",
       "      <td>0</td>\n",
       "      <td>19</td>\n",
       "      <td>-1.0</td>\n",
       "    </tr>\n",
       "    <tr>\n",
       "      <th>103</th>\n",
       "      <td>2869915</td>\n",
       "      <td>123958</td>\n",
       "      <td>1</td>\n",
       "      <td>4</td>\n",
       "      <td>16</td>\n",
       "      <td>-1.0</td>\n",
       "    </tr>\n",
       "    <tr>\n",
       "      <th>104</th>\n",
       "      <td>2521921</td>\n",
       "      <td>42286</td>\n",
       "      <td>1</td>\n",
       "      <td>3</td>\n",
       "      <td>18</td>\n",
       "      <td>-1.0</td>\n",
       "    </tr>\n",
       "    <tr>\n",
       "      <th>...</th>\n",
       "      <td>...</td>\n",
       "      <td>...</td>\n",
       "      <td>...</td>\n",
       "      <td>...</td>\n",
       "      <td>...</td>\n",
       "      <td>...</td>\n",
       "    </tr>\n",
       "    <tr>\n",
       "      <th>478895</th>\n",
       "      <td>2589657</td>\n",
       "      <td>205028</td>\n",
       "      <td>1</td>\n",
       "      <td>0</td>\n",
       "      <td>16</td>\n",
       "      <td>-1.0</td>\n",
       "    </tr>\n",
       "    <tr>\n",
       "      <th>478896</th>\n",
       "      <td>2222353</td>\n",
       "      <td>141211</td>\n",
       "      <td>1</td>\n",
       "      <td>2</td>\n",
       "      <td>13</td>\n",
       "      <td>-1.0</td>\n",
       "    </tr>\n",
       "    <tr>\n",
       "      <th>478922</th>\n",
       "      <td>2272807</td>\n",
       "      <td>204154</td>\n",
       "      <td>1</td>\n",
       "      <td>1</td>\n",
       "      <td>15</td>\n",
       "      <td>-1.0</td>\n",
       "    </tr>\n",
       "    <tr>\n",
       "      <th>478926</th>\n",
       "      <td>2499542</td>\n",
       "      <td>68810</td>\n",
       "      <td>1</td>\n",
       "      <td>4</td>\n",
       "      <td>19</td>\n",
       "      <td>-1.0</td>\n",
       "    </tr>\n",
       "    <tr>\n",
       "      <th>478945</th>\n",
       "      <td>1387033</td>\n",
       "      <td>22496</td>\n",
       "      <td>1</td>\n",
       "      <td>5</td>\n",
       "      <td>14</td>\n",
       "      <td>-1.0</td>\n",
       "    </tr>\n",
       "  </tbody>\n",
       "</table>\n",
       "<p>28817 rows × 6 columns</p>\n",
       "</div>"
      ],
      "text/plain": [
       "        order_id  user_id  order_number  order_dow  order_hour_of_day  \\\n",
       "28        133707   182261             1          3                 10   \n",
       "96        787445    25685             1          6                 18   \n",
       "100       294410   111449             1          0                 19   \n",
       "103      2869915   123958             1          4                 16   \n",
       "104      2521921    42286             1          3                 18   \n",
       "...          ...      ...           ...        ...                ...   \n",
       "478895   2589657   205028             1          0                 16   \n",
       "478896   2222353   141211             1          2                 13   \n",
       "478922   2272807   204154             1          1                 15   \n",
       "478926   2499542    68810             1          4                 19   \n",
       "478945   1387033    22496             1          5                 14   \n",
       "\n",
       "        days_since_prior_order  \n",
       "28                        -1.0  \n",
       "96                        -1.0  \n",
       "100                       -1.0  \n",
       "103                       -1.0  \n",
       "104                       -1.0  \n",
       "...                        ...  \n",
       "478895                    -1.0  \n",
       "478896                    -1.0  \n",
       "478922                    -1.0  \n",
       "478926                    -1.0  \n",
       "478945                    -1.0  \n",
       "\n",
       "[28817 rows x 6 columns]"
      ]
     },
     "execution_count": 35,
     "metadata": {},
     "output_type": "execute_result"
    }
   ],
   "source": [
    "orders_df = orders_df.fillna(-1) #fill missing days_since_prior_order values with -1\n",
    "print(orders_df['days_since_prior_order'].isna().value_counts())\n",
    "orders_df[orders_df['order_number'] == 1]"
   ]
  },
  {
   "cell_type": "markdown",
   "id": "4e23d089",
   "metadata": {},
   "source": [
    "Using .isnull() and .value_counts() I found that there were 28817 rows with missing values exclusivley in the days_since_prior_order column. I printed the rows where there are missing values and they seem to pair with order_number = 1 (meaning that this is a persons first order). I decided to fill those missing values with -1 (using .fillna(-1)) to denote that this column is not applicable to those whose this is their first order. Now the dataframe contains no missing values and now has useful information in each row. These missing values are in the dataframe because there was no set value to mark which customers were placing there first order, so it was left blank in the csv."
   ]
  },
  {
   "cell_type": "markdown",
   "id": "69dc9ca4",
   "metadata": {},
   "source": [
    "### `order_products` data frame"
   ]
  },
  {
   "cell_type": "code",
   "execution_count": 36,
   "id": "b8240253",
   "metadata": {},
   "outputs": [
    {
     "data": {
      "text/plain": [
       "order_id  product_id  add_to_cart_order  reordered\n",
       "False     False       False              False        4544171\n",
       "                      True               False            836\n",
       "dtype: int64"
      ]
     },
     "execution_count": 36,
     "metadata": {},
     "output_type": "execute_result"
    }
   ],
   "source": [
    "#Check for NaN values\n",
    "order_products_df.isnull().value_counts() #there are 836 missing values in the add_to_cart_order"
   ]
  },
  {
   "cell_type": "code",
   "execution_count": 37,
   "id": "9a78e5ee",
   "metadata": {},
   "outputs": [
    {
     "name": "stdout",
     "output_type": "stream",
     "text": [
      "Max value in add_to_cart_order: 64.0\n",
      "Min value in add_to_cart_order: 1.0\n"
     ]
    }
   ],
   "source": [
    "# What are the min and max values in this column?\n",
    "print('Max value in add_to_cart_order:',order_products_df['add_to_cart_order'].max())\n",
    "print('Min value in add_to_cart_order:',order_products_df['add_to_cart_order'].min())"
   ]
  },
  {
   "cell_type": "code",
   "execution_count": 38,
   "id": "ab9d0c2b",
   "metadata": {},
   "outputs": [
    {
     "data": {
      "text/plain": [
       "61355      127\n",
       "3308010    115\n",
       "2136777    108\n",
       "171934     104\n",
       "1959075     98\n",
       "          ... \n",
       "747668      65\n",
       "2170451     65\n",
       "2729254     65\n",
       "2652650     65\n",
       "9310        65\n",
       "Name: order_id, Length: 70, dtype: int64"
      ]
     },
     "execution_count": 38,
     "metadata": {},
     "output_type": "execute_result"
    }
   ],
   "source": [
    "# Save all order IDs with at least one missing value in 'add_to_cart_order'\n",
    "\n",
    "null_order_products = order_products_df[order_products_df.isnull().any(axis=1)] #shows which rows have NaN values\n",
    "\n",
    "order_id_missing_vals = null_order_products[['order_id']]#saves all order_id values that have missing values in add_to_cart_order\n",
    "\n",
    "missing_orders = order_id_missing_vals['order_id'].unique() #creates a list of unique order ids with missing add to cart values\n",
    "\n",
    "order_products_df[order_products_df['order_id'].isin(missing_orders)]['order_id'].value_counts() #counts how many products each\n",
    "                                                                                                 #order has"
   ]
  },
  {
   "cell_type": "code",
   "execution_count": 39,
   "id": "54c31695",
   "metadata": {},
   "outputs": [
    {
     "data": {
      "text/plain": [
       "65"
      ]
     },
     "execution_count": 39,
     "metadata": {},
     "output_type": "execute_result"
    }
   ],
   "source": [
    "# Do all orders with missing values have more than 64 products?\n",
    "order_products_df[order_products_df['order_id'].isin(missing_orders)]['order_id'].value_counts().min()\n",
    "#all orders with missing add_to_cart values have more than 64 products ordered"
   ]
  },
  {
   "cell_type": "code",
   "execution_count": 40,
   "id": "7a987d08",
   "metadata": {},
   "outputs": [
    {
     "name": "stdout",
     "output_type": "stream",
     "text": [
      "<class 'pandas.core.frame.DataFrame'>\n",
      "RangeIndex: 4545007 entries, 0 to 4545006\n",
      "Data columns (total 4 columns):\n",
      " #   Column             Dtype\n",
      "---  ------             -----\n",
      " 0   order_id           int64\n",
      " 1   product_id         int64\n",
      " 2   add_to_cart_order  int64\n",
      " 3   reordered          int64\n",
      "dtypes: int64(4)\n",
      "memory usage: 138.7 MB\n"
     ]
    }
   ],
   "source": [
    "# Replace missing values with 999 and convert column to integer type\n",
    "order_products_df = order_products_df.fillna(999).astype(int) #all missing values are replaced with 999 and the entire dataframe\n",
    "                                                              # is now all integers\n",
    "order_products_df.info()"
   ]
  },
  {
   "cell_type": "markdown",
   "id": "fea4bcc7",
   "metadata": {},
   "source": [
    "In this dataframe all missing values were in the add_to_cart_order column with 836 rows with missing values. The max and min values of that column were 64 and 1 respectively. All orders with missing values have less than 64 items in their order. The missing values were replaced with 999 using .fillna() and converting all columns to int using .astype(int). These missing values are in the dataset possibly due to a system error or a non-number was entered."
   ]
  },
  {
   "cell_type": "markdown",
   "id": "turkish-kidney",
   "metadata": {},
   "source": [
    "# [A] Easy (must complete all to pass)"
   ]
  },
  {
   "cell_type": "markdown",
   "id": "short-capability",
   "metadata": {},
   "source": [
    "### [A1] Verify that the `'order_hour_of_day'` and `'order_dow'` values in the `orders` tables are sensible (i.e. `'order_hour_of_day'` ranges from 0 to 23 and `'order_dow'` ranges from 0 to 6)"
   ]
  },
  {
   "cell_type": "code",
   "execution_count": 41,
   "id": "growing-fruit",
   "metadata": {},
   "outputs": [
    {
     "name": "stdout",
     "output_type": "stream",
     "text": [
      "[ 0  1  2  3  4  5  6  7  8  9 10 11 12 13 14 15 16 17 18 19 20 21 22 23]\n"
     ]
    },
    {
     "data": {
      "text/plain": [
       "True"
      ]
     },
     "execution_count": 41,
     "metadata": {},
     "output_type": "execute_result"
    }
   ],
   "source": [
    "print(np.sort(orders_df['order_hour_of_day'].unique())) #order_hour_of_day values are sensible ranging from 0-23\n",
    "orders_df['order_hour_of_day'].between(0,23).all()"
   ]
  },
  {
   "cell_type": "code",
   "execution_count": 42,
   "id": "accessory-malaysia",
   "metadata": {
    "scrolled": true
   },
   "outputs": [
    {
     "name": "stdout",
     "output_type": "stream",
     "text": [
      "[0 1 2 3 4 5 6]\n"
     ]
    },
    {
     "data": {
      "text/plain": [
       "True"
      ]
     },
     "execution_count": 42,
     "metadata": {},
     "output_type": "execute_result"
    }
   ],
   "source": [
    "print(np.sort(orders_df['order_dow'].unique()))#order_dow values are sensible ranging from 0-6\n",
    "orders_df['order_dow'].between(0,6).all()"
   ]
  },
  {
   "cell_type": "markdown",
   "id": "a6743a70",
   "metadata": {},
   "source": [
    "### [A2] What time of day do people shop for groceries?"
   ]
  },
  {
   "cell_type": "code",
   "execution_count": 43,
   "id": "a36cca27",
   "metadata": {},
   "outputs": [
    {
     "data": {
      "image/png": "[encoded data removed]",
      "text/plain": [
       "<Figure size 792x720 with 1 Axes>"
      ]
     },
     "metadata": {
      "needs_background": "light"
     },
     "output_type": "display_data"
    }
   ],
   "source": [
    "#Create a point graph that shows the distribution of the time of day people shop for groceries\n",
    "x_ticks= np.sort(orders_df['order_hour_of_day'].value_counts().index) #creates an array of the sorted index values for x axis\n",
    "\n",
    "orders_df['order_hour_of_day'].value_counts().plot(style='*', figsize=[11,10],\n",
    "                                                  title='Orders Placed each Hour',\n",
    "                                                  xlabel='Hour of Day',\n",
    "                                                  ylabel='Number of Orders',\n",
    "                                                  xticks=x_ticks,\n",
    "                                                  )\n",
    "plt.show()"
   ]
  },
  {
   "cell_type": "markdown",
   "id": "11270eed",
   "metadata": {},
   "source": [
    "The most popular hours to order groceries are between the hours of 9 and 16. Assuming hour 9 is 9 a.m., then most people shop for groceries between 9 a.m. and 4 p.m. (late morning to afternoon). However hour 10 is the most popular for grocery shopping. To create this graph I used .plot and plt.show(). For the parameters in .plot() I put a descriptive title, changed the style to * since I want to show points at each x tick, adjusted the figsize to make the points look neat, gave appropriate x and y lables, and adjusted the xticks so that each hour of the day (0-23) is marked and each point can be associated with its x value. I also used .value_counts() to count the number of orders at each hour instead of plotting every row in the dataframe."
   ]
  },
  {
   "cell_type": "markdown",
   "id": "documented-command",
   "metadata": {},
   "source": [
    "### [A3] What day of the week do people shop for groceries?"
   ]
  },
  {
   "cell_type": "code",
   "execution_count": 44,
   "id": "chief-digit",
   "metadata": {},
   "outputs": [
    {
     "data": {
      "image/png": "[encoded data removed]",
      "text/plain": [
       "<Figure size 576x360 with 1 Axes>"
      ]
     },
     "metadata": {
      "needs_background": "light"
     },
     "output_type": "display_data"
    }
   ],
   "source": [
    "#Create a point graph to show the distribution of the days of the week people shop for groceries.\n",
    "\n",
    "orders_df['order_dow'].value_counts().plot(style='*', figsize=[8,5],\n",
    "                                                  title='Orders Placed each Day',\n",
    "                                                  xlabel='Day of the Week',\n",
    "                                                  ylabel='Number of Orders',\n",
    "                                                  \n",
    "                                                  )\n",
    "plt.show()\n",
    "\n"
   ]
  },
  {
   "cell_type": "markdown",
   "id": "dominant-lightning",
   "metadata": {},
   "source": [
    "Day of the week 0 and 1 are the most popular days for grocery shopping. Assuming day 0 is Sunday, then Sunday and Monday are the most popular. To create this graph, I used .plot() and plt.show(). For the .plot() parameters, I put a descriptive title, modified the figsize to show the points neatly, used style '*' to show the points, added appropriate x and y lables. I used .value_counts() to get how many people ordered each day of the week instead of plotting every row in the dataframe."
   ]
  },
  {
   "cell_type": "markdown",
   "id": "cutting-concert",
   "metadata": {},
   "source": [
    "### [A4] How long do people wait until placing another order?"
   ]
  },
  {
   "cell_type": "code",
   "execution_count": 45,
   "id": "c231f523",
   "metadata": {},
   "outputs": [
    {
     "data": {
      "image/png": "[encoded data removed]",
      "text/plain": [
       "<Figure size 792x720 with 1 Axes>"
      ]
     },
     "metadata": {
      "needs_background": "light"
     },
     "output_type": "display_data"
    }
   ],
   "source": [
    "x_ticks= np.sort(orders_df['days_since_prior_order'].value_counts().index)\n",
    "\n",
    "orders_df['days_since_prior_order'].value_counts().plot(style='*', figsize=[11,10],\n",
    "                                                  title='Days between each Order',\n",
    "                                                  xlabel='Days',\n",
    "                                                  ylabel='Number of Orders',\n",
    "                                                  xticks=x_ticks\n",
    "                                                  )\n",
    "plt.show()"
   ]
  },
  {
   "cell_type": "markdown",
   "id": "discrete-vertex",
   "metadata": {},
   "source": [
    "30 days is the most popular wait time between each order and 26 days is the least popular. To create this graph I used .plot() and plt.show(). For the .plot parameters, I added a descriptive title, changed the style to '*' to see the points, adjusted the figsize to show the data neatly, added appropriate x and y lables, and adjusted the xticks to show each number of days clearly on the x axis."
   ]
  },
  {
   "cell_type": "code",
   "execution_count": 46,
   "id": "exciting-fantasy",
   "metadata": {},
   "outputs": [
    {
     "name": "stdout",
     "output_type": "stream",
     "text": [
      "[-1.  0.  1.  2.  3.  4.  5.  6.  7.  8.  9. 10. 11. 12. 13. 14. 15. 16.\n",
      " 17. 18. 19. 20. 21. 22. 23. 24. 25. 26. 27. 28. 29. 30.]\n"
     ]
    },
    {
     "data": {
      "text/plain": [
       "30.0"
      ]
     },
     "execution_count": 46,
     "metadata": {},
     "output_type": "execute_result"
    }
   ],
   "source": [
    "print(np.sort(orders_df['days_since_prior_order'].value_counts().index)) #shows all values of days that pass before a person\n",
    "                                                                         #makes another order\n",
    "orders_df['days_since_prior_order'].max() #shows the most days that pass before a person makes another order"
   ]
  },
  {
   "cell_type": "markdown",
   "id": "8d926614",
   "metadata": {},
   "source": [
    "Excluding -1, 0 is the minimum amount of days that pass before a person makes another order and 30 days is the maximum days that pass."
   ]
  },
  {
   "cell_type": "markdown",
   "id": "tight-staff",
   "metadata": {},
   "source": [
    "# [B] Medium (must complete all to pass)"
   ]
  },
  {
   "cell_type": "markdown",
   "id": "packed-classic",
   "metadata": {},
   "source": [
    "### [B1] Is there a difference in `'order_hour_of_day'` distributions on Wednesdays and Saturdays? Plot the histograms for both days and describe the differences that you see."
   ]
  },
  {
   "cell_type": "code",
   "execution_count": 47,
   "id": "d89b8403",
   "metadata": {},
   "outputs": [],
   "source": [
    "orders_wed = orders_df[orders_df['order_dow'] == 3] #gets all wednesday orders"
   ]
  },
  {
   "cell_type": "code",
   "execution_count": 48,
   "id": "94e54e8a",
   "metadata": {},
   "outputs": [],
   "source": [
    "orders_sat = orders_df[orders_df['order_dow'] == 6] #gets all saturday orders"
   ]
  },
  {
   "cell_type": "code",
   "execution_count": 49,
   "id": "797c90a8",
   "metadata": {},
   "outputs": [
    {
     "data": {
      "image/png": "[encoded data removed]",
      "text/plain": [
       "<Figure size 432x288 with 1 Axes>"
      ]
     },
     "metadata": {
      "needs_background": "light"
     },
     "output_type": "display_data"
    }
   ],
   "source": [
    "#Create histograms of wednesday and saturday distributions on the order hour of the day\n",
    "plt.hist(orders_wed['order_hour_of_day'], label = 'Wednesday', color='red')\n",
    "plt.hist(orders_sat['order_hour_of_day'], label = 'Saturday', alpha=0.5)\n",
    "plt.title('Distribution of Order Hours on Wednesday and Saturday')\n",
    "plt.xlabel('Hour of Day')\n",
    "plt.ylabel('Number of Orders')\n",
    "plt.legend()\n",
    "plt.show()"
   ]
  },
  {
   "cell_type": "code",
   "execution_count": null,
   "id": "35bcea30",
   "metadata": {},
   "outputs": [],
   "source": []
  },
  {
   "cell_type": "markdown",
   "id": "charitable-congo",
   "metadata": {},
   "source": [
    "The two histograms follow the same trends such as hours 15 and 16 are the most popular times to order. There are some slight differences in the early hours of the day and the late hours of the day. The biggest difference is that Saturday has a sizable amount more orders around hours 13-14 and 15-16, suggesting that Saturday has more orders placed than Wednesday."
   ]
  },
  {
   "cell_type": "markdown",
   "id": "e3891143",
   "metadata": {},
   "source": [
    "### [B2] What's the distribution for the number of orders per customer?"
   ]
  },
  {
   "cell_type": "code",
   "execution_count": 50,
   "id": "d8c26c23",
   "metadata": {},
   "outputs": [
    {
     "data": {
      "text/plain": [
       "149605    28\n",
       "193164    26\n",
       "78375     25\n",
       "148162    24\n",
       "66664     24\n",
       "          ..\n",
       "166116     1\n",
       "63564      1\n",
       "170214     1\n",
       "51274      1\n",
       "2047       1\n",
       "Name: user_id, Length: 157437, dtype: int64"
      ]
     },
     "execution_count": 50,
     "metadata": {},
     "output_type": "execute_result"
    }
   ],
   "source": [
    "#Get the value counts of the number of orders every customer has\n",
    "orders_per_cust = orders_df['user_id'].value_counts()\n",
    "orders_per_cust"
   ]
  },
  {
   "cell_type": "code",
   "execution_count": 51,
   "id": "00e69a66",
   "metadata": {},
   "outputs": [
    {
     "data": {
      "image/png": "[encoded data removed]",
      "text/plain": [
       "<Figure size 432x288 with 1 Axes>"
      ]
     },
     "metadata": {
      "needs_background": "light"
     },
     "output_type": "display_data"
    }
   ],
   "source": [
    "#Create histogram of number of orders per customer\n",
    "plt.hist(orders_per_cust)\n",
    "plt.title('Distribution of Number of Orders per Customer')\n",
    "plt.xlabel('Number of Orders')\n",
    "plt.ylabel('Number of Customers')\n",
    "plt.show()"
   ]
  },
  {
   "cell_type": "markdown",
   "id": "d2eff7d5",
   "metadata": {},
   "source": [
    "Most customers make between 1 and 5 orders which makes up the majority of all orders placed. Placing 5 or less orders is the most common among this data."
   ]
  },
  {
   "cell_type": "markdown",
   "id": "54a0319c",
   "metadata": {},
   "source": [
    "### [B3] What are the top 20 popular products (display their id and name)?"
   ]
  },
  {
   "cell_type": "code",
   "execution_count": 52,
   "id": "exterior-arizona",
   "metadata": {
    "scrolled": true
   },
   "outputs": [
    {
     "data": {
      "text/plain": [
       "[24852,\n",
       " 13176,\n",
       " 21137,\n",
       " 21903,\n",
       " 47209,\n",
       " 47766,\n",
       " 47626,\n",
       " 16797,\n",
       " 26209,\n",
       " 27845,\n",
       " 27966,\n",
       " 22935,\n",
       " 24964,\n",
       " 45007,\n",
       " 39275,\n",
       " 49683,\n",
       " 28204,\n",
       " 5876,\n",
       " 8277,\n",
       " 40706]"
      ]
     },
     "execution_count": 52,
     "metadata": {},
     "output_type": "execute_result"
    }
   ],
   "source": [
    "#Get the top 20 product ids by value counts\n",
    "top_20_ids = order_products_df['product_id'].value_counts().head(20).index.tolist()\n",
    "top_20_ids"
   ]
  },
  {
   "cell_type": "code",
   "execution_count": 53,
   "id": "universal-facial",
   "metadata": {},
   "outputs": [
    {
     "data": {
      "text/html": [
       "<div>\n",
       "<style scoped>\n",
       "    .dataframe tbody tr th:only-of-type {\n",
       "        vertical-align: middle;\n",
       "    }\n",
       "\n",
       "    .dataframe tbody tr th {\n",
       "        vertical-align: top;\n",
       "    }\n",
       "\n",
       "    .dataframe thead th {\n",
       "        text-align: right;\n",
       "    }\n",
       "</style>\n",
       "<table border=\"1\" class=\"dataframe\">\n",
       "  <thead>\n",
       "    <tr style=\"text-align: right;\">\n",
       "      <th></th>\n",
       "      <th>product_id</th>\n",
       "      <th>product_name</th>\n",
       "      <th>aisle_id</th>\n",
       "      <th>department_id</th>\n",
       "    </tr>\n",
       "  </thead>\n",
       "  <tbody>\n",
       "    <tr>\n",
       "      <th>5875</th>\n",
       "      <td>5876</td>\n",
       "      <td>organic lemon</td>\n",
       "      <td>24</td>\n",
       "      <td>4</td>\n",
       "    </tr>\n",
       "    <tr>\n",
       "      <th>8276</th>\n",
       "      <td>8277</td>\n",
       "      <td>apple honeycrisp organic</td>\n",
       "      <td>24</td>\n",
       "      <td>4</td>\n",
       "    </tr>\n",
       "    <tr>\n",
       "      <th>13175</th>\n",
       "      <td>13176</td>\n",
       "      <td>bag of organic bananas</td>\n",
       "      <td>24</td>\n",
       "      <td>4</td>\n",
       "    </tr>\n",
       "    <tr>\n",
       "      <th>16796</th>\n",
       "      <td>16797</td>\n",
       "      <td>strawberries</td>\n",
       "      <td>24</td>\n",
       "      <td>4</td>\n",
       "    </tr>\n",
       "    <tr>\n",
       "      <th>21136</th>\n",
       "      <td>21137</td>\n",
       "      <td>organic strawberries</td>\n",
       "      <td>24</td>\n",
       "      <td>4</td>\n",
       "    </tr>\n",
       "    <tr>\n",
       "      <th>21902</th>\n",
       "      <td>21903</td>\n",
       "      <td>organic baby spinach</td>\n",
       "      <td>123</td>\n",
       "      <td>4</td>\n",
       "    </tr>\n",
       "    <tr>\n",
       "      <th>22934</th>\n",
       "      <td>22935</td>\n",
       "      <td>organic yellow onion</td>\n",
       "      <td>83</td>\n",
       "      <td>4</td>\n",
       "    </tr>\n",
       "    <tr>\n",
       "      <th>24851</th>\n",
       "      <td>24852</td>\n",
       "      <td>banana</td>\n",
       "      <td>24</td>\n",
       "      <td>4</td>\n",
       "    </tr>\n",
       "    <tr>\n",
       "      <th>24963</th>\n",
       "      <td>24964</td>\n",
       "      <td>organic garlic</td>\n",
       "      <td>83</td>\n",
       "      <td>4</td>\n",
       "    </tr>\n",
       "    <tr>\n",
       "      <th>26208</th>\n",
       "      <td>26209</td>\n",
       "      <td>limes</td>\n",
       "      <td>24</td>\n",
       "      <td>4</td>\n",
       "    </tr>\n",
       "    <tr>\n",
       "      <th>27844</th>\n",
       "      <td>27845</td>\n",
       "      <td>organic whole milk</td>\n",
       "      <td>84</td>\n",
       "      <td>16</td>\n",
       "    </tr>\n",
       "    <tr>\n",
       "      <th>27965</th>\n",
       "      <td>27966</td>\n",
       "      <td>organic raspberries</td>\n",
       "      <td>123</td>\n",
       "      <td>4</td>\n",
       "    </tr>\n",
       "    <tr>\n",
       "      <th>28203</th>\n",
       "      <td>28204</td>\n",
       "      <td>organic fuji apple</td>\n",
       "      <td>24</td>\n",
       "      <td>4</td>\n",
       "    </tr>\n",
       "    <tr>\n",
       "      <th>39274</th>\n",
       "      <td>39275</td>\n",
       "      <td>organic blueberries</td>\n",
       "      <td>123</td>\n",
       "      <td>4</td>\n",
       "    </tr>\n",
       "    <tr>\n",
       "      <th>40705</th>\n",
       "      <td>40706</td>\n",
       "      <td>organic grape tomatoes</td>\n",
       "      <td>123</td>\n",
       "      <td>4</td>\n",
       "    </tr>\n",
       "    <tr>\n",
       "      <th>45006</th>\n",
       "      <td>45007</td>\n",
       "      <td>organic zucchini</td>\n",
       "      <td>83</td>\n",
       "      <td>4</td>\n",
       "    </tr>\n",
       "    <tr>\n",
       "      <th>47208</th>\n",
       "      <td>47209</td>\n",
       "      <td>organic hass avocado</td>\n",
       "      <td>24</td>\n",
       "      <td>4</td>\n",
       "    </tr>\n",
       "    <tr>\n",
       "      <th>47625</th>\n",
       "      <td>47626</td>\n",
       "      <td>large lemon</td>\n",
       "      <td>24</td>\n",
       "      <td>4</td>\n",
       "    </tr>\n",
       "    <tr>\n",
       "      <th>47765</th>\n",
       "      <td>47766</td>\n",
       "      <td>organic avocado</td>\n",
       "      <td>24</td>\n",
       "      <td>4</td>\n",
       "    </tr>\n",
       "    <tr>\n",
       "      <th>49682</th>\n",
       "      <td>49683</td>\n",
       "      <td>cucumber kirby</td>\n",
       "      <td>83</td>\n",
       "      <td>4</td>\n",
       "    </tr>\n",
       "  </tbody>\n",
       "</table>\n",
       "</div>"
      ],
      "text/plain": [
       "       product_id              product_name  aisle_id  department_id\n",
       "5875         5876             organic lemon        24              4\n",
       "8276         8277  apple honeycrisp organic        24              4\n",
       "13175       13176    bag of organic bananas        24              4\n",
       "16796       16797              strawberries        24              4\n",
       "21136       21137      organic strawberries        24              4\n",
       "21902       21903      organic baby spinach       123              4\n",
       "22934       22935      organic yellow onion        83              4\n",
       "24851       24852                    banana        24              4\n",
       "24963       24964            organic garlic        83              4\n",
       "26208       26209                     limes        24              4\n",
       "27844       27845        organic whole milk        84             16\n",
       "27965       27966       organic raspberries       123              4\n",
       "28203       28204        organic fuji apple        24              4\n",
       "39274       39275       organic blueberries       123              4\n",
       "40705       40706    organic grape tomatoes       123              4\n",
       "45006       45007          organic zucchini        83              4\n",
       "47208       47209      organic hass avocado        24              4\n",
       "47625       47626               large lemon        24              4\n",
       "47765       47766           organic avocado        24              4\n",
       "49682       49683            cucumber kirby        83              4"
      ]
     },
     "execution_count": 53,
     "metadata": {},
     "output_type": "execute_result"
    }
   ],
   "source": [
    "#Get all rows of the top 20 products\n",
    "products = product_df[product_df['product_id'].isin(top_20_ids)]\n",
    "products"
   ]
  },
  {
   "cell_type": "code",
   "execution_count": 54,
   "id": "bbcdd20b",
   "metadata": {},
   "outputs": [
    {
     "name": "stdout",
     "output_type": "stream",
     "text": [
      "                        product_name\n",
      "product_id                          \n",
      "5876                   organic lemon\n",
      "8277        apple honeycrisp organic\n",
      "13176         bag of organic bananas\n",
      "16797                   strawberries\n",
      "21137           organic strawberries\n",
      "21903           organic baby spinach\n",
      "22935           organic yellow onion\n",
      "24852                         banana\n",
      "24964                 organic garlic\n",
      "26209                          limes\n",
      "27845             organic whole milk\n",
      "27966            organic raspberries\n",
      "28204             organic fuji apple\n",
      "39275            organic blueberries\n",
      "40706         organic grape tomatoes\n",
      "45007               organic zucchini\n",
      "47209           organic hass avocado\n",
      "47626                    large lemon\n",
      "47766                organic avocado\n",
      "49683                 cucumber kirby\n"
     ]
    }
   ],
   "source": [
    "#Show the top 20 product ids and names\n",
    "p = products[['product_id', 'product_name']]\n",
    "p.set_index(\"product_id\", inplace=True)\n",
    "print(p)"
   ]
  },
  {
   "cell_type": "markdown",
   "id": "7df00f47",
   "metadata": {},
   "source": [
    "I used the .value_counts() on the product ids and used .head(20) to get the top 20 counts then used .index to grab the indexes which are the ids and .tolist() to make a list of the top 20 ids to be used to find the top 20 products.I created a new dataframe called products and used conditional filtering to gather all the rows that correspond to the product ids. I then printed only the product ids and the product names."
   ]
  },
  {
   "cell_type": "markdown",
   "id": "gross-theme",
   "metadata": {},
   "source": [
    "# [C] Hard (must complete all to pass)"
   ]
  },
  {
   "cell_type": "markdown",
   "id": "romantic-deposit",
   "metadata": {},
   "source": [
    "### [C1] How many items do people typically buy in one order? What does the distribution look like?"
   ]
  },
  {
   "cell_type": "code",
   "execution_count": 55,
   "id": "virtual-punch",
   "metadata": {},
   "outputs": [
    {
     "data": {
      "text/plain": [
       "61355      127\n",
       "3308010    115\n",
       "2136777    108\n",
       "171934     104\n",
       "1959075     98\n",
       "          ... \n",
       "54659        1\n",
       "210431       1\n",
       "1717983      1\n",
       "1136563      1\n",
       "8196         1\n",
       "Name: order_id, Length: 450046, dtype: int64"
      ]
     },
     "execution_count": 55,
     "metadata": {},
     "output_type": "execute_result"
    }
   ],
   "source": [
    "#Get the counts for the number of times an order_id is found, indicating the number of products they ordered\n",
    "products_ordered = order_products_df['order_id'].value_counts()\n",
    "products_ordered"
   ]
  },
  {
   "cell_type": "code",
   "execution_count": 56,
   "id": "sensitive-breathing",
   "metadata": {},
   "outputs": [
    {
     "data": {
      "image/png": "[encoded data removed]",
      "text/plain": [
       "<Figure size 432x288 with 1 Axes>"
      ]
     },
     "metadata": {
      "needs_background": "light"
     },
     "output_type": "display_data"
    }
   ],
   "source": [
    "#Create a histogram of the distribution of products purchased per order\n",
    "plt.hist(products_ordered)\n",
    "plt.title('Distribution of Number of Products per Order')\n",
    "plt.xlabel('Number of Products Ordered')\n",
    "plt.ylabel('Number of Orders')\n",
    "plt.xticks([x*15 for x in range(10)])\n",
    "plt.grid(True)\n",
    "plt.show()"
   ]
  },
  {
   "cell_type": "code",
   "execution_count": 57,
   "id": "completed-frank",
   "metadata": {},
   "outputs": [
    {
     "data": {
      "text/plain": [
       "10.098983215049127"
      ]
     },
     "execution_count": 57,
     "metadata": {},
     "output_type": "execute_result"
    }
   ],
   "source": [
    "#Find the average products ordered per customer\n",
    "products_ordered.mean()"
   ]
  },
  {
   "cell_type": "markdown",
   "id": "designed-mortality",
   "metadata": {},
   "source": [
    "Out of more than 450,000 products ordered, over 300,000 of them are in orders that total less than 15 products per order. The graph shows that customers are more than likely to order at most 15 products at a time. Out of all orders, the average number of products per order is around 10 products."
   ]
  },
  {
   "cell_type": "markdown",
   "id": "5e6b5537",
   "metadata": {},
   "source": [
    "### [C2] What are the top 20 items that are reordered most frequently (display their names and product IDs)?"
   ]
  },
  {
   "cell_type": "code",
   "execution_count": 58,
   "id": "9374e55a",
   "metadata": {},
   "outputs": [
    {
     "data": {
      "text/plain": [
       "[24852,\n",
       " 13176,\n",
       " 21137,\n",
       " 21903,\n",
       " 47209,\n",
       " 47766,\n",
       " 27845,\n",
       " 47626,\n",
       " 27966,\n",
       " 16797,\n",
       " 26209,\n",
       " 22935,\n",
       " 24964,\n",
       " 45007,\n",
       " 49683,\n",
       " 28204,\n",
       " 8277,\n",
       " 39275,\n",
       " 5876,\n",
       " 49235]"
      ]
     },
     "execution_count": 58,
     "metadata": {},
     "output_type": "execute_result"
    }
   ],
   "source": [
    "#Get the top 20 product ids that are the most reordered\n",
    "top_20_prod_id = order_products_df[order_products_df['reordered'] == 1]['product_id'].value_counts().head(20).index.tolist()\n",
    "top_20_prod_id"
   ]
  },
  {
   "cell_type": "code",
   "execution_count": 59,
   "id": "possible-change",
   "metadata": {
    "scrolled": true
   },
   "outputs": [
    {
     "data": {
      "text/html": [
       "<div>\n",
       "<style scoped>\n",
       "    .dataframe tbody tr th:only-of-type {\n",
       "        vertical-align: middle;\n",
       "    }\n",
       "\n",
       "    .dataframe tbody tr th {\n",
       "        vertical-align: top;\n",
       "    }\n",
       "\n",
       "    .dataframe thead th {\n",
       "        text-align: right;\n",
       "    }\n",
       "</style>\n",
       "<table border=\"1\" class=\"dataframe\">\n",
       "  <thead>\n",
       "    <tr style=\"text-align: right;\">\n",
       "      <th></th>\n",
       "      <th>product_id</th>\n",
       "      <th>product_name</th>\n",
       "      <th>aisle_id</th>\n",
       "      <th>department_id</th>\n",
       "    </tr>\n",
       "  </thead>\n",
       "  <tbody>\n",
       "    <tr>\n",
       "      <th>5875</th>\n",
       "      <td>5876</td>\n",
       "      <td>organic lemon</td>\n",
       "      <td>24</td>\n",
       "      <td>4</td>\n",
       "    </tr>\n",
       "    <tr>\n",
       "      <th>8276</th>\n",
       "      <td>8277</td>\n",
       "      <td>apple honeycrisp organic</td>\n",
       "      <td>24</td>\n",
       "      <td>4</td>\n",
       "    </tr>\n",
       "    <tr>\n",
       "      <th>13175</th>\n",
       "      <td>13176</td>\n",
       "      <td>bag of organic bananas</td>\n",
       "      <td>24</td>\n",
       "      <td>4</td>\n",
       "    </tr>\n",
       "    <tr>\n",
       "      <th>16796</th>\n",
       "      <td>16797</td>\n",
       "      <td>strawberries</td>\n",
       "      <td>24</td>\n",
       "      <td>4</td>\n",
       "    </tr>\n",
       "    <tr>\n",
       "      <th>21136</th>\n",
       "      <td>21137</td>\n",
       "      <td>organic strawberries</td>\n",
       "      <td>24</td>\n",
       "      <td>4</td>\n",
       "    </tr>\n",
       "    <tr>\n",
       "      <th>21902</th>\n",
       "      <td>21903</td>\n",
       "      <td>organic baby spinach</td>\n",
       "      <td>123</td>\n",
       "      <td>4</td>\n",
       "    </tr>\n",
       "    <tr>\n",
       "      <th>22934</th>\n",
       "      <td>22935</td>\n",
       "      <td>organic yellow onion</td>\n",
       "      <td>83</td>\n",
       "      <td>4</td>\n",
       "    </tr>\n",
       "    <tr>\n",
       "      <th>24851</th>\n",
       "      <td>24852</td>\n",
       "      <td>banana</td>\n",
       "      <td>24</td>\n",
       "      <td>4</td>\n",
       "    </tr>\n",
       "    <tr>\n",
       "      <th>24963</th>\n",
       "      <td>24964</td>\n",
       "      <td>organic garlic</td>\n",
       "      <td>83</td>\n",
       "      <td>4</td>\n",
       "    </tr>\n",
       "    <tr>\n",
       "      <th>26208</th>\n",
       "      <td>26209</td>\n",
       "      <td>limes</td>\n",
       "      <td>24</td>\n",
       "      <td>4</td>\n",
       "    </tr>\n",
       "    <tr>\n",
       "      <th>27844</th>\n",
       "      <td>27845</td>\n",
       "      <td>organic whole milk</td>\n",
       "      <td>84</td>\n",
       "      <td>16</td>\n",
       "    </tr>\n",
       "    <tr>\n",
       "      <th>27965</th>\n",
       "      <td>27966</td>\n",
       "      <td>organic raspberries</td>\n",
       "      <td>123</td>\n",
       "      <td>4</td>\n",
       "    </tr>\n",
       "    <tr>\n",
       "      <th>28203</th>\n",
       "      <td>28204</td>\n",
       "      <td>organic fuji apple</td>\n",
       "      <td>24</td>\n",
       "      <td>4</td>\n",
       "    </tr>\n",
       "    <tr>\n",
       "      <th>39274</th>\n",
       "      <td>39275</td>\n",
       "      <td>organic blueberries</td>\n",
       "      <td>123</td>\n",
       "      <td>4</td>\n",
       "    </tr>\n",
       "    <tr>\n",
       "      <th>45006</th>\n",
       "      <td>45007</td>\n",
       "      <td>organic zucchini</td>\n",
       "      <td>83</td>\n",
       "      <td>4</td>\n",
       "    </tr>\n",
       "    <tr>\n",
       "      <th>47208</th>\n",
       "      <td>47209</td>\n",
       "      <td>organic hass avocado</td>\n",
       "      <td>24</td>\n",
       "      <td>4</td>\n",
       "    </tr>\n",
       "    <tr>\n",
       "      <th>47625</th>\n",
       "      <td>47626</td>\n",
       "      <td>large lemon</td>\n",
       "      <td>24</td>\n",
       "      <td>4</td>\n",
       "    </tr>\n",
       "    <tr>\n",
       "      <th>47765</th>\n",
       "      <td>47766</td>\n",
       "      <td>organic avocado</td>\n",
       "      <td>24</td>\n",
       "      <td>4</td>\n",
       "    </tr>\n",
       "    <tr>\n",
       "      <th>49234</th>\n",
       "      <td>49235</td>\n",
       "      <td>organic half &amp; half</td>\n",
       "      <td>53</td>\n",
       "      <td>16</td>\n",
       "    </tr>\n",
       "    <tr>\n",
       "      <th>49682</th>\n",
       "      <td>49683</td>\n",
       "      <td>cucumber kirby</td>\n",
       "      <td>83</td>\n",
       "      <td>4</td>\n",
       "    </tr>\n",
       "  </tbody>\n",
       "</table>\n",
       "</div>"
      ],
      "text/plain": [
       "       product_id              product_name  aisle_id  department_id\n",
       "5875         5876             organic lemon        24              4\n",
       "8276         8277  apple honeycrisp organic        24              4\n",
       "13175       13176    bag of organic bananas        24              4\n",
       "16796       16797              strawberries        24              4\n",
       "21136       21137      organic strawberries        24              4\n",
       "21902       21903      organic baby spinach       123              4\n",
       "22934       22935      organic yellow onion        83              4\n",
       "24851       24852                    banana        24              4\n",
       "24963       24964            organic garlic        83              4\n",
       "26208       26209                     limes        24              4\n",
       "27844       27845        organic whole milk        84             16\n",
       "27965       27966       organic raspberries       123              4\n",
       "28203       28204        organic fuji apple        24              4\n",
       "39274       39275       organic blueberries       123              4\n",
       "45006       45007          organic zucchini        83              4\n",
       "47208       47209      organic hass avocado        24              4\n",
       "47625       47626               large lemon        24              4\n",
       "47765       47766           organic avocado        24              4\n",
       "49234       49235       organic half & half        53             16\n",
       "49682       49683            cucumber kirby        83              4"
      ]
     },
     "execution_count": 59,
     "metadata": {},
     "output_type": "execute_result"
    }
   ],
   "source": [
    "#Get the rows that correspond to the top 20 most reordered product ids\n",
    "top_20_rows = product_df[product_df['product_id'].isin(top_20_prod_id)]\n",
    "top_20_rows"
   ]
  },
  {
   "cell_type": "code",
   "execution_count": 60,
   "id": "professional-surfing",
   "metadata": {
    "scrolled": true
   },
   "outputs": [
    {
     "data": {
      "text/html": [
       "<div>\n",
       "<style scoped>\n",
       "    .dataframe tbody tr th:only-of-type {\n",
       "        vertical-align: middle;\n",
       "    }\n",
       "\n",
       "    .dataframe tbody tr th {\n",
       "        vertical-align: top;\n",
       "    }\n",
       "\n",
       "    .dataframe thead th {\n",
       "        text-align: right;\n",
       "    }\n",
       "</style>\n",
       "<table border=\"1\" class=\"dataframe\">\n",
       "  <thead>\n",
       "    <tr style=\"text-align: right;\">\n",
       "      <th></th>\n",
       "      <th>product_name</th>\n",
       "    </tr>\n",
       "    <tr>\n",
       "      <th>product_id</th>\n",
       "      <th></th>\n",
       "    </tr>\n",
       "  </thead>\n",
       "  <tbody>\n",
       "    <tr>\n",
       "      <th>5876</th>\n",
       "      <td>organic lemon</td>\n",
       "    </tr>\n",
       "    <tr>\n",
       "      <th>8277</th>\n",
       "      <td>apple honeycrisp organic</td>\n",
       "    </tr>\n",
       "    <tr>\n",
       "      <th>13176</th>\n",
       "      <td>bag of organic bananas</td>\n",
       "    </tr>\n",
       "    <tr>\n",
       "      <th>16797</th>\n",
       "      <td>strawberries</td>\n",
       "    </tr>\n",
       "    <tr>\n",
       "      <th>21137</th>\n",
       "      <td>organic strawberries</td>\n",
       "    </tr>\n",
       "    <tr>\n",
       "      <th>21903</th>\n",
       "      <td>organic baby spinach</td>\n",
       "    </tr>\n",
       "    <tr>\n",
       "      <th>22935</th>\n",
       "      <td>organic yellow onion</td>\n",
       "    </tr>\n",
       "    <tr>\n",
       "      <th>24852</th>\n",
       "      <td>banana</td>\n",
       "    </tr>\n",
       "    <tr>\n",
       "      <th>24964</th>\n",
       "      <td>organic garlic</td>\n",
       "    </tr>\n",
       "    <tr>\n",
       "      <th>26209</th>\n",
       "      <td>limes</td>\n",
       "    </tr>\n",
       "    <tr>\n",
       "      <th>27845</th>\n",
       "      <td>organic whole milk</td>\n",
       "    </tr>\n",
       "    <tr>\n",
       "      <th>27966</th>\n",
       "      <td>organic raspberries</td>\n",
       "    </tr>\n",
       "    <tr>\n",
       "      <th>28204</th>\n",
       "      <td>organic fuji apple</td>\n",
       "    </tr>\n",
       "    <tr>\n",
       "      <th>39275</th>\n",
       "      <td>organic blueberries</td>\n",
       "    </tr>\n",
       "    <tr>\n",
       "      <th>45007</th>\n",
       "      <td>organic zucchini</td>\n",
       "    </tr>\n",
       "    <tr>\n",
       "      <th>47209</th>\n",
       "      <td>organic hass avocado</td>\n",
       "    </tr>\n",
       "    <tr>\n",
       "      <th>47626</th>\n",
       "      <td>large lemon</td>\n",
       "    </tr>\n",
       "    <tr>\n",
       "      <th>47766</th>\n",
       "      <td>organic avocado</td>\n",
       "    </tr>\n",
       "    <tr>\n",
       "      <th>49235</th>\n",
       "      <td>organic half &amp; half</td>\n",
       "    </tr>\n",
       "    <tr>\n",
       "      <th>49683</th>\n",
       "      <td>cucumber kirby</td>\n",
       "    </tr>\n",
       "  </tbody>\n",
       "</table>\n",
       "</div>"
      ],
      "text/plain": [
       "                        product_name\n",
       "product_id                          \n",
       "5876                   organic lemon\n",
       "8277        apple honeycrisp organic\n",
       "13176         bag of organic bananas\n",
       "16797                   strawberries\n",
       "21137           organic strawberries\n",
       "21903           organic baby spinach\n",
       "22935           organic yellow onion\n",
       "24852                         banana\n",
       "24964                 organic garlic\n",
       "26209                          limes\n",
       "27845             organic whole milk\n",
       "27966            organic raspberries\n",
       "28204             organic fuji apple\n",
       "39275            organic blueberries\n",
       "45007               organic zucchini\n",
       "47209           organic hass avocado\n",
       "47626                    large lemon\n",
       "47766                organic avocado\n",
       "49235            organic half & half\n",
       "49683                 cucumber kirby"
      ]
     },
     "execution_count": 60,
     "metadata": {},
     "output_type": "execute_result"
    }
   ],
   "source": [
    "#Display the top 20 most reordered products by name and id\n",
    "p = top_20_rows[['product_id', 'product_name']]\n",
    "p.set_index(\"product_id\", inplace=True)\n",
    "p"
   ]
  },
  {
   "cell_type": "markdown",
   "id": "80e70c74",
   "metadata": {},
   "source": [
    "The nearly all products are some type of vegetable or fruit."
   ]
  }
 ],
 "metadata": {
  "kernelspec": {
   "display_name": "Python 3 (ipykernel)",
   "language": "python",
   "name": "python3"
  },
  "language_info": {
   "codemirror_mode": {
    "name": "ipython",
    "version": 3
   },
   "file_extension": ".py",
   "mimetype": "text/x-python",
   "name": "python",
   "nbconvert_exporter": "python",
   "pygments_lexer": "ipython3",
   "version": "3.9.19"
  },
  "toc": {
   "base_numbering": 1,
   "nav_menu": {
    "height": "12px",
    "width": "556px"
   },
   "number_sections": true,
   "sideBar": true,
   "skip_h1_title": true,
   "title_cell": "Table of Contents",
   "title_sidebar": "Contents",
   "toc_cell": false,
   "toc_position": {},
   "toc_section_display": true,
   "toc_window_display": false
  },
  "vscode": {
   "interpreter": {
    "hash": "01a7be9ec63e704a62cefc5fe7a4756944464ee731be31632bdf42a4cb4688cf"
   }
  }
 },
 "nbformat": 4,
 "nbformat_minor": 5
}
