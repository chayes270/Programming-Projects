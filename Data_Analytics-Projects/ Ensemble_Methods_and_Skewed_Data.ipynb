{
 "cells": [
  {
   "cell_type": "markdown",
   "metadata": {},
   "source": [
    "\n",
    "# Ensemble Methods and Skewed Data\n",
    "For this project, we will explore two ensemble methods:\n",
    "  - AdaBoost\n",
    "  - Random Forests\n",
    "\n",
    "We will also apply different KPIs (key performance indicators) that are more appropriate to highly skewed data sets. \n",
    "\n",
    "At the end of this project, you should know:\n",
    "- How to train and use ensemble classifiers\n",
    "- How to characterize model performance with ROC curves\n",
    "- The difference between accuracy, true positive rate, and positive predictive value.\n",
    "\n",
    "## Credit Card dataset\n",
    "Our dataset (in `cc.csv.gz`) contains transactions made by credit cards in September 2013 by european cardholders. It contains transactions that over two days, where we have 237 frauds out of 142,167 transactions. The dataset is highly unbalanced, the positive class (frauds) account for 0.17% of all transactions.\n",
    "\n",
    "The dataset contains only numerical input variables which are the result of a [PCA transformation](https://en.wikipedia.org/wiki/Principal_component_analysis). Unfortunately, due to confidentiality issues, we cannot provide the original features and more background information about the data. \n",
    "- Features **V1**, **V2**, ..., **V28** are the principal components obtained with PCA.\n",
    "- The only features which have not been transformed with PCA are **Time**, **Amount**, and **Class**.\n",
    "  - **Time** contains the seconds elapsed between each transaction and the first transaction in the dataset. \n",
    "  - **Amount** is the transaction amount in Euros. \n",
    "  - **Class** is the response variable. If the transation was fraudulent, it equals 1. Otherwise, it equals 0."
   ]
  },
  {
   "cell_type": "code",
   "execution_count": 1,
   "metadata": {},
   "outputs": [],
   "source": [
    "# Do not import any libraries (i.e. sklearn, scipy, etc.), except for\n",
    "# Python builtin libraries, unless otherwise specified.\n",
    "import pandas as pd\n",
    "import numpy as np\n",
    "import matplotlib.pyplot as plt\n",
    "from sklearn.ensemble import AdaBoostClassifier\n",
    "from sklearn.ensemble import RandomForestClassifier\n",
    "from sklearn.model_selection import StratifiedKFold\n",
    "from sklearn.metrics import roc_curve, roc_auc_score"
   ]
  },
  {
   "cell_type": "markdown",
   "metadata": {},
   "source": [
    "## Q1 \n",
    "\n",
    "**Parition the data for cross validation**\n",
    "- Load the data.\n",
    "- Split the data set into $X$ (the feature dataframe, `df_X`), and $y$ (the target series `s_y`). \n",
    "- Partition the data into $k = 3$ folds using **stratified $k$-folds** (see below).\n",
    "\n",
    "We know this is a _super_ skewed data set, so we worry about our target class being underrepresented in a random k-fold selection. With this in mind, we use a ***stratifed* $k$-fold** since it will preserve our class balance in our experiements.\n",
    "- Use $k=3$. \n",
    "- Instantiate an instance of the [`StratifiedKFold`](https://scikit-learn.org/stable/modules/generated/sklearn.model_selection.StratifiedKFold.html) class.\n",
    "   - Use a `random_state` of 23.\n",
    "- Use the generator `split` to populate the test and train dictonaries:\n",
    "   - `d_train_df_X`: \n",
    "      - Key: Fold number ($1$ to $k$ inclusive)\n",
    "      - Value: The attribute training DataFrame for that fold\n",
    "   - `d_test_df_X`: key is the fold number, value is \n",
    "      - Key: Fold number\n",
    "      - Value: The attribute testing DataFrame for that fold\n",
    "   - `d_train_s_y`: key is the fold number, value is \n",
    "      - Key: Fold number\n",
    "      - Value: The target training Series for that fold\n",
    "   - `d_train_s_y`: key is the fold number, value is \n",
    "      - Key: Fold number\n",
    "      - Value: The target testing Series for that fold\n"
   ]
  },
  {
   "cell_type": "markdown",
   "metadata": {},
   "source": [
    "<!-- BEGIN QUESTION -->\n",
    "\n"
   ]
  },
  {
   "cell_type": "code",
   "execution_count": 209,
   "metadata": {
    "tags": []
   },
   "outputs": [],
   "source": [
    "# This is the credit card data provided, we'll use sklearn methods to do cross validation\n",
    "# to estimate error.\n",
    "#\n",
    "# The dataset is compressed, since it's really big (77 MB uncompressed)\n",
    "df_cc = pd.read_csv('cc.csv.gz')\n",
    "\n",
    "# Split the full dataframe into the training DataFrame and target Series.\n",
    "df_X = df_cc.loc[:, df_cc.columns != 'Class']\n",
    "s_y = df_cc['Class']\n",
    "# Initialize a Stratified k-fold predictor, skf\n",
    "skf = StratifiedKFold(n_splits=3, shuffle=True, random_state=23)"
   ]
  },
  {
   "cell_type": "code",
   "execution_count": 210,
   "metadata": {},
   "outputs": [
    {
     "data": {
      "text/html": [
       "<div>\n",
       "<style scoped>\n",
       "    .dataframe tbody tr th:only-of-type {\n",
       "        vertical-align: middle;\n",
       "    }\n",
       "\n",
       "    .dataframe tbody tr th {\n",
       "        vertical-align: top;\n",
       "    }\n",
       "\n",
       "    .dataframe thead th {\n",
       "        text-align: right;\n",
       "    }\n",
       "</style>\n",
       "<table border=\"1\" class=\"dataframe\">\n",
       "  <thead>\n",
       "    <tr style=\"text-align: right;\">\n",
       "      <th></th>\n",
       "      <th>Time</th>\n",
       "      <th>V1</th>\n",
       "      <th>V2</th>\n",
       "      <th>V3</th>\n",
       "      <th>V4</th>\n",
       "      <th>V5</th>\n",
       "      <th>V6</th>\n",
       "      <th>V7</th>\n",
       "      <th>V8</th>\n",
       "      <th>V9</th>\n",
       "      <th>...</th>\n",
       "      <th>V20</th>\n",
       "      <th>V21</th>\n",
       "      <th>V22</th>\n",
       "      <th>V23</th>\n",
       "      <th>V24</th>\n",
       "      <th>V25</th>\n",
       "      <th>V26</th>\n",
       "      <th>V27</th>\n",
       "      <th>V28</th>\n",
       "      <th>Amount</th>\n",
       "    </tr>\n",
       "  </thead>\n",
       "  <tbody>\n",
       "    <tr>\n",
       "      <th>0</th>\n",
       "      <td>72222.0</td>\n",
       "      <td>1.190580</td>\n",
       "      <td>-0.188208</td>\n",
       "      <td>0.323583</td>\n",
       "      <td>-0.017402</td>\n",
       "      <td>-0.758874</td>\n",
       "      <td>-1.132340</td>\n",
       "      <td>-0.021169</td>\n",
       "      <td>-0.201165</td>\n",
       "      <td>0.364626</td>\n",
       "      <td>...</td>\n",
       "      <td>-0.000226</td>\n",
       "      <td>-0.103901</td>\n",
       "      <td>-0.442050</td>\n",
       "      <td>0.024706</td>\n",
       "      <td>0.438578</td>\n",
       "      <td>0.164461</td>\n",
       "      <td>0.930956</td>\n",
       "      <td>-0.096429</td>\n",
       "      <td>0.012989</td>\n",
       "      <td>57.00</td>\n",
       "    </tr>\n",
       "    <tr>\n",
       "      <th>1</th>\n",
       "      <td>65707.0</td>\n",
       "      <td>1.282559</td>\n",
       "      <td>0.270023</td>\n",
       "      <td>0.134166</td>\n",
       "      <td>0.618716</td>\n",
       "      <td>-0.291346</td>\n",
       "      <td>-0.893310</td>\n",
       "      <td>0.005146</td>\n",
       "      <td>-0.119655</td>\n",
       "      <td>0.219620</td>\n",
       "      <td>...</td>\n",
       "      <td>-0.139638</td>\n",
       "      <td>-0.324119</td>\n",
       "      <td>-0.983490</td>\n",
       "      <td>0.098567</td>\n",
       "      <td>-0.044337</td>\n",
       "      <td>0.228126</td>\n",
       "      <td>0.120401</td>\n",
       "      <td>-0.030385</td>\n",
       "      <td>0.024717</td>\n",
       "      <td>0.89</td>\n",
       "    </tr>\n",
       "    <tr>\n",
       "      <th>2</th>\n",
       "      <td>47048.0</td>\n",
       "      <td>-0.777343</td>\n",
       "      <td>0.081844</td>\n",
       "      <td>1.910231</td>\n",
       "      <td>1.194221</td>\n",
       "      <td>1.018604</td>\n",
       "      <td>0.438980</td>\n",
       "      <td>0.183102</td>\n",
       "      <td>0.017511</td>\n",
       "      <td>-0.193956</td>\n",
       "      <td>...</td>\n",
       "      <td>0.408923</td>\n",
       "      <td>0.072843</td>\n",
       "      <td>0.361164</td>\n",
       "      <td>-0.159239</td>\n",
       "      <td>-0.743651</td>\n",
       "      <td>0.092543</td>\n",
       "      <td>-0.165719</td>\n",
       "      <td>-0.022370</td>\n",
       "      <td>-0.093903</td>\n",
       "      <td>40.00</td>\n",
       "    </tr>\n",
       "    <tr>\n",
       "      <th>3</th>\n",
       "      <td>127379.0</td>\n",
       "      <td>-0.887548</td>\n",
       "      <td>1.417217</td>\n",
       "      <td>0.753405</td>\n",
       "      <td>2.257167</td>\n",
       "      <td>1.392043</td>\n",
       "      <td>0.680374</td>\n",
       "      <td>0.531104</td>\n",
       "      <td>0.609270</td>\n",
       "      <td>-1.725432</td>\n",
       "      <td>...</td>\n",
       "      <td>-0.220606</td>\n",
       "      <td>-0.345603</td>\n",
       "      <td>-1.323231</td>\n",
       "      <td>0.219222</td>\n",
       "      <td>-0.080944</td>\n",
       "      <td>-0.791587</td>\n",
       "      <td>-0.773272</td>\n",
       "      <td>0.040113</td>\n",
       "      <td>0.099547</td>\n",
       "      <td>9.08</td>\n",
       "    </tr>\n",
       "    <tr>\n",
       "      <th>4</th>\n",
       "      <td>151137.0</td>\n",
       "      <td>1.819262</td>\n",
       "      <td>-0.445540</td>\n",
       "      <td>-0.186929</td>\n",
       "      <td>1.268411</td>\n",
       "      <td>-0.483948</td>\n",
       "      <td>0.164878</td>\n",
       "      <td>-0.572012</td>\n",
       "      <td>0.022557</td>\n",
       "      <td>1.071776</td>\n",
       "      <td>...</td>\n",
       "      <td>0.010713</td>\n",
       "      <td>0.065024</td>\n",
       "      <td>0.222817</td>\n",
       "      <td>0.099592</td>\n",
       "      <td>-0.728832</td>\n",
       "      <td>-0.236169</td>\n",
       "      <td>-0.722497</td>\n",
       "      <td>0.068185</td>\n",
       "      <td>-0.010816</td>\n",
       "      <td>90.00</td>\n",
       "    </tr>\n",
       "    <tr>\n",
       "      <th>...</th>\n",
       "      <td>...</td>\n",
       "      <td>...</td>\n",
       "      <td>...</td>\n",
       "      <td>...</td>\n",
       "      <td>...</td>\n",
       "      <td>...</td>\n",
       "      <td>...</td>\n",
       "      <td>...</td>\n",
       "      <td>...</td>\n",
       "      <td>...</td>\n",
       "      <td>...</td>\n",
       "      <td>...</td>\n",
       "      <td>...</td>\n",
       "      <td>...</td>\n",
       "      <td>...</td>\n",
       "      <td>...</td>\n",
       "      <td>...</td>\n",
       "      <td>...</td>\n",
       "      <td>...</td>\n",
       "      <td>...</td>\n",
       "      <td>...</td>\n",
       "    </tr>\n",
       "    <tr>\n",
       "      <th>142399</th>\n",
       "      <td>65324.0</td>\n",
       "      <td>-0.559946</td>\n",
       "      <td>0.103121</td>\n",
       "      <td>0.319922</td>\n",
       "      <td>-0.973168</td>\n",
       "      <td>1.226528</td>\n",
       "      <td>-1.277010</td>\n",
       "      <td>1.106265</td>\n",
       "      <td>-0.394966</td>\n",
       "      <td>-0.566084</td>\n",
       "      <td>...</td>\n",
       "      <td>0.401564</td>\n",
       "      <td>0.160310</td>\n",
       "      <td>0.518538</td>\n",
       "      <td>0.152764</td>\n",
       "      <td>0.102517</td>\n",
       "      <td>-0.821350</td>\n",
       "      <td>0.710368</td>\n",
       "      <td>0.148434</td>\n",
       "      <td>0.049325</td>\n",
       "      <td>57.81</td>\n",
       "    </tr>\n",
       "    <tr>\n",
       "      <th>142400</th>\n",
       "      <td>135695.0</td>\n",
       "      <td>1.833353</td>\n",
       "      <td>-0.450252</td>\n",
       "      <td>-0.469224</td>\n",
       "      <td>0.831620</td>\n",
       "      <td>0.415326</td>\n",
       "      <td>2.161855</td>\n",
       "      <td>-1.088867</td>\n",
       "      <td>0.775843</td>\n",
       "      <td>0.984546</td>\n",
       "      <td>...</td>\n",
       "      <td>-0.349295</td>\n",
       "      <td>0.037067</td>\n",
       "      <td>0.266594</td>\n",
       "      <td>0.349396</td>\n",
       "      <td>-1.025944</td>\n",
       "      <td>-0.514426</td>\n",
       "      <td>-0.739087</td>\n",
       "      <td>0.106196</td>\n",
       "      <td>-0.045159</td>\n",
       "      <td>1.00</td>\n",
       "    </tr>\n",
       "    <tr>\n",
       "      <th>142401</th>\n",
       "      <td>62620.0</td>\n",
       "      <td>-3.324328</td>\n",
       "      <td>-2.771390</td>\n",
       "      <td>1.883730</td>\n",
       "      <td>0.154892</td>\n",
       "      <td>0.142827</td>\n",
       "      <td>-1.327852</td>\n",
       "      <td>-1.089896</td>\n",
       "      <td>0.762312</td>\n",
       "      <td>-1.578990</td>\n",
       "      <td>...</td>\n",
       "      <td>0.561959</td>\n",
       "      <td>0.165352</td>\n",
       "      <td>-0.626969</td>\n",
       "      <td>0.314974</td>\n",
       "      <td>0.442229</td>\n",
       "      <td>0.227412</td>\n",
       "      <td>-0.591151</td>\n",
       "      <td>-0.054984</td>\n",
       "      <td>-0.393804</td>\n",
       "      <td>205.77</td>\n",
       "    </tr>\n",
       "    <tr>\n",
       "      <th>142402</th>\n",
       "      <td>39607.0</td>\n",
       "      <td>-2.457284</td>\n",
       "      <td>-6.208370</td>\n",
       "      <td>-1.997703</td>\n",
       "      <td>1.251932</td>\n",
       "      <td>-2.132900</td>\n",
       "      <td>0.456995</td>\n",
       "      <td>2.335032</td>\n",
       "      <td>-0.384962</td>\n",
       "      <td>-0.115378</td>\n",
       "      <td>...</td>\n",
       "      <td>3.750285</td>\n",
       "      <td>0.974168</td>\n",
       "      <td>-1.585880</td>\n",
       "      <td>-1.585928</td>\n",
       "      <td>-0.181570</td>\n",
       "      <td>-0.622555</td>\n",
       "      <td>0.678623</td>\n",
       "      <td>-0.442699</td>\n",
       "      <td>0.318217</td>\n",
       "      <td>1915.01</td>\n",
       "    </tr>\n",
       "    <tr>\n",
       "      <th>142403</th>\n",
       "      <td>147608.0</td>\n",
       "      <td>1.871051</td>\n",
       "      <td>0.221899</td>\n",
       "      <td>-0.042586</td>\n",
       "      <td>3.531304</td>\n",
       "      <td>0.248165</td>\n",
       "      <td>1.285607</td>\n",
       "      <td>-0.675794</td>\n",
       "      <td>0.367247</td>\n",
       "      <td>-0.541569</td>\n",
       "      <td>...</td>\n",
       "      <td>-0.204570</td>\n",
       "      <td>0.186848</td>\n",
       "      <td>0.601374</td>\n",
       "      <td>0.142002</td>\n",
       "      <td>0.178048</td>\n",
       "      <td>-0.165776</td>\n",
       "      <td>0.006957</td>\n",
       "      <td>0.009314</td>\n",
       "      <td>-0.038850</td>\n",
       "      <td>4.95</td>\n",
       "    </tr>\n",
       "  </tbody>\n",
       "</table>\n",
       "<p>142404 rows × 30 columns</p>\n",
       "</div>"
      ],
      "text/plain": [
       "            Time        V1        V2        V3        V4        V5        V6  \\\n",
       "0        72222.0  1.190580 -0.188208  0.323583 -0.017402 -0.758874 -1.132340   \n",
       "1        65707.0  1.282559  0.270023  0.134166  0.618716 -0.291346 -0.893310   \n",
       "2        47048.0 -0.777343  0.081844  1.910231  1.194221  1.018604  0.438980   \n",
       "3       127379.0 -0.887548  1.417217  0.753405  2.257167  1.392043  0.680374   \n",
       "4       151137.0  1.819262 -0.445540 -0.186929  1.268411 -0.483948  0.164878   \n",
       "...          ...       ...       ...       ...       ...       ...       ...   \n",
       "142399   65324.0 -0.559946  0.103121  0.319922 -0.973168  1.226528 -1.277010   \n",
       "142400  135695.0  1.833353 -0.450252 -0.469224  0.831620  0.415326  2.161855   \n",
       "142401   62620.0 -3.324328 -2.771390  1.883730  0.154892  0.142827 -1.327852   \n",
       "142402   39607.0 -2.457284 -6.208370 -1.997703  1.251932 -2.132900  0.456995   \n",
       "142403  147608.0  1.871051  0.221899 -0.042586  3.531304  0.248165  1.285607   \n",
       "\n",
       "              V7        V8        V9  ...       V20       V21       V22  \\\n",
       "0      -0.021169 -0.201165  0.364626  ... -0.000226 -0.103901 -0.442050   \n",
       "1       0.005146 -0.119655  0.219620  ... -0.139638 -0.324119 -0.983490   \n",
       "2       0.183102  0.017511 -0.193956  ...  0.408923  0.072843  0.361164   \n",
       "3       0.531104  0.609270 -1.725432  ... -0.220606 -0.345603 -1.323231   \n",
       "4      -0.572012  0.022557  1.071776  ...  0.010713  0.065024  0.222817   \n",
       "...          ...       ...       ...  ...       ...       ...       ...   \n",
       "142399  1.106265 -0.394966 -0.566084  ...  0.401564  0.160310  0.518538   \n",
       "142400 -1.088867  0.775843  0.984546  ... -0.349295  0.037067  0.266594   \n",
       "142401 -1.089896  0.762312 -1.578990  ...  0.561959  0.165352 -0.626969   \n",
       "142402  2.335032 -0.384962 -0.115378  ...  3.750285  0.974168 -1.585880   \n",
       "142403 -0.675794  0.367247 -0.541569  ... -0.204570  0.186848  0.601374   \n",
       "\n",
       "             V23       V24       V25       V26       V27       V28   Amount  \n",
       "0       0.024706  0.438578  0.164461  0.930956 -0.096429  0.012989    57.00  \n",
       "1       0.098567 -0.044337  0.228126  0.120401 -0.030385  0.024717     0.89  \n",
       "2      -0.159239 -0.743651  0.092543 -0.165719 -0.022370 -0.093903    40.00  \n",
       "3       0.219222 -0.080944 -0.791587 -0.773272  0.040113  0.099547     9.08  \n",
       "4       0.099592 -0.728832 -0.236169 -0.722497  0.068185 -0.010816    90.00  \n",
       "...          ...       ...       ...       ...       ...       ...      ...  \n",
       "142399  0.152764  0.102517 -0.821350  0.710368  0.148434  0.049325    57.81  \n",
       "142400  0.349396 -1.025944 -0.514426 -0.739087  0.106196 -0.045159     1.00  \n",
       "142401  0.314974  0.442229  0.227412 -0.591151 -0.054984 -0.393804   205.77  \n",
       "142402 -1.585928 -0.181570 -0.622555  0.678623 -0.442699  0.318217  1915.01  \n",
       "142403  0.142002  0.178048 -0.165776  0.006957  0.009314 -0.038850     4.95  \n",
       "\n",
       "[142404 rows x 30 columns]"
      ]
     },
     "execution_count": 210,
     "metadata": {},
     "output_type": "execute_result"
    }
   ],
   "source": [
    "df_X"
   ]
  },
  {
   "cell_type": "code",
   "execution_count": 211,
   "metadata": {
    "tags": []
   },
   "outputs": [],
   "source": [
    "d_train_df_X = {}\n",
    "d_test_df_X = {}\n",
    "d_train_s_y = {}\n",
    "d_test_s_y = {}\n",
    "\n",
    "\n",
    "# Construct the above dictionaries.\n",
    "for i, (train_index, test_index) in enumerate(skf.split(df_X,s_y)):\n",
    "    #print(f\"Fold {i}:\")\n",
    "    #print(f\"  Train: index={train_index}\")\n",
    "    #print(f\"  Test:  index={test_index}\")\n",
    "    \n",
    "    d_train_df_X[i+1] = pd.DataFrame(df_X.values[train_index])\n",
    "    d_test_df_X[i+1] = pd.DataFrame(df_X.values[test_index])\n",
    "    d_train_s_y[i+1] = pd.Series(s_y.values[train_index])\n",
    "    d_test_s_y[i+1] = pd.Series(s_y.values[test_index])"
   ]
  },
  {
   "cell_type": "code",
   "execution_count": 212,
   "metadata": {
    "scrolled": true,
    "tags": []
   },
   "outputs": [
    {
     "name": "stdout",
     "output_type": "stream",
     "text": [
      "Fold 1:\n",
      "0    47389\n",
      "1       79\n",
      "dtype: int64\n",
      "\n",
      "Fold 2:\n",
      "0    47389\n",
      "1       79\n",
      "dtype: int64\n",
      "\n",
      "Fold 3:\n",
      "0    47389\n",
      "1       79\n",
      "dtype: int64\n",
      "\n"
     ]
    }
   ],
   "source": [
    "# Look at the test data and verify that the target training datasets are as\n",
    "# equally distributed as possible.\n",
    "for key in d_test_s_y.keys():\n",
    "    print(f'Fold {key}:')\n",
    "    print(d_test_s_y[key].value_counts())\n",
    "    print()"
   ]
  },
  {
   "cell_type": "markdown",
   "metadata": {},
   "source": [
    "<!-- END QUESTION -->\n",
    "\n",
    "## Q2\n",
    "**Write functions to compute performance metrics**\n",
    "\n",
    "For this problem, we will write four functions to test the performance of a classifier.\n",
    "- Each function will take in:\n",
    "    - `y_pred`, a Pandas Series of prediciton target classes\n",
    "    - `y_label` a Pandas Series of true target labels.\n",
    "- Each function should return a `float`ing point number between 0.0 and 1.0\n",
    "\n",
    "You'll write the following four functions:\n",
    "- `tpr(y_pred, y_label)`: Computes the **true positive rate**\n",
    "- `fpr(y_pred, y_label)`: Computes the **false positive rate**\n",
    "- `ppv(y_pred, y_label)`: Computes the **positive predictive value**.\n",
    "- `accuracy(y_pred, y_label)`: Computes the **accuracy**\n"
   ]
  },
  {
   "cell_type": "markdown",
   "metadata": {},
   "source": [
    "<!-- BEGIN QUESTION -->\n",
    "\n"
   ]
  },
  {
   "cell_type": "code",
   "execution_count": 213,
   "metadata": {
    "tags": []
   },
   "outputs": [],
   "source": [
    "# Write some helper functions to compute TPR, FPR, PPV, and accuracy.\n",
    "def tpr(y_pred: pd.Series, y_label : pd.Series) -> float:\n",
    "    \"\"\"Compute the true postive rate.\n",
    "\n",
    "    Note: It should be between 0 and 1 (i.e. *not* a percentage)\n",
    "    \"\"\"\n",
    "    #print('y_pred', y_pred)\n",
    "    #print('t_label', y_label)\n",
    "    tp = 0\n",
    "    for t, p in zip(y_label, y_pred):\n",
    "        if t == 1 and p == 1:\n",
    "            tp +=1\n",
    "    tn = 0\n",
    "    for t, p in zip(y_label, y_pred):\n",
    "        if t == 0 and p == 0:\n",
    "            tn +=1\n",
    "    fp = 0\n",
    "    for t, p in zip(y_label, y_pred):\n",
    "        if t == 0 and p == 1:\n",
    "            fp +=1\n",
    "    \n",
    "    fn = 0\n",
    "    for t, p in zip(y_label, y_pred):\n",
    "        if t == 1 and p == 0:\n",
    "            fn +=1\n",
    "    #print('tp', tp)\n",
    "    #print('tn', tn)\n",
    "    #print('fp', fp)\n",
    "    #print('fn', fn)\n",
    "    tpr_ = tp / (tp+fn)\n",
    "    \n",
    "    return tpr_\n",
    "\n",
    "\n",
    "def fpr(y_pred: pd.Series, y_label : pd.Series) -> float:\n",
    "    \"\"\"Compute the false postive rate.\n",
    "\n",
    "    Note: It should be between 0 and 1 (i.e. *not* a percentage)\n",
    "    \"\"\"\n",
    "    tp = 0\n",
    "    for t, p in zip(y_label, y_pred):\n",
    "        if t == 1 and p == 1:\n",
    "            tp +=1\n",
    "    tn = 0\n",
    "    for t, p in zip(y_label, y_pred):\n",
    "        if t == 0 and p == 0:\n",
    "            tn +=1\n",
    "    fp = 0\n",
    "    for t, p in zip(y_label, y_pred):\n",
    "        if t == 0 and p == 1:\n",
    "            fp +=1\n",
    "    \n",
    "    fn = 0\n",
    "    for t, p in zip(y_label, y_pred):\n",
    "        if t == 1 and p == 0:\n",
    "            fn +=1\n",
    "    \n",
    "    fpr_ = fp/ (fp+tn)\n",
    "    return fpr_\n",
    "\n",
    "\n",
    "def ppv(y_pred: pd.Series, y_label : pd.Series) -> float:\n",
    "    \"\"\"Compute the positive predictive value.\n",
    "\n",
    "    Note: It should be between 0 and 1 (i.e. *not* a percentage)\n",
    "    \"\"\"\n",
    "    tp = 0\n",
    "    for t, p in zip(y_label, y_pred):\n",
    "        if t == 1 and p == 1:\n",
    "            tp +=1\n",
    "    tn = 0\n",
    "    for t, p in zip(y_label, y_pred):\n",
    "        if t == 0 and p == 0:\n",
    "            tn +=1\n",
    "    fp = 0\n",
    "    for t, p in zip(y_label, y_pred):\n",
    "        if t == 0 and p == 1:\n",
    "            fp +=1\n",
    "    \n",
    "    fn = 0\n",
    "    for t, p in zip(y_label, y_pred):\n",
    "        if t == 1 and p == 0:\n",
    "            fn +=1\n",
    "    \n",
    "    ppv_ = tp/(tp+fp)\n",
    "    \n",
    "    return ppv_\n",
    "\n",
    "\n",
    "def accuracy(y_pred: pd.Series, y_label : pd.Series) -> float:\n",
    "    \"\"\"Compute the accuracy.\n",
    "\n",
    "    Note: It should be between 0 and 1 (i.e. *not* a percentage)\n",
    "    \"\"\"\n",
    "    tp = 0\n",
    "    for t, p in zip(y_label, y_pred):\n",
    "        if t == 1 and p == 1:\n",
    "            tp +=1\n",
    "    tn = 0\n",
    "    for t, p in zip(y_label, y_pred):\n",
    "        if t == 0 and p == 0:\n",
    "            tn +=1\n",
    "    fp = 0\n",
    "    for t, p in zip(y_label, y_pred):\n",
    "        if t == 0 and p == 1:\n",
    "            fp +=1\n",
    "    \n",
    "    fn = 0\n",
    "    for t, p in zip(y_label, y_pred):\n",
    "        if t == 1 and p == 0:\n",
    "            fn +=1\n",
    "    \n",
    "    accuracy_ = (tp+tn)/(tp+fp+fn+tn)\n",
    "    return accuracy_"
   ]
  },
  {
   "cell_type": "code",
   "execution_count": 214,
   "metadata": {
    "tags": []
   },
   "outputs": [
    {
     "data": {
      "text/plain": [
       "0.0"
      ]
     },
     "execution_count": 214,
     "metadata": {},
     "output_type": "execute_result"
    }
   ],
   "source": [
    "# You can write some tests for your functions here, if you wish.\n",
    "tpr_test = tpr(d_test_s_y[1], d_test_s_y[2])\n",
    "tpr_test"
   ]
  },
  {
   "cell_type": "markdown",
   "metadata": {},
   "source": [
    "<!-- END QUESTION -->\n",
    "\n",
    "## Q3 \n",
    "\n",
    "**Test the Performance of AdaBoost**\n",
    "\n",
    "\n",
    "When we talked about AdaBoost in class, we used a collection of \"Decision Stumps\". In this project, we will use the implementation of [`AdaBoostClassifier`](https://scikit-learn.org/stable/modules/generated/sklearn.ensemble.AdaBoostClassifier.html) in scikit-learn.  \n",
    "- As you browse the documentation, you will notice that the default base esimator for `AdaBoostClassifier` is a `DecisionTreeClassifier(max_depth=1)` (i.e. exactly what we learned, the decision stump).\n",
    "- After you fit an `AdaBoost` model, you can call these methods:\n",
    "     - `predict`, which yields a class prediction\n",
    "     - `predict_proba`, which yieldst the probability of being in the class `0` or the class `1`. (These probabilities are used when creating ROC curves.)\n",
    "\n",
    "For this problem, we will do the following:\n",
    "- Loop over the $k$ folds using the dictionaries from Q1.\n",
    "- For each fold:\n",
    "    1. Fit an `AdaBoostClassifier` on the fold's training set.\n",
    "        - Make sure that `n_estimators=25`, and `random_state=23`.\n",
    "    2. Get the `AdaBoostClassifier`'s predictions on the fold's testing set.\n",
    "    3. Compute the ROC curve, and ROC area under curve (AUC) of the classifier on the fold's testing set.\n",
    "    3. Compute the accuracy, TPR, PPV, and FPR of the classifier on the fold's testing set.\n",
    "- **For the third fold only**, save the class predictions into a variable called `y_hat_ab` for use in Q5.\n",
    "- Plot the ROC curves for each fold on one graph.\n",
    "\n",
    "*Hints*:\n",
    "- For plotting the ROC curve, the following functions should be useful:\n",
    "    - [`roc_curve`](https://scikit-learn.org/stable/modules/generated/sklearn.metrics.roc_curve.html) computes an array of points which you can use to plot your curve. It returns `fpr` and `tpr`, which represent points on the curve, and `thresholds`, which you will not need.\n",
    "    - [`roc_auc_score`](https://scikit-learn.org/stable/modules/generated/sklearn.metrics.roc_auc_score.html) computes the AUC of an ROC curve.\n",
    "    - You should avoid using `plot_roc_curve`, as it is deprecated. \n",
    "    - Likewise, you should avoid [`ROCCurveDisplay`](https://scikit-learn.org/0.24/modules/generated/sklearn.metrics.RocCurveDisplay.html#sklearn.metrics.RocCurveDisplay), since it only lets us visualize one fold at a time. However, its related [tutorial](https://scikit-learn.org/stable/auto_examples/model_selection/plot_roc_crossval.html) may be helpful.\n",
    "\n",
    "*Note*: This can take a few minutes to run.\n",
    "- To make debugging faster, you can set `n_estimators=1` or some small number. However, when obtaining the final results, please make sure that `n_estimators=25`.\n"
   ]
  },
  {
   "cell_type": "markdown",
   "metadata": {},
   "source": [
    "<!-- BEGIN QUESTION -->\n",
    "\n"
   ]
  },
  {
   "cell_type": "code",
   "execution_count": 215,
   "metadata": {
    "tags": []
   },
   "outputs": [
    {
     "name": "stdout",
     "output_type": "stream",
     "text": [
      "Fold 1 TPR: 0.620 FPR: 0.000 PPV: 0.817 Accuracy: 0.999 AUC: 0.966\n",
      "Fold 2 TPR: 0.620 FPR: 0.000 PPV: 0.754 Accuracy: 0.999 AUC: 0.963\n",
      "Fold 3 TPR: 0.709 FPR: 0.000 PPV: 0.800 Accuracy: 0.999 AUC: 0.958\n"
     ]
    }
   ],
   "source": [
    "fpr_curves_ab = {} # Contains the fpr curve points generated by roc_curve on each fold.\n",
    "tpr_curves_ab = {} # Contains the tpr curve points generated by roc_curve on each fold.\n",
    "\n",
    "aucs_ab = {} # Contains the AUC value generated by roc_auc_score on each fold.\n",
    "tprs_ab = {} # Contains the TPR you compute on each fold.\n",
    "fprs_ab = {} # Contains the FPR you compute on each fold.\n",
    "ppvs_ab = {} # Contains the PPV you compute on each fold.\n",
    "accs_ab = {} # Contains the accuracy you compute on each fold.\n",
    "\n",
    "for k in d_train_df_X.keys():\n",
    "    print(f'Fold {k}', end='')\n",
    "    \n",
    "    # Create an AdaBoost classifier and fit it to the dataset.\n",
    "    clf_ab = AdaBoostClassifier(n_estimators=25, random_state=23)\n",
    "    clf_ab.fit(d_train_df_X[k], d_train_s_y[k])\n",
    "\n",
    "    # Compute the predicitons (both class and probability) on the test set.\n",
    "    y_pred = clf_ab.predict(d_test_df_X[k])\n",
    "    y_pred_prob = clf_ab.predict_proba(d_test_df_X[k])\n",
    "\n",
    "    # Compute the ROC curve and AUC score. Hint: use roc_curve / roc_auc_score.\n",
    "    #print(y_pred_prob.T[0])\n",
    "    fpr_curves, tpr_curves, thresholds = roc_curve(d_test_s_y[k],y_pred_prob[:, 1])\n",
    "    fpr_curves_ab[k] = fpr_curves\n",
    "    tpr_curves_ab[k] = tpr_curves\n",
    "    aucs_ab[k] = roc_auc_score(d_test_s_y[k], y_pred_prob[:, 1])\n",
    "\n",
    "    # Compute the raw TPR, PPV, FPR, and accuracy. Do not use any library functions.\n",
    "    tprs_ab[k] = tpr(y_pred, d_test_s_y[k])\n",
    "    fprs_ab[k] = fpr(y_pred, d_test_s_y[k])\n",
    "    ppvs_ab[k] = ppv(y_pred, d_test_s_y[k])\n",
    "    accs_ab[k] = accuracy(y_pred, d_test_s_y[k])\n",
    "\n",
    "    print(f' TPR: {tprs_ab[k]:.3f} FPR: {fprs_ab[k]:.3f} PPV: {ppvs_ab[k]:.3f} Accuracy: {accs_ab[k]:.3f} AUC: {aucs_ab[k]:.3f}')\n",
    "\n",
    "    # Save the third fold's predicitons\n",
    "    if k == 3:\n",
    "        y_hat_ab = y_pred"
   ]
  },
  {
   "cell_type": "code",
   "execution_count": 216,
   "metadata": {
    "tags": []
   },
   "outputs": [
    {
     "data": {
      "image/png": "[encoded data removed]",
      "text/plain": [
       "<Figure size 640x480 with 1 Axes>"
      ]
     },
     "metadata": {},
     "output_type": "display_data"
    }
   ],
   "source": [
    "# Plot ROC curve\n",
    "for k in d_train_df_X.keys():\n",
    "    plt.plot(fpr_curves_ab[k],tpr_curves_ab[k])\n",
    "    plt.ylabel('True Positive Rate')\n",
    "    plt.xlabel('False Positive Rate')\n",
    "plt.show()"
   ]
  },
  {
   "cell_type": "code",
   "execution_count": 217,
   "metadata": {
    "tags": []
   },
   "outputs": [
    {
     "name": "stdout",
     "output_type": "stream",
     "text": [
      "TPR min: 0.620 mean: 0.650 max: 0.709\n",
      "FPR min: 0.000 mean: 0.000 max: 0.000\n",
      "PPV min: 0.754 mean: 0.790 max: 0.817\n",
      "ACC min: 0.999 mean: 0.999 max: 0.999\n",
      "AUC min: 0.958 mean: 0.962 max: 0.966\n"
     ]
    }
   ],
   "source": [
    "# Print min, mean, max metrics.\n",
    "print(f'TPR min: {min(tprs_ab.values()):.3f} mean: {np.average(list(tprs_ab.values())):.3f} max: {max(tprs_ab.values()):.3f}')\n",
    "print(f'FPR min: {min(fprs_ab.values()):.3f} mean: {np.average(list(fprs_ab.values())):.3f} max: {max(fprs_ab.values()):.3f}')\n",
    "print(f'PPV min: {min(ppvs_ab.values()):.3f} mean: {np.average(list(ppvs_ab.values())):.3f} max: {max(ppvs_ab.values()):.3f}')\n",
    "print(f'ACC min: {min(accs_ab.values()):.3f} mean: {np.average(list(accs_ab.values())):.3f} max: {max(accs_ab.values()):.3f}')\n",
    "print(f'AUC min: {min(aucs_ab.values()):.3f} mean: {np.average(list(aucs_ab.values())):.3f} max: {max(aucs_ab.values()):.3f}')"
   ]
  },
  {
   "cell_type": "markdown",
   "metadata": {},
   "source": [
    "<!-- END QUESTION -->\n",
    "\n",
    "## Q4 \n",
    "\n",
    "**Test the Performance of Random Forests**\n",
    "\n",
    "Now, let's try another ensemble method: Random Forests, again using the scikit-learn implementation, which for this case is [`RandomForestClassifier`](https://scikit-learn.org/stable/modules/generated/sklearn.ensemble.RandomForestClassifier.html).\n",
    "- Following our book, we will build complete trees, with no pruning. That means that:\n",
    "    - Every leaf in the tree will be completelely pure.\n",
    "    - If you exam an individual decision tree, it would be overtrained to our training set.  \n",
    "- To avoid this, while building the decision trees, at every internal node, we select $p$ attributes at random, and then find the best split that minimizes impurtity.  \n",
    "    - The value $p$ is a hyperparameter of the Random Forest, corresponding to the `max_features` parameter for the `RandomForestClassifier`.\n",
    "\n",
    "As in Q3, we will do the following for this problem:\n",
    "- Loop over the $k$ folds using the dictionaries from Q1.\n",
    "- For each fold:\n",
    "    1. Fit an `RandomForestClassifier` on the fold's training set.\n",
    "        - Make sure that `criterion=\"entropy\"`, `max_features=\"sqrt\"`, and `random_state=23`.\n",
    "    2. Get the `RandomForestClassifier`'s predictions on the fold's testing set.\n",
    "    3. Compute the ROC curve, and ROC area under curve (AUC) of the classifier on the fold's testing set.\n",
    "    3. Compute the accuracy, TPR, PPV, and FPR of the classifier on the fold's testing set.\n",
    "- **For the third fold only**, save the class predictions into a variable called `y_hat_rf` for use in Q5.\n",
    "- Plot the ROC curves for each fold on one graph.\n",
    "\n",
    "\n",
    "*Note*: This can take a few minutes to run.\n",
    "- To make debugging faster, you can set (((`n_estimators=1` or some small number. However, when obtaining the final results, please make sure that `n_estimators=25`.)))"
   ]
  },
  {
   "cell_type": "markdown",
   "metadata": {},
   "source": [
    "<!-- BEGIN QUESTION -->\n",
    "\n"
   ]
  },
  {
   "cell_type": "code",
   "execution_count": 218,
   "metadata": {
    "tags": []
   },
   "outputs": [
    {
     "name": "stdout",
     "output_type": "stream",
     "text": [
      "Fold 1 TPR: 0.747 FPR: 0.000 PPV: 0.922 Accuracy: 0.999 AUC: 0.911\n",
      "Fold 2 TPR: 0.797 FPR: 0.000 PPV: 0.913 Accuracy: 1.000 AUC: 0.949\n",
      "Fold 3 TPR: 0.772 FPR: 0.000 PPV: 0.968 Accuracy: 1.000 AUC: 0.930\n"
     ]
    }
   ],
   "source": [
    "fpr_curves_rf = {} # Contains the fpr curve points generated by roc_curve on each fold.\n",
    "tpr_curves_rf = {} # Contains the tpr curve points generated by roc_curve on each fold.\n",
    "\n",
    "aucs_rf = {} # Contains the AUC value generated by roc_auc_score on each fold.\n",
    "tprs_rf = {} # Contains the TPR you compute on each fold.\n",
    "fprs_rf = {} # Contains the FPR you compute on each fold.\n",
    "ppvs_rf = {} # Contains the PPV you compute on each fold.\n",
    "accs_rf = {} # Contains the accuracy you compute on each fold.\n",
    "\n",
    "for k in d_train_df_X.keys():\n",
    "    print(f'Fold {k}', end='')\n",
    "    \n",
    "    # Create an AdaBoost classifier and fit it to the dataset.\n",
    "    clf_rf = RandomForestClassifier(n_estimators=25,criterion=\"entropy\", max_features=\"sqrt\",random_state=23)\n",
    "    clf_rf.fit(d_train_df_X[k], d_train_s_y[k])\n",
    "    # Compute the predicitons (both class and probability) on the test set.\n",
    "    y_pred = clf_rf.predict(d_test_df_X[k])\n",
    "    y_pred_prob = clf_rf.predict_proba(d_test_df_X[k])\n",
    "\n",
    "    # Compute the ROC curve and AUC score. Hint: use roc_curve / roc_auc_score.\n",
    "    fpr_curves, tpr_curves, thresholds = roc_curve(d_test_s_y[k],y_pred_prob[:, 1])\n",
    "    fpr_curves_rf[k] = fpr_curves\n",
    "    tpr_curves_rf[k] = tpr_curves\n",
    "    aucs_rf[k] = roc_auc_score(d_test_s_y[k], y_pred_prob[:, 1])\n",
    "\n",
    "    # Compute the raw TPR, PPV, FPR, and accuracy. Do not use any library functions.\n",
    "    tprs_rf[k] = tpr(y_pred, d_test_s_y[k])\n",
    "    fprs_rf[k] = fpr(y_pred, d_test_s_y[k])\n",
    "    ppvs_rf[k] = ppv(y_pred, d_test_s_y[k])\n",
    "    accs_rf[k] = accuracy(y_pred, d_test_s_y[k])\n",
    "\n",
    "    print(f' TPR: {tprs_rf[k]:.3f} FPR: {fprs_rf[k]:.3f} PPV: {ppvs_rf[k]:.3f} Accuracy: {accs_rf[k]:.3f} AUC: {aucs_rf[k]:.3f}')\n",
    "\n",
    "    # Save the third fold's predicitons\n",
    "    if k == 3:\n",
    "        y_hat_rf = y_pred"
   ]
  },
  {
   "cell_type": "code",
   "execution_count": 219,
   "metadata": {
    "tags": []
   },
   "outputs": [
    {
     "data": {
      "image/png": "[encoded data removed]",
      "text/plain": [
       "<Figure size 640x480 with 1 Axes>"
      ]
     },
     "metadata": {},
     "output_type": "display_data"
    }
   ],
   "source": [
    "# Plot ROC curve\n",
    "for k in d_train_df_X.keys():\n",
    "    plt.plot(fpr_curves_rf[k],tpr_curves_rf[k])\n",
    "    plt.ylabel('True Positive Rate')\n",
    "    plt.xlabel('False Positive Rate')\n",
    "plt.show()"
   ]
  },
  {
   "cell_type": "code",
   "execution_count": 220,
   "metadata": {
    "tags": []
   },
   "outputs": [
    {
     "name": "stdout",
     "output_type": "stream",
     "text": [
      "TPR min: 0.747 mean: 0.772 max: 0.797\n",
      "FPR min: 0.000 mean: 0.000 max: 0.000\n",
      "PPV min: 0.913 mean: 0.934 max: 0.968\n",
      "ACC min: 0.999 mean: 1.000 max: 1.000\n",
      "AUC min: 0.911 mean: 0.930 max: 0.949\n"
     ]
    }
   ],
   "source": [
    "# Print min, mean, max metrics.\n",
    "print(f'TPR min: {min(tprs_rf.values()):.3f} mean: {np.average(list(tprs_rf.values())):.3f} max: {max(tprs_rf.values()):.3f}')\n",
    "print(f'FPR min: {min(fprs_rf.values()):.3f} mean: {np.average(list(fprs_rf.values())):.3f} max: {max(fprs_rf.values()):.3f}')\n",
    "print(f'PPV min: {min(ppvs_rf.values()):.3f} mean: {np.average(list(ppvs_rf.values())):.3f} max: {max(ppvs_rf.values()):.3f}')\n",
    "print(f'ACC min: {min(accs_rf.values()):.3f} mean: {np.average(list(accs_rf.values())):.3f} max: {max(accs_rf.values()):.3f}')\n",
    "print(f'AUC min: {min(aucs_rf.values()):.3f} mean: {np.average(list(aucs_rf.values())):.3f} max: {max(aucs_rf.values()):.3f}')"
   ]
  },
  {
   "cell_type": "markdown",
   "metadata": {},
   "source": [
    "<!-- END QUESTION -->\n",
    "\n",
    "## Q5\n",
    "\n",
    "**Calculate the Cost of Fraud**\n",
    "\n",
    "- Recall that in Q3 and Q4, we saved the predictions of the testing set of fold #3 into the variables `y_hat_ab` and `y_hat_rf` for the AdaBoost and RandomForest models respectively.\n",
    "- We want to use these predictions to perform a cost analysis.\n",
    "    - Specifically, Mr. Bank Man wants to know how much money he is going to save if he deploys either of these fraud algorithms to his bank's real-time payment processing system.\n",
    "    - Assume that there is not a currently deployed fraud detection algorithm.\n",
    "- Our cost analysis model is defined as follows:\n",
    "    - For every fraudulent transaction that is not predicted as fraudulent, the bank loses **twice the transaction amount**.  \n",
    "        - *Example*: If a fradulent charge for €10 goes undectected, it costs the bank €20.  \n",
    "    - For every non-fradulent transaction that is predicted as fradulent, the bank loses a **flat fee of €3** due to costs from customer service support and re-marking the transaction.\n",
    "\n",
    "Using the 3rd fold test sample, calculate how much money Mr. Bank Man will save with each algorithm. Write a recommendation of which algorithm to deploy to production.\n"
   ]
  },
  {
   "cell_type": "markdown",
   "metadata": {},
   "source": [
    "Without a fraud detecting algorithm, the fraudulent cases will cost the bank 11242.37 euros. With the Adaboost classifier, it will save the bank 2704.05 euros. The random forest classifier saves the bank 6879.99 euros. Since the random forest classifer save around 3 times the amount of the Adaboost classifier, Mr. Bank Man should implement a random forest classifier over an Adaboost classifier. "
   ]
  },
  {
   "cell_type": "markdown",
   "metadata": {},
   "source": [
    "<!-- BEGIN QUESTION -->\n",
    "\n"
   ]
  },
  {
   "cell_type": "code",
   "execution_count": 226,
   "metadata": {
    "tags": []
   },
   "outputs": [
    {
     "name": "stdout",
     "output_type": "stream",
     "text": [
      "The current cost to the bank is €11242.37\n"
     ]
    }
   ],
   "source": [
    "# First, calculate the current cost to the bank with no fraud detection\n",
    "d_test = d_test_df_X[3].copy()\n",
    "d_test['Actual'] = d_test_s_y[3]\n",
    "d_test['Pred'] = y_hat_ab\n",
    "d_test = d_test.rename(columns={29: 'Amount'})\n",
    "idxs = d_test.index[d_test['Actual']==1].tolist()\n",
    "cost = d_test.iloc[idxs][\"Amount\"]\n",
    "\n",
    "current_cost = sum(cost)\n",
    "print(f'The current cost to the bank is €{current_cost:.2f}')"
   ]
  },
  {
   "cell_type": "code",
   "execution_count": 227,
   "metadata": {
    "tags": []
   },
   "outputs": [
    {
     "name": "stdout",
     "output_type": "stream",
     "text": [
      "With the AdaBoost classifier, the bank's costs will be:\n",
      "  Undetected fraud: €8496.32\n",
      "  False fraud: €42.00\n",
      "\n",
      "The bank will save €2704.05 by deploying the AdaBoost algorithm.\n"
     ]
    }
   ],
   "source": [
    "# Finally, compute the costs/savings to the bank if we deploy the AdaBoost classifier\n",
    "idxs_ab_nPred = d_test.index[(d_test['Actual']==1) & (d_test['Pred'] == 0)].tolist()\n",
    "cost_ab_nPred = d_test.iloc[idxs_ab_nPred][\"Amount\"]\n",
    "\n",
    "idxs_ab_nFraud = d_test.index[(d_test['Actual']==0) & (d_test['Pred'] == 1)].tolist()\n",
    "#cost_ab_nFraud = d_test.iloc[idxs_ab][\"Amount\"]\n",
    "\n",
    "cost_ab_undetected_fraud = sum(cost_ab_nPred*2)\n",
    "cost_ab_false_fraud = len(idxs_ab_nFraud) * 3\n",
    "savings_ab = current_cost - (cost_ab_undetected_fraud + cost_ab_false_fraud)\n",
    "#if(savings_ab > 0):\n",
    "#    savings_ab = cost_ab_undetected_fraud + cost_ab_false_fraud\n",
    "\n",
    "print('With the AdaBoost classifier, the bank\\'s costs will be:')\n",
    "print(f'  Undetected fraud: €{cost_ab_undetected_fraud:.2f}')\n",
    "print(f'  False fraud: €{cost_ab_false_fraud:.2f}')\n",
    "print()\n",
    "print(f'The bank will save €{savings_ab:.2f} by deploying the AdaBoost algorithm.')"
   ]
  },
  {
   "cell_type": "code",
   "execution_count": 228,
   "metadata": {
    "tags": []
   },
   "outputs": [
    {
     "name": "stdout",
     "output_type": "stream",
     "text": [
      "With the RandomForest classifier, the bank's costs will be:\n",
      "  Undetected fraud: €4356.38\n",
      "  False fraud: €6.00\n",
      "\n",
      "The bank will save €6879.99 by deploying the AdaBoost algorithm.\n"
     ]
    }
   ],
   "source": [
    "# Finally, compute the costs/savings to the bank if we deploy the RandomForest classifier\n",
    "d_test = d_test_df_X[3].copy()\n",
    "d_test['Actual'] = d_test_s_y[3]\n",
    "d_test['Pred'] = y_hat_rf\n",
    "d_test = d_test.rename(columns={29: 'Amount'})\n",
    "\n",
    "idxs_rf_nPred = d_test.index[(d_test['Actual']==1) & (d_test['Pred'] == 0)].tolist()\n",
    "cost_rf_nPred = d_test.iloc[idxs_rf_nPred][\"Amount\"]\n",
    "\n",
    "idxs_rf_nFraud = d_test.index[(d_test['Actual']==0) & (d_test['Pred'] == 1)].tolist()\n",
    "\n",
    "cost_rf_undetected_fraud = sum(cost_rf_nPred*2)\n",
    "cost_rf_false_fraud = len(idxs_rf_nFraud)*3\n",
    "savings_rf = current_cost - (cost_rf_undetected_fraud + cost_rf_false_fraud)\n",
    "#if(savings_rf > 0):\n",
    "#    savings_rf = cost_rf_undetected_fraud + cost_rf_false_fraud\n",
    "\n",
    "print('With the RandomForest classifier, the bank\\'s costs will be:')\n",
    "print(f'  Undetected fraud: €{cost_rf_undetected_fraud:.2f}')\n",
    "print(f'  False fraud: €{cost_rf_false_fraud:.2f}')\n",
    "print()\n",
    "print(f'The bank will save €{savings_rf:.2f} by deploying the AdaBoost algorithm.')"
   ]
  },
  {
   "cell_type": "markdown",
   "metadata": {},
   "source": [
    "<!-- END QUESTION -->\n",
    "\n"
   ]
  }
 ],
 "metadata": {
  "kernelspec": {
   "display_name": "Python 3 (ipykernel)",
   "language": "python",
   "name": "python3"
  },
  "language_info": {
   "codemirror_mode": {
    "name": "ipython",
    "version": 3
   },
   "file_extension": ".py",
   "mimetype": "text/x-python",
   "name": "python",
   "nbconvert_exporter": "python",
   "pygments_lexer": "ipython3",
   "version": "3.9.13"
  },
  "otter": {
   "OK_FORMAT": true,
   "assignment_name": "329e_HW12",
   "tests": {
    "q1": {
     "name": "q1",
     "points": 4,
     "suites": [
      {
       "cases": [],
       "scored": true,
       "setup": "",
       "teardown": "",
       "type": "doctest"
      }
     ]
    },
    "q2": {
     "name": "q2",
     "points": 4,
     "suites": [
      {
       "cases": [],
       "scored": true,
       "setup": "",
       "teardown": "",
       "type": "doctest"
      }
     ]
    },
    "q3computations": {
     "name": "q3computations",
     "points": 2,
     "suites": [
      {
       "cases": [],
       "scored": true,
       "setup": "",
       "teardown": "",
       "type": "doctest"
      }
     ]
    },
    "q4computations": {
     "name": "q4computations",
     "points": 2,
     "suites": [
      {
       "cases": [],
       "scored": true,
       "setup": "",
       "teardown": "",
       "type": "doctest"
      }
     ]
    },
    "q5computations": {
     "name": "q5computations",
     "points": 3,
     "suites": [
      {
       "cases": [],
       "scored": true,
       "setup": "",
       "teardown": "",
       "type": "doctest"
      }
     ]
    }
   }
  }
 },
 "nbformat": 4,
 "nbformat_minor": 4
}
