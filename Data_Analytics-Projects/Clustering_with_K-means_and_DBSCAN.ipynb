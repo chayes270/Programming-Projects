{
 "cells": [
  {
   "cell_type": "markdown",
   "metadata": {},
   "source": [
    "# Clustering with K-means and DBSCAN\n",
    "\n",
    "For this project, we are going explore two clustering methods:\n",
    "  - **K-Means**, which creates clusters based on a distance measure\n",
    "  - **DBSCAN**, which creates clusters based on the density of the poitns in the vicinity of the data.\n",
    "  \n",
    "Using small example data sets, we will implement both algorithms and visualize the results."
   ]
  },
  {
   "cell_type": "code",
   "execution_count": 365,
   "metadata": {},
   "outputs": [],
   "source": [
    "# Do not import any libraries (i.e. sklearn, scipy, etc.), except for\n",
    "# Python builtin libraries, unless otherwise specified.\n",
    "import pandas as pd\n",
    "import matplotlib.pyplot as plt\n",
    "import numpy as np\n",
    "%matplotlib inline"
   ]
  },
  {
   "cell_type": "markdown",
   "metadata": {},
   "source": [
    "# Part 1: K-Means\n",
    "\n",
    "\n",
    "In the first half, we will implement the basic $k$-means clustering algorithm, and apply that algorithm to a small data set provided with the project in the `data_kmeans.csv` file. We will build some helper functions along the way, test them, and put it all together to apply to our small example data set. "
   ]
  },
  {
   "cell_type": "code",
   "execution_count": 366,
   "metadata": {},
   "outputs": [
    {
     "data": {
      "text/html": [
       "<div>\n",
       "<style scoped>\n",
       "    .dataframe tbody tr th:only-of-type {\n",
       "        vertical-align: middle;\n",
       "    }\n",
       "\n",
       "    .dataframe tbody tr th {\n",
       "        vertical-align: top;\n",
       "    }\n",
       "\n",
       "    .dataframe thead th {\n",
       "        text-align: right;\n",
       "    }\n",
       "</style>\n",
       "<table border=\"1\" class=\"dataframe\">\n",
       "  <thead>\n",
       "    <tr style=\"text-align: right;\">\n",
       "      <th></th>\n",
       "      <th>x</th>\n",
       "      <th>y</th>\n",
       "    </tr>\n",
       "  </thead>\n",
       "  <tbody>\n",
       "    <tr>\n",
       "      <th>0</th>\n",
       "      <td>-0.731698</td>\n",
       "      <td>-0.874311</td>\n",
       "    </tr>\n",
       "    <tr>\n",
       "      <th>1</th>\n",
       "      <td>-0.547702</td>\n",
       "      <td>-0.580320</td>\n",
       "    </tr>\n",
       "    <tr>\n",
       "      <th>2</th>\n",
       "      <td>-0.762840</td>\n",
       "      <td>-0.885572</td>\n",
       "    </tr>\n",
       "    <tr>\n",
       "      <th>3</th>\n",
       "      <td>-0.340946</td>\n",
       "      <td>-0.810411</td>\n",
       "    </tr>\n",
       "    <tr>\n",
       "      <th>4</th>\n",
       "      <td>-0.749065</td>\n",
       "      <td>-0.399218</td>\n",
       "    </tr>\n",
       "    <tr>\n",
       "      <th>...</th>\n",
       "      <td>...</td>\n",
       "      <td>...</td>\n",
       "    </tr>\n",
       "    <tr>\n",
       "      <th>445</th>\n",
       "      <td>-0.526437</td>\n",
       "      <td>0.543792</td>\n",
       "    </tr>\n",
       "    <tr>\n",
       "      <th>446</th>\n",
       "      <td>-0.706212</td>\n",
       "      <td>0.630983</td>\n",
       "    </tr>\n",
       "    <tr>\n",
       "      <th>447</th>\n",
       "      <td>-0.470187</td>\n",
       "      <td>0.763061</td>\n",
       "    </tr>\n",
       "    <tr>\n",
       "      <th>448</th>\n",
       "      <td>-0.395677</td>\n",
       "      <td>0.542105</td>\n",
       "    </tr>\n",
       "    <tr>\n",
       "      <th>449</th>\n",
       "      <td>-0.524339</td>\n",
       "      <td>0.433905</td>\n",
       "    </tr>\n",
       "  </tbody>\n",
       "</table>\n",
       "<p>450 rows × 2 columns</p>\n",
       "</div>"
      ],
      "text/plain": [
       "            x         y\n",
       "0   -0.731698 -0.874311\n",
       "1   -0.547702 -0.580320\n",
       "2   -0.762840 -0.885572\n",
       "3   -0.340946 -0.810411\n",
       "4   -0.749065 -0.399218\n",
       "..        ...       ...\n",
       "445 -0.526437  0.543792\n",
       "446 -0.706212  0.630983\n",
       "447 -0.470187  0.763061\n",
       "448 -0.395677  0.542105\n",
       "449 -0.524339  0.433905\n",
       "\n",
       "[450 rows x 2 columns]"
      ]
     },
     "execution_count": 366,
     "metadata": {},
     "output_type": "execute_result"
    }
   ],
   "source": [
    "# Load in our toy dataset.\n",
    "df_kmeans = pd.read_csv('data_kmeans.csv')\n",
    "df_kmeans"
   ]
  },
  {
   "cell_type": "markdown",
   "metadata": {},
   "source": [
    "## Q1.1 \n",
    "\n",
    "**Write a function that returns $k$ random rows from a data frame**.\n",
    "- To initialize the centroids, we pick $k$ random points from a DataFrame.\n",
    "- Write a function `init_centroids(df_data, k)` that accepts two parameters:\n",
    "    - A DataFrame `df_data`\n",
    "    - An integer `k`.\n",
    "- `init_centroids` should return the initial centroids for our k-means algorithm as a DataFrame.\n",
    "\n",
    "*Notes*: \n",
    "- The index column of the returned DataFrame should range from $0$ to $(k - 1)$ inclusive so that we can use these as the centroid labels.  \n",
    "- Make sure this function can handle any arbitrary number of features, not just our `x` and `y` columns.\n",
    "- You **must** use the pandas [`sample`](https://pandas.pydata.org/pandas-docs/stable/reference/api/pandas.DataFrame.sample.html) method, with a random state of 42.\n"
   ]
  },
  {
   "cell_type": "markdown",
   "metadata": {},
   "source": [
    "<!-- BEGIN QUESTION -->\n",
    "\n"
   ]
  },
  {
   "cell_type": "code",
   "execution_count": 367,
   "metadata": {
    "tags": []
   },
   "outputs": [],
   "source": [
    "def init_centroids(df_data: pd.DataFrame, k: int) -> pd.DataFrame:\n",
    "    \"\"\"Pick k random points from the dataset as the initial centroids for our\n",
    "    k-means clustering algorithm.\n",
    "    \"\"\"\n",
    "    df_centroids = df_data.sample(k, random_state = 42, ignore_index = True)\n",
    "    return df_centroids "
   ]
  },
  {
   "cell_type": "code",
   "execution_count": 368,
   "metadata": {
    "tags": []
   },
   "outputs": [
    {
     "data": {
      "text/html": [
       "<div>\n",
       "<style scoped>\n",
       "    .dataframe tbody tr th:only-of-type {\n",
       "        vertical-align: middle;\n",
       "    }\n",
       "\n",
       "    .dataframe tbody tr th {\n",
       "        vertical-align: top;\n",
       "    }\n",
       "\n",
       "    .dataframe thead th {\n",
       "        text-align: right;\n",
       "    }\n",
       "</style>\n",
       "<table border=\"1\" class=\"dataframe\">\n",
       "  <thead>\n",
       "    <tr style=\"text-align: right;\">\n",
       "      <th></th>\n",
       "      <th>x</th>\n",
       "      <th>y</th>\n",
       "    </tr>\n",
       "  </thead>\n",
       "  <tbody>\n",
       "    <tr>\n",
       "      <th>0</th>\n",
       "      <td>-0.633437</td>\n",
       "      <td>0.488756</td>\n",
       "    </tr>\n",
       "    <tr>\n",
       "      <th>1</th>\n",
       "      <td>-0.597736</td>\n",
       "      <td>0.632194</td>\n",
       "    </tr>\n",
       "    <tr>\n",
       "      <th>2</th>\n",
       "      <td>-0.635867</td>\n",
       "      <td>0.166613</td>\n",
       "    </tr>\n",
       "    <tr>\n",
       "      <th>3</th>\n",
       "      <td>-0.539351</td>\n",
       "      <td>-0.875532</td>\n",
       "    </tr>\n",
       "    <tr>\n",
       "      <th>4</th>\n",
       "      <td>-0.588597</td>\n",
       "      <td>0.293062</td>\n",
       "    </tr>\n",
       "    <tr>\n",
       "      <th>5</th>\n",
       "      <td>-0.127985</td>\n",
       "      <td>-0.136639</td>\n",
       "    </tr>\n",
       "    <tr>\n",
       "      <th>6</th>\n",
       "      <td>0.342579</td>\n",
       "      <td>0.211717</td>\n",
       "    </tr>\n",
       "  </tbody>\n",
       "</table>\n",
       "</div>"
      ],
      "text/plain": [
       "          x         y\n",
       "0 -0.633437  0.488756\n",
       "1 -0.597736  0.632194\n",
       "2 -0.635867  0.166613\n",
       "3 -0.539351 -0.875532\n",
       "4 -0.588597  0.293062\n",
       "5 -0.127985 -0.136639\n",
       "6  0.342579  0.211717"
      ]
     },
     "execution_count": 368,
     "metadata": {},
     "output_type": "execute_result"
    }
   ],
   "source": [
    "# Test our init_centroids function\n",
    "df_centroids = init_centroids(df_kmeans, 7)\n",
    "df_centroids"
   ]
  },
  {
   "cell_type": "markdown",
   "metadata": {},
   "source": [
    "<!-- END QUESTION -->\n",
    "\n",
    "## Q1.2 \n",
    "\n",
    "**Write a function to assign every row in a data frame to a centroid**\n",
    "\n",
    "- Write a function, `assign_to_centroid`, that accepts two parameters:\n",
    "  - A DataFrame `df_data`, that represents our data to be clustered\n",
    "  - A DataFrame `df_centroids`, which is of length `k` and contains the current centroids for our clusters. You generated this for Question 1.1.\n",
    "- `assign_to_centroid` should return a Series, the same length as `df_data`, that contains the index of the **closest centroid** in `df_centroid`.  \n",
    "  - Use Euclidean distance as your distance measure. \n",
    "\n",
    "*Example*: If a row of data contained the data point $(100, 123)$ and the three centroids were in a data frame that had the following information:\n",
    "  - Index 0 : $(34, 34)$\n",
    "  - Index 1 : $(0, 1)$\n",
    "  - Index 2 : $(83, 99)$\n",
    "  \n",
    "The `assign_to_centroid` function would assign the index $2$ to that row of data. \n"
   ]
  },
  {
   "cell_type": "markdown",
   "metadata": {},
   "source": [
    "<!-- BEGIN QUESTION -->\n",
    "\n"
   ]
  },
  {
   "cell_type": "code",
   "execution_count": 28,
   "metadata": {},
   "outputs": [],
   "source": [
    "#point1 = np.array((83,99))\n",
    "#point2 = np.array((100,123))\n",
    "#dist = np.linalg.norm(point1 - point2)\n",
    "#dist\n",
    "#110\n",
    "#157\n",
    "#29\n",
    "#for index, row in df_kmeans.iterrows():\n",
    "    #x = row['x'], row['y']\n",
    "    #x = np.asarray(x)\n",
    "    #print(index)"
   ]
  },
  {
   "cell_type": "code",
   "execution_count": 369,
   "metadata": {
    "tags": []
   },
   "outputs": [],
   "source": [
    "def assign_to_centroid(df_data: pd.DataFrame, df_centroids: pd.DataFrame) -> pd.Series:\n",
    "    \"\"\"Assign each row in df_data to the nearest centroid in df_centroids.\n",
    "    Return a Series of the same length as df_data with the centroid index.\n",
    "    \"\"\"\n",
    "    centroids = []\n",
    "    distances = []\n",
    "    for index, row in df_data.iterrows():\n",
    "        p1 = row['x'], row['y']\n",
    "        p1 = np.asarray(p1)\n",
    "        \n",
    "        for ind, r in df_centroids.iterrows():\n",
    "            p2 = r['x'], r['y']\n",
    "            p2 = np.asarray(p2)\n",
    "            dist = np.linalg.norm(p1 - p2)\n",
    "            distances.append(dist)\n",
    "        \n",
    "        min_val = min(distances)\n",
    "        min_index = distances.index(min_val)\n",
    "        centroids.append(min_index)\n",
    "        distances = []\n",
    "        \n",
    "    \n",
    "    centroids = pd.Series(centroids)\n",
    "    return centroids"
   ]
  },
  {
   "cell_type": "code",
   "execution_count": 370,
   "metadata": {
    "tags": []
   },
   "outputs": [
    {
     "data": {
      "text/plain": [
       "0      3\n",
       "1      3\n",
       "2      3\n",
       "3      3\n",
       "4      3\n",
       "      ..\n",
       "445    1\n",
       "446    1\n",
       "447    1\n",
       "448    1\n",
       "449    0\n",
       "Length: 450, dtype: int64"
      ]
     },
     "execution_count": 370,
     "metadata": {},
     "output_type": "execute_result"
    }
   ],
   "source": [
    "# Test our assign_to_centroid function. Do the lengths match?\n",
    "s_centroid_assignment = assign_to_centroid(df_kmeans, df_centroids)\n",
    "s_centroid_assignment"
   ]
  },
  {
   "cell_type": "markdown",
   "metadata": {},
   "source": [
    "<!-- END QUESTION -->\n",
    "\n",
    "## Q1.3 \n",
    "\n",
    "**Write a function that recomputes the centroids**\n",
    "\n",
    "- Write a function, `compute_centroids`, that acceptss two parameters:\n",
    "    - A DataFrame `df_data`, that represents our data to be clustered\n",
    "    - A Series `s_centroid_assignment` of the same length that contains the label of the currently-assigned centroid for every row in `df_data`.\n",
    "- `compute_centroids` should return the a data frame containing the mean value for each unique centroid.  These will be the new centroids we use for the next iteration of $k$-means.\n",
    "    - This will look similar to the centroid DataFrame you computed for Q1.1.\n",
    "\n",
    "*Note*: The indices in the returned data frame should correspond to the unique values in `s_centroid_assignment`. \n",
    "- For example, if I found the mean value of `df_data` using the slice corresponding to `s_centroid_assigment == 2`, then the centroid should be in the returned data frame at `.iloc[2]`. \n",
    "\n"
   ]
  },
  {
   "cell_type": "markdown",
   "metadata": {},
   "source": [
    "<!-- BEGIN QUESTION -->\n",
    "\n"
   ]
  },
  {
   "cell_type": "code",
   "execution_count": 371,
   "metadata": {
    "tags": []
   },
   "outputs": [],
   "source": [
    "def compute_centroids(df_data: pd.DataFrame, s_centroid_assignment: pd.Series) -> pd.DataFrame:\n",
    "    \"\"\"Compute a new set of centroids, by computing the mean point of \n",
    "    each centroid over the points assigned to it.\n",
    "    \"\"\"\n",
    "    df_data['centroids'] = s_centroid_assignment\n",
    "    slices = df_data.centroids.unique()\n",
    "    mean_x_list = []\n",
    "    mean_y_list = []\n",
    "    for i in slices:\n",
    "        sl = df_data.loc[df_data['centroids'] == i]\n",
    "        mean_x = sl['x'].mean()\n",
    "        mean_y = sl['y'].mean()\n",
    "        \n",
    "        mean_x_list.append(mean_x)\n",
    "        mean_y_list.append(mean_y)\n",
    "        \n",
    "        \n",
    "    #print(mean_x_list) \n",
    "    #print(mean_y_list)\n",
    "    df_new_centroids = pd.DataFrame()\n",
    "    df_new_centroids['x'] = mean_x_list\n",
    "    df_new_centroids['y'] = mean_y_list\n",
    "    df_data.drop(['centroids'],axis=1)\n",
    "    \n",
    "    return df_new_centroids"
   ]
  },
  {
   "cell_type": "code",
   "execution_count": 372,
   "metadata": {
    "tags": []
   },
   "outputs": [
    {
     "data": {
      "text/html": [
       "<div>\n",
       "<style scoped>\n",
       "    .dataframe tbody tr th:only-of-type {\n",
       "        vertical-align: middle;\n",
       "    }\n",
       "\n",
       "    .dataframe tbody tr th {\n",
       "        vertical-align: top;\n",
       "    }\n",
       "\n",
       "    .dataframe thead th {\n",
       "        text-align: right;\n",
       "    }\n",
       "</style>\n",
       "<table border=\"1\" class=\"dataframe\">\n",
       "  <thead>\n",
       "    <tr style=\"text-align: right;\">\n",
       "      <th></th>\n",
       "      <th>x</th>\n",
       "      <th>y</th>\n",
       "    </tr>\n",
       "  </thead>\n",
       "  <tbody>\n",
       "    <tr>\n",
       "      <th>0</th>\n",
       "      <td>-0.696694</td>\n",
       "      <td>-0.699028</td>\n",
       "    </tr>\n",
       "    <tr>\n",
       "      <th>1</th>\n",
       "      <td>-0.721574</td>\n",
       "      <td>0.708343</td>\n",
       "    </tr>\n",
       "    <tr>\n",
       "      <th>2</th>\n",
       "      <td>-0.715983</td>\n",
       "      <td>0.500552</td>\n",
       "    </tr>\n",
       "    <tr>\n",
       "      <th>3</th>\n",
       "      <td>-0.546913</td>\n",
       "      <td>0.321364</td>\n",
       "    </tr>\n",
       "    <tr>\n",
       "      <th>4</th>\n",
       "      <td>-0.738268</td>\n",
       "      <td>-0.113830</td>\n",
       "    </tr>\n",
       "    <tr>\n",
       "      <th>5</th>\n",
       "      <td>-0.102365</td>\n",
       "      <td>-0.188876</td>\n",
       "    </tr>\n",
       "    <tr>\n",
       "      <th>6</th>\n",
       "      <td>0.523364</td>\n",
       "      <td>0.238569</td>\n",
       "    </tr>\n",
       "  </tbody>\n",
       "</table>\n",
       "</div>"
      ],
      "text/plain": [
       "          x         y\n",
       "0 -0.696694 -0.699028\n",
       "1 -0.721574  0.708343\n",
       "2 -0.715983  0.500552\n",
       "3 -0.546913  0.321364\n",
       "4 -0.738268 -0.113830\n",
       "5 -0.102365 -0.188876\n",
       "6  0.523364  0.238569"
      ]
     },
     "execution_count": 372,
     "metadata": {},
     "output_type": "execute_result"
    }
   ],
   "source": [
    "# Test it out\n",
    "df_new_centroids = compute_centroids( df_kmeans, s_centroid_assignment)\n",
    "df_new_centroids"
   ]
  },
  {
   "cell_type": "markdown",
   "metadata": {},
   "source": [
    "<!-- END QUESTION -->\n",
    "\n",
    "## Q1.4 \n",
    "\n",
    "**Write a function that compares two centroid data frames**\n",
    "\n",
    "- The stopping criterion for k-means is when our centroids have not moved since the last iteration.  \n",
    "- Write a function `compare_centroids` that accepts two parameters:\n",
    "    - `df_centroid_a`: A DataFrame of centroid centers (computed in Q1.1 / Q1.3)\n",
    "    - `df_centroid_b`: A DataFrame of centroid centers (computed in Q1.1 / Q1.3)\n",
    "- `compare_centroids` should return `True` or `False`, indicating if the centroids at each unique index in the data frame are equal. \n"
   ]
  },
  {
   "cell_type": "markdown",
   "metadata": {},
   "source": [
    "<!-- BEGIN QUESTION -->\n",
    "\n"
   ]
  },
  {
   "cell_type": "code",
   "execution_count": 373,
   "metadata": {
    "tags": []
   },
   "outputs": [],
   "source": [
    "def compare_centroids(df_centroid_a: pd.DataFrame, df_centroid_b: pd.DataFrame) -> bool:\n",
    "    \"\"\"Determine if two sets of centroids are the same.\n",
    "    \"\"\"\n",
    "    centroids_match = df_centroid_a.equals(df_centroid_b)\n",
    "    return centroids_match"
   ]
  },
  {
   "cell_type": "code",
   "execution_count": 374,
   "metadata": {
    "tags": []
   },
   "outputs": [
    {
     "name": "stdout",
     "output_type": "stream",
     "text": [
      "True\n",
      "False\n"
     ]
    }
   ],
   "source": [
    "# Test it out\n",
    "print(compare_centroids(df_new_centroids, df_new_centroids)) # Should print True\n",
    "print(compare_centroids(df_new_centroids, df_centroids)) # Should print False"
   ]
  },
  {
   "cell_type": "markdown",
   "metadata": {},
   "source": [
    "<!-- END QUESTION -->\n",
    "\n",
    "## Q1.5 \n",
    "\n",
    "**Write a function that implements k-means**\n",
    "\n",
    "- Write a function, `k_means`, that accepts two parameters:\n",
    "    - A DataFrame `df_data` with values to cluster\n",
    "    - The number of clusters to form, `k`. \n",
    "- `k_means` should return a Series the same length as `df_data` that contains the cluster assignment (an integer from $0 to $(k - 1)$ inclusive) for each row of data. \n",
    "- Your function should repeatedly adjust the clusters until they stop changing. Use the helper functions defined in the prior questions. \n"
   ]
  },
  {
   "cell_type": "markdown",
   "metadata": {},
   "source": [
    "<!-- BEGIN QUESTION -->\n",
    "\n"
   ]
  },
  {
   "cell_type": "code",
   "execution_count": 375,
   "metadata": {
    "tags": []
   },
   "outputs": [],
   "source": [
    "def k_means(df_data: pd.DataFrame, k: int) -> pd.Series:\n",
    "    \"\"\"Perform k-means clustering on the dataset df_data, using k clusters.\n",
    "    This function returns a Series of cluster assignments for each row\n",
    "    in df_data.\n",
    "    \"\"\"\n",
    "    initial_centroids = init_centroids(df_data, k) #Dataframe\n",
    "    \n",
    "    assignment = assign_to_centroid(df_data, initial_centroids) #Series\n",
    "    \n",
    "    new_centroids = compute_centroids(df_data, assignment) #Dataframe\n",
    "    \n",
    "    new_assignment = assign_to_centroid(df_data, new_centroids) #Series\n",
    "    \n",
    "    compare = compare_centroids(initial_centroids, new_centroids) #BOol\n",
    "    \n",
    "    while(compare == False):\n",
    "        initial_centroids = new_centroids\n",
    "        assignment = assign_to_centroid(df_data, initial_centroids)\n",
    "        \n",
    "        new_centroids = compute_centroids(df_data, assignment) #Dataframe\n",
    "        \n",
    "        new_assignment = assign_to_centroid(df_data, new_centroids) #Series\n",
    "        \n",
    "        compare = compare_centroids(initial_centroids, new_centroids) #BOol\n",
    "    s_cluster_assignment = new_assignment\n",
    "    \n",
    "    df_data.drop(['centroids'],axis=1)\n",
    "    return s_cluster_assignment"
   ]
  },
  {
   "cell_type": "code",
   "execution_count": 376,
   "metadata": {
    "tags": []
   },
   "outputs": [
    {
     "data": {
      "text/plain": [
       "0      0\n",
       "1      0\n",
       "2      0\n",
       "3      0\n",
       "4      0\n",
       "      ..\n",
       "445    1\n",
       "446    1\n",
       "447    1\n",
       "448    1\n",
       "449    1\n",
       "Length: 450, dtype: int64"
      ]
     },
     "execution_count": 376,
     "metadata": {},
     "output_type": "execute_result"
    }
   ],
   "source": [
    "# Call k_means with k = 5 to test\n",
    "s_cluster_assignment = k_means(df_kmeans, 5)\n",
    "s_cluster_assignment.value_counts()\n",
    "s_cluster_assignment"
   ]
  },
  {
   "cell_type": "markdown",
   "metadata": {},
   "source": [
    "<!-- END QUESTION -->\n",
    "\n",
    "## Q1.6 \n",
    "\n",
    "**Plot the final clusters**\n",
    "\n",
    "Plot the points in the `df_kmeans` data frame using a 2-D scatter plot.\n",
    "- Assign a different color for each cluster. \n",
    "- Use the cluster assignments from the previous problem (`s_cluster_assignments`). There should be *five* clusters.\n",
    "- Label your axes, and give the plot a title. \n"
   ]
  },
  {
   "cell_type": "markdown",
   "metadata": {},
   "source": [
    "<!-- BEGIN QUESTION -->\n",
    "\n"
   ]
  },
  {
   "cell_type": "code",
   "execution_count": 377,
   "metadata": {
    "tags": []
   },
   "outputs": [
    {
     "data": {
      "text/plain": [
       "Text(0.5, 1.0, 'Clusters of the df_kmeans Data')"
      ]
     },
     "execution_count": 377,
     "metadata": {},
     "output_type": "execute_result"
    },
    {
     "data": {
      "image/png": "[encoded data removed]",
      "text/plain": [
       "<Figure size 640x480 with 1 Axes>"
      ]
     },
     "metadata": {},
     "output_type": "display_data"
    }
   ],
   "source": [
    "def get_cmap(n, name='hsv'):\n",
    "    '''Returns a function that maps each index in 0, 1, ..., n-1 to a distinct \n",
    "    RGB color; the keyword argument name must be a standard mpl colormap name.'''\n",
    "    return plt.cm.get_cmap(name, n)\n",
    "\n",
    "df_copy = df_kmeans.copy()\n",
    "df_copy['label'] = s_cluster_assignment\n",
    "\n",
    "u_labels = np.unique(df_copy['label'])\n",
    "n = len(u_labels)\n",
    "cmap = get_cmap(n)\n",
    "\n",
    "\n",
    "for i in u_labels:\n",
    "    filtered = df_copy[df_copy['label'] == i]\n",
    "    plt.scatter(filtered['x'], filtered['y'], color = cmap(i))\n",
    "\n",
    "plt.xlabel('x-coordinates', fontsize=20)\n",
    "plt.ylabel('y-coordinates', fontsize=20)\n",
    "plt.title('Clusters of the df_kmeans Data', fontsize=20)"
   ]
  },
  {
   "cell_type": "markdown",
   "metadata": {},
   "source": [
    "<!-- END QUESTION -->\n",
    "\n",
    "# Part 2: DBSCAN\n",
    "\n",
    "\n",
    "In the first half, we will implement the DBSCAN density-based clustering algorithm, and apply that algorithm to a small data set provided with the project in the `data_dbscan.csv` file. As before, we will build some helper functions along the way, test them, and put it all together to apply to our small example data set. "
   ]
  },
  {
   "cell_type": "markdown",
   "metadata": {},
   "source": [
    "## Q2.1 \n",
    "\n",
    "**Load the Density Data and try K-means**\n",
    "\n",
    "1. Load in the data provided `data_dbscan.csv`\n",
    "2. Cluster this data with k-means algorithm with $k=2$.\n",
    "3. Visualize the results with a scatter plot, where the color indicates cluster membership. Label your axes, and give the plot a title. \n",
    "    - You don't have to write a description, but do you observe anything strange about the clusters? This dataset is a good example of a situation in which k-means is not good at clustering.\n"
   ]
  },
  {
   "cell_type": "markdown",
   "metadata": {},
   "source": [
    "<!-- BEGIN QUESTION -->\n",
    "\n"
   ]
  },
  {
   "cell_type": "code",
   "execution_count": 378,
   "metadata": {
    "tags": []
   },
   "outputs": [
    {
     "data": {
      "text/plain": [
       "Text(0.5, 1.0, 'K-means clusters of the db_scan Data')"
      ]
     },
     "execution_count": 378,
     "metadata": {},
     "output_type": "execute_result"
    },
    {
     "data": {
      "image/png": "[encoded data removed]",
      "text/plain": [
       "<Figure size 640x480 with 1 Axes>"
      ]
     },
     "metadata": {},
     "output_type": "display_data"
    }
   ],
   "source": [
    "# Load the DBSCAN dataset (data_dbscan)\n",
    "df_dbscan = pd.read_csv('data_dbscan.csv')\n",
    "\n",
    "# Call k_means with k = 2\n",
    "s_cluster_assignment = k_means(df_dbscan,2)\n",
    "df_dbscan = df_dbscan.drop(['centroids'],axis=1)\n",
    "\n",
    "\n",
    "# Plot the results\n",
    "db_copy = df_dbscan.copy()\n",
    "db_copy['label'] = s_cluster_assignment\n",
    "\n",
    "u_labels = np.unique(db_copy['label'])\n",
    "n = len(u_labels)\n",
    "cmap = get_cmap(n)\n",
    "\n",
    "#for i in u_labels:\n",
    "filtered = db_copy[db_copy['label'] == 0]\n",
    "plt.scatter(filtered['x'], filtered['y'], color = 'red')\n",
    "filtered = db_copy[db_copy['label'] == 1]\n",
    "plt.scatter(filtered['x'], filtered['y'], color = 'blue')\n",
    "\n",
    "plt.xlabel('x-coordinates', fontsize=20)\n",
    "plt.ylabel('y-coordinates', fontsize=20)\n",
    "plt.title('K-means clusters of the db_scan Data', fontsize=20)\n"
   ]
  },
  {
   "cell_type": "markdown",
   "metadata": {},
   "source": [
    "<!-- END QUESTION -->\n",
    "\n",
    "## Q2.2 \n",
    "\n",
    "**Write a function to implement RangeQuery**\n",
    "\n",
    "Implement the RangeQuery routine for DBSCAN, following the below [pseudo-code](https://en.wikipedia.org/wiki/DBSCAN#Algorithm) on Wikipedia.\n",
    "\n",
    "```\n",
    "RangeQuery(DB, distFunc, Q, eps) {\n",
    "    Neighbors N := empty list\n",
    "    for each point P in database DB {                      /* Scan all points in the database */\n",
    "        if distFunc(Q, P) ≤ eps then {                     /* Compute distance and check epsilon */\n",
    "            N := N ∪ {P}                                   /* Add to result */\n",
    "        }\n",
    "    }\n",
    "    return N\n",
    "}\n",
    "```\n",
    "\n",
    "- Your function, `range_query`. should accept three inputs:\n",
    "    - `df_data` is a DataFrame containing all the points in our dataset (`DB` in the pseudocode).\n",
    "    - `q_index` is the data point/row of interest. The actual point can be obtained by calling `df_data.iloc[q_index]`. (`Q` in the pseudocode)\n",
    "    - `eps` is a floating-point hyperparameter that indicates the radius from the point \"Q\" to search for neighbors.\n",
    "    - (`distFunc` in the pseudocode is set as the Euclidean distance. For our purposes, you don't need to pass it in as you can just hard-code this inside your function.)\n",
    "- `range_query` should return a DataFrame that is a slice of `df_data` containing **all points within `eps` distance of `Q`**, including `Q` itself.\n",
    "    - Indices should be preserved (i.e., don't call `reset_index()`).\n"
   ]
  },
  {
   "cell_type": "markdown",
   "metadata": {},
   "source": [
    "<!-- BEGIN QUESTION -->\n",
    "\n"
   ]
  },
  {
   "cell_type": "code",
   "execution_count": 250,
   "metadata": {},
   "outputs": [
    {
     "data": {
      "text/html": [
       "<div>\n",
       "<style scoped>\n",
       "    .dataframe tbody tr th:only-of-type {\n",
       "        vertical-align: middle;\n",
       "    }\n",
       "\n",
       "    .dataframe tbody tr th {\n",
       "        vertical-align: top;\n",
       "    }\n",
       "\n",
       "    .dataframe thead th {\n",
       "        text-align: right;\n",
       "    }\n",
       "</style>\n",
       "<table border=\"1\" class=\"dataframe\">\n",
       "  <thead>\n",
       "    <tr style=\"text-align: right;\">\n",
       "      <th></th>\n",
       "      <th>x</th>\n",
       "      <th>y</th>\n",
       "    </tr>\n",
       "  </thead>\n",
       "  <tbody>\n",
       "    <tr>\n",
       "      <th>0</th>\n",
       "      <td>1.08000</td>\n",
       "      <td>-0.544</td>\n",
       "    </tr>\n",
       "    <tr>\n",
       "      <th>1</th>\n",
       "      <td>0.84100</td>\n",
       "      <td>-0.510</td>\n",
       "    </tr>\n",
       "    <tr>\n",
       "      <th>2</th>\n",
       "      <td>0.96700</td>\n",
       "      <td>-0.491</td>\n",
       "    </tr>\n",
       "    <tr>\n",
       "      <th>3</th>\n",
       "      <td>1.24000</td>\n",
       "      <td>-0.487</td>\n",
       "    </tr>\n",
       "    <tr>\n",
       "      <th>4</th>\n",
       "      <td>0.77000</td>\n",
       "      <td>-0.467</td>\n",
       "    </tr>\n",
       "    <tr>\n",
       "      <th>...</th>\n",
       "      <td>...</td>\n",
       "      <td>...</td>\n",
       "    </tr>\n",
       "    <tr>\n",
       "      <th>95</th>\n",
       "      <td>-0.00477</td>\n",
       "      <td>1.010</td>\n",
       "    </tr>\n",
       "    <tr>\n",
       "      <th>96</th>\n",
       "      <td>-0.35800</td>\n",
       "      <td>1.010</td>\n",
       "    </tr>\n",
       "    <tr>\n",
       "      <th>97</th>\n",
       "      <td>-0.05180</td>\n",
       "      <td>1.010</td>\n",
       "    </tr>\n",
       "    <tr>\n",
       "      <th>98</th>\n",
       "      <td>-0.15400</td>\n",
       "      <td>1.090</td>\n",
       "    </tr>\n",
       "    <tr>\n",
       "      <th>99</th>\n",
       "      <td>0.20800</td>\n",
       "      <td>1.150</td>\n",
       "    </tr>\n",
       "  </tbody>\n",
       "</table>\n",
       "<p>100 rows × 2 columns</p>\n",
       "</div>"
      ],
      "text/plain": [
       "          x      y\n",
       "0   1.08000 -0.544\n",
       "1   0.84100 -0.510\n",
       "2   0.96700 -0.491\n",
       "3   1.24000 -0.487\n",
       "4   0.77000 -0.467\n",
       "..      ...    ...\n",
       "95 -0.00477  1.010\n",
       "96 -0.35800  1.010\n",
       "97 -0.05180  1.010\n",
       "98 -0.15400  1.090\n",
       "99  0.20800  1.150\n",
       "\n",
       "[100 rows x 2 columns]"
      ]
     },
     "execution_count": 250,
     "metadata": {},
     "output_type": "execute_result"
    }
   ],
   "source": [
    "df_dbscan"
   ]
  },
  {
   "cell_type": "code",
   "execution_count": 379,
   "metadata": {
    "tags": []
   },
   "outputs": [],
   "source": [
    "def range_query(df_data: pd.DataFrame, q_index: int, eps: float) -> pd.DataFrame:\n",
    "    \"\"\"RangeQuery routine for DBSCAN. For the point at index q_index, return all\n",
    "    points in the DataFrame within eps distance of the point. (L2 norm)\"\"\"\n",
    "    neighbors = []\n",
    "    idx = []\n",
    "    q = df_data.iloc[q_index]\n",
    "    q = np.asarray(q)\n",
    "    for index, row in df_data.iterrows():\n",
    "        p = row['x'], row['y']\n",
    "        p = np.asarray(p)\n",
    "        \n",
    "        if(np.linalg.norm(p - q) <= eps):\n",
    "            neighbors.append(p)\n",
    "            idx.append(index)\n",
    "    \n",
    "    #print(idx)\n",
    "    df_neighbors = pd.DataFrame(neighbors, columns=['x','y'])\n",
    "    df_neighbors['idx'] = idx\n",
    "    df_neighbors = df_neighbors.set_index('idx')\n",
    "    return df_neighbors"
   ]
  },
  {
   "cell_type": "code",
   "execution_count": 380,
   "metadata": {
    "tags": []
   },
   "outputs": [
    {
     "name": "stdout",
     "output_type": "stream",
     "text": [
      "        x      y\n",
      "idx             \n",
      "0    1.08 -0.544\n",
      "6    1.12 -0.456\n",
      "10   1.08 -0.455\n"
     ]
    },
    {
     "data": {
      "image/png": "[encoded data removed]",
      "text/plain": [
       "<Figure size 640x480 with 1 Axes>"
      ]
     },
     "metadata": {},
     "output_type": "display_data"
    }
   ],
   "source": [
    "# Test it out.\n",
    "df_n = range_query(df_dbscan, 0, 0.1 )\n",
    "print(df_n)\n",
    "\n",
    "# We've given you some plotting code to help you visualize the results.\n",
    "plt.plot( df_dbscan['x'], df_dbscan['y'], '.', alpha = 0.5 )\n",
    "plt.plot( df_n['x'], df_n['y'], 'r*')\n",
    "plt.xlabel('x')\n",
    "plt.ylabel('y')\n",
    "plt.title('Testing Range Query')\n",
    "plt.show()"
   ]
  },
  {
   "cell_type": "markdown",
   "metadata": {},
   "source": [
    "<!-- END QUESTION -->\n",
    "\n",
    "## Q2.3 \n",
    "\n",
    "**Write a function to implement DBSCAN**\n",
    "\n",
    "Implement DBSCAN, following the below [pseudo-code](https://en.wikipedia.org/wiki/DBSCAN#Algorithm) from Wikipedia. \n",
    "- This pseudocode uses set notation. If you aren't familiar with set notation, [here](http://www.math.cmu.edu/~bkell/21110-2010s/sets.html) is a handy summary.\n",
    "\n",
    "```\n",
    "DBSCAN(DB, distFunc, eps, minPts) {\n",
    "    C := 0                                                  /* Cluster counter */\n",
    "    for each point P in database DB {\n",
    "        if label(P) ≠ undefined then continue               /* Previously processed in inner loop */\n",
    "        Neighbors N := RangeQuery(DB, distFunc, P, eps)     /* Find neighbors */\n",
    "        if |N| < minPts then {                              /* Density check */\n",
    "            label(P) := Noise                               /* Label as Noise */\n",
    "            continue\n",
    "        }\n",
    "        C := C + 1                                          /* next cluster label */\n",
    "        label(P) := C                                       /* Label initial point */\n",
    "        SeedSet S := N \\ {P}                                /* Neighbors to expand */\n",
    "        for each point Q in S {                             /* Process every seed point Q */\n",
    "            if label(Q) = Noise then label(Q) := C          /* Change Noise to border point */\n",
    "            if label(Q) ≠ undefined then continue           /* Previously processed (e.g., border point) */\n",
    "            label(Q) := C                                   /* Label neighbor */\n",
    "            Neighbors N := RangeQuery(DB, distFunc, Q, eps) /* Find neighbors */\n",
    "            if |N| ≥ minPts then {                          /* Density check (if Q is a core point) */\n",
    "                S := S ∪ N                                  /* Add new neighbors to seed set */\n",
    "            }\n",
    "        }\n",
    "    }\n",
    "}\n",
    "```\n",
    "\n",
    "- Your function `dbscan`, should accept three inputs:\n",
    "    - `df_data` is a DataFrame containing all the points in our dataset (`DB` in the pseudocode).\n",
    "    - `eps` is a floating-point hyperparameter that indicates the radius from the point \"Q\" to search for neighbors.\n",
    "    - `min_pts` is an integer hyperparameter that is used to determine whether any point \"Q\" has a large enough number of neighbors.\n",
    "    - (As before, `dist_func` can be assumed to be Euclidean distance. You only need this for `range_query`, which you already implemented, so there's no need to re-use it here.)\n",
    "- `dbscan` should return a Series the same length as `df_data` that contains the cluster assignment for each point.\n",
    "    - If a datapoint is classified as \"noise\", then the cluster assignment should be \"0\".\n",
    "    - All the clusters DBSCAN discoevers should be numbered from $1$ to $k$ inclusive, where $k$ is found automatically by the algorithm and represents the total number of clusters created.\n",
    "\n",
    "*Hints*:\n",
    "- [iterrows](https://pandas.pydata.org/pandas-docs/stable/reference/api/pandas.DataFrame.iterrows.html) is a handy way to loop through a data frame.\n",
    "    - However, if you modify the DataFrame within the loop, `iterrows` **doesn't add more iterations to the loop**. \n",
    "    - For example, if you start with a dataframe of length $n$ and add $3$ rows, then the `iterrows` will stop after $n$ rows. \n",
    "- For the inner loop, you'll need to use a native Python list to dynamically grow the `SeedSet S`. \n",
    "    - You can use the `extend` function to merge 2 lists together. For example:\n",
    "\n",
    "```\n",
    "x = [1,2,3]\n",
    "y = [4,5,6]\n",
    "x.extend(y) # sets x to the list [1, 2, 3, 4, 5, 6]\n",
    "```\n",
    "- The [continue](https://docs.python.org/3/tutorial/controlflow.html) statement can be helpful. If the interpreter reaches a `continue` statement, that iteration of the loop ends early at that point, and we move on to the next element in the loop.\n",
    "\n",
    "*Testing your function*: Call `dbscan` with:\n",
    "- The `df_dbscan` data frame\n",
    "- `eps` set to 0.23\n",
    "- `min_pts` set to 6\n",
    "- Save the results to `s_cluster_assignments`.\n"
   ]
  },
  {
   "cell_type": "markdown",
   "metadata": {},
   "source": [
    "<!-- BEGIN QUESTION -->\n",
    "\n"
   ]
  },
  {
   "cell_type": "code",
   "execution_count": 381,
   "metadata": {
    "tags": []
   },
   "outputs": [],
   "source": [
    "def dbscan(df_data: pd.DataFrame, eps: float, min_pts: int) -> pd.Series:\n",
    "    \"\"\"Perform DBSCAN clustering on the dataset df_data.\n",
    "    This function returns a Series of cluster assignments for each row\n",
    "    in df_data. If the cluster is 0, the data point is noise and not\n",
    "    assigned a cluster.\n",
    "    \"\"\"\n",
    "    \n",
    "    # initialize all points as outliers\n",
    "    point_label = [0] * len(df_data)\n",
    "    point_count = []\n",
    "    \n",
    "    # initilize list for core/border points\n",
    "    core = []\n",
    "    border = []\n",
    "    \n",
    "    for i in range(len(df_data)):\n",
    "        #point_count.append(range_query(df_data, i, eps))\n",
    "        rq = range_query(df_data,i,eps)\n",
    "        rq['index'] = rq.index\n",
    "        point_count.append(rq['index'])\n",
    "    #point_count[0]['index'] = point_count[0].index\n",
    "    #print(point_count[0])\n",
    "    for i in range(len(point_count)):\n",
    "            if (len(point_count[i]) >= min_pts):\n",
    "                point_label[i] = -1\n",
    "                core.append(i)\n",
    "            else:\n",
    "                border.append(i)\n",
    "                \n",
    "    for i in border:\n",
    "            for j in point_count[i]:\n",
    "                if j in core:\n",
    "                    point_label[i] = -2\n",
    "                    break\n",
    "                    \n",
    "    \n",
    "    cluster = 1\n",
    "    \n",
    "    for i in range(len(point_label)):\n",
    "            q = []\n",
    "            if (point_label[i] == -1):\n",
    "                point_label[i] = cluster\n",
    "                for x in point_count[i]:\n",
    "                    #print(x)\n",
    "                    if(point_label[x] == -1):\n",
    "                        q.append(x)\n",
    "                        point_label[x] = cluster\n",
    "                    elif(point_label[x] == -2):\n",
    "                        point_label[x] = cluster\n",
    "                while not (len(q) == 0):\n",
    "                    neighbors = point_count[q.pop(0)]\n",
    "                    #print(q[0])\n",
    "                    #point_count.remove(q[0])\n",
    "                    for y in neighbors:\n",
    "                        if (point_label[y] == -1):\n",
    "                            point_label[y] = cluster\n",
    "                            q.append(y)\n",
    "                        if (point_label[y] == -2):\n",
    "                            point_label[y] = cluster\n",
    "                cluster += 1  # Move on to the next cluster\n",
    "    \n",
    "    \n",
    "    s_cluster_assignment = pd.Series(point_label)\n",
    "    return s_cluster_assignment"
   ]
  },
  {
   "cell_type": "code",
   "execution_count": 382,
   "metadata": {
    "tags": []
   },
   "outputs": [
    {
     "data": {
      "text/plain": [
       "1    49\n",
       "2    48\n",
       "0     3\n",
       "dtype: int64"
      ]
     },
     "execution_count": 382,
     "metadata": {},
     "output_type": "execute_result"
    }
   ],
   "source": [
    "# Test it out\n",
    "s_cluster_assignment = dbscan(df_dbscan, 0.23, 6)\n",
    "#print(type(s_cluster_assignment))\n",
    "s_cluster_assignment.value_counts()"
   ]
  },
  {
   "cell_type": "markdown",
   "metadata": {},
   "source": [
    "<!-- END QUESTION -->\n",
    "\n",
    "## Q2.4 \n",
    "\n",
    "**Plot the final clusters** \n",
    "\n",
    "Plot the points in the `df_dbscan` data frame using a 2-D scatter plot.\n",
    "- Assign a different color for each cluster.  \n",
    "- Use the cluster assignments from the previous problem (`s_cluster_assignments`).\n",
    "- Label your axes, and give the plot a title.\n"
   ]
  },
  {
   "cell_type": "markdown",
   "metadata": {},
   "source": [
    "<!-- BEGIN QUESTION -->\n",
    "\n"
   ]
  },
  {
   "cell_type": "code",
   "execution_count": 392,
   "metadata": {
    "tags": []
   },
   "outputs": [
    {
     "data": {
      "text/plain": [
       "Text(0.5, 1.0, 'DBSCAN Clusters of the df_dbscan Data')"
      ]
     },
     "execution_count": 392,
     "metadata": {},
     "output_type": "execute_result"
    },
    {
     "data": {
      "image/png": "[encoded data removed]",
      "text/plain": [
       "<Figure size 640x480 with 1 Axes>"
      ]
     },
     "metadata": {},
     "output_type": "display_data"
    }
   ],
   "source": [
    "db_copy = df_dbscan.copy()\n",
    "db_copy['label'] = s_cluster_assignment\n",
    "\n",
    "u_labels = np.unique(db_copy['label'])\n",
    "n = len(u_labels)\n",
    "cmap = get_cmap(n)\n",
    "\n",
    "'''for i in u_labels:\n",
    "    filtered = db_copy[db_copy['label'] == i]\n",
    "    plt.scatter(filtered['x'], filtered['y'], color = cmap(i))'''\n",
    "\n",
    "filtered = db_copy[db_copy['label'] == 0]\n",
    "plt.scatter(filtered['x'], filtered['y'], color = 'red')\n",
    "filtered = db_copy[db_copy['label'] == 1]\n",
    "plt.scatter(filtered['x'], filtered['y'], color = 'blue')\n",
    "\n",
    "filtered = db_copy[db_copy['label'] == 2]\n",
    "plt.scatter(filtered['x'], filtered['y'], color = 'green')\n",
    "\n",
    "plt.xlabel('x-coordinates', fontsize=20)\n",
    "plt.ylabel('y-coordinates', fontsize=20)\n",
    "plt.title('DBSCAN Clusters of the df_dbscan Data', fontsize=20)\n"
   ]
  },
  {
   "cell_type": "markdown",
   "metadata": {},
   "source": [
    "<!-- END QUESTION -->\n",
    "\n",
    "## Q2.5 \n",
    "\n",
    "**Compare your results to the scikit-learn library**\n",
    "\n",
    "- Import [DBSCAN](https://scikit-learn.org/stable/modules/generated/sklearn.cluster.DBSCAN.html) from scikit-learn.\n",
    "- Use the same `eps` and `min_samples` parameters as Q2.3.\n",
    "- Compare the cluster labels from your implementation to those generated by scikit-learn's.\n",
    "\n",
    "Add some commentary about how you think the results compare. Use the same data and values for eps and minPts.\n"
   ]
  },
  {
   "cell_type": "markdown",
   "metadata": {},
   "source": [
    "The results from my implementation and the sklearn are very similar. They each are the same length (100 since the data has 100 entries). I used the 0 label to assign a point that is just noise and not assigned to a cluster. Sklearn uses -1 instead. I also used labels 1 and 2 to assign a point to a cluster, sklearn uses 0 and 1. However it is understandable why sklearn uses -1 for noise and then sequential numbers after that to mark different clusters. Aside from that difference, I also notice that the order of the labels are the same as well and so do the sample indices."
   ]
  },
  {
   "cell_type": "code",
   "execution_count": 393,
   "metadata": {
    "tags": []
   },
   "outputs": [],
   "source": [
    "from sklearn.cluster import DBSCAN\n",
    "\n",
    "# Define your clustering model and fit it to df_dbscan.\n",
    "clustering = DBSCAN(eps=0.23, min_samples=6).fit(df_dbscan)"
   ]
  },
  {
   "cell_type": "markdown",
   "metadata": {},
   "source": []
  },
  {
   "cell_type": "code",
   "execution_count": 394,
   "metadata": {
    "tags": []
   },
   "outputs": [
    {
     "name": "stdout",
     "output_type": "stream",
     "text": [
      "[ 0  0  0  0  0  0  0  0  0  0  0  0  0  0  0  0  0  0  0  0  0  0  0  0\n",
      "  0  0  0  0  0  0  0  0  0 -1  1  0 -1  1  0  1  1  0  1  0  1  0  0  0\n",
      "  0  0  1  1  1  1  0  1  0  0  0  1  1  1  0  1  0  1  0 -1  1  1  1  1\n",
      "  1  1  1  1  1  1  1  1  1  1  1  1  1  1  1  1  1  1  1  1  1  1  1  1\n",
      "  1  1  1  1]\n",
      "\n",
      "[1, 1, 1, 1, 1, 1, 1, 1, 1, 1, 1, 1, 1, 1, 1, 1, 1, 1, 1, 1, 1, 1, 1, 1, 1, 1, 1, 1, 1, 1, 1, 1, 1, 0, 2, 1, 0, 2, 1, 2, 2, 1, 2, 1, 2, 1, 1, 1, 1, 1, 2, 2, 2, 2, 1, 2, 1, 1, 1, 2, 2, 2, 1, 2, 1, 2, 1, 0, 2, 2, 2, 2, 2, 2, 2, 2, 2, 2, 2, 2, 2, 2, 2, 2, 2, 2, 2, 2, 2, 2, 2, 2, 2, 2, 2, 2, 2, 2, 2, 2]\n",
      "[ 0  2  3  4  5  6  7  8  9 10 11 12 13 14 15 16 18 19 20 21 22 23 24 25\n",
      " 26 27 28 29 30 31 32 38 41 42 43 44 46 47 48 49 50 51 52 53 56 57 59 60\n",
      " 61 63 65 68 69 70 71 72 74 75 76 77 78 79 80 81 82 83 84 85 86 87 88 89\n",
      " 90 91 92 93 94 95 96 97]\n"
     ]
    }
   ],
   "source": [
    "# Analyze and compare their clusters to yours.\n",
    "print(clustering.labels_)\n",
    "print()\n",
    "print(list(s_cluster_assignment))\n",
    "print(clustering.core_sample_indices_)"
   ]
  },
  {
   "cell_type": "markdown",
   "metadata": {},
   "source": [
    "<!-- END QUESTION -->\n",
    "\n"
   ]
  }
 ],
 "metadata": {
  "kernelspec": {
   "display_name": "Python 3 (ipykernel)",
   "language": "python",
   "name": "python3"
  },
  "language_info": {
   "codemirror_mode": {
    "name": "ipython",
    "version": 3
   },
   "file_extension": ".py",
   "mimetype": "text/x-python",
   "name": "python",
   "nbconvert_exporter": "python",
   "pygments_lexer": "ipython3",
   "version": "3.9.13"
  },
  "otter": {
   "OK_FORMAT": true,
   "assignment_name": "329e_HW10",
   "tests": {
    "q1.1": {
     "name": "q1.1",
     "points": 1,
     "suites": [
      {
       "cases": [],
       "scored": true,
       "setup": "",
       "teardown": "",
       "type": "doctest"
      }
     ]
    },
    "q1.2": {
     "name": "q1.2",
     "points": 2,
     "suites": [
      {
       "cases": [],
       "scored": true,
       "setup": "",
       "teardown": "",
       "type": "doctest"
      }
     ]
    },
    "q1.3": {
     "name": "q1.3",
     "points": 2,
     "suites": [
      {
       "cases": [],
       "scored": true,
       "setup": "",
       "teardown": "",
       "type": "doctest"
      }
     ]
    },
    "q1.4": {
     "name": "q1.4",
     "points": 1,
     "suites": [
      {
       "cases": [],
       "scored": true,
       "setup": "",
       "teardown": "",
       "type": "doctest"
      }
     ]
    },
    "q1.5": {
     "name": "q1.5",
     "points": 2,
     "suites": [
      {
       "cases": [],
       "scored": true,
       "setup": "",
       "teardown": "",
       "type": "doctest"
      }
     ]
    },
    "q2.2": {
     "name": "q2.2",
     "points": 2,
     "suites": [
      {
       "cases": [],
       "scored": true,
       "setup": "",
       "teardown": "",
       "type": "doctest"
      }
     ]
    },
    "q2.3": {
     "name": "q2.3",
     "points": 3,
     "suites": [
      {
       "cases": [],
       "scored": true,
       "setup": "",
       "teardown": "",
       "type": "doctest"
      }
     ]
    },
    "q2.5computations": {
     "name": "q2.5computations",
     "points": 1,
     "suites": [
      {
       "cases": [],
       "scored": true,
       "setup": "",
       "teardown": "",
       "type": "doctest"
      }
     ]
    }
   }
  }
 },
 "nbformat": 4,
 "nbformat_minor": 4
}
